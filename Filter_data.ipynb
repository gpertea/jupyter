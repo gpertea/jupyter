{
 "cells": [
  {
   "cell_type": "code",
   "execution_count": 1,
   "metadata": {
    "scrolled": true
   },
   "outputs": [
    {
     "data": {
      "text/html": [
       "<script>requirejs.config({paths: { 'plotly': ['https://cdn.plot.ly/plotly-latest.min']},});if(!window.Plotly) {{require(['plotly'],function(plotly) {window.Plotly=plotly;});}}</script>"
      ],
      "text/vnd.plotly.v1+html": [
       "<script>requirejs.config({paths: { 'plotly': ['https://cdn.plot.ly/plotly-latest.min']},});if(!window.Plotly) {{require(['plotly'],function(plotly) {window.Plotly=plotly;});}}</script>"
      ]
     },
     "metadata": {},
     "output_type": "display_data"
    },
    {
     "data": {
      "text/html": [
       "<div>\n",
       "<style scoped>\n",
       "    .dataframe tbody tr th:only-of-type {\n",
       "        vertical-align: middle;\n",
       "    }\n",
       "\n",
       "    .dataframe tbody tr th {\n",
       "        vertical-align: top;\n",
       "    }\n",
       "\n",
       "    .dataframe thead th {\n",
       "        text-align: right;\n",
       "    }\n",
       "</style>\n",
       "<table border=\"1\" class=\"dataframe\">\n",
       "  <thead>\n",
       "    <tr style=\"text-align: right;\">\n",
       "      <th></th>\n",
       "      <th>gstatus</th>\n",
       "      <th>gtype</th>\n",
       "      <th>status</th>\n",
       "      <th>type</th>\n",
       "      <th>asm</th>\n",
       "      <th>chr</th>\n",
       "      <th>strand</th>\n",
       "      <th>excount</th>\n",
       "      <th>exlen</th>\n",
       "      <th>cdlen</th>\n",
       "      <th>exreps</th>\n",
       "      <th>cdreps</th>\n",
       "      <th>excov</th>\n",
       "      <th>cdcov</th>\n",
       "      <th>tcoding</th>\n",
       "      <th>tnovel</th>\n",
       "      <th>gcoding</th>\n",
       "      <th>gnovel</th>\n",
       "    </tr>\n",
       "    <tr>\n",
       "      <th>id</th>\n",
       "      <th></th>\n",
       "      <th></th>\n",
       "      <th></th>\n",
       "      <th></th>\n",
       "      <th></th>\n",
       "      <th></th>\n",
       "      <th></th>\n",
       "      <th></th>\n",
       "      <th></th>\n",
       "      <th></th>\n",
       "      <th></th>\n",
       "      <th></th>\n",
       "      <th></th>\n",
       "      <th></th>\n",
       "      <th></th>\n",
       "      <th></th>\n",
       "      <th></th>\n",
       "      <th></th>\n",
       "    </tr>\n",
       "  </thead>\n",
       "  <tbody>\n",
       "    <tr>\n",
       "      <th>CHS.6.1</th>\n",
       "      <td>known_refseq</td>\n",
       "      <td>protein_coding</td>\n",
       "      <td>known_refseq</td>\n",
       "      <td>coding</td>\n",
       "      <td>yes</td>\n",
       "      <td>chr1</td>\n",
       "      <td>+</td>\n",
       "      <td>1</td>\n",
       "      <td>918</td>\n",
       "      <td>918</td>\n",
       "      <td>.</td>\n",
       "      <td>.</td>\n",
       "      <td>0.0</td>\n",
       "      <td>0.0</td>\n",
       "      <td>True</td>\n",
       "      <td>False</td>\n",
       "      <td>True</td>\n",
       "      <td>False</td>\n",
       "    </tr>\n",
       "    <tr>\n",
       "      <th>CHS.9.1</th>\n",
       "      <td>known_refseq</td>\n",
       "      <td>protein_coding</td>\n",
       "      <td>known_refseq</td>\n",
       "      <td>coding</td>\n",
       "      <td>yes</td>\n",
       "      <td>chr1</td>\n",
       "      <td>+</td>\n",
       "      <td>4</td>\n",
       "      <td>744</td>\n",
       "      <td>402</td>\n",
       "      <td>Satellite|telo:62</td>\n",
       "      <td>.</td>\n",
       "      <td>8.3</td>\n",
       "      <td>0.0</td>\n",
       "      <td>True</td>\n",
       "      <td>False</td>\n",
       "      <td>True</td>\n",
       "      <td>False</td>\n",
       "    </tr>\n",
       "    <tr>\n",
       "      <th>CHS.9.2</th>\n",
       "      <td>known_refseq</td>\n",
       "      <td>protein_coding</td>\n",
       "      <td>known_refseq</td>\n",
       "      <td>coding</td>\n",
       "      <td>yes</td>\n",
       "      <td>chr1</td>\n",
       "      <td>+</td>\n",
       "      <td>4</td>\n",
       "      <td>762</td>\n",
       "      <td>402</td>\n",
       "      <td>Satellite|telo:80</td>\n",
       "      <td>.</td>\n",
       "      <td>10.5</td>\n",
       "      <td>0.0</td>\n",
       "      <td>True</td>\n",
       "      <td>False</td>\n",
       "      <td>True</td>\n",
       "      <td>False</td>\n",
       "    </tr>\n",
       "    <tr>\n",
       "      <th>CHS.9.3</th>\n",
       "      <td>known_refseq</td>\n",
       "      <td>protein_coding</td>\n",
       "      <td>known_refseq</td>\n",
       "      <td>coding</td>\n",
       "      <td>no</td>\n",
       "      <td>chr1</td>\n",
       "      <td>+</td>\n",
       "      <td>4</td>\n",
       "      <td>1014</td>\n",
       "      <td>402</td>\n",
       "      <td>LINE|L1:163,DNA|hAT-Charlie:103</td>\n",
       "      <td>.</td>\n",
       "      <td>26.2</td>\n",
       "      <td>0.0</td>\n",
       "      <td>True</td>\n",
       "      <td>False</td>\n",
       "      <td>True</td>\n",
       "      <td>False</td>\n",
       "    </tr>\n",
       "    <tr>\n",
       "      <th>CHS.9.4</th>\n",
       "      <td>known_refseq</td>\n",
       "      <td>protein_coding</td>\n",
       "      <td>known_refseq</td>\n",
       "      <td>coding</td>\n",
       "      <td>yes</td>\n",
       "      <td>chr1</td>\n",
       "      <td>+</td>\n",
       "      <td>4</td>\n",
       "      <td>841</td>\n",
       "      <td>402</td>\n",
       "      <td>LINE|L1:159</td>\n",
       "      <td>.</td>\n",
       "      <td>18.9</td>\n",
       "      <td>0.0</td>\n",
       "      <td>True</td>\n",
       "      <td>False</td>\n",
       "      <td>True</td>\n",
       "      <td>False</td>\n",
       "    </tr>\n",
       "  </tbody>\n",
       "</table>\n",
       "</div>"
      ],
      "text/plain": [
       "              gstatus           gtype        status    type  asm   chr strand  \\\n",
       "id                                                                              \n",
       "CHS.6.1  known_refseq  protein_coding  known_refseq  coding  yes  chr1      +   \n",
       "CHS.9.1  known_refseq  protein_coding  known_refseq  coding  yes  chr1      +   \n",
       "CHS.9.2  known_refseq  protein_coding  known_refseq  coding  yes  chr1      +   \n",
       "CHS.9.3  known_refseq  protein_coding  known_refseq  coding   no  chr1      +   \n",
       "CHS.9.4  known_refseq  protein_coding  known_refseq  coding  yes  chr1      +   \n",
       "\n",
       "         excount  exlen  cdlen                           exreps cdreps  excov  \\\n",
       "id                                                                              \n",
       "CHS.6.1        1    918    918                                .      .    0.0   \n",
       "CHS.9.1        4    744    402                Satellite|telo:62      .    8.3   \n",
       "CHS.9.2        4    762    402                Satellite|telo:80      .   10.5   \n",
       "CHS.9.3        4   1014    402  LINE|L1:163,DNA|hAT-Charlie:103      .   26.2   \n",
       "CHS.9.4        4    841    402                      LINE|L1:159      .   18.9   \n",
       "\n",
       "         cdcov  tcoding  tnovel  gcoding  gnovel  \n",
       "id                                                \n",
       "CHS.6.1    0.0     True   False     True   False  \n",
       "CHS.9.1    0.0     True   False     True   False  \n",
       "CHS.9.2    0.0     True   False     True   False  \n",
       "CHS.9.3    0.0     True   False     True   False  \n",
       "CHS.9.4    0.0     True   False     True   False  "
      ]
     },
     "execution_count": 1,
     "metadata": {},
     "output_type": "execute_result"
    }
   ],
   "source": [
    "import ipywidgets as wgt\n",
    "import numpy as np\n",
    "import pandas as pd\n",
    "from plotly import __version__\n",
    "from plotly.offline import download_plotlyjs, init_notebook_mode\n",
    "init_notebook_mode(connected=True)\n",
    "import plotly.offline as py\n",
    "#import plotly.figure_factory as ff\n",
    "import plotly.graph_objs as go\n",
    "tdf=pd.read_csv('chess2_rep_moreinfo.tab', sep='\\t', index_col=0)\n",
    "tdf['excov']=pd.to_numeric(tdf['excov'], errors='coerce').fillna(0)\n",
    "tdf['cdcov']=pd.to_numeric(tdf['cdcov'], errors='coerce').fillna(0)\n",
    "tdf['tcoding']=np.where(tdf['cdlen'].ne(0), True, False)\n",
    "tdf['tnovel']=np.where(tdf['status'].isin(['novel', 'known_fantom']), True, False)\n",
    "tdf['gcoding']=np.where(tdf['gtype'].eq('protein_coding'), True, False)\n",
    "tdf['gnovel']=np.where(tdf['gstatus'].isin(['novel', 'known_fantom']), True, False)\n",
    "tdf[(tdf['tcoding'].eq(True))].head()"
   ]
  },
  {
   "cell_type": "code",
   "execution_count": 2,
   "metadata": {
    "scrolled": true
   },
   "outputs": [
    {
     "data": {
      "application/vnd.jupyter.widget-view+json": {
       "model_id": "d34b1b5a7fca4383983b6151c8ec847f",
       "version_major": 2,
       "version_minor": 0
      },
      "text/plain": [
       "HBox(children=(SelectMultiple(description='STATUS', index=(3,), options=('known_fantom', 'known_gencode', 'kno…"
      ]
     },
     "metadata": {},
     "output_type": "display_data"
    },
    {
     "data": {
      "application/vnd.jupyter.widget-view+json": {
       "model_id": "b0f8f46da8f341f2b20fd8e671e5ae9c",
       "version_major": 2,
       "version_minor": 0
      },
      "text/plain": [
       "HBox(children=(VBox(children=(Label(value='Min. exon cov%:'), IntSlider(value=0, layout=Layout(width='16em'), …"
      ]
     },
     "metadata": {},
     "output_type": "display_data"
    },
    {
     "data": {
      "application/vnd.jupyter.widget-view+json": {
       "model_id": "1c9293b1ceed476e8a75066af1613024",
       "version_major": 2,
       "version_minor": 0
      },
      "text/plain": [
       "HBox(children=(Button(description='Query', style=ButtonStyle(), tooltip='Query'), Label(value='---', layout=La…"
      ]
     },
     "metadata": {},
     "output_type": "display_data"
    }
   ],
   "source": [
    "seltype=wgt.SelectMultiple(\n",
    "    options=sorted(tdf.type.unique()),\n",
    "    value=[],\n",
    "    rows=4,\n",
    "    description='TYPE',\n",
    ")\n",
    "selstatus=wgt.SelectMultiple(\n",
    "    options=sorted(tdf.status.unique()),\n",
    "    value=['novel'],\n",
    "    rows=4,\n",
    "    description='STATUS',\n",
    ")\n",
    "hbox2=wgt.HBox([selstatus, seltype])\n",
    "display(hbox2)\n",
    "layw=wgt.Layout(width='16em')\n",
    "excov=wgt.IntSlider(value=0, min=0, max=100, step=5, layout=layw)\n",
    "cdcov=wgt.IntSlider(value=0, min=0, max=100, step=5, layout=layw)\n",
    "excount=wgt.BoundedIntText(value=1, min=1, max=10, description='At least',\n",
    "                          layout=wgt.Layout(width='11em'))\n",
    "hbox=wgt.HBox([wgt.VBox([wgt.Label(value=\"Min. exon cov%:\"), excov]),\n",
    "                  wgt.VBox([wgt.Label(value=\"Min. CDS cov%:\"), cdcov]),\n",
    "              excount, wgt.Label(value=\"exons\")])\n",
    "display(hbox)\n",
    "\n",
    "runbtn=wgt.Button(\n",
    "    description='Query',\n",
    "    #disabled=False,\n",
    "    #button_style='', # 'success', 'info', 'warning', 'danger' or ''\n",
    "    tooltip='Query',\n",
    "    #icon='check'\n",
    ")\n",
    "rlabel=wgt.Label(value=\"---\", layout=wgt.Layout(border='2px solid red', padding='0 12px'))\n",
    "rlabelres=wgt.Label(value=\"---\", layout=wgt.Layout(border='2px solid red', padding='0 12px'))\n",
    "def btnRunClick(b):\n",
    "    rlabel.value=''\n",
    "    rdf=tdf\n",
    "    if len(selstatus.value)==4 or len(selstatus.value)==0:\n",
    "        rlabel.value='any status'\n",
    "    else: \n",
    "        rlabel.value=' | '.join(selstatus.value)\n",
    "        rdf=tdf[(tdf['status'].isin(selstatus.value))]\n",
    "        if len(selstatus.value)==3 and not 'novel' in selstatus.value:\n",
    "            rlabel.value='known'\n",
    "        else:\n",
    "            if len(selstatus.value)>1: rlabel.value='('+rlabel.value+')'\n",
    "    stype=''\n",
    "    \n",
    "    if not(len(seltype.value)==4 or len(seltype.value)==0):\n",
    "        stype=' | '.join(seltype.value)\n",
    "        rdf=rdf[(rdf['type'].isin(seltype.value))]\n",
    "        \n",
    "    if rlabel.value and stype: \n",
    "        rlabel.value+=' &  '\n",
    "        if len(seltype.value)>1: stype='('+stype+')'\n",
    "    rlabel.value+=stype\n",
    "    if excount.value>1:\n",
    "        rdf=rdf[(rdf['excount']>=excount.value)]\n",
    "    if excov.value>0:\n",
    "       rdf=rdf[(rdf['excov']>=excov.value)]    \n",
    "    if cdcov.value>0:\n",
    "       rdf=rdf[(rdf['cdcov']>=cdcov.value)]\n",
    "\n",
    "    rlabelres.value=str(len(rdf))\n",
    "\n",
    "runbtn.on_click(btnRunClick)\n",
    "\n",
    "hbx=wgt.HBox(children=[runbtn, rlabel, rlabelres], layout=wgt.Layout(justify_content='center'))\n",
    "display(hbx)\n",
    "btnRunClick(True)"
   ]
  },
  {
   "cell_type": "code",
   "execution_count": 3,
   "metadata": {},
   "outputs": [
    {
     "data": {
      "text/html": [
       "<div>\n",
       "<style scoped>\n",
       "    .dataframe tbody tr th:only-of-type {\n",
       "        vertical-align: middle;\n",
       "    }\n",
       "\n",
       "    .dataframe tbody tr th {\n",
       "        vertical-align: top;\n",
       "    }\n",
       "\n",
       "    .dataframe thead th {\n",
       "        text-align: right;\n",
       "    }\n",
       "</style>\n",
       "<table border=\"1\" class=\"dataframe\">\n",
       "  <thead>\n",
       "    <tr style=\"text-align: right;\">\n",
       "      <th></th>\n",
       "      <th>coding</th>\n",
       "      <th>coding_maybe</th>\n",
       "      <th>noncoding</th>\n",
       "      <th>undetermined</th>\n",
       "      <th>All</th>\n",
       "    </tr>\n",
       "  </thead>\n",
       "  <tbody>\n",
       "    <tr>\n",
       "      <th>known_fantom</th>\n",
       "      <td>0</td>\n",
       "      <td>19250</td>\n",
       "      <td>0</td>\n",
       "      <td>10791</td>\n",
       "      <td>30041</td>\n",
       "    </tr>\n",
       "    <tr>\n",
       "      <th>known_gencode</th>\n",
       "      <td>13272</td>\n",
       "      <td>0</td>\n",
       "      <td>36095</td>\n",
       "      <td>0</td>\n",
       "      <td>49367</td>\n",
       "    </tr>\n",
       "    <tr>\n",
       "      <th>known_refseq</th>\n",
       "      <td>126579</td>\n",
       "      <td>85</td>\n",
       "      <td>29727</td>\n",
       "      <td>1352</td>\n",
       "      <td>157743</td>\n",
       "    </tr>\n",
       "    <tr>\n",
       "      <th>novel</th>\n",
       "      <td>0</td>\n",
       "      <td>1807</td>\n",
       "      <td>0</td>\n",
       "      <td>84869</td>\n",
       "      <td>86676</td>\n",
       "    </tr>\n",
       "    <tr>\n",
       "      <th>All</th>\n",
       "      <td>139851</td>\n",
       "      <td>21142</td>\n",
       "      <td>65822</td>\n",
       "      <td>97012</td>\n",
       "      <td>323827</td>\n",
       "    </tr>\n",
       "  </tbody>\n",
       "</table>\n",
       "</div>"
      ],
      "text/plain": [
       "               coding  coding_maybe  noncoding  undetermined     All\n",
       "known_fantom        0         19250          0         10791   30041\n",
       "known_gencode   13272             0      36095             0   49367\n",
       "known_refseq   126579            85      29727          1352  157743\n",
       "novel               0          1807          0         84869   86676\n",
       "All            139851         21142      65822         97012  323827"
      ]
     },
     "execution_count": 3,
     "metadata": {},
     "output_type": "execute_result"
    }
   ],
   "source": [
    "cdf=pd.crosstab(tdf['status'],tdf['type'], margins=True)\n",
    "del cdf.index.name\n",
    "del cdf.columns.name\n",
    "cdf"
   ]
  },
  {
   "cell_type": "code",
   "execution_count": 4,
   "metadata": {},
   "outputs": [
    {
     "name": "stdout",
     "output_type": "stream",
     "text": [
      "Novel transcripts and CDS presence (including novel isoforms)\n"
     ]
    },
    {
     "data": {
      "text/html": [
       "<div>\n",
       "<style scoped>\n",
       "    .dataframe tbody tr th:only-of-type {\n",
       "        vertical-align: middle;\n",
       "    }\n",
       "\n",
       "    .dataframe tbody tr th {\n",
       "        vertical-align: top;\n",
       "    }\n",
       "\n",
       "    .dataframe thead th {\n",
       "        text-align: right;\n",
       "    }\n",
       "</style>\n",
       "<table border=\"1\" class=\"dataframe\">\n",
       "  <thead>\n",
       "    <tr style=\"text-align: right;\">\n",
       "      <th></th>\n",
       "      <th>No CDS</th>\n",
       "      <th>With CDS</th>\n",
       "      <th>All</th>\n",
       "    </tr>\n",
       "  </thead>\n",
       "  <tbody>\n",
       "    <tr>\n",
       "      <th>Known</th>\n",
       "      <td>77053</td>\n",
       "      <td>130057</td>\n",
       "      <td>207110</td>\n",
       "    </tr>\n",
       "    <tr>\n",
       "      <th>Novel</th>\n",
       "      <td>115311</td>\n",
       "      <td>1406</td>\n",
       "      <td>116717</td>\n",
       "    </tr>\n",
       "    <tr>\n",
       "      <th>All</th>\n",
       "      <td>192364</td>\n",
       "      <td>131463</td>\n",
       "      <td>323827</td>\n",
       "    </tr>\n",
       "  </tbody>\n",
       "</table>\n",
       "</div>"
      ],
      "text/plain": [
       "       No CDS  With CDS     All\n",
       "Known   77053    130057  207110\n",
       "Novel  115311      1406  116717\n",
       "All    192364    131463  323827"
      ]
     },
     "execution_count": 4,
     "metadata": {},
     "output_type": "execute_result"
    }
   ],
   "source": [
    "cdk=pd.crosstab(tdf['tnovel'],tdf['tcoding'], margins=True)\n",
    "#del cdk.index.name\n",
    "#del cdk.columns.name\n",
    "cdk.index = ['Known','Novel', 'All']\n",
    "cdk.columns=['No CDS', 'With CDS', 'All']\n",
    "print(\"Novel transcripts and CDS presence (including novel isoforms)\")\n",
    "cdk"
   ]
  },
  {
   "cell_type": "code",
   "execution_count": 18,
   "metadata": {
    "scrolled": true
   },
   "outputs": [
    {
     "name": "stdout",
     "output_type": "stream",
     "text": [
      "Transcripts in novel genes\n"
     ]
    },
    {
     "data": {
      "text/html": [
       "<div>\n",
       "<style scoped>\n",
       "    .dataframe tbody tr th:only-of-type {\n",
       "        vertical-align: middle;\n",
       "    }\n",
       "\n",
       "    .dataframe tbody tr th {\n",
       "        vertical-align: top;\n",
       "    }\n",
       "\n",
       "    .dataframe thead th {\n",
       "        text-align: right;\n",
       "    }\n",
       "</style>\n",
       "<table border=\"1\" class=\"dataframe\">\n",
       "  <thead>\n",
       "    <tr style=\"text-align: right;\">\n",
       "      <th>tcoding</th>\n",
       "      <th>False</th>\n",
       "      <th>True</th>\n",
       "      <th>All</th>\n",
       "    </tr>\n",
       "    <tr>\n",
       "      <th>gnovel</th>\n",
       "      <th></th>\n",
       "      <th></th>\n",
       "      <th></th>\n",
       "    </tr>\n",
       "  </thead>\n",
       "  <tbody>\n",
       "    <tr>\n",
       "      <th>False</th>\n",
       "      <td>187658</td>\n",
       "      <td>130057</td>\n",
       "      <td>317715</td>\n",
       "    </tr>\n",
       "    <tr>\n",
       "      <th>True</th>\n",
       "      <td>4706</td>\n",
       "      <td>1406</td>\n",
       "      <td>6112</td>\n",
       "    </tr>\n",
       "    <tr>\n",
       "      <th>All</th>\n",
       "      <td>192364</td>\n",
       "      <td>131463</td>\n",
       "      <td>323827</td>\n",
       "    </tr>\n",
       "  </tbody>\n",
       "</table>\n",
       "</div>"
      ],
      "text/plain": [
       "tcoding   False    True     All\n",
       "gnovel                         \n",
       "False    187658  130057  317715\n",
       "True       4706    1406    6112\n",
       "All      192364  131463  323827"
      ]
     },
     "execution_count": 18,
     "metadata": {},
     "output_type": "execute_result"
    }
   ],
   "source": [
    "cdg=pd.crosstab(tdf['gnovel'],tdf['tcoding'], margins=True)\n",
    "#cdg.index = ['In known genes','In novel genes', 'All']\n",
    "#cdg.columns=['No CDS', 'With CDS', 'All']\n",
    "print(\"Transcripts in novel genes\")\n",
    "cdg"
   ]
  },
  {
   "cell_type": "code",
   "execution_count": 6,
   "metadata": {},
   "outputs": [],
   "source": [
    "def plotCH(df, column, gtitle, xlabel, ylabel='transcripts'):\n",
    "    hist_freqs, bins = np.histogram(a=df[column], bins=20)\n",
    "    hist_freqs=np.flip(hist_freqs)\n",
    "    hist_cfreqs=np.cumsum(hist_freqs)\n",
    "    hist_cfreqs=np.flip(hist_cfreqs)\n",
    "    data=[ go.Bar(x=bins[1:], y=hist_cfreqs[1:], text=hist_cfreqs[1:], textposition='outside') ]\n",
    "    layout=go.Layout(title=str(df.shape[0])+gtitle, \n",
    "                 xaxis=dict(tick0=0, dtick=5, title=xlabel, \n",
    "                            tickangle=-45), yaxis=dict(title=ylabel))\n",
    "    fig=go.Figure(data=data, layout=layout)\n",
    "    py.iplot(fig, filename='bar chart')"
   ]
  },
  {
   "cell_type": "code",
   "execution_count": 7,
   "metadata": {},
   "outputs": [
    {
     "data": {
      "application/vnd.plotly.v1+json": {
       "data": [
        {
         "text": [
          "67108",
          "50128",
          "39546",
          "32078",
          "26476",
          "21929",
          "18286",
          "15179",
          "12634",
          "10401",
          "8558",
          "6958",
          "5609",
          "4495",
          "3498",
          "2752",
          "2030",
          "1521",
          "1055"
         ],
         "textposition": "outside",
         "type": "bar",
         "uid": "0f95f928-a3fb-11e8-acc6-bc5ff4101f19",
         "x": [
          5,
          10,
          15,
          20,
          25,
          30,
          35,
          40,
          45,
          50,
          55,
          60,
          65,
          70,
          75,
          80,
          85,
          90,
          95,
          100
         ],
         "y": [
          67108,
          50128,
          39546,
          32078,
          26476,
          21929,
          18286,
          15179,
          12634,
          10401,
          8558,
          6958,
          5609,
          4495,
          3498,
          2752,
          2030,
          1521,
          1055
         ]
        }
       ],
       "layout": {
        "title": "116717 novel transcripts - repeat content",
        "xaxis": {
         "dtick": 5,
         "tick0": 0,
         "tickangle": -45,
         "title": "Min. % exon coverage by repeats"
        },
        "yaxis": {
         "title": "transcripts"
        }
       }
      },
      "text/html": [
       "<div id=\"c628bbef-e471-484e-897d-fc43f1c8b09e\" style=\"height: 525px; width: 100%;\" class=\"plotly-graph-div\"></div><script type=\"text/javascript\">require([\"plotly\"], function(Plotly) { window.PLOTLYENV=window.PLOTLYENV || {};window.PLOTLYENV.BASE_URL=\"https://plot.ly\";\n",
       "        Plotly.plot(\n",
       "            'c628bbef-e471-484e-897d-fc43f1c8b09e',\n",
       "            [{\"text\": [\"67108\", \"50128\", \"39546\", \"32078\", \"26476\", \"21929\", \"18286\", \"15179\", \"12634\", \"10401\", \"8558\", \"6958\", \"5609\", \"4495\", \"3498\", \"2752\", \"2030\", \"1521\", \"1055\"], \"textposition\": \"outside\", \"x\": [5.0, 10.0, 15.0, 20.0, 25.0, 30.0, 35.0, 40.0, 45.0, 50.0, 55.0, 60.0, 65.0, 70.0, 75.0, 80.0, 85.0, 90.0, 95.0, 100.0], \"y\": [67108.0, 50128.0, 39546.0, 32078.0, 26476.0, 21929.0, 18286.0, 15179.0, 12634.0, 10401.0, 8558.0, 6958.0, 5609.0, 4495.0, 3498.0, 2752.0, 2030.0, 1521.0, 1055.0], \"type\": \"bar\", \"uid\": \"0f95f928-a3fb-11e8-acc6-bc5ff4101f19\"}],\n",
       "            {\"title\": \"116717 novel transcripts - repeat content\", \"xaxis\": {\"dtick\": 5, \"tick0\": 0, \"tickangle\": -45, \"title\": \"Min. % exon coverage by repeats\"}, \"yaxis\": {\"title\": \"transcripts\"}},\n",
       "            {\"showLink\": true, \"linkText\": \"Export to plot.ly\"}\n",
       "        ).then(function () {return Plotly.addFrames('c628bbef-e471-484e-897d-fc43f1c8b09e',{});}).then(function(){Plotly.animate('c628bbef-e471-484e-897d-fc43f1c8b09e');})\n",
       "        });</script>"
      ],
      "text/vnd.plotly.v1+html": [
       "<div id=\"c628bbef-e471-484e-897d-fc43f1c8b09e\" style=\"height: 525px; width: 100%;\" class=\"plotly-graph-div\"></div><script type=\"text/javascript\">require([\"plotly\"], function(Plotly) { window.PLOTLYENV=window.PLOTLYENV || {};window.PLOTLYENV.BASE_URL=\"https://plot.ly\";\n",
       "        Plotly.plot(\n",
       "            'c628bbef-e471-484e-897d-fc43f1c8b09e',\n",
       "            [{\"text\": [\"67108\", \"50128\", \"39546\", \"32078\", \"26476\", \"21929\", \"18286\", \"15179\", \"12634\", \"10401\", \"8558\", \"6958\", \"5609\", \"4495\", \"3498\", \"2752\", \"2030\", \"1521\", \"1055\"], \"textposition\": \"outside\", \"x\": [5.0, 10.0, 15.0, 20.0, 25.0, 30.0, 35.0, 40.0, 45.0, 50.0, 55.0, 60.0, 65.0, 70.0, 75.0, 80.0, 85.0, 90.0, 95.0, 100.0], \"y\": [67108.0, 50128.0, 39546.0, 32078.0, 26476.0, 21929.0, 18286.0, 15179.0, 12634.0, 10401.0, 8558.0, 6958.0, 5609.0, 4495.0, 3498.0, 2752.0, 2030.0, 1521.0, 1055.0], \"type\": \"bar\", \"uid\": \"0f95f928-a3fb-11e8-acc6-bc5ff4101f19\"}],\n",
       "            {\"title\": \"116717 novel transcripts - repeat content\", \"xaxis\": {\"dtick\": 5, \"tick0\": 0, \"tickangle\": -45, \"title\": \"Min. % exon coverage by repeats\"}, \"yaxis\": {\"title\": \"transcripts\"}},\n",
       "            {\"showLink\": true, \"linkText\": \"Export to plot.ly\"}\n",
       "        ).then(function () {return Plotly.addFrames('c628bbef-e471-484e-897d-fc43f1c8b09e',{});}).then(function(){Plotly.animate('c628bbef-e471-484e-897d-fc43f1c8b09e');})\n",
       "        });</script>"
      ]
     },
     "metadata": {},
     "output_type": "display_data"
    }
   ],
   "source": [
    "ndf=tdf[(tdf['tnovel'].eq(True))]\n",
    "plotCH(ndf, 'excov', ' novel transcripts - repeat content', \n",
    "                 'Min. % exon coverage by repeats')"
   ]
  },
  {
   "cell_type": "code",
   "execution_count": 15,
   "metadata": {},
   "outputs": [
    {
     "data": {
      "application/vnd.plotly.v1+json": {
       "data": [
        {
         "text": [
          "1378",
          "1363",
          "1342",
          "1321",
          "1286",
          "1244",
          "1175",
          "1121",
          "1060",
          "997",
          "919",
          "835",
          "733",
          "636",
          "550",
          "475",
          "384",
          "309",
          "238"
         ],
         "textposition": "outside",
         "type": "bar",
         "uid": "b97c0092-a3fb-11e8-a98e-bc5ff4101f19",
         "x": [
          5,
          10,
          15,
          20,
          25,
          30,
          35,
          40,
          45,
          50,
          55,
          60,
          65,
          70,
          75,
          80,
          85,
          90,
          95,
          100
         ],
         "y": [
          1378,
          1363,
          1342,
          1321,
          1286,
          1244,
          1175,
          1121,
          1060,
          997,
          919,
          835,
          733,
          636,
          550,
          475,
          384,
          309,
          238
         ]
        }
       ],
       "layout": {
        "title": "1406 novel genes coding transcripts",
        "xaxis": {
         "dtick": 5,
         "tick0": 0,
         "tickangle": -45,
         "title": "Min. % exon coverage by repeats"
        },
        "yaxis": {
         "title": "transcripts"
        }
       }
      },
      "text/html": [
       "<div id=\"5a0682af-8339-488a-b5a1-27d4afb3362c\" style=\"height: 525px; width: 100%;\" class=\"plotly-graph-div\"></div><script type=\"text/javascript\">require([\"plotly\"], function(Plotly) { window.PLOTLYENV=window.PLOTLYENV || {};window.PLOTLYENV.BASE_URL=\"https://plot.ly\";\n",
       "        Plotly.plot(\n",
       "            '5a0682af-8339-488a-b5a1-27d4afb3362c',\n",
       "            [{\"text\": [\"1378\", \"1363\", \"1342\", \"1321\", \"1286\", \"1244\", \"1175\", \"1121\", \"1060\", \"997\", \"919\", \"835\", \"733\", \"636\", \"550\", \"475\", \"384\", \"309\", \"238\"], \"textposition\": \"outside\", \"x\": [5.0, 10.0, 15.0, 20.0, 25.0, 30.0, 35.0, 40.0, 45.0, 50.0, 55.0, 60.0, 65.0, 70.0, 75.0, 80.0, 85.0, 90.0, 95.0, 100.0], \"y\": [1378.0, 1363.0, 1342.0, 1321.0, 1286.0, 1244.0, 1175.0, 1121.0, 1060.0, 997.0, 919.0, 835.0, 733.0, 636.0, 550.0, 475.0, 384.0, 309.0, 238.0], \"type\": \"bar\", \"uid\": \"b97c0092-a3fb-11e8-a98e-bc5ff4101f19\"}],\n",
       "            {\"title\": \"1406 novel genes coding transcripts\", \"xaxis\": {\"dtick\": 5, \"tick0\": 0, \"tickangle\": -45, \"title\": \"Min. % exon coverage by repeats\"}, \"yaxis\": {\"title\": \"transcripts\"}},\n",
       "            {\"showLink\": true, \"linkText\": \"Export to plot.ly\"}\n",
       "        ).then(function () {return Plotly.addFrames('5a0682af-8339-488a-b5a1-27d4afb3362c',{});}).then(function(){Plotly.animate('5a0682af-8339-488a-b5a1-27d4afb3362c');})\n",
       "        });</script>"
      ],
      "text/vnd.plotly.v1+html": [
       "<div id=\"5a0682af-8339-488a-b5a1-27d4afb3362c\" style=\"height: 525px; width: 100%;\" class=\"plotly-graph-div\"></div><script type=\"text/javascript\">require([\"plotly\"], function(Plotly) { window.PLOTLYENV=window.PLOTLYENV || {};window.PLOTLYENV.BASE_URL=\"https://plot.ly\";\n",
       "        Plotly.plot(\n",
       "            '5a0682af-8339-488a-b5a1-27d4afb3362c',\n",
       "            [{\"text\": [\"1378\", \"1363\", \"1342\", \"1321\", \"1286\", \"1244\", \"1175\", \"1121\", \"1060\", \"997\", \"919\", \"835\", \"733\", \"636\", \"550\", \"475\", \"384\", \"309\", \"238\"], \"textposition\": \"outside\", \"x\": [5.0, 10.0, 15.0, 20.0, 25.0, 30.0, 35.0, 40.0, 45.0, 50.0, 55.0, 60.0, 65.0, 70.0, 75.0, 80.0, 85.0, 90.0, 95.0, 100.0], \"y\": [1378.0, 1363.0, 1342.0, 1321.0, 1286.0, 1244.0, 1175.0, 1121.0, 1060.0, 997.0, 919.0, 835.0, 733.0, 636.0, 550.0, 475.0, 384.0, 309.0, 238.0], \"type\": \"bar\", \"uid\": \"b97c0092-a3fb-11e8-a98e-bc5ff4101f19\"}],\n",
       "            {\"title\": \"1406 novel genes coding transcripts\", \"xaxis\": {\"dtick\": 5, \"tick0\": 0, \"tickangle\": -45, \"title\": \"Min. % exon coverage by repeats\"}, \"yaxis\": {\"title\": \"transcripts\"}},\n",
       "            {\"showLink\": true, \"linkText\": \"Export to plot.ly\"}\n",
       "        ).then(function () {return Plotly.addFrames('5a0682af-8339-488a-b5a1-27d4afb3362c',{});}).then(function(){Plotly.animate('5a0682af-8339-488a-b5a1-27d4afb3362c');})\n",
       "        });</script>"
      ]
     },
     "metadata": {},
     "output_type": "display_data"
    },
    {
     "data": {
      "application/vnd.plotly.v1+json": {
       "data": [
        {
         "text": [
          "1288",
          "1274",
          "1261",
          "1248",
          "1239",
          "1230",
          "1224",
          "1217",
          "1200",
          "1181",
          "1157",
          "1130",
          "1089",
          "1037",
          "986",
          "910",
          "844",
          "747",
          "633"
         ],
         "textposition": "outside",
         "type": "bar",
         "uid": "b983a1b4-a3fb-11e8-80d3-bc5ff4101f19",
         "x": [
          5,
          10,
          15,
          20,
          25,
          30,
          35,
          40,
          45,
          50,
          55,
          60,
          65,
          70,
          75,
          80,
          85,
          90,
          95,
          100
         ],
         "y": [
          1288,
          1274,
          1261,
          1248,
          1239,
          1230,
          1224,
          1217,
          1200,
          1181,
          1157,
          1130,
          1089,
          1037,
          986,
          910,
          844,
          747,
          633
         ]
        }
       ],
       "layout": {
        "title": "1406 novel genes coding transcripts",
        "xaxis": {
         "dtick": 5,
         "tick0": 0,
         "tickangle": -45,
         "title": "Min. % CDS coverage by repeats"
        },
        "yaxis": {
         "title": "transcripts"
        }
       }
      },
      "text/html": [
       "<div id=\"79cd31a4-e228-4716-8757-aa082bbae2da\" style=\"height: 525px; width: 100%;\" class=\"plotly-graph-div\"></div><script type=\"text/javascript\">require([\"plotly\"], function(Plotly) { window.PLOTLYENV=window.PLOTLYENV || {};window.PLOTLYENV.BASE_URL=\"https://plot.ly\";\n",
       "        Plotly.plot(\n",
       "            '79cd31a4-e228-4716-8757-aa082bbae2da',\n",
       "            [{\"text\": [\"1288\", \"1274\", \"1261\", \"1248\", \"1239\", \"1230\", \"1224\", \"1217\", \"1200\", \"1181\", \"1157\", \"1130\", \"1089\", \"1037\", \"986\", \"910\", \"844\", \"747\", \"633\"], \"textposition\": \"outside\", \"x\": [5.0, 10.0, 15.0, 20.0, 25.0, 30.0, 35.0, 40.0, 45.0, 50.0, 55.0, 60.0, 65.0, 70.0, 75.0, 80.0, 85.0, 90.0, 95.0, 100.0], \"y\": [1288.0, 1274.0, 1261.0, 1248.0, 1239.0, 1230.0, 1224.0, 1217.0, 1200.0, 1181.0, 1157.0, 1130.0, 1089.0, 1037.0, 986.0, 910.0, 844.0, 747.0, 633.0], \"type\": \"bar\", \"uid\": \"b983a1b4-a3fb-11e8-80d3-bc5ff4101f19\"}],\n",
       "            {\"title\": \"1406 novel genes coding transcripts\", \"xaxis\": {\"dtick\": 5, \"tick0\": 0, \"tickangle\": -45, \"title\": \"Min. % CDS coverage by repeats\"}, \"yaxis\": {\"title\": \"transcripts\"}},\n",
       "            {\"showLink\": true, \"linkText\": \"Export to plot.ly\"}\n",
       "        ).then(function () {return Plotly.addFrames('79cd31a4-e228-4716-8757-aa082bbae2da',{});}).then(function(){Plotly.animate('79cd31a4-e228-4716-8757-aa082bbae2da');})\n",
       "        });</script>"
      ],
      "text/vnd.plotly.v1+html": [
       "<div id=\"79cd31a4-e228-4716-8757-aa082bbae2da\" style=\"height: 525px; width: 100%;\" class=\"plotly-graph-div\"></div><script type=\"text/javascript\">require([\"plotly\"], function(Plotly) { window.PLOTLYENV=window.PLOTLYENV || {};window.PLOTLYENV.BASE_URL=\"https://plot.ly\";\n",
       "        Plotly.plot(\n",
       "            '79cd31a4-e228-4716-8757-aa082bbae2da',\n",
       "            [{\"text\": [\"1288\", \"1274\", \"1261\", \"1248\", \"1239\", \"1230\", \"1224\", \"1217\", \"1200\", \"1181\", \"1157\", \"1130\", \"1089\", \"1037\", \"986\", \"910\", \"844\", \"747\", \"633\"], \"textposition\": \"outside\", \"x\": [5.0, 10.0, 15.0, 20.0, 25.0, 30.0, 35.0, 40.0, 45.0, 50.0, 55.0, 60.0, 65.0, 70.0, 75.0, 80.0, 85.0, 90.0, 95.0, 100.0], \"y\": [1288.0, 1274.0, 1261.0, 1248.0, 1239.0, 1230.0, 1224.0, 1217.0, 1200.0, 1181.0, 1157.0, 1130.0, 1089.0, 1037.0, 986.0, 910.0, 844.0, 747.0, 633.0], \"type\": \"bar\", \"uid\": \"b983a1b4-a3fb-11e8-80d3-bc5ff4101f19\"}],\n",
       "            {\"title\": \"1406 novel genes coding transcripts\", \"xaxis\": {\"dtick\": 5, \"tick0\": 0, \"tickangle\": -45, \"title\": \"Min. % CDS coverage by repeats\"}, \"yaxis\": {\"title\": \"transcripts\"}},\n",
       "            {\"showLink\": true, \"linkText\": \"Export to plot.ly\"}\n",
       "        ).then(function () {return Plotly.addFrames('79cd31a4-e228-4716-8757-aa082bbae2da',{});}).then(function(){Plotly.animate('79cd31a4-e228-4716-8757-aa082bbae2da');})\n",
       "        });</script>"
      ]
     },
     "metadata": {},
     "output_type": "display_data"
    }
   ],
   "source": [
    "pdf=ndf[(ndf['tcoding'].eq(True))]\n",
    "pdf=pdf[(pdf['gnovel'].eq(True))]\n",
    "plotCH(pdf, 'excov', ' coding transcripts in novel genes', 'Min. % exon coverage by repeats')\n",
    "plotCH(pdf, 'cdcov', ' coding transcripts in novel genes', 'Min. % CDS coverage by repeats')"
   ]
  },
  {
   "cell_type": "code",
   "execution_count": 17,
   "metadata": {
    "scrolled": false
   },
   "outputs": [
    {
     "data": {
      "application/vnd.plotly.v1+json": {
       "data": [
        {
         "text": [
          "1023",
          "1010",
          "1002",
          "991",
          "985",
          "978",
          "974",
          "968",
          "953",
          "937",
          "917",
          "893",
          "860",
          "819",
          "778",
          "722",
          "664",
          "594",
          "511"
         ],
         "textposition": "outside",
         "type": "bar",
         "uid": "58a7212e-a3fc-11e8-90f3-bc5ff4101f19",
         "x": [
          5,
          10,
          15,
          20,
          25,
          30,
          35,
          40,
          45,
          50,
          55,
          60,
          65,
          70,
          75,
          80,
          85,
          90,
          95,
          100
         ],
         "y": [
          1023,
          1010,
          1002,
          991,
          985,
          978,
          974,
          968,
          953,
          937,
          917,
          893,
          860,
          819,
          778,
          722,
          664,
          594,
          511
         ]
        }
       ],
       "layout": {
        "title": "1134 multi-exon coding transcripts in novel genes",
        "xaxis": {
         "dtick": 5,
         "tick0": 0,
         "tickangle": -45,
         "title": "Min. % CDS coverage by repeats"
        },
        "yaxis": {
         "title": "transcripts"
        }
       }
      },
      "text/html": [
       "<div id=\"6c42e104-313a-4bbc-a8e0-c83c36c1d54f\" style=\"height: 525px; width: 100%;\" class=\"plotly-graph-div\"></div><script type=\"text/javascript\">require([\"plotly\"], function(Plotly) { window.PLOTLYENV=window.PLOTLYENV || {};window.PLOTLYENV.BASE_URL=\"https://plot.ly\";\n",
       "        Plotly.plot(\n",
       "            '6c42e104-313a-4bbc-a8e0-c83c36c1d54f',\n",
       "            [{\"text\": [\"1023\", \"1010\", \"1002\", \"991\", \"985\", \"978\", \"974\", \"968\", \"953\", \"937\", \"917\", \"893\", \"860\", \"819\", \"778\", \"722\", \"664\", \"594\", \"511\"], \"textposition\": \"outside\", \"x\": [5.0, 10.0, 15.0, 20.0, 25.0, 30.0, 35.0, 40.0, 45.0, 50.0, 55.0, 60.0, 65.0, 70.0, 75.0, 80.0, 85.0, 90.0, 95.0, 100.0], \"y\": [1023.0, 1010.0, 1002.0, 991.0, 985.0, 978.0, 974.0, 968.0, 953.0, 937.0, 917.0, 893.0, 860.0, 819.0, 778.0, 722.0, 664.0, 594.0, 511.0], \"type\": \"bar\", \"uid\": \"58a7212e-a3fc-11e8-90f3-bc5ff4101f19\"}],\n",
       "            {\"title\": \"1134 multi-exon coding transcripts in novel genes\", \"xaxis\": {\"dtick\": 5, \"tick0\": 0, \"tickangle\": -45, \"title\": \"Min. % CDS coverage by repeats\"}, \"yaxis\": {\"title\": \"transcripts\"}},\n",
       "            {\"showLink\": true, \"linkText\": \"Export to plot.ly\"}\n",
       "        ).then(function () {return Plotly.addFrames('6c42e104-313a-4bbc-a8e0-c83c36c1d54f',{});}).then(function(){Plotly.animate('6c42e104-313a-4bbc-a8e0-c83c36c1d54f');})\n",
       "        });</script>"
      ],
      "text/vnd.plotly.v1+html": [
       "<div id=\"6c42e104-313a-4bbc-a8e0-c83c36c1d54f\" style=\"height: 525px; width: 100%;\" class=\"plotly-graph-div\"></div><script type=\"text/javascript\">require([\"plotly\"], function(Plotly) { window.PLOTLYENV=window.PLOTLYENV || {};window.PLOTLYENV.BASE_URL=\"https://plot.ly\";\n",
       "        Plotly.plot(\n",
       "            '6c42e104-313a-4bbc-a8e0-c83c36c1d54f',\n",
       "            [{\"text\": [\"1023\", \"1010\", \"1002\", \"991\", \"985\", \"978\", \"974\", \"968\", \"953\", \"937\", \"917\", \"893\", \"860\", \"819\", \"778\", \"722\", \"664\", \"594\", \"511\"], \"textposition\": \"outside\", \"x\": [5.0, 10.0, 15.0, 20.0, 25.0, 30.0, 35.0, 40.0, 45.0, 50.0, 55.0, 60.0, 65.0, 70.0, 75.0, 80.0, 85.0, 90.0, 95.0, 100.0], \"y\": [1023.0, 1010.0, 1002.0, 991.0, 985.0, 978.0, 974.0, 968.0, 953.0, 937.0, 917.0, 893.0, 860.0, 819.0, 778.0, 722.0, 664.0, 594.0, 511.0], \"type\": \"bar\", \"uid\": \"58a7212e-a3fc-11e8-90f3-bc5ff4101f19\"}],\n",
       "            {\"title\": \"1134 multi-exon coding transcripts in novel genes\", \"xaxis\": {\"dtick\": 5, \"tick0\": 0, \"tickangle\": -45, \"title\": \"Min. % CDS coverage by repeats\"}, \"yaxis\": {\"title\": \"transcripts\"}},\n",
       "            {\"showLink\": true, \"linkText\": \"Export to plot.ly\"}\n",
       "        ).then(function () {return Plotly.addFrames('6c42e104-313a-4bbc-a8e0-c83c36c1d54f',{});}).then(function(){Plotly.animate('6c42e104-313a-4bbc-a8e0-c83c36c1d54f');})\n",
       "        });</script>"
      ]
     },
     "metadata": {},
     "output_type": "display_data"
    }
   ],
   "source": [
    "mxdf=pdf[(pdf['excount']>1)]\n",
    "plotCH(mxdf, 'cdcov', ' multi-exon coding transcripts in novel genes', 'Min. % CDS coverage by repeats')"
   ]
  },
  {
   "cell_type": "code",
   "execution_count": 22,
   "metadata": {},
   "outputs": [
    {
     "data": {
      "application/vnd.plotly.v1+json": {
       "data": [
        {
         "text": [
          "2127",
          "1307",
          "901",
          "654",
          "496",
          "387",
          "298",
          "241",
          "183",
          "139",
          "109",
          "91",
          "81",
          "71",
          "53",
          "45",
          "34",
          "28",
          "23"
         ],
         "textposition": "outside",
         "type": "bar",
         "uid": "83fa902e-a406-11e8-9ce7-bc5ff4101f19",
         "x": [
          5,
          10,
          15,
          20,
          25,
          30,
          35,
          40,
          45,
          50,
          55,
          60,
          65,
          70,
          75,
          80,
          85,
          90,
          95,
          100
         ],
         "y": [
          2127,
          1307,
          901,
          654,
          496,
          387,
          298,
          241,
          183,
          139,
          109,
          91,
          81,
          71,
          53,
          45,
          34,
          28,
          23
         ]
        }
       ],
       "layout": {
        "title": "15910 multi-exon coding transcripts in Gencode exclusive genes",
        "xaxis": {
         "dtick": 5,
         "tick0": 0,
         "tickangle": -45,
         "title": "Min. % CDS coverage by repeats"
        },
        "yaxis": {
         "title": "transcripts"
        }
       }
      },
      "text/html": [
       "<div id=\"65177376-72f1-4165-b65d-c4aa2550a2ae\" style=\"height: 525px; width: 100%;\" class=\"plotly-graph-div\"></div><script type=\"text/javascript\">require([\"plotly\"], function(Plotly) { window.PLOTLYENV=window.PLOTLYENV || {};window.PLOTLYENV.BASE_URL=\"https://plot.ly\";\n",
       "        Plotly.plot(\n",
       "            '65177376-72f1-4165-b65d-c4aa2550a2ae',\n",
       "            [{\"text\": [\"2127\", \"1307\", \"901\", \"654\", \"496\", \"387\", \"298\", \"241\", \"183\", \"139\", \"109\", \"91\", \"81\", \"71\", \"53\", \"45\", \"34\", \"28\", \"23\"], \"textposition\": \"outside\", \"x\": [5.0, 10.0, 15.0, 20.0, 25.0, 30.0, 35.0, 40.0, 45.0, 50.0, 55.0, 60.0, 65.0, 70.0, 75.0, 80.0, 85.0, 90.0, 95.0, 100.0], \"y\": [2127.0, 1307.0, 901.0, 654.0, 496.0, 387.0, 298.0, 241.0, 183.0, 139.0, 109.0, 91.0, 81.0, 71.0, 53.0, 45.0, 34.0, 28.0, 23.0], \"type\": \"bar\", \"uid\": \"83fa902e-a406-11e8-9ce7-bc5ff4101f19\"}],\n",
       "            {\"title\": \"15910 multi-exon coding transcripts in Gencode exclusive genes\", \"xaxis\": {\"dtick\": 5, \"tick0\": 0, \"tickangle\": -45, \"title\": \"Min. % CDS coverage by repeats\"}, \"yaxis\": {\"title\": \"transcripts\"}},\n",
       "            {\"showLink\": true, \"linkText\": \"Export to plot.ly\"}\n",
       "        ).then(function () {return Plotly.addFrames('65177376-72f1-4165-b65d-c4aa2550a2ae',{});}).then(function(){Plotly.animate('65177376-72f1-4165-b65d-c4aa2550a2ae');})\n",
       "        });</script>"
      ],
      "text/vnd.plotly.v1+html": [
       "<div id=\"65177376-72f1-4165-b65d-c4aa2550a2ae\" style=\"height: 525px; width: 100%;\" class=\"plotly-graph-div\"></div><script type=\"text/javascript\">require([\"plotly\"], function(Plotly) { window.PLOTLYENV=window.PLOTLYENV || {};window.PLOTLYENV.BASE_URL=\"https://plot.ly\";\n",
       "        Plotly.plot(\n",
       "            '65177376-72f1-4165-b65d-c4aa2550a2ae',\n",
       "            [{\"text\": [\"2127\", \"1307\", \"901\", \"654\", \"496\", \"387\", \"298\", \"241\", \"183\", \"139\", \"109\", \"91\", \"81\", \"71\", \"53\", \"45\", \"34\", \"28\", \"23\"], \"textposition\": \"outside\", \"x\": [5.0, 10.0, 15.0, 20.0, 25.0, 30.0, 35.0, 40.0, 45.0, 50.0, 55.0, 60.0, 65.0, 70.0, 75.0, 80.0, 85.0, 90.0, 95.0, 100.0], \"y\": [2127.0, 1307.0, 901.0, 654.0, 496.0, 387.0, 298.0, 241.0, 183.0, 139.0, 109.0, 91.0, 81.0, 71.0, 53.0, 45.0, 34.0, 28.0, 23.0], \"type\": \"bar\", \"uid\": \"83fa902e-a406-11e8-9ce7-bc5ff4101f19\"}],\n",
       "            {\"title\": \"15910 multi-exon coding transcripts in Gencode exclusive genes\", \"xaxis\": {\"dtick\": 5, \"tick0\": 0, \"tickangle\": -45, \"title\": \"Min. % CDS coverage by repeats\"}, \"yaxis\": {\"title\": \"transcripts\"}},\n",
       "            {\"showLink\": true, \"linkText\": \"Export to plot.ly\"}\n",
       "        ).then(function () {return Plotly.addFrames('65177376-72f1-4165-b65d-c4aa2550a2ae',{});}).then(function(){Plotly.animate('65177376-72f1-4165-b65d-c4aa2550a2ae');})\n",
       "        });</script>"
      ]
     },
     "metadata": {},
     "output_type": "display_data"
    }
   ],
   "source": [
    "kdf=tdf[(tdf['tcoding'].eq(True))]\n",
    "rdf=kdf[(kdf['status'].eq('known_gencode'))]\n",
    "rdf=rdf[(rdf['excount']>1)]\n",
    "plotCH(rdf, 'cdcov', ' multi-exon coding transcripts in Gencode exclusive genes', 'Min. % CDS coverage by repeats')\n"
   ]
  }
 ],
 "metadata": {
  "kernelspec": {
   "display_name": "Python 3",
   "language": "python",
   "name": "python3"
  },
  "language_info": {
   "codemirror_mode": {
    "name": "ipython",
    "version": 3
   },
   "file_extension": ".py",
   "mimetype": "text/x-python",
   "name": "python",
   "nbconvert_exporter": "python",
   "pygments_lexer": "ipython3",
   "version": "3.6.6"
  }
 },
 "nbformat": 4,
 "nbformat_minor": 2
}
