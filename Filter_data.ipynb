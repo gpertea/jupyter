{
 "cells": [
  {
   "cell_type": "code",
   "execution_count": 2,
   "metadata": {
    "scrolled": true
   },
   "outputs": [
    {
     "data": {
      "text/html": [
       "<script>requirejs.config({paths: { 'plotly': ['https://cdn.plot.ly/plotly-latest.min']},});if(!window.Plotly) {{require(['plotly'],function(plotly) {window.Plotly=plotly;});}}</script>"
      ],
      "text/vnd.plotly.v1+html": [
       "<script>requirejs.config({paths: { 'plotly': ['https://cdn.plot.ly/plotly-latest.min']},});if(!window.Plotly) {{require(['plotly'],function(plotly) {window.Plotly=plotly;});}}</script>"
      ]
     },
     "metadata": {},
     "output_type": "display_data"
    },
    {
     "data": {
      "text/html": [
       "<div>\n",
       "<style scoped>\n",
       "    .dataframe tbody tr th:only-of-type {\n",
       "        vertical-align: middle;\n",
       "    }\n",
       "\n",
       "    .dataframe tbody tr th {\n",
       "        vertical-align: top;\n",
       "    }\n",
       "\n",
       "    .dataframe thead th {\n",
       "        text-align: right;\n",
       "    }\n",
       "</style>\n",
       "<table border=\"1\" class=\"dataframe\">\n",
       "  <thead>\n",
       "    <tr style=\"text-align: right;\">\n",
       "      <th></th>\n",
       "      <th>gstatus</th>\n",
       "      <th>gtype</th>\n",
       "      <th>status</th>\n",
       "      <th>type</th>\n",
       "      <th>asm</th>\n",
       "      <th>chr</th>\n",
       "      <th>strand</th>\n",
       "      <th>excount</th>\n",
       "      <th>exlen</th>\n",
       "      <th>cdlen</th>\n",
       "      <th>...</th>\n",
       "      <th>excov</th>\n",
       "      <th>cdcov</th>\n",
       "      <th>alu_excov</th>\n",
       "      <th>alu_cdcov</th>\n",
       "      <th>sine_excov</th>\n",
       "      <th>sine_cdcov</th>\n",
       "      <th>tcoding</th>\n",
       "      <th>tnovel</th>\n",
       "      <th>gcoding</th>\n",
       "      <th>gnovel</th>\n",
       "    </tr>\n",
       "    <tr>\n",
       "      <th>id</th>\n",
       "      <th></th>\n",
       "      <th></th>\n",
       "      <th></th>\n",
       "      <th></th>\n",
       "      <th></th>\n",
       "      <th></th>\n",
       "      <th></th>\n",
       "      <th></th>\n",
       "      <th></th>\n",
       "      <th></th>\n",
       "      <th></th>\n",
       "      <th></th>\n",
       "      <th></th>\n",
       "      <th></th>\n",
       "      <th></th>\n",
       "      <th></th>\n",
       "      <th></th>\n",
       "      <th></th>\n",
       "      <th></th>\n",
       "      <th></th>\n",
       "      <th></th>\n",
       "    </tr>\n",
       "  </thead>\n",
       "  <tbody>\n",
       "    <tr>\n",
       "      <th>CHS.6.1</th>\n",
       "      <td>known_refseq</td>\n",
       "      <td>protein_coding</td>\n",
       "      <td>known_refseq</td>\n",
       "      <td>coding</td>\n",
       "      <td>yes</td>\n",
       "      <td>chr1</td>\n",
       "      <td>+</td>\n",
       "      <td>1</td>\n",
       "      <td>918</td>\n",
       "      <td>918</td>\n",
       "      <td>...</td>\n",
       "      <td>0.0</td>\n",
       "      <td>0.0</td>\n",
       "      <td>0.0</td>\n",
       "      <td>0.0</td>\n",
       "      <td>0.0</td>\n",
       "      <td>0.0</td>\n",
       "      <td>True</td>\n",
       "      <td>False</td>\n",
       "      <td>True</td>\n",
       "      <td>False</td>\n",
       "    </tr>\n",
       "    <tr>\n",
       "      <th>CHS.9.1</th>\n",
       "      <td>known_refseq</td>\n",
       "      <td>protein_coding</td>\n",
       "      <td>known_refseq</td>\n",
       "      <td>coding</td>\n",
       "      <td>yes</td>\n",
       "      <td>chr1</td>\n",
       "      <td>+</td>\n",
       "      <td>4</td>\n",
       "      <td>744</td>\n",
       "      <td>402</td>\n",
       "      <td>...</td>\n",
       "      <td>8.3</td>\n",
       "      <td>0.0</td>\n",
       "      <td>0.0</td>\n",
       "      <td>0.0</td>\n",
       "      <td>0.0</td>\n",
       "      <td>0.0</td>\n",
       "      <td>True</td>\n",
       "      <td>False</td>\n",
       "      <td>True</td>\n",
       "      <td>False</td>\n",
       "    </tr>\n",
       "    <tr>\n",
       "      <th>CHS.9.2</th>\n",
       "      <td>known_refseq</td>\n",
       "      <td>protein_coding</td>\n",
       "      <td>known_refseq</td>\n",
       "      <td>coding</td>\n",
       "      <td>yes</td>\n",
       "      <td>chr1</td>\n",
       "      <td>+</td>\n",
       "      <td>4</td>\n",
       "      <td>762</td>\n",
       "      <td>402</td>\n",
       "      <td>...</td>\n",
       "      <td>10.5</td>\n",
       "      <td>0.0</td>\n",
       "      <td>0.0</td>\n",
       "      <td>0.0</td>\n",
       "      <td>0.0</td>\n",
       "      <td>0.0</td>\n",
       "      <td>True</td>\n",
       "      <td>False</td>\n",
       "      <td>True</td>\n",
       "      <td>False</td>\n",
       "    </tr>\n",
       "    <tr>\n",
       "      <th>CHS.9.3</th>\n",
       "      <td>known_refseq</td>\n",
       "      <td>protein_coding</td>\n",
       "      <td>known_refseq</td>\n",
       "      <td>coding</td>\n",
       "      <td>no</td>\n",
       "      <td>chr1</td>\n",
       "      <td>+</td>\n",
       "      <td>4</td>\n",
       "      <td>1014</td>\n",
       "      <td>402</td>\n",
       "      <td>...</td>\n",
       "      <td>26.2</td>\n",
       "      <td>0.0</td>\n",
       "      <td>0.0</td>\n",
       "      <td>0.0</td>\n",
       "      <td>16.1</td>\n",
       "      <td>0.0</td>\n",
       "      <td>True</td>\n",
       "      <td>False</td>\n",
       "      <td>True</td>\n",
       "      <td>False</td>\n",
       "    </tr>\n",
       "    <tr>\n",
       "      <th>CHS.9.4</th>\n",
       "      <td>known_refseq</td>\n",
       "      <td>protein_coding</td>\n",
       "      <td>known_refseq</td>\n",
       "      <td>coding</td>\n",
       "      <td>yes</td>\n",
       "      <td>chr1</td>\n",
       "      <td>+</td>\n",
       "      <td>4</td>\n",
       "      <td>841</td>\n",
       "      <td>402</td>\n",
       "      <td>...</td>\n",
       "      <td>18.9</td>\n",
       "      <td>0.0</td>\n",
       "      <td>0.0</td>\n",
       "      <td>0.0</td>\n",
       "      <td>18.9</td>\n",
       "      <td>0.0</td>\n",
       "      <td>True</td>\n",
       "      <td>False</td>\n",
       "      <td>True</td>\n",
       "      <td>False</td>\n",
       "    </tr>\n",
       "  </tbody>\n",
       "</table>\n",
       "<p>5 rows × 22 columns</p>\n",
       "</div>"
      ],
      "text/plain": [
       "              gstatus           gtype        status    type  asm   chr strand  \\\n",
       "id                                                                              \n",
       "CHS.6.1  known_refseq  protein_coding  known_refseq  coding  yes  chr1      +   \n",
       "CHS.9.1  known_refseq  protein_coding  known_refseq  coding  yes  chr1      +   \n",
       "CHS.9.2  known_refseq  protein_coding  known_refseq  coding  yes  chr1      +   \n",
       "CHS.9.3  known_refseq  protein_coding  known_refseq  coding   no  chr1      +   \n",
       "CHS.9.4  known_refseq  protein_coding  known_refseq  coding  yes  chr1      +   \n",
       "\n",
       "         excount  exlen  cdlen   ...   excov cdcov  alu_excov  alu_cdcov  \\\n",
       "id                               ...                                       \n",
       "CHS.6.1        1    918    918   ...     0.0   0.0        0.0        0.0   \n",
       "CHS.9.1        4    744    402   ...     8.3   0.0        0.0        0.0   \n",
       "CHS.9.2        4    762    402   ...    10.5   0.0        0.0        0.0   \n",
       "CHS.9.3        4   1014    402   ...    26.2   0.0        0.0        0.0   \n",
       "CHS.9.4        4    841    402   ...    18.9   0.0        0.0        0.0   \n",
       "\n",
       "         sine_excov  sine_cdcov  tcoding  tnovel  gcoding  gnovel  \n",
       "id                                                                 \n",
       "CHS.6.1         0.0         0.0     True   False     True   False  \n",
       "CHS.9.1         0.0         0.0     True   False     True   False  \n",
       "CHS.9.2         0.0         0.0     True   False     True   False  \n",
       "CHS.9.3        16.1         0.0     True   False     True   False  \n",
       "CHS.9.4        18.9         0.0     True   False     True   False  \n",
       "\n",
       "[5 rows x 22 columns]"
      ]
     },
     "execution_count": 2,
     "metadata": {},
     "output_type": "execute_result"
    }
   ],
   "source": [
    "import ipywidgets as wgt\n",
    "import numpy as np\n",
    "import pandas as pd\n",
    "from plotly import __version__\n",
    "from plotly.offline import download_plotlyjs, init_notebook_mode\n",
    "init_notebook_mode(connected=True)\n",
    "import plotly.offline as py\n",
    "#import plotly.figure_factory as ff\n",
    "import plotly.graph_objs as go\n",
    "tdf=pd.read_csv('chess2_rep_data.tab', sep='\\t', index_col=0)\n",
    "#tdf['excov']=pd.to_numeric(tdf['excov'], errors='coerce').fillna(0)\n",
    "#tdf['cdcov']=pd.to_numeric(tdf['cdcov'], errors='coerce').fillna(0)\n",
    "tdf['tcoding']=np.where(tdf['cdlen'].ne(0), True, False)\n",
    "tdf['tnovel']=np.where(tdf['status'].isin(['novel', 'known_fantom']), True, False)\n",
    "tdf['gcoding']=np.where(tdf['gtype'].eq('protein_coding'), True, False)\n",
    "tdf['gnovel']=np.where(tdf['gstatus'].isin(['novel', 'known_fantom']), True, False)\n",
    "tdf[(tdf['tcoding'].eq(True))].head()"
   ]
  },
  {
   "cell_type": "code",
   "execution_count": 3,
   "metadata": {
    "scrolled": true
   },
   "outputs": [
    {
     "data": {
      "application/vnd.jupyter.widget-view+json": {
       "model_id": "49b917863345416099abc39925a84a8f",
       "version_major": 2,
       "version_minor": 0
      },
      "text/plain": [
       "HBox(children=(SelectMultiple(description='STATUS', index=(3,), options=('known_fantom', 'known_gencode', 'kno…"
      ]
     },
     "metadata": {},
     "output_type": "display_data"
    },
    {
     "data": {
      "application/vnd.jupyter.widget-view+json": {
       "model_id": "5a46705b0ebd4b18a6d197f42f58d35d",
       "version_major": 2,
       "version_minor": 0
      },
      "text/plain": [
       "HBox(children=(VBox(children=(Label(value='Min. exon cov%:'), IntSlider(value=0, layout=Layout(width='16em'), …"
      ]
     },
     "metadata": {},
     "output_type": "display_data"
    },
    {
     "data": {
      "application/vnd.jupyter.widget-view+json": {
       "model_id": "83842573693343dba7457a6fdaab3bed",
       "version_major": 2,
       "version_minor": 0
      },
      "text/plain": [
       "HBox(children=(Button(description='Query', style=ButtonStyle(), tooltip='Query'), Label(value='---', layout=La…"
      ]
     },
     "metadata": {},
     "output_type": "display_data"
    }
   ],
   "source": [
    "seltype=wgt.SelectMultiple(\n",
    "    options=sorted(tdf.type.unique()),\n",
    "    value=[],\n",
    "    rows=4,\n",
    "    description='TYPE',\n",
    ")\n",
    "selstatus=wgt.SelectMultiple(\n",
    "    options=sorted(tdf.status.unique()),\n",
    "    value=['novel'],\n",
    "    rows=4,\n",
    "    description='STATUS',\n",
    ")\n",
    "hbox2=wgt.HBox([selstatus, seltype])\n",
    "display(hbox2)\n",
    "layw=wgt.Layout(width='16em')\n",
    "excov=wgt.IntSlider(value=0, min=0, max=100, step=5, layout=layw)\n",
    "cdcov=wgt.IntSlider(value=0, min=0, max=100, step=5, layout=layw)\n",
    "excount=wgt.BoundedIntText(value=1, min=1, max=10, description='At least',\n",
    "                          layout=wgt.Layout(width='11em'))\n",
    "hbox=wgt.HBox([wgt.VBox([wgt.Label(value=\"Min. exon cov%:\"), excov]),\n",
    "                  wgt.VBox([wgt.Label(value=\"Min. CDS cov%:\"), cdcov]),\n",
    "              excount, wgt.Label(value=\"exons\")])\n",
    "display(hbox)\n",
    "\n",
    "runbtn=wgt.Button(\n",
    "    description='Query',\n",
    "    #disabled=False,\n",
    "    #button_style='', # 'success', 'info', 'warning', 'danger' or ''\n",
    "    tooltip='Query',\n",
    "    #icon='check'\n",
    ")\n",
    "rlabel=wgt.Label(value=\"---\", layout=wgt.Layout(border='2px solid red', padding='0 12px'))\n",
    "rlabelres=wgt.Label(value=\"---\", layout=wgt.Layout(border='2px solid red', padding='0 12px'))\n",
    "def btnRunClick(b):\n",
    "    rlabel.value=''\n",
    "    rdf=tdf\n",
    "    if len(selstatus.value)==4 or len(selstatus.value)==0:\n",
    "        rlabel.value='any status'\n",
    "    else: \n",
    "        rlabel.value=' | '.join(selstatus.value)\n",
    "        rdf=tdf[(tdf['status'].isin(selstatus.value))]\n",
    "        if len(selstatus.value)==3 and not 'novel' in selstatus.value:\n",
    "            rlabel.value='known'\n",
    "        else:\n",
    "            if len(selstatus.value)>1: rlabel.value='('+rlabel.value+')'\n",
    "    stype=''\n",
    "    \n",
    "    if not(len(seltype.value)==4 or len(seltype.value)==0):\n",
    "        stype=' | '.join(seltype.value)\n",
    "        rdf=rdf[(rdf['type'].isin(seltype.value))]\n",
    "        \n",
    "    if rlabel.value and stype: \n",
    "        rlabel.value+=' &  '\n",
    "        if len(seltype.value)>1: stype='('+stype+')'\n",
    "    rlabel.value+=stype\n",
    "    if excount.value>1:\n",
    "        rdf=rdf[(rdf['excount']>=excount.value)]\n",
    "    if excov.value>0:\n",
    "       rdf=rdf[(rdf['excov']>=excov.value)]    \n",
    "    if cdcov.value>0:\n",
    "       rdf=rdf[(rdf['cdcov']>=cdcov.value)]\n",
    "\n",
    "    rlabelres.value=str(len(rdf))\n",
    "\n",
    "runbtn.on_click(btnRunClick)\n",
    "\n",
    "hbx=wgt.HBox(children=[runbtn, rlabel, rlabelres], layout=wgt.Layout(justify_content='center'))\n",
    "display(hbx)\n",
    "btnRunClick(True)"
   ]
  },
  {
   "cell_type": "code",
   "execution_count": 4,
   "metadata": {},
   "outputs": [
    {
     "data": {
      "text/html": [
       "<div>\n",
       "<style scoped>\n",
       "    .dataframe tbody tr th:only-of-type {\n",
       "        vertical-align: middle;\n",
       "    }\n",
       "\n",
       "    .dataframe tbody tr th {\n",
       "        vertical-align: top;\n",
       "    }\n",
       "\n",
       "    .dataframe thead th {\n",
       "        text-align: right;\n",
       "    }\n",
       "</style>\n",
       "<table border=\"1\" class=\"dataframe\">\n",
       "  <thead>\n",
       "    <tr style=\"text-align: right;\">\n",
       "      <th></th>\n",
       "      <th>coding</th>\n",
       "      <th>coding_maybe</th>\n",
       "      <th>noncoding</th>\n",
       "      <th>undetermined</th>\n",
       "      <th>All</th>\n",
       "    </tr>\n",
       "  </thead>\n",
       "  <tbody>\n",
       "    <tr>\n",
       "      <th>known_fantom</th>\n",
       "      <td>0</td>\n",
       "      <td>19250</td>\n",
       "      <td>0</td>\n",
       "      <td>10791</td>\n",
       "      <td>30041</td>\n",
       "    </tr>\n",
       "    <tr>\n",
       "      <th>known_gencode</th>\n",
       "      <td>13272</td>\n",
       "      <td>0</td>\n",
       "      <td>36095</td>\n",
       "      <td>0</td>\n",
       "      <td>49367</td>\n",
       "    </tr>\n",
       "    <tr>\n",
       "      <th>known_refseq</th>\n",
       "      <td>126579</td>\n",
       "      <td>85</td>\n",
       "      <td>29727</td>\n",
       "      <td>1352</td>\n",
       "      <td>157743</td>\n",
       "    </tr>\n",
       "    <tr>\n",
       "      <th>novel</th>\n",
       "      <td>0</td>\n",
       "      <td>1807</td>\n",
       "      <td>0</td>\n",
       "      <td>84869</td>\n",
       "      <td>86676</td>\n",
       "    </tr>\n",
       "    <tr>\n",
       "      <th>All</th>\n",
       "      <td>139851</td>\n",
       "      <td>21142</td>\n",
       "      <td>65822</td>\n",
       "      <td>97012</td>\n",
       "      <td>323827</td>\n",
       "    </tr>\n",
       "  </tbody>\n",
       "</table>\n",
       "</div>"
      ],
      "text/plain": [
       "               coding  coding_maybe  noncoding  undetermined     All\n",
       "known_fantom        0         19250          0         10791   30041\n",
       "known_gencode   13272             0      36095             0   49367\n",
       "known_refseq   126579            85      29727          1352  157743\n",
       "novel               0          1807          0         84869   86676\n",
       "All            139851         21142      65822         97012  323827"
      ]
     },
     "execution_count": 4,
     "metadata": {},
     "output_type": "execute_result"
    }
   ],
   "source": [
    "cdf=pd.crosstab(tdf['status'],tdf['type'], margins=True)\n",
    "del cdf.index.name\n",
    "del cdf.columns.name\n",
    "cdf"
   ]
  },
  {
   "cell_type": "code",
   "execution_count": 13,
   "metadata": {},
   "outputs": [
    {
     "name": "stdout",
     "output_type": "stream",
     "text": [
      "Transcripts by gene status and gene type\n"
     ]
    },
    {
     "data": {
      "text/html": [
       "<div>\n",
       "<style scoped>\n",
       "    .dataframe tbody tr th:only-of-type {\n",
       "        vertical-align: middle;\n",
       "    }\n",
       "\n",
       "    .dataframe tbody tr th {\n",
       "        vertical-align: top;\n",
       "    }\n",
       "\n",
       "    .dataframe thead th {\n",
       "        text-align: right;\n",
       "    }\n",
       "</style>\n",
       "<table border=\"1\" class=\"dataframe\">\n",
       "  <thead>\n",
       "    <tr style=\"text-align: right;\">\n",
       "      <th></th>\n",
       "      <th>antisense_RNA</th>\n",
       "      <th>lncRNA</th>\n",
       "      <th>misc_RNA</th>\n",
       "      <th>protein_coding</th>\n",
       "      <th>All</th>\n",
       "    </tr>\n",
       "  </thead>\n",
       "  <tbody>\n",
       "    <tr>\n",
       "      <th>known_fantom</th>\n",
       "      <td>662</td>\n",
       "      <td>1623</td>\n",
       "      <td>1</td>\n",
       "      <td>185</td>\n",
       "      <td>2471</td>\n",
       "    </tr>\n",
       "    <tr>\n",
       "      <th>known_gencode</th>\n",
       "      <td>724</td>\n",
       "      <td>2030</td>\n",
       "      <td>37</td>\n",
       "      <td>118</td>\n",
       "      <td>2909</td>\n",
       "    </tr>\n",
       "    <tr>\n",
       "      <th>known_refseq</th>\n",
       "      <td>59</td>\n",
       "      <td>44518</td>\n",
       "      <td>4310</td>\n",
       "      <td>265919</td>\n",
       "      <td>314806</td>\n",
       "    </tr>\n",
       "    <tr>\n",
       "      <th>novel</th>\n",
       "      <td>1249</td>\n",
       "      <td>1131</td>\n",
       "      <td>0</td>\n",
       "      <td>1261</td>\n",
       "      <td>3641</td>\n",
       "    </tr>\n",
       "    <tr>\n",
       "      <th>All</th>\n",
       "      <td>2694</td>\n",
       "      <td>49302</td>\n",
       "      <td>4348</td>\n",
       "      <td>267483</td>\n",
       "      <td>323827</td>\n",
       "    </tr>\n",
       "  </tbody>\n",
       "</table>\n",
       "</div>"
      ],
      "text/plain": [
       "               antisense_RNA  lncRNA  misc_RNA  protein_coding     All\n",
       "known_fantom             662    1623         1             185    2471\n",
       "known_gencode            724    2030        37             118    2909\n",
       "known_refseq              59   44518      4310          265919  314806\n",
       "novel                   1249    1131         0            1261    3641\n",
       "All                     2694   49302      4348          267483  323827"
      ]
     },
     "execution_count": 13,
     "metadata": {},
     "output_type": "execute_result"
    }
   ],
   "source": [
    "gdf=pd.crosstab(tdf['gstatus'],tdf['gtype'], margins=True)\n",
    "del gdf.index.name\n",
    "del gdf.columns.name\n",
    "print('Transcripts by gene status and gene type')\n",
    "gdf"
   ]
  },
  {
   "cell_type": "code",
   "execution_count": 14,
   "metadata": {},
   "outputs": [
    {
     "name": "stdout",
     "output_type": "stream",
     "text": [
      "Transcripts and CDS presence (includes novel isoforms)\n"
     ]
    },
    {
     "data": {
      "text/html": [
       "<div>\n",
       "<style scoped>\n",
       "    .dataframe tbody tr th:only-of-type {\n",
       "        vertical-align: middle;\n",
       "    }\n",
       "\n",
       "    .dataframe tbody tr th {\n",
       "        vertical-align: top;\n",
       "    }\n",
       "\n",
       "    .dataframe thead th {\n",
       "        text-align: right;\n",
       "    }\n",
       "</style>\n",
       "<table border=\"1\" class=\"dataframe\">\n",
       "  <thead>\n",
       "    <tr style=\"text-align: right;\">\n",
       "      <th></th>\n",
       "      <th>No CDS</th>\n",
       "      <th>With CDS</th>\n",
       "      <th>All</th>\n",
       "    </tr>\n",
       "  </thead>\n",
       "  <tbody>\n",
       "    <tr>\n",
       "      <th>Known</th>\n",
       "      <td>77053</td>\n",
       "      <td>130057</td>\n",
       "      <td>207110</td>\n",
       "    </tr>\n",
       "    <tr>\n",
       "      <th>Novel</th>\n",
       "      <td>115311</td>\n",
       "      <td>1406</td>\n",
       "      <td>116717</td>\n",
       "    </tr>\n",
       "    <tr>\n",
       "      <th>All</th>\n",
       "      <td>192364</td>\n",
       "      <td>131463</td>\n",
       "      <td>323827</td>\n",
       "    </tr>\n",
       "  </tbody>\n",
       "</table>\n",
       "</div>"
      ],
      "text/plain": [
       "       No CDS  With CDS     All\n",
       "Known   77053    130057  207110\n",
       "Novel  115311      1406  116717\n",
       "All    192364    131463  323827"
      ]
     },
     "execution_count": 14,
     "metadata": {},
     "output_type": "execute_result"
    }
   ],
   "source": [
    "cdk=pd.crosstab(tdf['tnovel'],tdf['tcoding'], margins=True)\n",
    "#del cdk.index.name\n",
    "#del cdk.columns.name\n",
    "cdk.index = ['Known','Novel', 'All']\n",
    "cdk.columns=['No CDS', 'With CDS', 'All']\n",
    "print(\"Transcripts and CDS presence (includes novel isoforms)\")\n",
    "cdk"
   ]
  },
  {
   "cell_type": "code",
   "execution_count": 6,
   "metadata": {
    "scrolled": true
   },
   "outputs": [
    {
     "name": "stdout",
     "output_type": "stream",
     "text": [
      "Transcripts in novel genes\n"
     ]
    },
    {
     "data": {
      "text/html": [
       "<div>\n",
       "<style scoped>\n",
       "    .dataframe tbody tr th:only-of-type {\n",
       "        vertical-align: middle;\n",
       "    }\n",
       "\n",
       "    .dataframe tbody tr th {\n",
       "        vertical-align: top;\n",
       "    }\n",
       "\n",
       "    .dataframe thead th {\n",
       "        text-align: right;\n",
       "    }\n",
       "</style>\n",
       "<table border=\"1\" class=\"dataframe\">\n",
       "  <thead>\n",
       "    <tr style=\"text-align: right;\">\n",
       "      <th>tcoding</th>\n",
       "      <th>False</th>\n",
       "      <th>True</th>\n",
       "      <th>All</th>\n",
       "    </tr>\n",
       "    <tr>\n",
       "      <th>gnovel</th>\n",
       "      <th></th>\n",
       "      <th></th>\n",
       "      <th></th>\n",
       "    </tr>\n",
       "  </thead>\n",
       "  <tbody>\n",
       "    <tr>\n",
       "      <th>False</th>\n",
       "      <td>187658</td>\n",
       "      <td>130057</td>\n",
       "      <td>317715</td>\n",
       "    </tr>\n",
       "    <tr>\n",
       "      <th>True</th>\n",
       "      <td>4706</td>\n",
       "      <td>1406</td>\n",
       "      <td>6112</td>\n",
       "    </tr>\n",
       "    <tr>\n",
       "      <th>All</th>\n",
       "      <td>192364</td>\n",
       "      <td>131463</td>\n",
       "      <td>323827</td>\n",
       "    </tr>\n",
       "  </tbody>\n",
       "</table>\n",
       "</div>"
      ],
      "text/plain": [
       "tcoding   False    True     All\n",
       "gnovel                         \n",
       "False    187658  130057  317715\n",
       "True       4706    1406    6112\n",
       "All      192364  131463  323827"
      ]
     },
     "execution_count": 6,
     "metadata": {},
     "output_type": "execute_result"
    }
   ],
   "source": [
    "cdg=pd.crosstab(tdf['gnovel'],tdf['tcoding'], margins=True)\n",
    "#cdg.index = ['In known genes','In novel genes', 'All']\n",
    "#cdg.columns=['No CDS', 'With CDS', 'All']\n",
    "print(\"Transcripts in novel genes\")\n",
    "cdg"
   ]
  },
  {
   "cell_type": "code",
   "execution_count": 7,
   "metadata": {},
   "outputs": [],
   "source": [
    "def plotCH(df, column, gtitle, xlabel, ylabel='transcripts'):\n",
    "    hist_freqs, bins = np.histogram(a=df[column], bins=20)\n",
    "    hist_freqs=np.flip(hist_freqs)\n",
    "    hist_cfreqs=np.cumsum(hist_freqs)\n",
    "    hist_cfreqs=np.flip(hist_cfreqs)\n",
    "    data=[ go.Bar(x=bins[1:], y=hist_cfreqs[1:], text=hist_cfreqs[1:], textposition='outside') ]\n",
    "    layout=go.Layout(title=str(df.shape[0])+gtitle, \n",
    "                 xaxis=dict(tick0=0, dtick=5, title=xlabel, \n",
    "                            tickangle=-45), yaxis=dict(title=ylabel))\n",
    "    fig=go.Figure(data=data, layout=layout)\n",
    "    py.iplot(fig, filename='bar chart')"
   ]
  },
  {
   "cell_type": "code",
   "execution_count": 8,
   "metadata": {},
   "outputs": [
    {
     "data": {
      "application/vnd.plotly.v1+json": {
       "data": [
        {
         "text": [
          "67108",
          "50128",
          "39546",
          "32078",
          "26476",
          "21929",
          "18286",
          "15179",
          "12634",
          "10401",
          "8558",
          "6958",
          "5609",
          "4495",
          "3498",
          "2752",
          "2030",
          "1521",
          "1055"
         ],
         "textposition": "outside",
         "type": "bar",
         "uid": "3a3a7c4a-a49a-11e8-9c2d-782bcba4e79e",
         "x": [
          5,
          10,
          15,
          20,
          25,
          30,
          35,
          40,
          45,
          50,
          55,
          60,
          65,
          70,
          75,
          80,
          85,
          90,
          95,
          100
         ],
         "y": [
          67108,
          50128,
          39546,
          32078,
          26476,
          21929,
          18286,
          15179,
          12634,
          10401,
          8558,
          6958,
          5609,
          4495,
          3498,
          2752,
          2030,
          1521,
          1055
         ]
        }
       ],
       "layout": {
        "title": "116717 novel transcripts - repeat content",
        "xaxis": {
         "dtick": 5,
         "tick0": 0,
         "tickangle": -45,
         "title": "Min. % exon coverage by repeats"
        },
        "yaxis": {
         "title": "transcripts"
        }
       }
      },
      "text/html": [
       "<div id=\"673f0e31-98b6-41d4-9353-32372448624f\" style=\"height: 525px; width: 100%;\" class=\"plotly-graph-div\"></div><script type=\"text/javascript\">require([\"plotly\"], function(Plotly) { window.PLOTLYENV=window.PLOTLYENV || {};window.PLOTLYENV.BASE_URL=\"https://plot.ly\";\n",
       "        Plotly.plot(\n",
       "            '673f0e31-98b6-41d4-9353-32372448624f',\n",
       "            [{\"text\": [\"67108\", \"50128\", \"39546\", \"32078\", \"26476\", \"21929\", \"18286\", \"15179\", \"12634\", \"10401\", \"8558\", \"6958\", \"5609\", \"4495\", \"3498\", \"2752\", \"2030\", \"1521\", \"1055\"], \"textposition\": \"outside\", \"x\": [5.0, 10.0, 15.0, 20.0, 25.0, 30.0, 35.0, 40.0, 45.0, 50.0, 55.0, 60.0, 65.0, 70.0, 75.0, 80.0, 85.0, 90.0, 95.0, 100.0], \"y\": [67108.0, 50128.0, 39546.0, 32078.0, 26476.0, 21929.0, 18286.0, 15179.0, 12634.0, 10401.0, 8558.0, 6958.0, 5609.0, 4495.0, 3498.0, 2752.0, 2030.0, 1521.0, 1055.0], \"type\": \"bar\", \"uid\": \"3a3a7c4a-a49a-11e8-9c2d-782bcba4e79e\"}],\n",
       "            {\"title\": \"116717 novel transcripts - repeat content\", \"xaxis\": {\"dtick\": 5, \"tick0\": 0, \"tickangle\": -45, \"title\": \"Min. % exon coverage by repeats\"}, \"yaxis\": {\"title\": \"transcripts\"}},\n",
       "            {\"showLink\": true, \"linkText\": \"Export to plot.ly\"}\n",
       "        ).then(function () {return Plotly.addFrames('673f0e31-98b6-41d4-9353-32372448624f',{});}).then(function(){Plotly.animate('673f0e31-98b6-41d4-9353-32372448624f');})\n",
       "        });</script>"
      ],
      "text/vnd.plotly.v1+html": [
       "<div id=\"673f0e31-98b6-41d4-9353-32372448624f\" style=\"height: 525px; width: 100%;\" class=\"plotly-graph-div\"></div><script type=\"text/javascript\">require([\"plotly\"], function(Plotly) { window.PLOTLYENV=window.PLOTLYENV || {};window.PLOTLYENV.BASE_URL=\"https://plot.ly\";\n",
       "        Plotly.plot(\n",
       "            '673f0e31-98b6-41d4-9353-32372448624f',\n",
       "            [{\"text\": [\"67108\", \"50128\", \"39546\", \"32078\", \"26476\", \"21929\", \"18286\", \"15179\", \"12634\", \"10401\", \"8558\", \"6958\", \"5609\", \"4495\", \"3498\", \"2752\", \"2030\", \"1521\", \"1055\"], \"textposition\": \"outside\", \"x\": [5.0, 10.0, 15.0, 20.0, 25.0, 30.0, 35.0, 40.0, 45.0, 50.0, 55.0, 60.0, 65.0, 70.0, 75.0, 80.0, 85.0, 90.0, 95.0, 100.0], \"y\": [67108.0, 50128.0, 39546.0, 32078.0, 26476.0, 21929.0, 18286.0, 15179.0, 12634.0, 10401.0, 8558.0, 6958.0, 5609.0, 4495.0, 3498.0, 2752.0, 2030.0, 1521.0, 1055.0], \"type\": \"bar\", \"uid\": \"3a3a7c4a-a49a-11e8-9c2d-782bcba4e79e\"}],\n",
       "            {\"title\": \"116717 novel transcripts - repeat content\", \"xaxis\": {\"dtick\": 5, \"tick0\": 0, \"tickangle\": -45, \"title\": \"Min. % exon coverage by repeats\"}, \"yaxis\": {\"title\": \"transcripts\"}},\n",
       "            {\"showLink\": true, \"linkText\": \"Export to plot.ly\"}\n",
       "        ).then(function () {return Plotly.addFrames('673f0e31-98b6-41d4-9353-32372448624f',{});}).then(function(){Plotly.animate('673f0e31-98b6-41d4-9353-32372448624f');})\n",
       "        });</script>"
      ]
     },
     "metadata": {},
     "output_type": "display_data"
    }
   ],
   "source": [
    "ndf=tdf[(tdf['tnovel'].eq(True))]\n",
    "plotCH(ndf, 'excov', ' novel transcripts - repeat content', \n",
    "                 'Min. % exon coverage by repeats')"
   ]
  },
  {
   "cell_type": "code",
   "execution_count": 19,
   "metadata": {
    "scrolled": false
   },
   "outputs": [
    {
     "data": {
      "application/vnd.plotly.v1+json": {
       "data": [
        {
         "text": [
          "1378",
          "1363",
          "1342",
          "1321",
          "1286",
          "1244",
          "1175",
          "1121",
          "1060",
          "997",
          "919",
          "835",
          "733",
          "636",
          "550",
          "475",
          "384",
          "309",
          "238"
         ],
         "textposition": "outside",
         "type": "bar",
         "uid": "8f1f8cf8-a49c-11e8-9c2d-782bcba4e79e",
         "x": [
          5,
          10,
          15,
          20,
          25,
          30,
          35,
          40,
          45,
          50,
          55,
          60,
          65,
          70,
          75,
          80,
          85,
          90,
          95,
          100
         ],
         "y": [
          1378,
          1363,
          1342,
          1321,
          1286,
          1244,
          1175,
          1121,
          1060,
          997,
          919,
          835,
          733,
          636,
          550,
          475,
          384,
          309,
          238
         ]
        }
       ],
       "layout": {
        "title": "1406 coding transcripts in novel genes",
        "xaxis": {
         "dtick": 5,
         "tick0": 0,
         "tickangle": -45,
         "title": "Min. % exon coverage by repeats"
        },
        "yaxis": {
         "title": "transcripts"
        }
       }
      },
      "text/html": [
       "<div id=\"59143fc7-c3eb-49b2-b73b-ec90af24118f\" style=\"height: 525px; width: 100%;\" class=\"plotly-graph-div\"></div><script type=\"text/javascript\">require([\"plotly\"], function(Plotly) { window.PLOTLYENV=window.PLOTLYENV || {};window.PLOTLYENV.BASE_URL=\"https://plot.ly\";\n",
       "        Plotly.plot(\n",
       "            '59143fc7-c3eb-49b2-b73b-ec90af24118f',\n",
       "            [{\"text\": [\"1378\", \"1363\", \"1342\", \"1321\", \"1286\", \"1244\", \"1175\", \"1121\", \"1060\", \"997\", \"919\", \"835\", \"733\", \"636\", \"550\", \"475\", \"384\", \"309\", \"238\"], \"textposition\": \"outside\", \"x\": [5.0, 10.0, 15.0, 20.0, 25.0, 30.0, 35.0, 40.0, 45.0, 50.0, 55.0, 60.0, 65.0, 70.0, 75.0, 80.0, 85.0, 90.0, 95.0, 100.0], \"y\": [1378.0, 1363.0, 1342.0, 1321.0, 1286.0, 1244.0, 1175.0, 1121.0, 1060.0, 997.0, 919.0, 835.0, 733.0, 636.0, 550.0, 475.0, 384.0, 309.0, 238.0], \"type\": \"bar\", \"uid\": \"8f1f8cf8-a49c-11e8-9c2d-782bcba4e79e\"}],\n",
       "            {\"title\": \"1406 coding transcripts in novel genes\", \"xaxis\": {\"dtick\": 5, \"tick0\": 0, \"tickangle\": -45, \"title\": \"Min. % exon coverage by repeats\"}, \"yaxis\": {\"title\": \"transcripts\"}},\n",
       "            {\"showLink\": true, \"linkText\": \"Export to plot.ly\"}\n",
       "        ).then(function () {return Plotly.addFrames('59143fc7-c3eb-49b2-b73b-ec90af24118f',{});}).then(function(){Plotly.animate('59143fc7-c3eb-49b2-b73b-ec90af24118f');})\n",
       "        });</script>"
      ],
      "text/vnd.plotly.v1+html": [
       "<div id=\"59143fc7-c3eb-49b2-b73b-ec90af24118f\" style=\"height: 525px; width: 100%;\" class=\"plotly-graph-div\"></div><script type=\"text/javascript\">require([\"plotly\"], function(Plotly) { window.PLOTLYENV=window.PLOTLYENV || {};window.PLOTLYENV.BASE_URL=\"https://plot.ly\";\n",
       "        Plotly.plot(\n",
       "            '59143fc7-c3eb-49b2-b73b-ec90af24118f',\n",
       "            [{\"text\": [\"1378\", \"1363\", \"1342\", \"1321\", \"1286\", \"1244\", \"1175\", \"1121\", \"1060\", \"997\", \"919\", \"835\", \"733\", \"636\", \"550\", \"475\", \"384\", \"309\", \"238\"], \"textposition\": \"outside\", \"x\": [5.0, 10.0, 15.0, 20.0, 25.0, 30.0, 35.0, 40.0, 45.0, 50.0, 55.0, 60.0, 65.0, 70.0, 75.0, 80.0, 85.0, 90.0, 95.0, 100.0], \"y\": [1378.0, 1363.0, 1342.0, 1321.0, 1286.0, 1244.0, 1175.0, 1121.0, 1060.0, 997.0, 919.0, 835.0, 733.0, 636.0, 550.0, 475.0, 384.0, 309.0, 238.0], \"type\": \"bar\", \"uid\": \"8f1f8cf8-a49c-11e8-9c2d-782bcba4e79e\"}],\n",
       "            {\"title\": \"1406 coding transcripts in novel genes\", \"xaxis\": {\"dtick\": 5, \"tick0\": 0, \"tickangle\": -45, \"title\": \"Min. % exon coverage by repeats\"}, \"yaxis\": {\"title\": \"transcripts\"}},\n",
       "            {\"showLink\": true, \"linkText\": \"Export to plot.ly\"}\n",
       "        ).then(function () {return Plotly.addFrames('59143fc7-c3eb-49b2-b73b-ec90af24118f',{});}).then(function(){Plotly.animate('59143fc7-c3eb-49b2-b73b-ec90af24118f');})\n",
       "        });</script>"
      ]
     },
     "metadata": {},
     "output_type": "display_data"
    },
    {
     "data": {
      "application/vnd.plotly.v1+json": {
       "data": [
        {
         "text": [
          "1019",
          "929",
          "812",
          "694",
          "590",
          "488",
          "395",
          "334",
          "265",
          "205",
          "149",
          "111",
          "89",
          "62",
          "44",
          "35",
          "23",
          "13",
          "8"
         ],
         "textposition": "outside",
         "type": "bar",
         "uid": "8f263d96-a49c-11e8-9c2d-782bcba4e79e",
         "x": [
          5,
          10,
          15,
          20,
          25,
          30,
          35,
          40,
          45,
          50,
          55,
          60,
          65,
          70,
          75,
          80,
          85,
          90,
          95,
          100
         ],
         "y": [
          1019,
          929,
          812,
          694,
          590,
          488,
          395,
          334,
          265,
          205,
          149,
          111,
          89,
          62,
          44,
          35,
          23,
          13,
          8
         ]
        }
       ],
       "layout": {
        "title": "1406 coding transcripts in novel genes - Alu content",
        "xaxis": {
         "dtick": 5,
         "tick0": 0,
         "tickangle": -45,
         "title": "Min. % exon coverage by Alu repeats"
        },
        "yaxis": {
         "title": "transcripts"
        }
       }
      },
      "text/html": [
       "<div id=\"cbdef474-7573-49ae-a90b-3c73e593d592\" style=\"height: 525px; width: 100%;\" class=\"plotly-graph-div\"></div><script type=\"text/javascript\">require([\"plotly\"], function(Plotly) { window.PLOTLYENV=window.PLOTLYENV || {};window.PLOTLYENV.BASE_URL=\"https://plot.ly\";\n",
       "        Plotly.plot(\n",
       "            'cbdef474-7573-49ae-a90b-3c73e593d592',\n",
       "            [{\"text\": [\"1019\", \"929\", \"812\", \"694\", \"590\", \"488\", \"395\", \"334\", \"265\", \"205\", \"149\", \"111\", \"89\", \"62\", \"44\", \"35\", \"23\", \"13\", \"8\"], \"textposition\": \"outside\", \"x\": [5.0, 10.0, 15.0, 20.0, 25.0, 30.0, 35.0, 40.0, 45.0, 50.0, 55.0, 60.0, 65.0, 70.0, 75.0, 80.0, 85.0, 90.0, 95.0, 100.0], \"y\": [1019.0, 929.0, 812.0, 694.0, 590.0, 488.0, 395.0, 334.0, 265.0, 205.0, 149.0, 111.0, 89.0, 62.0, 44.0, 35.0, 23.0, 13.0, 8.0], \"type\": \"bar\", \"uid\": \"8f263d96-a49c-11e8-9c2d-782bcba4e79e\"}],\n",
       "            {\"title\": \"1406 coding transcripts in novel genes - Alu content\", \"xaxis\": {\"dtick\": 5, \"tick0\": 0, \"tickangle\": -45, \"title\": \"Min. % exon coverage by Alu repeats\"}, \"yaxis\": {\"title\": \"transcripts\"}},\n",
       "            {\"showLink\": true, \"linkText\": \"Export to plot.ly\"}\n",
       "        ).then(function () {return Plotly.addFrames('cbdef474-7573-49ae-a90b-3c73e593d592',{});}).then(function(){Plotly.animate('cbdef474-7573-49ae-a90b-3c73e593d592');})\n",
       "        });</script>"
      ],
      "text/vnd.plotly.v1+html": [
       "<div id=\"cbdef474-7573-49ae-a90b-3c73e593d592\" style=\"height: 525px; width: 100%;\" class=\"plotly-graph-div\"></div><script type=\"text/javascript\">require([\"plotly\"], function(Plotly) { window.PLOTLYENV=window.PLOTLYENV || {};window.PLOTLYENV.BASE_URL=\"https://plot.ly\";\n",
       "        Plotly.plot(\n",
       "            'cbdef474-7573-49ae-a90b-3c73e593d592',\n",
       "            [{\"text\": [\"1019\", \"929\", \"812\", \"694\", \"590\", \"488\", \"395\", \"334\", \"265\", \"205\", \"149\", \"111\", \"89\", \"62\", \"44\", \"35\", \"23\", \"13\", \"8\"], \"textposition\": \"outside\", \"x\": [5.0, 10.0, 15.0, 20.0, 25.0, 30.0, 35.0, 40.0, 45.0, 50.0, 55.0, 60.0, 65.0, 70.0, 75.0, 80.0, 85.0, 90.0, 95.0, 100.0], \"y\": [1019.0, 929.0, 812.0, 694.0, 590.0, 488.0, 395.0, 334.0, 265.0, 205.0, 149.0, 111.0, 89.0, 62.0, 44.0, 35.0, 23.0, 13.0, 8.0], \"type\": \"bar\", \"uid\": \"8f263d96-a49c-11e8-9c2d-782bcba4e79e\"}],\n",
       "            {\"title\": \"1406 coding transcripts in novel genes - Alu content\", \"xaxis\": {\"dtick\": 5, \"tick0\": 0, \"tickangle\": -45, \"title\": \"Min. % exon coverage by Alu repeats\"}, \"yaxis\": {\"title\": \"transcripts\"}},\n",
       "            {\"showLink\": true, \"linkText\": \"Export to plot.ly\"}\n",
       "        ).then(function () {return Plotly.addFrames('cbdef474-7573-49ae-a90b-3c73e593d592',{});}).then(function(){Plotly.animate('cbdef474-7573-49ae-a90b-3c73e593d592');})\n",
       "        });</script>"
      ]
     },
     "metadata": {},
     "output_type": "display_data"
    },
    {
     "data": {
      "application/vnd.plotly.v1+json": {
       "data": [
        {
         "text": [
          "1111",
          "1078",
          "1019",
          "938",
          "845",
          "741",
          "631",
          "559",
          "483",
          "405",
          "327",
          "258",
          "203",
          "153",
          "115",
          "82",
          "54",
          "35",
          "20"
         ],
         "textposition": "outside",
         "type": "bar",
         "uid": "8f2cedb2-a49c-11e8-9c2d-782bcba4e79e",
         "x": [
          5,
          10,
          15,
          20,
          25,
          30,
          35,
          40,
          45,
          50,
          55,
          60,
          65,
          70,
          75,
          80,
          85,
          90,
          95,
          100
         ],
         "y": [
          1111,
          1078,
          1019,
          938,
          845,
          741,
          631,
          559,
          483,
          405,
          327,
          258,
          203,
          153,
          115,
          82,
          54,
          35,
          20
         ]
        }
       ],
       "layout": {
        "title": "1406 coding transcripts in novel genes - LINE/SINE",
        "xaxis": {
         "dtick": 5,
         "tick0": 0,
         "tickangle": -45,
         "title": "Min. % exon coverage by SINE/LINE"
        },
        "yaxis": {
         "title": "transcripts"
        }
       }
      },
      "text/html": [
       "<div id=\"d15636d0-f8f0-44cb-b940-23f10171e601\" style=\"height: 525px; width: 100%;\" class=\"plotly-graph-div\"></div><script type=\"text/javascript\">require([\"plotly\"], function(Plotly) { window.PLOTLYENV=window.PLOTLYENV || {};window.PLOTLYENV.BASE_URL=\"https://plot.ly\";\n",
       "        Plotly.plot(\n",
       "            'd15636d0-f8f0-44cb-b940-23f10171e601',\n",
       "            [{\"text\": [\"1111\", \"1078\", \"1019\", \"938\", \"845\", \"741\", \"631\", \"559\", \"483\", \"405\", \"327\", \"258\", \"203\", \"153\", \"115\", \"82\", \"54\", \"35\", \"20\"], \"textposition\": \"outside\", \"x\": [5.0, 10.0, 15.0, 20.0, 25.0, 30.0, 35.0, 40.0, 45.0, 50.0, 55.0, 60.0, 65.0, 70.0, 75.0, 80.0, 85.0, 90.0, 95.0, 100.0], \"y\": [1111.0, 1078.0, 1019.0, 938.0, 845.0, 741.0, 631.0, 559.0, 483.0, 405.0, 327.0, 258.0, 203.0, 153.0, 115.0, 82.0, 54.0, 35.0, 20.0], \"type\": \"bar\", \"uid\": \"8f2cedb2-a49c-11e8-9c2d-782bcba4e79e\"}],\n",
       "            {\"title\": \"1406 coding transcripts in novel genes - LINE/SINE\", \"xaxis\": {\"dtick\": 5, \"tick0\": 0, \"tickangle\": -45, \"title\": \"Min. % exon coverage by SINE/LINE\"}, \"yaxis\": {\"title\": \"transcripts\"}},\n",
       "            {\"showLink\": true, \"linkText\": \"Export to plot.ly\"}\n",
       "        ).then(function () {return Plotly.addFrames('d15636d0-f8f0-44cb-b940-23f10171e601',{});}).then(function(){Plotly.animate('d15636d0-f8f0-44cb-b940-23f10171e601');})\n",
       "        });</script>"
      ],
      "text/vnd.plotly.v1+html": [
       "<div id=\"d15636d0-f8f0-44cb-b940-23f10171e601\" style=\"height: 525px; width: 100%;\" class=\"plotly-graph-div\"></div><script type=\"text/javascript\">require([\"plotly\"], function(Plotly) { window.PLOTLYENV=window.PLOTLYENV || {};window.PLOTLYENV.BASE_URL=\"https://plot.ly\";\n",
       "        Plotly.plot(\n",
       "            'd15636d0-f8f0-44cb-b940-23f10171e601',\n",
       "            [{\"text\": [\"1111\", \"1078\", \"1019\", \"938\", \"845\", \"741\", \"631\", \"559\", \"483\", \"405\", \"327\", \"258\", \"203\", \"153\", \"115\", \"82\", \"54\", \"35\", \"20\"], \"textposition\": \"outside\", \"x\": [5.0, 10.0, 15.0, 20.0, 25.0, 30.0, 35.0, 40.0, 45.0, 50.0, 55.0, 60.0, 65.0, 70.0, 75.0, 80.0, 85.0, 90.0, 95.0, 100.0], \"y\": [1111.0, 1078.0, 1019.0, 938.0, 845.0, 741.0, 631.0, 559.0, 483.0, 405.0, 327.0, 258.0, 203.0, 153.0, 115.0, 82.0, 54.0, 35.0, 20.0], \"type\": \"bar\", \"uid\": \"8f2cedb2-a49c-11e8-9c2d-782bcba4e79e\"}],\n",
       "            {\"title\": \"1406 coding transcripts in novel genes - LINE/SINE\", \"xaxis\": {\"dtick\": 5, \"tick0\": 0, \"tickangle\": -45, \"title\": \"Min. % exon coverage by SINE/LINE\"}, \"yaxis\": {\"title\": \"transcripts\"}},\n",
       "            {\"showLink\": true, \"linkText\": \"Export to plot.ly\"}\n",
       "        ).then(function () {return Plotly.addFrames('d15636d0-f8f0-44cb-b940-23f10171e601',{});}).then(function(){Plotly.animate('d15636d0-f8f0-44cb-b940-23f10171e601');})\n",
       "        });</script>"
      ]
     },
     "metadata": {},
     "output_type": "display_data"
    },
    {
     "data": {
      "application/vnd.plotly.v1+json": {
       "data": [
        {
         "text": [
          "1288",
          "1274",
          "1261",
          "1248",
          "1239",
          "1230",
          "1224",
          "1217",
          "1200",
          "1181",
          "1157",
          "1130",
          "1089",
          "1037",
          "986",
          "910",
          "844",
          "747",
          "633"
         ],
         "textposition": "outside",
         "type": "bar",
         "uid": "8f333370-a49c-11e8-9c2d-782bcba4e79e",
         "x": [
          5,
          10,
          15,
          20,
          25,
          30,
          35,
          40,
          45,
          50,
          55,
          60,
          65,
          70,
          75,
          80,
          85,
          90,
          95,
          100
         ],
         "y": [
          1288,
          1274,
          1261,
          1248,
          1239,
          1230,
          1224,
          1217,
          1200,
          1181,
          1157,
          1130,
          1089,
          1037,
          986,
          910,
          844,
          747,
          633
         ]
        }
       ],
       "layout": {
        "title": "1406 coding transcripts in novel genes",
        "xaxis": {
         "dtick": 5,
         "tick0": 0,
         "tickangle": -45,
         "title": "Min. % CDS coverage by repeats"
        },
        "yaxis": {
         "title": "transcripts"
        }
       }
      },
      "text/html": [
       "<div id=\"f185256a-1f8e-4cda-9617-ff5810902052\" style=\"height: 525px; width: 100%;\" class=\"plotly-graph-div\"></div><script type=\"text/javascript\">require([\"plotly\"], function(Plotly) { window.PLOTLYENV=window.PLOTLYENV || {};window.PLOTLYENV.BASE_URL=\"https://plot.ly\";\n",
       "        Plotly.plot(\n",
       "            'f185256a-1f8e-4cda-9617-ff5810902052',\n",
       "            [{\"text\": [\"1288\", \"1274\", \"1261\", \"1248\", \"1239\", \"1230\", \"1224\", \"1217\", \"1200\", \"1181\", \"1157\", \"1130\", \"1089\", \"1037\", \"986\", \"910\", \"844\", \"747\", \"633\"], \"textposition\": \"outside\", \"x\": [5.0, 10.0, 15.0, 20.0, 25.0, 30.0, 35.0, 40.0, 45.0, 50.0, 55.0, 60.0, 65.0, 70.0, 75.0, 80.0, 85.0, 90.0, 95.0, 100.0], \"y\": [1288.0, 1274.0, 1261.0, 1248.0, 1239.0, 1230.0, 1224.0, 1217.0, 1200.0, 1181.0, 1157.0, 1130.0, 1089.0, 1037.0, 986.0, 910.0, 844.0, 747.0, 633.0], \"type\": \"bar\", \"uid\": \"8f333370-a49c-11e8-9c2d-782bcba4e79e\"}],\n",
       "            {\"title\": \"1406 coding transcripts in novel genes\", \"xaxis\": {\"dtick\": 5, \"tick0\": 0, \"tickangle\": -45, \"title\": \"Min. % CDS coverage by repeats\"}, \"yaxis\": {\"title\": \"transcripts\"}},\n",
       "            {\"showLink\": true, \"linkText\": \"Export to plot.ly\"}\n",
       "        ).then(function () {return Plotly.addFrames('f185256a-1f8e-4cda-9617-ff5810902052',{});}).then(function(){Plotly.animate('f185256a-1f8e-4cda-9617-ff5810902052');})\n",
       "        });</script>"
      ],
      "text/vnd.plotly.v1+html": [
       "<div id=\"f185256a-1f8e-4cda-9617-ff5810902052\" style=\"height: 525px; width: 100%;\" class=\"plotly-graph-div\"></div><script type=\"text/javascript\">require([\"plotly\"], function(Plotly) { window.PLOTLYENV=window.PLOTLYENV || {};window.PLOTLYENV.BASE_URL=\"https://plot.ly\";\n",
       "        Plotly.plot(\n",
       "            'f185256a-1f8e-4cda-9617-ff5810902052',\n",
       "            [{\"text\": [\"1288\", \"1274\", \"1261\", \"1248\", \"1239\", \"1230\", \"1224\", \"1217\", \"1200\", \"1181\", \"1157\", \"1130\", \"1089\", \"1037\", \"986\", \"910\", \"844\", \"747\", \"633\"], \"textposition\": \"outside\", \"x\": [5.0, 10.0, 15.0, 20.0, 25.0, 30.0, 35.0, 40.0, 45.0, 50.0, 55.0, 60.0, 65.0, 70.0, 75.0, 80.0, 85.0, 90.0, 95.0, 100.0], \"y\": [1288.0, 1274.0, 1261.0, 1248.0, 1239.0, 1230.0, 1224.0, 1217.0, 1200.0, 1181.0, 1157.0, 1130.0, 1089.0, 1037.0, 986.0, 910.0, 844.0, 747.0, 633.0], \"type\": \"bar\", \"uid\": \"8f333370-a49c-11e8-9c2d-782bcba4e79e\"}],\n",
       "            {\"title\": \"1406 coding transcripts in novel genes\", \"xaxis\": {\"dtick\": 5, \"tick0\": 0, \"tickangle\": -45, \"title\": \"Min. % CDS coverage by repeats\"}, \"yaxis\": {\"title\": \"transcripts\"}},\n",
       "            {\"showLink\": true, \"linkText\": \"Export to plot.ly\"}\n",
       "        ).then(function () {return Plotly.addFrames('f185256a-1f8e-4cda-9617-ff5810902052',{});}).then(function(){Plotly.animate('f185256a-1f8e-4cda-9617-ff5810902052');})\n",
       "        });</script>"
      ]
     },
     "metadata": {},
     "output_type": "display_data"
    },
    {
     "data": {
      "application/vnd.plotly.v1+json": {
       "data": [
        {
         "text": [
          "871",
          "863",
          "863",
          "862",
          "860",
          "854",
          "850",
          "842",
          "821",
          "801",
          "770",
          "730",
          "685",
          "621",
          "564",
          "475",
          "399",
          "314",
          "213"
         ],
         "textposition": "outside",
         "type": "bar",
         "uid": "8f3996fc-a49c-11e8-9c2d-782bcba4e79e",
         "x": [
          5,
          10,
          15,
          20,
          25,
          30,
          35,
          40,
          45,
          50,
          55,
          60,
          65,
          70,
          75,
          80,
          85,
          90,
          95,
          100
         ],
         "y": [
          871,
          863,
          863,
          862,
          860,
          854,
          850,
          842,
          821,
          801,
          770,
          730,
          685,
          621,
          564,
          475,
          399,
          314,
          213
         ]
        }
       ],
       "layout": {
        "title": "1406 coding transcripts in novel genes - Alu content",
        "xaxis": {
         "dtick": 5,
         "tick0": 0,
         "tickangle": -45,
         "title": "Min. % CDS coverage by Alu repeats"
        },
        "yaxis": {
         "title": "transcripts"
        }
       }
      },
      "text/html": [
       "<div id=\"3fb3a443-b31c-42ac-9bc0-d66e40b64c32\" style=\"height: 525px; width: 100%;\" class=\"plotly-graph-div\"></div><script type=\"text/javascript\">require([\"plotly\"], function(Plotly) { window.PLOTLYENV=window.PLOTLYENV || {};window.PLOTLYENV.BASE_URL=\"https://plot.ly\";\n",
       "        Plotly.plot(\n",
       "            '3fb3a443-b31c-42ac-9bc0-d66e40b64c32',\n",
       "            [{\"text\": [\"871\", \"863\", \"863\", \"862\", \"860\", \"854\", \"850\", \"842\", \"821\", \"801\", \"770\", \"730\", \"685\", \"621\", \"564\", \"475\", \"399\", \"314\", \"213\"], \"textposition\": \"outside\", \"x\": [5.0, 10.0, 15.0, 20.0, 25.0, 30.0, 35.0, 40.0, 45.0, 50.0, 55.0, 60.0, 65.0, 70.0, 75.0, 80.0, 85.0, 90.0, 95.0, 100.0], \"y\": [871.0, 863.0, 863.0, 862.0, 860.0, 854.0, 850.0, 842.0, 821.0, 801.0, 770.0, 730.0, 685.0, 621.0, 564.0, 475.0, 399.0, 314.0, 213.0], \"type\": \"bar\", \"uid\": \"8f3996fc-a49c-11e8-9c2d-782bcba4e79e\"}],\n",
       "            {\"title\": \"1406 coding transcripts in novel genes - Alu content\", \"xaxis\": {\"dtick\": 5, \"tick0\": 0, \"tickangle\": -45, \"title\": \"Min. % CDS coverage by Alu repeats\"}, \"yaxis\": {\"title\": \"transcripts\"}},\n",
       "            {\"showLink\": true, \"linkText\": \"Export to plot.ly\"}\n",
       "        ).then(function () {return Plotly.addFrames('3fb3a443-b31c-42ac-9bc0-d66e40b64c32',{});}).then(function(){Plotly.animate('3fb3a443-b31c-42ac-9bc0-d66e40b64c32');})\n",
       "        });</script>"
      ],
      "text/vnd.plotly.v1+html": [
       "<div id=\"3fb3a443-b31c-42ac-9bc0-d66e40b64c32\" style=\"height: 525px; width: 100%;\" class=\"plotly-graph-div\"></div><script type=\"text/javascript\">require([\"plotly\"], function(Plotly) { window.PLOTLYENV=window.PLOTLYENV || {};window.PLOTLYENV.BASE_URL=\"https://plot.ly\";\n",
       "        Plotly.plot(\n",
       "            '3fb3a443-b31c-42ac-9bc0-d66e40b64c32',\n",
       "            [{\"text\": [\"871\", \"863\", \"863\", \"862\", \"860\", \"854\", \"850\", \"842\", \"821\", \"801\", \"770\", \"730\", \"685\", \"621\", \"564\", \"475\", \"399\", \"314\", \"213\"], \"textposition\": \"outside\", \"x\": [5.0, 10.0, 15.0, 20.0, 25.0, 30.0, 35.0, 40.0, 45.0, 50.0, 55.0, 60.0, 65.0, 70.0, 75.0, 80.0, 85.0, 90.0, 95.0, 100.0], \"y\": [871.0, 863.0, 863.0, 862.0, 860.0, 854.0, 850.0, 842.0, 821.0, 801.0, 770.0, 730.0, 685.0, 621.0, 564.0, 475.0, 399.0, 314.0, 213.0], \"type\": \"bar\", \"uid\": \"8f3996fc-a49c-11e8-9c2d-782bcba4e79e\"}],\n",
       "            {\"title\": \"1406 coding transcripts in novel genes - Alu content\", \"xaxis\": {\"dtick\": 5, \"tick0\": 0, \"tickangle\": -45, \"title\": \"Min. % CDS coverage by Alu repeats\"}, \"yaxis\": {\"title\": \"transcripts\"}},\n",
       "            {\"showLink\": true, \"linkText\": \"Export to plot.ly\"}\n",
       "        ).then(function () {return Plotly.addFrames('3fb3a443-b31c-42ac-9bc0-d66e40b64c32',{});}).then(function(){Plotly.animate('3fb3a443-b31c-42ac-9bc0-d66e40b64c32');})\n",
       "        });</script>"
      ]
     },
     "metadata": {},
     "output_type": "display_data"
    },
    {
     "data": {
      "application/vnd.plotly.v1+json": {
       "data": [
        {
         "text": [
          "895",
          "884",
          "882",
          "873",
          "870",
          "860",
          "856",
          "848",
          "828",
          "812",
          "780",
          "746",
          "701",
          "640",
          "585",
          "501",
          "426",
          "340",
          "237"
         ],
         "textposition": "outside",
         "type": "bar",
         "uid": "8f401b08-a49c-11e8-9c2d-782bcba4e79e",
         "x": [
          5,
          10,
          15,
          20,
          25,
          30,
          35,
          40,
          45,
          50,
          55,
          60,
          65,
          70,
          75,
          80,
          85,
          90,
          95,
          100
         ],
         "y": [
          895,
          884,
          882,
          873,
          870,
          860,
          856,
          848,
          828,
          812,
          780,
          746,
          701,
          640,
          585,
          501,
          426,
          340,
          237
         ]
        }
       ],
       "layout": {
        "title": "1406 coding transcripts in novel genes - LINE/SINE",
        "xaxis": {
         "dtick": 5,
         "tick0": 0,
         "tickangle": -45,
         "title": "Min. % CDS coverage by SINE/LINE"
        },
        "yaxis": {
         "title": "transcripts"
        }
       }
      },
      "text/html": [
       "<div id=\"3bedab15-0b34-4279-851a-3403f57c53c5\" style=\"height: 525px; width: 100%;\" class=\"plotly-graph-div\"></div><script type=\"text/javascript\">require([\"plotly\"], function(Plotly) { window.PLOTLYENV=window.PLOTLYENV || {};window.PLOTLYENV.BASE_URL=\"https://plot.ly\";\n",
       "        Plotly.plot(\n",
       "            '3bedab15-0b34-4279-851a-3403f57c53c5',\n",
       "            [{\"text\": [\"895\", \"884\", \"882\", \"873\", \"870\", \"860\", \"856\", \"848\", \"828\", \"812\", \"780\", \"746\", \"701\", \"640\", \"585\", \"501\", \"426\", \"340\", \"237\"], \"textposition\": \"outside\", \"x\": [5.0, 10.0, 15.0, 20.0, 25.0, 30.0, 35.0, 40.0, 45.0, 50.0, 55.0, 60.0, 65.0, 70.0, 75.0, 80.0, 85.0, 90.0, 95.0, 100.0], \"y\": [895.0, 884.0, 882.0, 873.0, 870.0, 860.0, 856.0, 848.0, 828.0, 812.0, 780.0, 746.0, 701.0, 640.0, 585.0, 501.0, 426.0, 340.0, 237.0], \"type\": \"bar\", \"uid\": \"8f401b08-a49c-11e8-9c2d-782bcba4e79e\"}],\n",
       "            {\"title\": \"1406 coding transcripts in novel genes - LINE/SINE\", \"xaxis\": {\"dtick\": 5, \"tick0\": 0, \"tickangle\": -45, \"title\": \"Min. % CDS coverage by SINE/LINE\"}, \"yaxis\": {\"title\": \"transcripts\"}},\n",
       "            {\"showLink\": true, \"linkText\": \"Export to plot.ly\"}\n",
       "        ).then(function () {return Plotly.addFrames('3bedab15-0b34-4279-851a-3403f57c53c5',{});}).then(function(){Plotly.animate('3bedab15-0b34-4279-851a-3403f57c53c5');})\n",
       "        });</script>"
      ],
      "text/vnd.plotly.v1+html": [
       "<div id=\"3bedab15-0b34-4279-851a-3403f57c53c5\" style=\"height: 525px; width: 100%;\" class=\"plotly-graph-div\"></div><script type=\"text/javascript\">require([\"plotly\"], function(Plotly) { window.PLOTLYENV=window.PLOTLYENV || {};window.PLOTLYENV.BASE_URL=\"https://plot.ly\";\n",
       "        Plotly.plot(\n",
       "            '3bedab15-0b34-4279-851a-3403f57c53c5',\n",
       "            [{\"text\": [\"895\", \"884\", \"882\", \"873\", \"870\", \"860\", \"856\", \"848\", \"828\", \"812\", \"780\", \"746\", \"701\", \"640\", \"585\", \"501\", \"426\", \"340\", \"237\"], \"textposition\": \"outside\", \"x\": [5.0, 10.0, 15.0, 20.0, 25.0, 30.0, 35.0, 40.0, 45.0, 50.0, 55.0, 60.0, 65.0, 70.0, 75.0, 80.0, 85.0, 90.0, 95.0, 100.0], \"y\": [895.0, 884.0, 882.0, 873.0, 870.0, 860.0, 856.0, 848.0, 828.0, 812.0, 780.0, 746.0, 701.0, 640.0, 585.0, 501.0, 426.0, 340.0, 237.0], \"type\": \"bar\", \"uid\": \"8f401b08-a49c-11e8-9c2d-782bcba4e79e\"}],\n",
       "            {\"title\": \"1406 coding transcripts in novel genes - LINE/SINE\", \"xaxis\": {\"dtick\": 5, \"tick0\": 0, \"tickangle\": -45, \"title\": \"Min. % CDS coverage by SINE/LINE\"}, \"yaxis\": {\"title\": \"transcripts\"}},\n",
       "            {\"showLink\": true, \"linkText\": \"Export to plot.ly\"}\n",
       "        ).then(function () {return Plotly.addFrames('3bedab15-0b34-4279-851a-3403f57c53c5',{});}).then(function(){Plotly.animate('3bedab15-0b34-4279-851a-3403f57c53c5');})\n",
       "        });</script>"
      ]
     },
     "metadata": {},
     "output_type": "display_data"
    }
   ],
   "source": [
    "pdf=ndf[(ndf['tcoding'].eq(True))]\n",
    "pdf=pdf[(pdf['gnovel'].eq(True))]\n",
    "plotCH(pdf, 'excov', ' coding transcripts in novel genes', 'Min. % exon coverage by repeats')\n",
    "plotCH(pdf, 'alu_excov', ' coding transcripts in novel genes - Alu content', 'Min. % exon coverage by Alu repeats')\n",
    "plotCH(pdf, 'sine_excov', ' coding transcripts in novel genes - LINE/SINE', 'Min. % exon coverage by SINE/LINE')\n",
    "plotCH(pdf, 'cdcov', ' coding transcripts in novel genes', 'Min. % CDS coverage by repeats')\n",
    "plotCH(pdf, 'alu_cdcov', ' coding transcripts in novel genes - Alu content', 'Min. % CDS coverage by Alu repeats')\n",
    "plotCH(pdf, 'sine_cdcov', ' coding transcripts in novel genes - LINE/SINE', 'Min. % CDS coverage by SINE/LINE')"
   ]
  },
  {
   "cell_type": "code",
   "execution_count": 21,
   "metadata": {
    "scrolled": false
   },
   "outputs": [
    {
     "data": {
      "application/vnd.plotly.v1+json": {
       "data": [
        {
         "text": [
          "1108",
          "1096",
          "1076",
          "1060",
          "1029",
          "993",
          "936",
          "888",
          "843",
          "795",
          "729",
          "663",
          "576",
          "493",
          "424",
          "369",
          "299",
          "250",
          "196"
         ],
         "textposition": "outside",
         "type": "bar",
         "uid": "d835a468-a49c-11e8-9c2d-782bcba4e79e",
         "x": [
          5,
          10,
          15,
          20,
          25,
          30,
          35,
          40,
          45,
          50,
          55,
          60,
          65,
          70,
          75,
          80,
          85,
          90,
          95,
          100
         ],
         "y": [
          1108,
          1096,
          1076,
          1060,
          1029,
          993,
          936,
          888,
          843,
          795,
          729,
          663,
          576,
          493,
          424,
          369,
          299,
          250,
          196
         ]
        }
       ],
       "layout": {
        "title": "1134 multi-exon coding transcripts in novel genes",
        "xaxis": {
         "dtick": 5,
         "tick0": 0,
         "tickangle": -45,
         "title": "Min. % exon coverage by repeats"
        },
        "yaxis": {
         "title": "transcripts"
        }
       }
      },
      "text/html": [
       "<div id=\"32438a1a-2318-4b00-84ea-1489b7a0ab40\" style=\"height: 525px; width: 100%;\" class=\"plotly-graph-div\"></div><script type=\"text/javascript\">require([\"plotly\"], function(Plotly) { window.PLOTLYENV=window.PLOTLYENV || {};window.PLOTLYENV.BASE_URL=\"https://plot.ly\";\n",
       "        Plotly.plot(\n",
       "            '32438a1a-2318-4b00-84ea-1489b7a0ab40',\n",
       "            [{\"text\": [\"1108\", \"1096\", \"1076\", \"1060\", \"1029\", \"993\", \"936\", \"888\", \"843\", \"795\", \"729\", \"663\", \"576\", \"493\", \"424\", \"369\", \"299\", \"250\", \"196\"], \"textposition\": \"outside\", \"x\": [5.0, 10.0, 15.0, 20.0, 25.0, 30.0, 35.0, 40.0, 45.0, 50.0, 55.0, 60.0, 65.0, 70.0, 75.0, 80.0, 85.0, 90.0, 95.0, 100.0], \"y\": [1108.0, 1096.0, 1076.0, 1060.0, 1029.0, 993.0, 936.0, 888.0, 843.0, 795.0, 729.0, 663.0, 576.0, 493.0, 424.0, 369.0, 299.0, 250.0, 196.0], \"type\": \"bar\", \"uid\": \"d835a468-a49c-11e8-9c2d-782bcba4e79e\"}],\n",
       "            {\"title\": \"1134 multi-exon coding transcripts in novel genes\", \"xaxis\": {\"dtick\": 5, \"tick0\": 0, \"tickangle\": -45, \"title\": \"Min. % exon coverage by repeats\"}, \"yaxis\": {\"title\": \"transcripts\"}},\n",
       "            {\"showLink\": true, \"linkText\": \"Export to plot.ly\"}\n",
       "        ).then(function () {return Plotly.addFrames('32438a1a-2318-4b00-84ea-1489b7a0ab40',{});}).then(function(){Plotly.animate('32438a1a-2318-4b00-84ea-1489b7a0ab40');})\n",
       "        });</script>"
      ],
      "text/vnd.plotly.v1+html": [
       "<div id=\"32438a1a-2318-4b00-84ea-1489b7a0ab40\" style=\"height: 525px; width: 100%;\" class=\"plotly-graph-div\"></div><script type=\"text/javascript\">require([\"plotly\"], function(Plotly) { window.PLOTLYENV=window.PLOTLYENV || {};window.PLOTLYENV.BASE_URL=\"https://plot.ly\";\n",
       "        Plotly.plot(\n",
       "            '32438a1a-2318-4b00-84ea-1489b7a0ab40',\n",
       "            [{\"text\": [\"1108\", \"1096\", \"1076\", \"1060\", \"1029\", \"993\", \"936\", \"888\", \"843\", \"795\", \"729\", \"663\", \"576\", \"493\", \"424\", \"369\", \"299\", \"250\", \"196\"], \"textposition\": \"outside\", \"x\": [5.0, 10.0, 15.0, 20.0, 25.0, 30.0, 35.0, 40.0, 45.0, 50.0, 55.0, 60.0, 65.0, 70.0, 75.0, 80.0, 85.0, 90.0, 95.0, 100.0], \"y\": [1108.0, 1096.0, 1076.0, 1060.0, 1029.0, 993.0, 936.0, 888.0, 843.0, 795.0, 729.0, 663.0, 576.0, 493.0, 424.0, 369.0, 299.0, 250.0, 196.0], \"type\": \"bar\", \"uid\": \"d835a468-a49c-11e8-9c2d-782bcba4e79e\"}],\n",
       "            {\"title\": \"1134 multi-exon coding transcripts in novel genes\", \"xaxis\": {\"dtick\": 5, \"tick0\": 0, \"tickangle\": -45, \"title\": \"Min. % exon coverage by repeats\"}, \"yaxis\": {\"title\": \"transcripts\"}},\n",
       "            {\"showLink\": true, \"linkText\": \"Export to plot.ly\"}\n",
       "        ).then(function () {return Plotly.addFrames('32438a1a-2318-4b00-84ea-1489b7a0ab40',{});}).then(function(){Plotly.animate('32438a1a-2318-4b00-84ea-1489b7a0ab40');})\n",
       "        });</script>"
      ]
     },
     "metadata": {},
     "output_type": "display_data"
    },
    {
     "data": {
      "application/vnd.plotly.v1+json": {
       "data": [
        {
         "text": [
          "1023",
          "1010",
          "1002",
          "991",
          "985",
          "978",
          "974",
          "968",
          "953",
          "937",
          "917",
          "893",
          "860",
          "819",
          "778",
          "722",
          "664",
          "594",
          "511"
         ],
         "textposition": "outside",
         "type": "bar",
         "uid": "d83c3d96-a49c-11e8-9c2d-782bcba4e79e",
         "x": [
          5,
          10,
          15,
          20,
          25,
          30,
          35,
          40,
          45,
          50,
          55,
          60,
          65,
          70,
          75,
          80,
          85,
          90,
          95,
          100
         ],
         "y": [
          1023,
          1010,
          1002,
          991,
          985,
          978,
          974,
          968,
          953,
          937,
          917,
          893,
          860,
          819,
          778,
          722,
          664,
          594,
          511
         ]
        }
       ],
       "layout": {
        "title": "1134 multi-exon coding transcripts in novel genes",
        "xaxis": {
         "dtick": 5,
         "tick0": 0,
         "tickangle": -45,
         "title": "Min. % CDS coverage by repeats"
        },
        "yaxis": {
         "title": "transcripts"
        }
       }
      },
      "text/html": [
       "<div id=\"2b80b989-c50b-42b8-a918-316cdbfb8136\" style=\"height: 525px; width: 100%;\" class=\"plotly-graph-div\"></div><script type=\"text/javascript\">require([\"plotly\"], function(Plotly) { window.PLOTLYENV=window.PLOTLYENV || {};window.PLOTLYENV.BASE_URL=\"https://plot.ly\";\n",
       "        Plotly.plot(\n",
       "            '2b80b989-c50b-42b8-a918-316cdbfb8136',\n",
       "            [{\"text\": [\"1023\", \"1010\", \"1002\", \"991\", \"985\", \"978\", \"974\", \"968\", \"953\", \"937\", \"917\", \"893\", \"860\", \"819\", \"778\", \"722\", \"664\", \"594\", \"511\"], \"textposition\": \"outside\", \"x\": [5.0, 10.0, 15.0, 20.0, 25.0, 30.0, 35.0, 40.0, 45.0, 50.0, 55.0, 60.0, 65.0, 70.0, 75.0, 80.0, 85.0, 90.0, 95.0, 100.0], \"y\": [1023.0, 1010.0, 1002.0, 991.0, 985.0, 978.0, 974.0, 968.0, 953.0, 937.0, 917.0, 893.0, 860.0, 819.0, 778.0, 722.0, 664.0, 594.0, 511.0], \"type\": \"bar\", \"uid\": \"d83c3d96-a49c-11e8-9c2d-782bcba4e79e\"}],\n",
       "            {\"title\": \"1134 multi-exon coding transcripts in novel genes\", \"xaxis\": {\"dtick\": 5, \"tick0\": 0, \"tickangle\": -45, \"title\": \"Min. % CDS coverage by repeats\"}, \"yaxis\": {\"title\": \"transcripts\"}},\n",
       "            {\"showLink\": true, \"linkText\": \"Export to plot.ly\"}\n",
       "        ).then(function () {return Plotly.addFrames('2b80b989-c50b-42b8-a918-316cdbfb8136',{});}).then(function(){Plotly.animate('2b80b989-c50b-42b8-a918-316cdbfb8136');})\n",
       "        });</script>"
      ],
      "text/vnd.plotly.v1+html": [
       "<div id=\"2b80b989-c50b-42b8-a918-316cdbfb8136\" style=\"height: 525px; width: 100%;\" class=\"plotly-graph-div\"></div><script type=\"text/javascript\">require([\"plotly\"], function(Plotly) { window.PLOTLYENV=window.PLOTLYENV || {};window.PLOTLYENV.BASE_URL=\"https://plot.ly\";\n",
       "        Plotly.plot(\n",
       "            '2b80b989-c50b-42b8-a918-316cdbfb8136',\n",
       "            [{\"text\": [\"1023\", \"1010\", \"1002\", \"991\", \"985\", \"978\", \"974\", \"968\", \"953\", \"937\", \"917\", \"893\", \"860\", \"819\", \"778\", \"722\", \"664\", \"594\", \"511\"], \"textposition\": \"outside\", \"x\": [5.0, 10.0, 15.0, 20.0, 25.0, 30.0, 35.0, 40.0, 45.0, 50.0, 55.0, 60.0, 65.0, 70.0, 75.0, 80.0, 85.0, 90.0, 95.0, 100.0], \"y\": [1023.0, 1010.0, 1002.0, 991.0, 985.0, 978.0, 974.0, 968.0, 953.0, 937.0, 917.0, 893.0, 860.0, 819.0, 778.0, 722.0, 664.0, 594.0, 511.0], \"type\": \"bar\", \"uid\": \"d83c3d96-a49c-11e8-9c2d-782bcba4e79e\"}],\n",
       "            {\"title\": \"1134 multi-exon coding transcripts in novel genes\", \"xaxis\": {\"dtick\": 5, \"tick0\": 0, \"tickangle\": -45, \"title\": \"Min. % CDS coverage by repeats\"}, \"yaxis\": {\"title\": \"transcripts\"}},\n",
       "            {\"showLink\": true, \"linkText\": \"Export to plot.ly\"}\n",
       "        ).then(function () {return Plotly.addFrames('2b80b989-c50b-42b8-a918-316cdbfb8136',{});}).then(function(){Plotly.animate('2b80b989-c50b-42b8-a918-316cdbfb8136');})\n",
       "        });</script>"
      ]
     },
     "metadata": {},
     "output_type": "display_data"
    },
    {
     "data": {
      "application/vnd.plotly.v1+json": {
       "data": [
        {
         "text": [
          "684",
          "677",
          "677",
          "676",
          "674",
          "668",
          "665",
          "659",
          "640",
          "624",
          "602",
          "564",
          "525",
          "474",
          "431",
          "361",
          "296",
          "234",
          "162"
         ],
         "textposition": "outside",
         "type": "bar",
         "uid": "d842befa-a49c-11e8-9c2d-782bcba4e79e",
         "x": [
          5,
          10,
          15,
          20,
          25,
          30,
          35,
          40,
          45,
          50,
          55,
          60,
          65,
          70,
          75,
          80,
          85,
          90,
          95,
          100
         ],
         "y": [
          684,
          677,
          677,
          676,
          674,
          668,
          665,
          659,
          640,
          624,
          602,
          564,
          525,
          474,
          431,
          361,
          296,
          234,
          162
         ]
        }
       ],
       "layout": {
        "title": "1134 multi-exon coding transcripts in novel genes - Alu",
        "xaxis": {
         "dtick": 5,
         "tick0": 0,
         "tickangle": -45,
         "title": "Min. % CDS coverage by Alu"
        },
        "yaxis": {
         "title": "transcripts"
        }
       }
      },
      "text/html": [
       "<div id=\"f14b549e-f452-495b-8ac9-4b92db73f090\" style=\"height: 525px; width: 100%;\" class=\"plotly-graph-div\"></div><script type=\"text/javascript\">require([\"plotly\"], function(Plotly) { window.PLOTLYENV=window.PLOTLYENV || {};window.PLOTLYENV.BASE_URL=\"https://plot.ly\";\n",
       "        Plotly.plot(\n",
       "            'f14b549e-f452-495b-8ac9-4b92db73f090',\n",
       "            [{\"text\": [\"684\", \"677\", \"677\", \"676\", \"674\", \"668\", \"665\", \"659\", \"640\", \"624\", \"602\", \"564\", \"525\", \"474\", \"431\", \"361\", \"296\", \"234\", \"162\"], \"textposition\": \"outside\", \"x\": [5.0, 10.0, 15.0, 20.0, 25.0, 30.0, 35.0, 40.0, 45.0, 50.0, 55.0, 60.0, 65.0, 70.0, 75.0, 80.0, 85.0, 90.0, 95.0, 100.0], \"y\": [684.0, 677.0, 677.0, 676.0, 674.0, 668.0, 665.0, 659.0, 640.0, 624.0, 602.0, 564.0, 525.0, 474.0, 431.0, 361.0, 296.0, 234.0, 162.0], \"type\": \"bar\", \"uid\": \"d842befa-a49c-11e8-9c2d-782bcba4e79e\"}],\n",
       "            {\"title\": \"1134 multi-exon coding transcripts in novel genes - Alu\", \"xaxis\": {\"dtick\": 5, \"tick0\": 0, \"tickangle\": -45, \"title\": \"Min. % CDS coverage by Alu\"}, \"yaxis\": {\"title\": \"transcripts\"}},\n",
       "            {\"showLink\": true, \"linkText\": \"Export to plot.ly\"}\n",
       "        ).then(function () {return Plotly.addFrames('f14b549e-f452-495b-8ac9-4b92db73f090',{});}).then(function(){Plotly.animate('f14b549e-f452-495b-8ac9-4b92db73f090');})\n",
       "        });</script>"
      ],
      "text/vnd.plotly.v1+html": [
       "<div id=\"f14b549e-f452-495b-8ac9-4b92db73f090\" style=\"height: 525px; width: 100%;\" class=\"plotly-graph-div\"></div><script type=\"text/javascript\">require([\"plotly\"], function(Plotly) { window.PLOTLYENV=window.PLOTLYENV || {};window.PLOTLYENV.BASE_URL=\"https://plot.ly\";\n",
       "        Plotly.plot(\n",
       "            'f14b549e-f452-495b-8ac9-4b92db73f090',\n",
       "            [{\"text\": [\"684\", \"677\", \"677\", \"676\", \"674\", \"668\", \"665\", \"659\", \"640\", \"624\", \"602\", \"564\", \"525\", \"474\", \"431\", \"361\", \"296\", \"234\", \"162\"], \"textposition\": \"outside\", \"x\": [5.0, 10.0, 15.0, 20.0, 25.0, 30.0, 35.0, 40.0, 45.0, 50.0, 55.0, 60.0, 65.0, 70.0, 75.0, 80.0, 85.0, 90.0, 95.0, 100.0], \"y\": [684.0, 677.0, 677.0, 676.0, 674.0, 668.0, 665.0, 659.0, 640.0, 624.0, 602.0, 564.0, 525.0, 474.0, 431.0, 361.0, 296.0, 234.0, 162.0], \"type\": \"bar\", \"uid\": \"d842befa-a49c-11e8-9c2d-782bcba4e79e\"}],\n",
       "            {\"title\": \"1134 multi-exon coding transcripts in novel genes - Alu\", \"xaxis\": {\"dtick\": 5, \"tick0\": 0, \"tickangle\": -45, \"title\": \"Min. % CDS coverage by Alu\"}, \"yaxis\": {\"title\": \"transcripts\"}},\n",
       "            {\"showLink\": true, \"linkText\": \"Export to plot.ly\"}\n",
       "        ).then(function () {return Plotly.addFrames('f14b549e-f452-495b-8ac9-4b92db73f090',{});}).then(function(){Plotly.animate('f14b549e-f452-495b-8ac9-4b92db73f090');})\n",
       "        });</script>"
      ]
     },
     "metadata": {},
     "output_type": "display_data"
    },
    {
     "data": {
      "application/vnd.plotly.v1+json": {
       "data": [
        {
         "text": [
          "702",
          "692",
          "691",
          "684",
          "681",
          "673",
          "670",
          "664",
          "647",
          "633",
          "611",
          "579",
          "541",
          "493",
          "450",
          "384",
          "319",
          "257",
          "184"
         ],
         "textposition": "outside",
         "type": "bar",
         "uid": "d84926a0-a49c-11e8-9c2d-782bcba4e79e",
         "x": [
          5,
          10,
          15,
          20,
          25,
          30,
          35,
          40,
          45,
          50,
          55,
          60,
          65,
          70,
          75,
          80,
          85,
          90,
          95,
          100
         ],
         "y": [
          702,
          692,
          691,
          684,
          681,
          673,
          670,
          664,
          647,
          633,
          611,
          579,
          541,
          493,
          450,
          384,
          319,
          257,
          184
         ]
        }
       ],
       "layout": {
        "title": "1134 multi-exon coding transcripts in novel genes - LINE/SINE",
        "xaxis": {
         "dtick": 5,
         "tick0": 0,
         "tickangle": -45,
         "title": "Min. % CDS coverage by LINE/SINE"
        },
        "yaxis": {
         "title": "transcripts"
        }
       }
      },
      "text/html": [
       "<div id=\"c436d1a3-0059-4e20-8c6d-b92c2eaee59d\" style=\"height: 525px; width: 100%;\" class=\"plotly-graph-div\"></div><script type=\"text/javascript\">require([\"plotly\"], function(Plotly) { window.PLOTLYENV=window.PLOTLYENV || {};window.PLOTLYENV.BASE_URL=\"https://plot.ly\";\n",
       "        Plotly.plot(\n",
       "            'c436d1a3-0059-4e20-8c6d-b92c2eaee59d',\n",
       "            [{\"text\": [\"702\", \"692\", \"691\", \"684\", \"681\", \"673\", \"670\", \"664\", \"647\", \"633\", \"611\", \"579\", \"541\", \"493\", \"450\", \"384\", \"319\", \"257\", \"184\"], \"textposition\": \"outside\", \"x\": [5.0, 10.0, 15.0, 20.0, 25.0, 30.0, 35.0, 40.0, 45.0, 50.0, 55.0, 60.0, 65.0, 70.0, 75.0, 80.0, 85.0, 90.0, 95.0, 100.0], \"y\": [702.0, 692.0, 691.0, 684.0, 681.0, 673.0, 670.0, 664.0, 647.0, 633.0, 611.0, 579.0, 541.0, 493.0, 450.0, 384.0, 319.0, 257.0, 184.0], \"type\": \"bar\", \"uid\": \"d84926a0-a49c-11e8-9c2d-782bcba4e79e\"}],\n",
       "            {\"title\": \"1134 multi-exon coding transcripts in novel genes - LINE/SINE\", \"xaxis\": {\"dtick\": 5, \"tick0\": 0, \"tickangle\": -45, \"title\": \"Min. % CDS coverage by LINE/SINE\"}, \"yaxis\": {\"title\": \"transcripts\"}},\n",
       "            {\"showLink\": true, \"linkText\": \"Export to plot.ly\"}\n",
       "        ).then(function () {return Plotly.addFrames('c436d1a3-0059-4e20-8c6d-b92c2eaee59d',{});}).then(function(){Plotly.animate('c436d1a3-0059-4e20-8c6d-b92c2eaee59d');})\n",
       "        });</script>"
      ],
      "text/vnd.plotly.v1+html": [
       "<div id=\"c436d1a3-0059-4e20-8c6d-b92c2eaee59d\" style=\"height: 525px; width: 100%;\" class=\"plotly-graph-div\"></div><script type=\"text/javascript\">require([\"plotly\"], function(Plotly) { window.PLOTLYENV=window.PLOTLYENV || {};window.PLOTLYENV.BASE_URL=\"https://plot.ly\";\n",
       "        Plotly.plot(\n",
       "            'c436d1a3-0059-4e20-8c6d-b92c2eaee59d',\n",
       "            [{\"text\": [\"702\", \"692\", \"691\", \"684\", \"681\", \"673\", \"670\", \"664\", \"647\", \"633\", \"611\", \"579\", \"541\", \"493\", \"450\", \"384\", \"319\", \"257\", \"184\"], \"textposition\": \"outside\", \"x\": [5.0, 10.0, 15.0, 20.0, 25.0, 30.0, 35.0, 40.0, 45.0, 50.0, 55.0, 60.0, 65.0, 70.0, 75.0, 80.0, 85.0, 90.0, 95.0, 100.0], \"y\": [702.0, 692.0, 691.0, 684.0, 681.0, 673.0, 670.0, 664.0, 647.0, 633.0, 611.0, 579.0, 541.0, 493.0, 450.0, 384.0, 319.0, 257.0, 184.0], \"type\": \"bar\", \"uid\": \"d84926a0-a49c-11e8-9c2d-782bcba4e79e\"}],\n",
       "            {\"title\": \"1134 multi-exon coding transcripts in novel genes - LINE/SINE\", \"xaxis\": {\"dtick\": 5, \"tick0\": 0, \"tickangle\": -45, \"title\": \"Min. % CDS coverage by LINE/SINE\"}, \"yaxis\": {\"title\": \"transcripts\"}},\n",
       "            {\"showLink\": true, \"linkText\": \"Export to plot.ly\"}\n",
       "        ).then(function () {return Plotly.addFrames('c436d1a3-0059-4e20-8c6d-b92c2eaee59d',{});}).then(function(){Plotly.animate('c436d1a3-0059-4e20-8c6d-b92c2eaee59d');})\n",
       "        });</script>"
      ]
     },
     "metadata": {},
     "output_type": "display_data"
    }
   ],
   "source": [
    "mxdf=pdf[(pdf['excount']>1)]\n",
    "plotCH(mxdf, 'excov', ' multi-exon coding transcripts in novel genes', 'Min. % exon coverage by repeats')\n",
    "plotCH(mxdf, 'cdcov', ' multi-exon coding transcripts in novel genes', 'Min. % CDS coverage by repeats')\n",
    "plotCH(mxdf, 'alu_cdcov', ' multi-exon coding transcripts in novel genes - Alu', 'Min. % CDS coverage by Alu')\n",
    "plotCH(mxdf, 'sine_cdcov', ' multi-exon coding transcripts in novel genes - LINE/SINE', 'Min. % CDS coverage by LINE/SINE')"
   ]
  },
  {
   "cell_type": "code",
   "execution_count": 18,
   "metadata": {},
   "outputs": [
    {
     "data": {
      "application/vnd.plotly.v1+json": {
       "data": [
        {
         "text": [
          "2127",
          "1307",
          "901",
          "654",
          "496",
          "387",
          "298",
          "241",
          "183",
          "139",
          "109",
          "91",
          "81",
          "71",
          "53",
          "45",
          "34",
          "28",
          "23"
         ],
         "textposition": "outside",
         "type": "bar",
         "uid": "45e26718-a49c-11e8-9c2d-782bcba4e79e",
         "x": [
          5,
          10,
          15,
          20,
          25,
          30,
          35,
          40,
          45,
          50,
          55,
          60,
          65,
          70,
          75,
          80,
          85,
          90,
          95,
          100
         ],
         "y": [
          2127,
          1307,
          901,
          654,
          496,
          387,
          298,
          241,
          183,
          139,
          109,
          91,
          81,
          71,
          53,
          45,
          34,
          28,
          23
         ]
        }
       ],
       "layout": {
        "title": "15910 multi-exon coding transcripts in Gencode exclusive genes",
        "xaxis": {
         "dtick": 5,
         "tick0": 0,
         "tickangle": -45,
         "title": "Min. % CDS coverage by repeats"
        },
        "yaxis": {
         "title": "transcripts"
        }
       }
      },
      "text/html": [
       "<div id=\"d43d1f74-8659-4498-8ea7-f34affd0422f\" style=\"height: 525px; width: 100%;\" class=\"plotly-graph-div\"></div><script type=\"text/javascript\">require([\"plotly\"], function(Plotly) { window.PLOTLYENV=window.PLOTLYENV || {};window.PLOTLYENV.BASE_URL=\"https://plot.ly\";\n",
       "        Plotly.plot(\n",
       "            'd43d1f74-8659-4498-8ea7-f34affd0422f',\n",
       "            [{\"text\": [\"2127\", \"1307\", \"901\", \"654\", \"496\", \"387\", \"298\", \"241\", \"183\", \"139\", \"109\", \"91\", \"81\", \"71\", \"53\", \"45\", \"34\", \"28\", \"23\"], \"textposition\": \"outside\", \"x\": [5.0, 10.0, 15.0, 20.0, 25.0, 30.0, 35.0, 40.0, 45.0, 50.0, 55.0, 60.0, 65.0, 70.0, 75.0, 80.0, 85.0, 90.0, 95.0, 100.0], \"y\": [2127.0, 1307.0, 901.0, 654.0, 496.0, 387.0, 298.0, 241.0, 183.0, 139.0, 109.0, 91.0, 81.0, 71.0, 53.0, 45.0, 34.0, 28.0, 23.0], \"type\": \"bar\", \"uid\": \"45e26718-a49c-11e8-9c2d-782bcba4e79e\"}],\n",
       "            {\"title\": \"15910 multi-exon coding transcripts in Gencode exclusive genes\", \"xaxis\": {\"dtick\": 5, \"tick0\": 0, \"tickangle\": -45, \"title\": \"Min. % CDS coverage by repeats\"}, \"yaxis\": {\"title\": \"transcripts\"}},\n",
       "            {\"showLink\": true, \"linkText\": \"Export to plot.ly\"}\n",
       "        ).then(function () {return Plotly.addFrames('d43d1f74-8659-4498-8ea7-f34affd0422f',{});}).then(function(){Plotly.animate('d43d1f74-8659-4498-8ea7-f34affd0422f');})\n",
       "        });</script>"
      ],
      "text/vnd.plotly.v1+html": [
       "<div id=\"d43d1f74-8659-4498-8ea7-f34affd0422f\" style=\"height: 525px; width: 100%;\" class=\"plotly-graph-div\"></div><script type=\"text/javascript\">require([\"plotly\"], function(Plotly) { window.PLOTLYENV=window.PLOTLYENV || {};window.PLOTLYENV.BASE_URL=\"https://plot.ly\";\n",
       "        Plotly.plot(\n",
       "            'd43d1f74-8659-4498-8ea7-f34affd0422f',\n",
       "            [{\"text\": [\"2127\", \"1307\", \"901\", \"654\", \"496\", \"387\", \"298\", \"241\", \"183\", \"139\", \"109\", \"91\", \"81\", \"71\", \"53\", \"45\", \"34\", \"28\", \"23\"], \"textposition\": \"outside\", \"x\": [5.0, 10.0, 15.0, 20.0, 25.0, 30.0, 35.0, 40.0, 45.0, 50.0, 55.0, 60.0, 65.0, 70.0, 75.0, 80.0, 85.0, 90.0, 95.0, 100.0], \"y\": [2127.0, 1307.0, 901.0, 654.0, 496.0, 387.0, 298.0, 241.0, 183.0, 139.0, 109.0, 91.0, 81.0, 71.0, 53.0, 45.0, 34.0, 28.0, 23.0], \"type\": \"bar\", \"uid\": \"45e26718-a49c-11e8-9c2d-782bcba4e79e\"}],\n",
       "            {\"title\": \"15910 multi-exon coding transcripts in Gencode exclusive genes\", \"xaxis\": {\"dtick\": 5, \"tick0\": 0, \"tickangle\": -45, \"title\": \"Min. % CDS coverage by repeats\"}, \"yaxis\": {\"title\": \"transcripts\"}},\n",
       "            {\"showLink\": true, \"linkText\": \"Export to plot.ly\"}\n",
       "        ).then(function () {return Plotly.addFrames('d43d1f74-8659-4498-8ea7-f34affd0422f',{});}).then(function(){Plotly.animate('d43d1f74-8659-4498-8ea7-f34affd0422f');})\n",
       "        });</script>"
      ]
     },
     "metadata": {},
     "output_type": "display_data"
    },
    {
     "data": {
      "application/vnd.plotly.v1+json": {
       "data": [
        {
         "text": [
          "400",
          "339",
          "286",
          "228",
          "193",
          "153",
          "122",
          "96",
          "69",
          "49",
          "41",
          "30",
          "24",
          "20",
          "15",
          "13",
          "8",
          "4",
          "2"
         ],
         "textposition": "outside",
         "type": "bar",
         "uid": "45e88da0-a49c-11e8-9c2d-782bcba4e79e",
         "x": [
          5,
          10,
          15,
          20,
          25,
          30,
          35,
          40,
          45,
          50,
          55,
          60,
          65,
          70,
          75,
          80,
          85,
          90,
          95,
          100
         ],
         "y": [
          400,
          339,
          286,
          228,
          193,
          153,
          122,
          96,
          69,
          49,
          41,
          30,
          24,
          20,
          15,
          13,
          8,
          4,
          2
         ]
        }
       ],
       "layout": {
        "title": "15910 multi-exon coding transcripts in Gencode exclusive genes - Alu",
        "xaxis": {
         "dtick": 5,
         "tick0": 0,
         "tickangle": -45,
         "title": "Min. % CDS coverage by Alu"
        },
        "yaxis": {
         "title": "transcripts"
        }
       }
      },
      "text/html": [
       "<div id=\"da686d3d-7e36-428c-bc2d-aa5ed7c4441f\" style=\"height: 525px; width: 100%;\" class=\"plotly-graph-div\"></div><script type=\"text/javascript\">require([\"plotly\"], function(Plotly) { window.PLOTLYENV=window.PLOTLYENV || {};window.PLOTLYENV.BASE_URL=\"https://plot.ly\";\n",
       "        Plotly.plot(\n",
       "            'da686d3d-7e36-428c-bc2d-aa5ed7c4441f',\n",
       "            [{\"text\": [\"400\", \"339\", \"286\", \"228\", \"193\", \"153\", \"122\", \"96\", \"69\", \"49\", \"41\", \"30\", \"24\", \"20\", \"15\", \"13\", \"8\", \"4\", \"2\"], \"textposition\": \"outside\", \"x\": [5.0, 10.0, 15.0, 20.0, 25.0, 30.0, 35.0, 40.0, 45.0, 50.0, 55.0, 60.0, 65.0, 70.0, 75.0, 80.0, 85.0, 90.0, 95.0, 100.0], \"y\": [400.0, 339.0, 286.0, 228.0, 193.0, 153.0, 122.0, 96.0, 69.0, 49.0, 41.0, 30.0, 24.0, 20.0, 15.0, 13.0, 8.0, 4.0, 2.0], \"type\": \"bar\", \"uid\": \"45e88da0-a49c-11e8-9c2d-782bcba4e79e\"}],\n",
       "            {\"title\": \"15910 multi-exon coding transcripts in Gencode exclusive genes - Alu\", \"xaxis\": {\"dtick\": 5, \"tick0\": 0, \"tickangle\": -45, \"title\": \"Min. % CDS coverage by Alu\"}, \"yaxis\": {\"title\": \"transcripts\"}},\n",
       "            {\"showLink\": true, \"linkText\": \"Export to plot.ly\"}\n",
       "        ).then(function () {return Plotly.addFrames('da686d3d-7e36-428c-bc2d-aa5ed7c4441f',{});}).then(function(){Plotly.animate('da686d3d-7e36-428c-bc2d-aa5ed7c4441f');})\n",
       "        });</script>"
      ],
      "text/vnd.plotly.v1+html": [
       "<div id=\"da686d3d-7e36-428c-bc2d-aa5ed7c4441f\" style=\"height: 525px; width: 100%;\" class=\"plotly-graph-div\"></div><script type=\"text/javascript\">require([\"plotly\"], function(Plotly) { window.PLOTLYENV=window.PLOTLYENV || {};window.PLOTLYENV.BASE_URL=\"https://plot.ly\";\n",
       "        Plotly.plot(\n",
       "            'da686d3d-7e36-428c-bc2d-aa5ed7c4441f',\n",
       "            [{\"text\": [\"400\", \"339\", \"286\", \"228\", \"193\", \"153\", \"122\", \"96\", \"69\", \"49\", \"41\", \"30\", \"24\", \"20\", \"15\", \"13\", \"8\", \"4\", \"2\"], \"textposition\": \"outside\", \"x\": [5.0, 10.0, 15.0, 20.0, 25.0, 30.0, 35.0, 40.0, 45.0, 50.0, 55.0, 60.0, 65.0, 70.0, 75.0, 80.0, 85.0, 90.0, 95.0, 100.0], \"y\": [400.0, 339.0, 286.0, 228.0, 193.0, 153.0, 122.0, 96.0, 69.0, 49.0, 41.0, 30.0, 24.0, 20.0, 15.0, 13.0, 8.0, 4.0, 2.0], \"type\": \"bar\", \"uid\": \"45e88da0-a49c-11e8-9c2d-782bcba4e79e\"}],\n",
       "            {\"title\": \"15910 multi-exon coding transcripts in Gencode exclusive genes - Alu\", \"xaxis\": {\"dtick\": 5, \"tick0\": 0, \"tickangle\": -45, \"title\": \"Min. % CDS coverage by Alu\"}, \"yaxis\": {\"title\": \"transcripts\"}},\n",
       "            {\"showLink\": true, \"linkText\": \"Export to plot.ly\"}\n",
       "        ).then(function () {return Plotly.addFrames('da686d3d-7e36-428c-bc2d-aa5ed7c4441f',{});}).then(function(){Plotly.animate('da686d3d-7e36-428c-bc2d-aa5ed7c4441f');})\n",
       "        });</script>"
      ]
     },
     "metadata": {},
     "output_type": "display_data"
    }
   ],
   "source": [
    "kdf=tdf[(tdf['tcoding'].eq(True))]\n",
    "rdf=kdf[(kdf['status'].eq('known_gencode'))]\n",
    "rdf=rdf[(rdf['excount']>1)]\n",
    "plotCH(rdf, 'cdcov', ' multi-exon coding transcripts in Gencode exclusive genes', 'Min. % CDS coverage by repeats')\n",
    "plotCH(rdf, 'alu_cdcov', ' multi-exon coding transcripts in Gencode exclusive genes - Alu', 'Min. % CDS coverage by Alu')\n"
   ]
  },
  {
   "cell_type": "code",
   "execution_count": null,
   "metadata": {},
   "outputs": [],
   "source": []
  }
 ],
 "metadata": {
  "kernelspec": {
   "display_name": "Python 3",
   "language": "python",
   "name": "python3"
  },
  "language_info": {
   "codemirror_mode": {
    "name": "ipython",
    "version": 3
   },
   "file_extension": ".py",
   "mimetype": "text/x-python",
   "name": "python",
   "nbconvert_exporter": "python",
   "pygments_lexer": "ipython3",
   "version": "3.7.0"
  }
 },
 "nbformat": 4,
 "nbformat_minor": 2
}
