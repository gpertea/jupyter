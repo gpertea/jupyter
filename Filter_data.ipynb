{
 "cells": [
  {
   "cell_type": "code",
   "execution_count": 1,
   "metadata": {
    "scrolled": true
   },
   "outputs": [
    {
     "data": {
      "text/html": [
       "<script>requirejs.config({paths: { 'plotly': ['https://cdn.plot.ly/plotly-latest.min']},});if(!window.Plotly) {{require(['plotly'],function(plotly) {window.Plotly=plotly;});}}</script>"
      ],
      "text/vnd.plotly.v1+html": [
       "<script>requirejs.config({paths: { 'plotly': ['https://cdn.plot.ly/plotly-latest.min']},});if(!window.Plotly) {{require(['plotly'],function(plotly) {window.Plotly=plotly;});}}</script>"
      ]
     },
     "metadata": {},
     "output_type": "display_data"
    },
    {
     "data": {
      "text/html": [
       "<div>\n",
       "<style scoped>\n",
       "    .dataframe tbody tr th:only-of-type {\n",
       "        vertical-align: middle;\n",
       "    }\n",
       "\n",
       "    .dataframe tbody tr th {\n",
       "        vertical-align: top;\n",
       "    }\n",
       "\n",
       "    .dataframe thead th {\n",
       "        text-align: right;\n",
       "    }\n",
       "</style>\n",
       "<table border=\"1\" class=\"dataframe\">\n",
       "  <thead>\n",
       "    <tr style=\"text-align: right;\">\n",
       "      <th></th>\n",
       "      <th>gstatus</th>\n",
       "      <th>gtype</th>\n",
       "      <th>status</th>\n",
       "      <th>type</th>\n",
       "      <th>asm</th>\n",
       "      <th>chr</th>\n",
       "      <th>strand</th>\n",
       "      <th>excount</th>\n",
       "      <th>exlen</th>\n",
       "      <th>cdlen</th>\n",
       "      <th>...</th>\n",
       "      <th>excov</th>\n",
       "      <th>cdcov</th>\n",
       "      <th>alu_excov</th>\n",
       "      <th>alu_cdcov</th>\n",
       "      <th>line_excov</th>\n",
       "      <th>line_cdcov</th>\n",
       "      <th>tcoding</th>\n",
       "      <th>tnovel</th>\n",
       "      <th>gcoding</th>\n",
       "      <th>gnovel</th>\n",
       "    </tr>\n",
       "    <tr>\n",
       "      <th>id</th>\n",
       "      <th></th>\n",
       "      <th></th>\n",
       "      <th></th>\n",
       "      <th></th>\n",
       "      <th></th>\n",
       "      <th></th>\n",
       "      <th></th>\n",
       "      <th></th>\n",
       "      <th></th>\n",
       "      <th></th>\n",
       "      <th></th>\n",
       "      <th></th>\n",
       "      <th></th>\n",
       "      <th></th>\n",
       "      <th></th>\n",
       "      <th></th>\n",
       "      <th></th>\n",
       "      <th></th>\n",
       "      <th></th>\n",
       "      <th></th>\n",
       "      <th></th>\n",
       "    </tr>\n",
       "  </thead>\n",
       "  <tbody>\n",
       "    <tr>\n",
       "      <th>CHS.6.1</th>\n",
       "      <td>known_refseq</td>\n",
       "      <td>protein_coding</td>\n",
       "      <td>known_refseq</td>\n",
       "      <td>coding</td>\n",
       "      <td>yes</td>\n",
       "      <td>chr1</td>\n",
       "      <td>+</td>\n",
       "      <td>1</td>\n",
       "      <td>918</td>\n",
       "      <td>918</td>\n",
       "      <td>...</td>\n",
       "      <td>0.0</td>\n",
       "      <td>0.0</td>\n",
       "      <td>0.0</td>\n",
       "      <td>0.0</td>\n",
       "      <td>0.0</td>\n",
       "      <td>0.0</td>\n",
       "      <td>True</td>\n",
       "      <td>False</td>\n",
       "      <td>True</td>\n",
       "      <td>False</td>\n",
       "    </tr>\n",
       "    <tr>\n",
       "      <th>CHS.9.1</th>\n",
       "      <td>known_refseq</td>\n",
       "      <td>protein_coding</td>\n",
       "      <td>known_refseq</td>\n",
       "      <td>coding</td>\n",
       "      <td>yes</td>\n",
       "      <td>chr1</td>\n",
       "      <td>+</td>\n",
       "      <td>4</td>\n",
       "      <td>744</td>\n",
       "      <td>402</td>\n",
       "      <td>...</td>\n",
       "      <td>8.3</td>\n",
       "      <td>0.0</td>\n",
       "      <td>0.0</td>\n",
       "      <td>0.0</td>\n",
       "      <td>0.0</td>\n",
       "      <td>0.0</td>\n",
       "      <td>True</td>\n",
       "      <td>False</td>\n",
       "      <td>True</td>\n",
       "      <td>False</td>\n",
       "    </tr>\n",
       "    <tr>\n",
       "      <th>CHS.9.2</th>\n",
       "      <td>known_refseq</td>\n",
       "      <td>protein_coding</td>\n",
       "      <td>known_refseq</td>\n",
       "      <td>coding</td>\n",
       "      <td>yes</td>\n",
       "      <td>chr1</td>\n",
       "      <td>+</td>\n",
       "      <td>4</td>\n",
       "      <td>762</td>\n",
       "      <td>402</td>\n",
       "      <td>...</td>\n",
       "      <td>10.5</td>\n",
       "      <td>0.0</td>\n",
       "      <td>0.0</td>\n",
       "      <td>0.0</td>\n",
       "      <td>0.0</td>\n",
       "      <td>0.0</td>\n",
       "      <td>True</td>\n",
       "      <td>False</td>\n",
       "      <td>True</td>\n",
       "      <td>False</td>\n",
       "    </tr>\n",
       "    <tr>\n",
       "      <th>CHS.9.3</th>\n",
       "      <td>known_refseq</td>\n",
       "      <td>protein_coding</td>\n",
       "      <td>known_refseq</td>\n",
       "      <td>coding</td>\n",
       "      <td>no</td>\n",
       "      <td>chr1</td>\n",
       "      <td>+</td>\n",
       "      <td>4</td>\n",
       "      <td>1014</td>\n",
       "      <td>402</td>\n",
       "      <td>...</td>\n",
       "      <td>26.2</td>\n",
       "      <td>0.0</td>\n",
       "      <td>0.0</td>\n",
       "      <td>0.0</td>\n",
       "      <td>16.1</td>\n",
       "      <td>0.0</td>\n",
       "      <td>True</td>\n",
       "      <td>False</td>\n",
       "      <td>True</td>\n",
       "      <td>False</td>\n",
       "    </tr>\n",
       "    <tr>\n",
       "      <th>CHS.9.4</th>\n",
       "      <td>known_refseq</td>\n",
       "      <td>protein_coding</td>\n",
       "      <td>known_refseq</td>\n",
       "      <td>coding</td>\n",
       "      <td>yes</td>\n",
       "      <td>chr1</td>\n",
       "      <td>+</td>\n",
       "      <td>4</td>\n",
       "      <td>841</td>\n",
       "      <td>402</td>\n",
       "      <td>...</td>\n",
       "      <td>18.9</td>\n",
       "      <td>0.0</td>\n",
       "      <td>0.0</td>\n",
       "      <td>0.0</td>\n",
       "      <td>18.9</td>\n",
       "      <td>0.0</td>\n",
       "      <td>True</td>\n",
       "      <td>False</td>\n",
       "      <td>True</td>\n",
       "      <td>False</td>\n",
       "    </tr>\n",
       "  </tbody>\n",
       "</table>\n",
       "<p>5 rows × 22 columns</p>\n",
       "</div>"
      ],
      "text/plain": [
       "              gstatus           gtype        status    type  asm   chr strand  \\\n",
       "id                                                                              \n",
       "CHS.6.1  known_refseq  protein_coding  known_refseq  coding  yes  chr1      +   \n",
       "CHS.9.1  known_refseq  protein_coding  known_refseq  coding  yes  chr1      +   \n",
       "CHS.9.2  known_refseq  protein_coding  known_refseq  coding  yes  chr1      +   \n",
       "CHS.9.3  known_refseq  protein_coding  known_refseq  coding   no  chr1      +   \n",
       "CHS.9.4  known_refseq  protein_coding  known_refseq  coding  yes  chr1      +   \n",
       "\n",
       "         excount  exlen  cdlen   ...   excov cdcov  alu_excov  alu_cdcov  \\\n",
       "id                               ...                                       \n",
       "CHS.6.1        1    918    918   ...     0.0   0.0        0.0        0.0   \n",
       "CHS.9.1        4    744    402   ...     8.3   0.0        0.0        0.0   \n",
       "CHS.9.2        4    762    402   ...    10.5   0.0        0.0        0.0   \n",
       "CHS.9.3        4   1014    402   ...    26.2   0.0        0.0        0.0   \n",
       "CHS.9.4        4    841    402   ...    18.9   0.0        0.0        0.0   \n",
       "\n",
       "         line_excov  line_cdcov  tcoding  tnovel  gcoding  gnovel  \n",
       "id                                                                 \n",
       "CHS.6.1         0.0         0.0     True   False     True   False  \n",
       "CHS.9.1         0.0         0.0     True   False     True   False  \n",
       "CHS.9.2         0.0         0.0     True   False     True   False  \n",
       "CHS.9.3        16.1         0.0     True   False     True   False  \n",
       "CHS.9.4        18.9         0.0     True   False     True   False  \n",
       "\n",
       "[5 rows x 22 columns]"
      ]
     },
     "execution_count": 1,
     "metadata": {},
     "output_type": "execute_result"
    }
   ],
   "source": [
    "import ipywidgets as wgt\n",
    "import numpy as np\n",
    "import pandas as pd\n",
    "from plotly import __version__\n",
    "from plotly.offline import download_plotlyjs, init_notebook_mode\n",
    "init_notebook_mode(connected=True)\n",
    "import plotly.offline as py\n",
    "#import plotly.figure_factory as ff\n",
    "import plotly.graph_objs as go\n",
    "tdf=pd.read_csv('chess2_rep_data.tab', sep='\\t', index_col=0)\n",
    "#tdf['excov']=pd.to_numeric(tdf['excov'], errors='coerce').fillna(0)\n",
    "#tdf['cdcov']=pd.to_numeric(tdf['cdcov'], errors='coerce').fillna(0)\n",
    "tdf['tcoding']=np.where(tdf['cdlen'].ne(0), True, False)\n",
    "tdf['tnovel']=np.where(tdf['status'].isin(['novel', 'known_fantom']), True, False)\n",
    "tdf['gcoding']=np.where(tdf['gtype'].eq('protein_coding'), True, False)\n",
    "tdf['gnovel']=np.where(tdf['gstatus'].isin(['novel', 'known_fantom']), True, False)\n",
    "tdf[(tdf['tcoding'].eq(True))].head()"
   ]
  },
  {
   "cell_type": "code",
   "execution_count": 2,
   "metadata": {
    "scrolled": true
   },
   "outputs": [
    {
     "data": {
      "application/vnd.jupyter.widget-view+json": {
       "model_id": "42dc2f76fd4c495d86abf08bb3f86acd",
       "version_major": 2,
       "version_minor": 0
      },
      "text/plain": [
       "HBox(children=(SelectMultiple(description='STATUS', index=(3,), options=('known_fantom', 'known_gencode', 'kno…"
      ]
     },
     "metadata": {},
     "output_type": "display_data"
    },
    {
     "data": {
      "application/vnd.jupyter.widget-view+json": {
       "model_id": "dd88a5e1f59e49378952e080a9ecbd97",
       "version_major": 2,
       "version_minor": 0
      },
      "text/plain": [
       "HBox(children=(VBox(children=(Label(value='Min. exon cov%:'), IntSlider(value=0, layout=Layout(width='16em'), …"
      ]
     },
     "metadata": {},
     "output_type": "display_data"
    },
    {
     "data": {
      "application/vnd.jupyter.widget-view+json": {
       "model_id": "0df666a3d01244929535a92c8154834f",
       "version_major": 2,
       "version_minor": 0
      },
      "text/plain": [
       "HBox(children=(Button(description='Query', style=ButtonStyle(), tooltip='Query'), Label(value='---', layout=La…"
      ]
     },
     "metadata": {},
     "output_type": "display_data"
    }
   ],
   "source": [
    "seltype=wgt.SelectMultiple(\n",
    "    options=sorted(tdf.type.unique()),\n",
    "    value=[],\n",
    "    rows=4,\n",
    "    description='TYPE',\n",
    ")\n",
    "selstatus=wgt.SelectMultiple(\n",
    "    options=sorted(tdf.status.unique()),\n",
    "    value=['novel'],\n",
    "    rows=4,\n",
    "    description='STATUS',\n",
    ")\n",
    "hbox2=wgt.HBox([selstatus, seltype])\n",
    "display(hbox2)\n",
    "layw=wgt.Layout(width='16em')\n",
    "excov=wgt.IntSlider(value=0, min=0, max=100, step=5, layout=layw)\n",
    "cdcov=wgt.IntSlider(value=0, min=0, max=100, step=5, layout=layw)\n",
    "excount=wgt.BoundedIntText(value=1, min=1, max=10, description='At least',\n",
    "                          layout=wgt.Layout(width='11em'))\n",
    "hbox=wgt.HBox([wgt.VBox([wgt.Label(value=\"Min. exon cov%:\"), excov]),\n",
    "                  wgt.VBox([wgt.Label(value=\"Min. CDS cov%:\"), cdcov]),\n",
    "              excount, wgt.Label(value=\"exons\")])\n",
    "display(hbox)\n",
    "\n",
    "runbtn=wgt.Button(\n",
    "    description='Query',\n",
    "    #disabled=False,\n",
    "    #button_style='', # 'success', 'info', 'warning', 'danger' or ''\n",
    "    tooltip='Query',\n",
    "    #icon='check'\n",
    ")\n",
    "rlabel=wgt.Label(value=\"---\", layout=wgt.Layout(border='2px solid red', padding='0 12px'))\n",
    "rlabelres=wgt.Label(value=\"---\", layout=wgt.Layout(border='2px solid red', padding='0 12px'))\n",
    "def btnRunClick(b):\n",
    "    rlabel.value=''\n",
    "    rdf=tdf\n",
    "    if len(selstatus.value)==4 or len(selstatus.value)==0:\n",
    "        rlabel.value='any status'\n",
    "    else: \n",
    "        rlabel.value=' | '.join(selstatus.value)\n",
    "        rdf=tdf[(tdf['status'].isin(selstatus.value))]\n",
    "        if len(selstatus.value)==3 and not 'novel' in selstatus.value:\n",
    "            rlabel.value='known'\n",
    "        else:\n",
    "            if len(selstatus.value)>1: rlabel.value='('+rlabel.value+')'\n",
    "    stype=''\n",
    "    \n",
    "    if not(len(seltype.value)==4 or len(seltype.value)==0):\n",
    "        stype=' | '.join(seltype.value)\n",
    "        rdf=rdf[(rdf['type'].isin(seltype.value))]\n",
    "        \n",
    "    if rlabel.value and stype: \n",
    "        rlabel.value+=' &  '\n",
    "        if len(seltype.value)>1: stype='('+stype+')'\n",
    "    rlabel.value+=stype\n",
    "    if excount.value>1:\n",
    "        rdf=rdf[(rdf['excount']>=excount.value)]\n",
    "    if excov.value>0:\n",
    "       rdf=rdf[(rdf['excov']>=excov.value)]    \n",
    "    if cdcov.value>0:\n",
    "       rdf=rdf[(rdf['cdcov']>=cdcov.value)]\n",
    "\n",
    "    rlabelres.value=str(len(rdf))\n",
    "\n",
    "runbtn.on_click(btnRunClick)\n",
    "\n",
    "hbx=wgt.HBox(children=[runbtn, rlabel, rlabelres], layout=wgt.Layout(justify_content='center'))\n",
    "display(hbx)\n",
    "btnRunClick(True)"
   ]
  },
  {
   "cell_type": "code",
   "execution_count": 3,
   "metadata": {},
   "outputs": [
    {
     "name": "stdout",
     "output_type": "stream",
     "text": [
      "Transcripts by their status and type\n"
     ]
    },
    {
     "data": {
      "text/html": [
       "<div>\n",
       "<style scoped>\n",
       "    .dataframe tbody tr th:only-of-type {\n",
       "        vertical-align: middle;\n",
       "    }\n",
       "\n",
       "    .dataframe tbody tr th {\n",
       "        vertical-align: top;\n",
       "    }\n",
       "\n",
       "    .dataframe thead th {\n",
       "        text-align: right;\n",
       "    }\n",
       "</style>\n",
       "<table border=\"1\" class=\"dataframe\">\n",
       "  <thead>\n",
       "    <tr style=\"text-align: right;\">\n",
       "      <th></th>\n",
       "      <th>coding</th>\n",
       "      <th>coding_maybe</th>\n",
       "      <th>noncoding</th>\n",
       "      <th>undetermined</th>\n",
       "      <th>All</th>\n",
       "    </tr>\n",
       "  </thead>\n",
       "  <tbody>\n",
       "    <tr>\n",
       "      <th>known_fantom</th>\n",
       "      <td>0</td>\n",
       "      <td>19250</td>\n",
       "      <td>0</td>\n",
       "      <td>10791</td>\n",
       "      <td>30041</td>\n",
       "    </tr>\n",
       "    <tr>\n",
       "      <th>known_gencode</th>\n",
       "      <td>13272</td>\n",
       "      <td>0</td>\n",
       "      <td>36095</td>\n",
       "      <td>0</td>\n",
       "      <td>49367</td>\n",
       "    </tr>\n",
       "    <tr>\n",
       "      <th>known_refseq</th>\n",
       "      <td>126579</td>\n",
       "      <td>85</td>\n",
       "      <td>29727</td>\n",
       "      <td>1352</td>\n",
       "      <td>157743</td>\n",
       "    </tr>\n",
       "    <tr>\n",
       "      <th>novel</th>\n",
       "      <td>0</td>\n",
       "      <td>1807</td>\n",
       "      <td>0</td>\n",
       "      <td>84869</td>\n",
       "      <td>86676</td>\n",
       "    </tr>\n",
       "    <tr>\n",
       "      <th>All</th>\n",
       "      <td>139851</td>\n",
       "      <td>21142</td>\n",
       "      <td>65822</td>\n",
       "      <td>97012</td>\n",
       "      <td>323827</td>\n",
       "    </tr>\n",
       "  </tbody>\n",
       "</table>\n",
       "</div>"
      ],
      "text/plain": [
       "               coding  coding_maybe  noncoding  undetermined     All\n",
       "known_fantom        0         19250          0         10791   30041\n",
       "known_gencode   13272             0      36095             0   49367\n",
       "known_refseq   126579            85      29727          1352  157743\n",
       "novel               0          1807          0         84869   86676\n",
       "All            139851         21142      65822         97012  323827"
      ]
     },
     "execution_count": 3,
     "metadata": {},
     "output_type": "execute_result"
    }
   ],
   "source": [
    "cdf=pd.crosstab(tdf['status'],tdf['type'], margins=True)\n",
    "del cdf.index.name\n",
    "del cdf.columns.name\n",
    "print(\"Transcripts by their status and type\")\n",
    "cdf"
   ]
  },
  {
   "cell_type": "code",
   "execution_count": 4,
   "metadata": {},
   "outputs": [
    {
     "name": "stdout",
     "output_type": "stream",
     "text": [
      "Transcripts by gene status and gene type\n"
     ]
    },
    {
     "data": {
      "text/html": [
       "<div>\n",
       "<style scoped>\n",
       "    .dataframe tbody tr th:only-of-type {\n",
       "        vertical-align: middle;\n",
       "    }\n",
       "\n",
       "    .dataframe tbody tr th {\n",
       "        vertical-align: top;\n",
       "    }\n",
       "\n",
       "    .dataframe thead th {\n",
       "        text-align: right;\n",
       "    }\n",
       "</style>\n",
       "<table border=\"1\" class=\"dataframe\">\n",
       "  <thead>\n",
       "    <tr style=\"text-align: right;\">\n",
       "      <th></th>\n",
       "      <th>antisense_RNA</th>\n",
       "      <th>lncRNA</th>\n",
       "      <th>misc_RNA</th>\n",
       "      <th>protein_coding</th>\n",
       "      <th>All</th>\n",
       "    </tr>\n",
       "  </thead>\n",
       "  <tbody>\n",
       "    <tr>\n",
       "      <th>known_fantom</th>\n",
       "      <td>662</td>\n",
       "      <td>1623</td>\n",
       "      <td>1</td>\n",
       "      <td>185</td>\n",
       "      <td>2471</td>\n",
       "    </tr>\n",
       "    <tr>\n",
       "      <th>known_gencode</th>\n",
       "      <td>724</td>\n",
       "      <td>2030</td>\n",
       "      <td>37</td>\n",
       "      <td>118</td>\n",
       "      <td>2909</td>\n",
       "    </tr>\n",
       "    <tr>\n",
       "      <th>known_refseq</th>\n",
       "      <td>59</td>\n",
       "      <td>44518</td>\n",
       "      <td>4310</td>\n",
       "      <td>265919</td>\n",
       "      <td>314806</td>\n",
       "    </tr>\n",
       "    <tr>\n",
       "      <th>novel</th>\n",
       "      <td>1249</td>\n",
       "      <td>1131</td>\n",
       "      <td>0</td>\n",
       "      <td>1261</td>\n",
       "      <td>3641</td>\n",
       "    </tr>\n",
       "    <tr>\n",
       "      <th>All</th>\n",
       "      <td>2694</td>\n",
       "      <td>49302</td>\n",
       "      <td>4348</td>\n",
       "      <td>267483</td>\n",
       "      <td>323827</td>\n",
       "    </tr>\n",
       "  </tbody>\n",
       "</table>\n",
       "</div>"
      ],
      "text/plain": [
       "               antisense_RNA  lncRNA  misc_RNA  protein_coding     All\n",
       "known_fantom             662    1623         1             185    2471\n",
       "known_gencode            724    2030        37             118    2909\n",
       "known_refseq              59   44518      4310          265919  314806\n",
       "novel                   1249    1131         0            1261    3641\n",
       "All                     2694   49302      4348          267483  323827"
      ]
     },
     "execution_count": 4,
     "metadata": {},
     "output_type": "execute_result"
    }
   ],
   "source": [
    "gdf=pd.crosstab(tdf['gstatus'],tdf['gtype'], margins=True)\n",
    "del gdf.index.name\n",
    "del gdf.columns.name\n",
    "print('Transcripts by gene status and gene type')\n",
    "gdf"
   ]
  },
  {
   "cell_type": "code",
   "execution_count": 18,
   "metadata": {},
   "outputs": [
    {
     "name": "stdout",
     "output_type": "stream",
     "text": [
      "Transcripts by gene status and transcript type\n"
     ]
    },
    {
     "data": {
      "text/html": [
       "<div>\n",
       "<style scoped>\n",
       "    .dataframe tbody tr th:only-of-type {\n",
       "        vertical-align: middle;\n",
       "    }\n",
       "\n",
       "    .dataframe tbody tr th {\n",
       "        vertical-align: top;\n",
       "    }\n",
       "\n",
       "    .dataframe thead th {\n",
       "        text-align: right;\n",
       "    }\n",
       "</style>\n",
       "<table border=\"1\" class=\"dataframe\">\n",
       "  <thead>\n",
       "    <tr style=\"text-align: right;\">\n",
       "      <th></th>\n",
       "      <th>coding</th>\n",
       "      <th>coding_maybe</th>\n",
       "      <th>noncoding</th>\n",
       "      <th>undetermined</th>\n",
       "      <th>All</th>\n",
       "    </tr>\n",
       "  </thead>\n",
       "  <tbody>\n",
       "    <tr>\n",
       "      <th>known_fantom</th>\n",
       "      <td>0</td>\n",
       "      <td>326</td>\n",
       "      <td>0</td>\n",
       "      <td>2145</td>\n",
       "      <td>2471</td>\n",
       "    </tr>\n",
       "    <tr>\n",
       "      <th>known_gencode</th>\n",
       "      <td>34</td>\n",
       "      <td>32</td>\n",
       "      <td>2279</td>\n",
       "      <td>564</td>\n",
       "      <td>2909</td>\n",
       "    </tr>\n",
       "    <tr>\n",
       "      <th>known_refseq</th>\n",
       "      <td>139817</td>\n",
       "      <td>19551</td>\n",
       "      <td>63543</td>\n",
       "      <td>91895</td>\n",
       "      <td>314806</td>\n",
       "    </tr>\n",
       "    <tr>\n",
       "      <th>novel</th>\n",
       "      <td>0</td>\n",
       "      <td>1233</td>\n",
       "      <td>0</td>\n",
       "      <td>2408</td>\n",
       "      <td>3641</td>\n",
       "    </tr>\n",
       "    <tr>\n",
       "      <th>All</th>\n",
       "      <td>139851</td>\n",
       "      <td>21142</td>\n",
       "      <td>65822</td>\n",
       "      <td>97012</td>\n",
       "      <td>323827</td>\n",
       "    </tr>\n",
       "  </tbody>\n",
       "</table>\n",
       "</div>"
      ],
      "text/plain": [
       "               coding  coding_maybe  noncoding  undetermined     All\n",
       "known_fantom        0           326          0          2145    2471\n",
       "known_gencode      34            32       2279           564    2909\n",
       "known_refseq   139817         19551      63543         91895  314806\n",
       "novel               0          1233          0          2408    3641\n",
       "All            139851         21142      65822         97012  323827"
      ]
     },
     "execution_count": 18,
     "metadata": {},
     "output_type": "execute_result"
    }
   ],
   "source": [
    "gtdf=pd.crosstab(tdf['gstatus'],tdf['type'], margins=True)\n",
    "del gtdf.index.name\n",
    "del gtdf.columns.name\n",
    "print('Transcripts by gene status and transcript type')\n",
    "gtdf"
   ]
  },
  {
   "cell_type": "code",
   "execution_count": 6,
   "metadata": {},
   "outputs": [
    {
     "name": "stdout",
     "output_type": "stream",
     "text": [
      "Transcripts and CDS presence (includes novel isoforms)\n"
     ]
    },
    {
     "data": {
      "text/html": [
       "<div>\n",
       "<style scoped>\n",
       "    .dataframe tbody tr th:only-of-type {\n",
       "        vertical-align: middle;\n",
       "    }\n",
       "\n",
       "    .dataframe tbody tr th {\n",
       "        vertical-align: top;\n",
       "    }\n",
       "\n",
       "    .dataframe thead th {\n",
       "        text-align: right;\n",
       "    }\n",
       "</style>\n",
       "<table border=\"1\" class=\"dataframe\">\n",
       "  <thead>\n",
       "    <tr style=\"text-align: right;\">\n",
       "      <th></th>\n",
       "      <th>No CDS</th>\n",
       "      <th>With CDS</th>\n",
       "      <th>All</th>\n",
       "    </tr>\n",
       "  </thead>\n",
       "  <tbody>\n",
       "    <tr>\n",
       "      <th>Known</th>\n",
       "      <td>77053</td>\n",
       "      <td>130057</td>\n",
       "      <td>207110</td>\n",
       "    </tr>\n",
       "    <tr>\n",
       "      <th>Novel</th>\n",
       "      <td>115311</td>\n",
       "      <td>1406</td>\n",
       "      <td>116717</td>\n",
       "    </tr>\n",
       "    <tr>\n",
       "      <th>All</th>\n",
       "      <td>192364</td>\n",
       "      <td>131463</td>\n",
       "      <td>323827</td>\n",
       "    </tr>\n",
       "  </tbody>\n",
       "</table>\n",
       "</div>"
      ],
      "text/plain": [
       "       No CDS  With CDS     All\n",
       "Known   77053    130057  207110\n",
       "Novel  115311      1406  116717\n",
       "All    192364    131463  323827"
      ]
     },
     "execution_count": 6,
     "metadata": {},
     "output_type": "execute_result"
    }
   ],
   "source": [
    "cdk=pd.crosstab(tdf['tnovel'],tdf['tcoding'], margins=True)\n",
    "#del cdk.index.name\n",
    "#del cdk.columns.name\n",
    "cdk.index = ['Known','Novel', 'All']\n",
    "cdk.columns=['No CDS', 'With CDS', 'All']\n",
    "print(\"Transcripts and CDS presence (includes novel isoforms)\")\n",
    "cdk"
   ]
  },
  {
   "cell_type": "code",
   "execution_count": 17,
   "metadata": {
    "scrolled": true
   },
   "outputs": [
    {
     "name": "stdout",
     "output_type": "stream",
     "text": [
      "Transcripts in novel vs known genes\n"
     ]
    },
    {
     "data": {
      "text/html": [
       "<div>\n",
       "<style scoped>\n",
       "    .dataframe tbody tr th:only-of-type {\n",
       "        vertical-align: middle;\n",
       "    }\n",
       "\n",
       "    .dataframe tbody tr th {\n",
       "        vertical-align: top;\n",
       "    }\n",
       "\n",
       "    .dataframe thead th {\n",
       "        text-align: right;\n",
       "    }\n",
       "</style>\n",
       "<table border=\"1\" class=\"dataframe\">\n",
       "  <thead>\n",
       "    <tr style=\"text-align: right;\">\n",
       "      <th></th>\n",
       "      <th>No CDS</th>\n",
       "      <th>With CDS</th>\n",
       "      <th>All</th>\n",
       "    </tr>\n",
       "  </thead>\n",
       "  <tbody>\n",
       "    <tr>\n",
       "      <th>In known genes</th>\n",
       "      <td>187658</td>\n",
       "      <td>130057</td>\n",
       "      <td>317715</td>\n",
       "    </tr>\n",
       "    <tr>\n",
       "      <th>In novel genes</th>\n",
       "      <td>4706</td>\n",
       "      <td>1406</td>\n",
       "      <td>6112</td>\n",
       "    </tr>\n",
       "    <tr>\n",
       "      <th>All</th>\n",
       "      <td>192364</td>\n",
       "      <td>131463</td>\n",
       "      <td>323827</td>\n",
       "    </tr>\n",
       "  </tbody>\n",
       "</table>\n",
       "</div>"
      ],
      "text/plain": [
       "                No CDS  With CDS     All\n",
       "In known genes  187658    130057  317715\n",
       "In novel genes    4706      1406    6112\n",
       "All             192364    131463  323827"
      ]
     },
     "execution_count": 17,
     "metadata": {},
     "output_type": "execute_result"
    }
   ],
   "source": [
    "cdg=pd.crosstab(tdf['gnovel'],tdf['tcoding'], margins=True)\n",
    "cdg.index = ['In known genes','In novel genes', 'All']\n",
    "cdg.columns=['No CDS', 'With CDS', 'All']\n",
    "print(\"Transcripts in novel vs known genes\")\n",
    "cdg"
   ]
  },
  {
   "cell_type": "code",
   "execution_count": 95,
   "metadata": {},
   "outputs": [],
   "source": [
    "def plotCH(df, column, gtitle, xlabel, ylabel='transcripts'):\n",
    "    #hist_freqs, bins = np.histogram(a=df[column], bins=20)\n",
    "    #hist_freqs=np.bincount(np.digitize(df[column], bins, True))\n",
    "    #hist_freqs=np.flip(hist_freqs)\n",
    "    #hist_cfreqs=np.cumsum(hist_freqs)\n",
    "    #hist_cfreqs=np.flip(hist_cfreqs)\n",
    "    arr=df[(df[column]>0)][column]\n",
    "    bins=[p/1.0 for p in range(0,105,5)]\n",
    "    bins[0]=0.1\n",
    "    bins[-1]=100.1\n",
    "    freqs=np.bincount(np.digitize(arr, bins, False)-1)\n",
    "    freqs=np.flip(freqs)\n",
    "    cfreqs=np.cumsum(freqs)\n",
    "    cfreqs=np.flip(cfreqs)\n",
    "    data=[ go.Bar(x=bins, y=cfreqs, text=cfreqs, textposition='outside') ]\n",
    "    layout=go.Layout(title=str(df.shape[0])+gtitle, \n",
    "                 xaxis=dict(tick0=0, dtick=5, title=xlabel), yaxis=dict(title=ylabel))\n",
    "    fig=go.Figure(data=data, layout=layout)\n",
    "    py.iplot(fig, filename='bar chart')"
   ]
  },
  {
   "cell_type": "code",
   "execution_count": 94,
   "metadata": {},
   "outputs": [
    {
     "name": "stdout",
     "output_type": "stream",
     "text": [
      "[  7  14  13  13   9   9   6   7  17  19  24  27  41  52  51  76  66  97\n",
      " 114 633]\n",
      "[1295 1288 1274 1261 1248 1239 1230 1224 1217 1200 1181 1157 1130 1089\n",
      " 1037  986  910  844  747  633]\n",
      "[0.1, 5.0, 10.0, 15.0, 20.0, 25.0, 30.0, 35.0, 40.0, 45.0, 50.0, 55.0, 60.0, 65.0, 70.0, 75.0, 80.0, 85.0, 90.0, 95.0, 100.1]\n",
      "[  7  14  13  13   9   9   6   7  17  19  24  27  41  52  51  76  66  97\n",
      " 114 633]\n",
      "[1295 1288 1274 1261 1248 1239 1230 1224 1217 1200 1181 1157 1130 1089\n",
      " 1037  986  910  844  747  633]\n"
     ]
    }
   ],
   "source": [
    "df=tdf[(tdf['tnovel'].eq(True))]\n",
    "df=df[df['tcoding'].eq(True)]\n",
    "arr=df[(df['cdcov']>0)]['cdcov']\n",
    "hist_freqs, hbins = np.histogram(arr, bins=20, range=(0,100))\n",
    "print(hist_freqs)\n",
    "hist_freqs=np.flip(hist_freqs)\n",
    "hist_cfreqs=np.cumsum(hist_freqs)\n",
    "hist_cfreqs=np.flip(hist_cfreqs)\n",
    "print(hist_cfreqs)\n",
    "bins=[p/1.0 for p in range(0,105,5)]\n",
    "bins[0]=0.1\n",
    "bins[-1]=100.1\n",
    "print(bins)\n",
    "freqs=np.bincount(np.digitize(arr, bins, False)-1)\n",
    "print(freqs)\n",
    "freqs=np.flip(freqs)\n",
    "cfreqs=np.cumsum(freqs)\n",
    "cfreqs=np.flip(cfreqs)\n",
    "print(cfreqs)"
   ]
  },
  {
   "cell_type": "code",
   "execution_count": 97,
   "metadata": {},
   "outputs": [
    {
     "data": {
      "application/vnd.plotly.v1+json": {
       "data": [
        {
         "text": [
          "95079",
          "67108",
          "50128",
          "39546",
          "32078",
          "26476",
          "21929",
          "18286",
          "15179",
          "12634",
          "10401",
          "8558",
          "6958",
          "5609",
          "4495",
          "3498",
          "2752",
          "2030",
          "1521",
          "1055"
         ],
         "textposition": "outside",
         "type": "bar",
         "uid": "942e16b0-a4bf-11e8-9d26-782bcba4e79e",
         "x": [
          0.1,
          5,
          10,
          15,
          20,
          25,
          30,
          35,
          40,
          45,
          50,
          55,
          60,
          65,
          70,
          75,
          80,
          85,
          90,
          95,
          100.1
         ],
         "y": [
          95079,
          67108,
          50128,
          39546,
          32078,
          26476,
          21929,
          18286,
          15179,
          12634,
          10401,
          8558,
          6958,
          5609,
          4495,
          3498,
          2752,
          2030,
          1521,
          1055
         ]
        }
       ],
       "layout": {
        "title": "116717 novel transcripts - repeat content",
        "xaxis": {
         "dtick": 5,
         "tick0": 0,
         "title": "Min. % exon coverage by repeats"
        },
        "yaxis": {
         "title": "transcripts"
        }
       }
      },
      "text/html": [
       "<div id=\"871a1d57-dd80-435d-8152-10b6849f34b7\" style=\"height: 525px; width: 100%;\" class=\"plotly-graph-div\"></div><script type=\"text/javascript\">require([\"plotly\"], function(Plotly) { window.PLOTLYENV=window.PLOTLYENV || {};window.PLOTLYENV.BASE_URL=\"https://plot.ly\";\n",
       "        Plotly.plot(\n",
       "            '871a1d57-dd80-435d-8152-10b6849f34b7',\n",
       "            [{\"text\": [\"95079\", \"67108\", \"50128\", \"39546\", \"32078\", \"26476\", \"21929\", \"18286\", \"15179\", \"12634\", \"10401\", \"8558\", \"6958\", \"5609\", \"4495\", \"3498\", \"2752\", \"2030\", \"1521\", \"1055\"], \"textposition\": \"outside\", \"x\": [0.1, 5.0, 10.0, 15.0, 20.0, 25.0, 30.0, 35.0, 40.0, 45.0, 50.0, 55.0, 60.0, 65.0, 70.0, 75.0, 80.0, 85.0, 90.0, 95.0, 100.1], \"y\": [95079.0, 67108.0, 50128.0, 39546.0, 32078.0, 26476.0, 21929.0, 18286.0, 15179.0, 12634.0, 10401.0, 8558.0, 6958.0, 5609.0, 4495.0, 3498.0, 2752.0, 2030.0, 1521.0, 1055.0], \"type\": \"bar\", \"uid\": \"942e16b0-a4bf-11e8-9d26-782bcba4e79e\"}],\n",
       "            {\"title\": \"116717 novel transcripts - repeat content\", \"xaxis\": {\"dtick\": 5, \"tick0\": 0, \"title\": \"Min. % exon coverage by repeats\"}, \"yaxis\": {\"title\": \"transcripts\"}},\n",
       "            {\"showLink\": true, \"linkText\": \"Export to plot.ly\"}\n",
       "        ).then(function () {return Plotly.addFrames('871a1d57-dd80-435d-8152-10b6849f34b7',{});}).then(function(){Plotly.animate('871a1d57-dd80-435d-8152-10b6849f34b7');})\n",
       "        });</script>"
      ],
      "text/vnd.plotly.v1+html": [
       "<div id=\"871a1d57-dd80-435d-8152-10b6849f34b7\" style=\"height: 525px; width: 100%;\" class=\"plotly-graph-div\"></div><script type=\"text/javascript\">require([\"plotly\"], function(Plotly) { window.PLOTLYENV=window.PLOTLYENV || {};window.PLOTLYENV.BASE_URL=\"https://plot.ly\";\n",
       "        Plotly.plot(\n",
       "            '871a1d57-dd80-435d-8152-10b6849f34b7',\n",
       "            [{\"text\": [\"95079\", \"67108\", \"50128\", \"39546\", \"32078\", \"26476\", \"21929\", \"18286\", \"15179\", \"12634\", \"10401\", \"8558\", \"6958\", \"5609\", \"4495\", \"3498\", \"2752\", \"2030\", \"1521\", \"1055\"], \"textposition\": \"outside\", \"x\": [0.1, 5.0, 10.0, 15.0, 20.0, 25.0, 30.0, 35.0, 40.0, 45.0, 50.0, 55.0, 60.0, 65.0, 70.0, 75.0, 80.0, 85.0, 90.0, 95.0, 100.1], \"y\": [95079.0, 67108.0, 50128.0, 39546.0, 32078.0, 26476.0, 21929.0, 18286.0, 15179.0, 12634.0, 10401.0, 8558.0, 6958.0, 5609.0, 4495.0, 3498.0, 2752.0, 2030.0, 1521.0, 1055.0], \"type\": \"bar\", \"uid\": \"942e16b0-a4bf-11e8-9d26-782bcba4e79e\"}],\n",
       "            {\"title\": \"116717 novel transcripts - repeat content\", \"xaxis\": {\"dtick\": 5, \"tick0\": 0, \"title\": \"Min. % exon coverage by repeats\"}, \"yaxis\": {\"title\": \"transcripts\"}},\n",
       "            {\"showLink\": true, \"linkText\": \"Export to plot.ly\"}\n",
       "        ).then(function () {return Plotly.addFrames('871a1d57-dd80-435d-8152-10b6849f34b7',{});}).then(function(){Plotly.animate('871a1d57-dd80-435d-8152-10b6849f34b7');})\n",
       "        });</script>"
      ]
     },
     "metadata": {},
     "output_type": "display_data"
    },
    {
     "data": {
      "application/vnd.plotly.v1+json": {
       "data": [
        {
         "text": [
          "39205",
          "29976",
          "19080",
          "12069",
          "7753",
          "5108",
          "3345",
          "2232",
          "1487",
          "997",
          "637",
          "423",
          "309",
          "227",
          "157",
          "114",
          "97",
          "74",
          "59",
          "46"
         ],
         "textposition": "outside",
         "type": "bar",
         "uid": "943612a2-a4bf-11e8-9d26-782bcba4e79e",
         "x": [
          0.1,
          5,
          10,
          15,
          20,
          25,
          30,
          35,
          40,
          45,
          50,
          55,
          60,
          65,
          70,
          75,
          80,
          85,
          90,
          95,
          100.1
         ],
         "y": [
          39205,
          29976,
          19080,
          12069,
          7753,
          5108,
          3345,
          2232,
          1487,
          997,
          637,
          423,
          309,
          227,
          157,
          114,
          97,
          74,
          59,
          46
         ]
        }
       ],
       "layout": {
        "title": "116717 novel transcripts - Alu",
        "xaxis": {
         "dtick": 5,
         "tick0": 0,
         "title": "Min. % exon coverage by Alu"
        },
        "yaxis": {
         "title": "transcripts"
        }
       }
      },
      "text/html": [
       "<div id=\"05f03659-aa8c-4e76-8395-70326c24b477\" style=\"height: 525px; width: 100%;\" class=\"plotly-graph-div\"></div><script type=\"text/javascript\">require([\"plotly\"], function(Plotly) { window.PLOTLYENV=window.PLOTLYENV || {};window.PLOTLYENV.BASE_URL=\"https://plot.ly\";\n",
       "        Plotly.plot(\n",
       "            '05f03659-aa8c-4e76-8395-70326c24b477',\n",
       "            [{\"text\": [\"39205\", \"29976\", \"19080\", \"12069\", \"7753\", \"5108\", \"3345\", \"2232\", \"1487\", \"997\", \"637\", \"423\", \"309\", \"227\", \"157\", \"114\", \"97\", \"74\", \"59\", \"46\"], \"textposition\": \"outside\", \"x\": [0.1, 5.0, 10.0, 15.0, 20.0, 25.0, 30.0, 35.0, 40.0, 45.0, 50.0, 55.0, 60.0, 65.0, 70.0, 75.0, 80.0, 85.0, 90.0, 95.0, 100.1], \"y\": [39205.0, 29976.0, 19080.0, 12069.0, 7753.0, 5108.0, 3345.0, 2232.0, 1487.0, 997.0, 637.0, 423.0, 309.0, 227.0, 157.0, 114.0, 97.0, 74.0, 59.0, 46.0], \"type\": \"bar\", \"uid\": \"943612a2-a4bf-11e8-9d26-782bcba4e79e\"}],\n",
       "            {\"title\": \"116717 novel transcripts - Alu\", \"xaxis\": {\"dtick\": 5, \"tick0\": 0, \"title\": \"Min. % exon coverage by Alu\"}, \"yaxis\": {\"title\": \"transcripts\"}},\n",
       "            {\"showLink\": true, \"linkText\": \"Export to plot.ly\"}\n",
       "        ).then(function () {return Plotly.addFrames('05f03659-aa8c-4e76-8395-70326c24b477',{});}).then(function(){Plotly.animate('05f03659-aa8c-4e76-8395-70326c24b477');})\n",
       "        });</script>"
      ],
      "text/vnd.plotly.v1+html": [
       "<div id=\"05f03659-aa8c-4e76-8395-70326c24b477\" style=\"height: 525px; width: 100%;\" class=\"plotly-graph-div\"></div><script type=\"text/javascript\">require([\"plotly\"], function(Plotly) { window.PLOTLYENV=window.PLOTLYENV || {};window.PLOTLYENV.BASE_URL=\"https://plot.ly\";\n",
       "        Plotly.plot(\n",
       "            '05f03659-aa8c-4e76-8395-70326c24b477',\n",
       "            [{\"text\": [\"39205\", \"29976\", \"19080\", \"12069\", \"7753\", \"5108\", \"3345\", \"2232\", \"1487\", \"997\", \"637\", \"423\", \"309\", \"227\", \"157\", \"114\", \"97\", \"74\", \"59\", \"46\"], \"textposition\": \"outside\", \"x\": [0.1, 5.0, 10.0, 15.0, 20.0, 25.0, 30.0, 35.0, 40.0, 45.0, 50.0, 55.0, 60.0, 65.0, 70.0, 75.0, 80.0, 85.0, 90.0, 95.0, 100.1], \"y\": [39205.0, 29976.0, 19080.0, 12069.0, 7753.0, 5108.0, 3345.0, 2232.0, 1487.0, 997.0, 637.0, 423.0, 309.0, 227.0, 157.0, 114.0, 97.0, 74.0, 59.0, 46.0], \"type\": \"bar\", \"uid\": \"943612a2-a4bf-11e8-9d26-782bcba4e79e\"}],\n",
       "            {\"title\": \"116717 novel transcripts - Alu\", \"xaxis\": {\"dtick\": 5, \"tick0\": 0, \"title\": \"Min. % exon coverage by Alu\"}, \"yaxis\": {\"title\": \"transcripts\"}},\n",
       "            {\"showLink\": true, \"linkText\": \"Export to plot.ly\"}\n",
       "        ).then(function () {return Plotly.addFrames('05f03659-aa8c-4e76-8395-70326c24b477',{});}).then(function(){Plotly.animate('05f03659-aa8c-4e76-8395-70326c24b477');})\n",
       "        });</script>"
      ]
     },
     "metadata": {},
     "output_type": "display_data"
    },
    {
     "data": {
      "application/vnd.plotly.v1+json": {
       "data": [
        {
         "text": [
          "46215",
          "32296",
          "23938",
          "18281",
          "14403",
          "11432",
          "9052",
          "7288",
          "5855",
          "4736",
          "3803",
          "3057",
          "2459",
          "1948",
          "1537",
          "1185",
          "929",
          "680",
          "489",
          "325"
         ],
         "textposition": "outside",
         "type": "bar",
         "uid": "943e0408-a4bf-11e8-9d26-782bcba4e79e",
         "x": [
          0.1,
          5,
          10,
          15,
          20,
          25,
          30,
          35,
          40,
          45,
          50,
          55,
          60,
          65,
          70,
          75,
          80,
          85,
          90,
          95,
          100.1
         ],
         "y": [
          46215,
          32296,
          23938,
          18281,
          14403,
          11432,
          9052,
          7288,
          5855,
          4736,
          3803,
          3057,
          2459,
          1948,
          1537,
          1185,
          929,
          680,
          489,
          325
         ]
        }
       ],
       "layout": {
        "title": "116717 novel transcripts - LINE/LTR",
        "xaxis": {
         "dtick": 5,
         "tick0": 0,
         "title": "Min. % exon coverage by LINE/LTR"
        },
        "yaxis": {
         "title": "transcripts"
        }
       }
      },
      "text/html": [
       "<div id=\"ee064d8c-bfc6-4054-9608-eeb7ece0f919\" style=\"height: 525px; width: 100%;\" class=\"plotly-graph-div\"></div><script type=\"text/javascript\">require([\"plotly\"], function(Plotly) { window.PLOTLYENV=window.PLOTLYENV || {};window.PLOTLYENV.BASE_URL=\"https://plot.ly\";\n",
       "        Plotly.plot(\n",
       "            'ee064d8c-bfc6-4054-9608-eeb7ece0f919',\n",
       "            [{\"text\": [\"46215\", \"32296\", \"23938\", \"18281\", \"14403\", \"11432\", \"9052\", \"7288\", \"5855\", \"4736\", \"3803\", \"3057\", \"2459\", \"1948\", \"1537\", \"1185\", \"929\", \"680\", \"489\", \"325\"], \"textposition\": \"outside\", \"x\": [0.1, 5.0, 10.0, 15.0, 20.0, 25.0, 30.0, 35.0, 40.0, 45.0, 50.0, 55.0, 60.0, 65.0, 70.0, 75.0, 80.0, 85.0, 90.0, 95.0, 100.1], \"y\": [46215.0, 32296.0, 23938.0, 18281.0, 14403.0, 11432.0, 9052.0, 7288.0, 5855.0, 4736.0, 3803.0, 3057.0, 2459.0, 1948.0, 1537.0, 1185.0, 929.0, 680.0, 489.0, 325.0], \"type\": \"bar\", \"uid\": \"943e0408-a4bf-11e8-9d26-782bcba4e79e\"}],\n",
       "            {\"title\": \"116717 novel transcripts - LINE/LTR\", \"xaxis\": {\"dtick\": 5, \"tick0\": 0, \"title\": \"Min. % exon coverage by LINE/LTR\"}, \"yaxis\": {\"title\": \"transcripts\"}},\n",
       "            {\"showLink\": true, \"linkText\": \"Export to plot.ly\"}\n",
       "        ).then(function () {return Plotly.addFrames('ee064d8c-bfc6-4054-9608-eeb7ece0f919',{});}).then(function(){Plotly.animate('ee064d8c-bfc6-4054-9608-eeb7ece0f919');})\n",
       "        });</script>"
      ],
      "text/vnd.plotly.v1+html": [
       "<div id=\"ee064d8c-bfc6-4054-9608-eeb7ece0f919\" style=\"height: 525px; width: 100%;\" class=\"plotly-graph-div\"></div><script type=\"text/javascript\">require([\"plotly\"], function(Plotly) { window.PLOTLYENV=window.PLOTLYENV || {};window.PLOTLYENV.BASE_URL=\"https://plot.ly\";\n",
       "        Plotly.plot(\n",
       "            'ee064d8c-bfc6-4054-9608-eeb7ece0f919',\n",
       "            [{\"text\": [\"46215\", \"32296\", \"23938\", \"18281\", \"14403\", \"11432\", \"9052\", \"7288\", \"5855\", \"4736\", \"3803\", \"3057\", \"2459\", \"1948\", \"1537\", \"1185\", \"929\", \"680\", \"489\", \"325\"], \"textposition\": \"outside\", \"x\": [0.1, 5.0, 10.0, 15.0, 20.0, 25.0, 30.0, 35.0, 40.0, 45.0, 50.0, 55.0, 60.0, 65.0, 70.0, 75.0, 80.0, 85.0, 90.0, 95.0, 100.1], \"y\": [46215.0, 32296.0, 23938.0, 18281.0, 14403.0, 11432.0, 9052.0, 7288.0, 5855.0, 4736.0, 3803.0, 3057.0, 2459.0, 1948.0, 1537.0, 1185.0, 929.0, 680.0, 489.0, 325.0], \"type\": \"bar\", \"uid\": \"943e0408-a4bf-11e8-9d26-782bcba4e79e\"}],\n",
       "            {\"title\": \"116717 novel transcripts - LINE/LTR\", \"xaxis\": {\"dtick\": 5, \"tick0\": 0, \"title\": \"Min. % exon coverage by LINE/LTR\"}, \"yaxis\": {\"title\": \"transcripts\"}},\n",
       "            {\"showLink\": true, \"linkText\": \"Export to plot.ly\"}\n",
       "        ).then(function () {return Plotly.addFrames('ee064d8c-bfc6-4054-9608-eeb7ece0f919',{});}).then(function(){Plotly.animate('ee064d8c-bfc6-4054-9608-eeb7ece0f919');})\n",
       "        });</script>"
      ]
     },
     "metadata": {},
     "output_type": "display_data"
    }
   ],
   "source": [
    "ndf=tdf[(tdf['tnovel'].eq(True))]\n",
    "plotCH(ndf, 'excov', ' novel transcripts - repeat content', \n",
    "                 'Min. % exon coverage by repeats')\n",
    "plotCH(ndf, 'alu_excov', ' novel transcripts - Alu', \n",
    "                 'Min. % exon coverage by Alu')\n",
    "plotCH(ndf, 'line_excov', ' novel transcripts - LINE/LTR', \n",
    "                 'Min. % exon coverage by LINE/LTR')\n"
   ]
  },
  {
   "cell_type": "code",
   "execution_count": 99,
   "metadata": {
    "scrolled": false
   },
   "outputs": [
    {
     "data": {
      "application/vnd.plotly.v1+json": {
       "data": [
        {
         "text": [
          "1384",
          "1378",
          "1363",
          "1342",
          "1321",
          "1286",
          "1244",
          "1175",
          "1121",
          "1060",
          "997",
          "919",
          "835",
          "733",
          "636",
          "550",
          "475",
          "384",
          "309",
          "238"
         ],
         "textposition": "outside",
         "type": "bar",
         "uid": "a2b24468-a4bf-11e8-9d26-782bcba4e79e",
         "x": [
          0.1,
          5,
          10,
          15,
          20,
          25,
          30,
          35,
          40,
          45,
          50,
          55,
          60,
          65,
          70,
          75,
          80,
          85,
          90,
          95,
          100.1
         ],
         "y": [
          1384,
          1378,
          1363,
          1342,
          1321,
          1286,
          1244,
          1175,
          1121,
          1060,
          997,
          919,
          835,
          733,
          636,
          550,
          475,
          384,
          309,
          238
         ]
        }
       ],
       "layout": {
        "title": "1406 coding transcripts in novel genes",
        "xaxis": {
         "dtick": 5,
         "tick0": 0,
         "title": "Min. % exon coverage by repeats"
        },
        "yaxis": {
         "title": "transcripts"
        }
       }
      },
      "text/html": [
       "<div id=\"4cfe508e-1e0f-420f-85ee-1430f57d4704\" style=\"height: 525px; width: 100%;\" class=\"plotly-graph-div\"></div><script type=\"text/javascript\">require([\"plotly\"], function(Plotly) { window.PLOTLYENV=window.PLOTLYENV || {};window.PLOTLYENV.BASE_URL=\"https://plot.ly\";\n",
       "        Plotly.plot(\n",
       "            '4cfe508e-1e0f-420f-85ee-1430f57d4704',\n",
       "            [{\"text\": [\"1384\", \"1378\", \"1363\", \"1342\", \"1321\", \"1286\", \"1244\", \"1175\", \"1121\", \"1060\", \"997\", \"919\", \"835\", \"733\", \"636\", \"550\", \"475\", \"384\", \"309\", \"238\"], \"textposition\": \"outside\", \"x\": [0.1, 5.0, 10.0, 15.0, 20.0, 25.0, 30.0, 35.0, 40.0, 45.0, 50.0, 55.0, 60.0, 65.0, 70.0, 75.0, 80.0, 85.0, 90.0, 95.0, 100.1], \"y\": [1384.0, 1378.0, 1363.0, 1342.0, 1321.0, 1286.0, 1244.0, 1175.0, 1121.0, 1060.0, 997.0, 919.0, 835.0, 733.0, 636.0, 550.0, 475.0, 384.0, 309.0, 238.0], \"type\": \"bar\", \"uid\": \"a2b24468-a4bf-11e8-9d26-782bcba4e79e\"}],\n",
       "            {\"title\": \"1406 coding transcripts in novel genes\", \"xaxis\": {\"dtick\": 5, \"tick0\": 0, \"title\": \"Min. % exon coverage by repeats\"}, \"yaxis\": {\"title\": \"transcripts\"}},\n",
       "            {\"showLink\": true, \"linkText\": \"Export to plot.ly\"}\n",
       "        ).then(function () {return Plotly.addFrames('4cfe508e-1e0f-420f-85ee-1430f57d4704',{});}).then(function(){Plotly.animate('4cfe508e-1e0f-420f-85ee-1430f57d4704');})\n",
       "        });</script>"
      ],
      "text/vnd.plotly.v1+html": [
       "<div id=\"4cfe508e-1e0f-420f-85ee-1430f57d4704\" style=\"height: 525px; width: 100%;\" class=\"plotly-graph-div\"></div><script type=\"text/javascript\">require([\"plotly\"], function(Plotly) { window.PLOTLYENV=window.PLOTLYENV || {};window.PLOTLYENV.BASE_URL=\"https://plot.ly\";\n",
       "        Plotly.plot(\n",
       "            '4cfe508e-1e0f-420f-85ee-1430f57d4704',\n",
       "            [{\"text\": [\"1384\", \"1378\", \"1363\", \"1342\", \"1321\", \"1286\", \"1244\", \"1175\", \"1121\", \"1060\", \"997\", \"919\", \"835\", \"733\", \"636\", \"550\", \"475\", \"384\", \"309\", \"238\"], \"textposition\": \"outside\", \"x\": [0.1, 5.0, 10.0, 15.0, 20.0, 25.0, 30.0, 35.0, 40.0, 45.0, 50.0, 55.0, 60.0, 65.0, 70.0, 75.0, 80.0, 85.0, 90.0, 95.0, 100.1], \"y\": [1384.0, 1378.0, 1363.0, 1342.0, 1321.0, 1286.0, 1244.0, 1175.0, 1121.0, 1060.0, 997.0, 919.0, 835.0, 733.0, 636.0, 550.0, 475.0, 384.0, 309.0, 238.0], \"type\": \"bar\", \"uid\": \"a2b24468-a4bf-11e8-9d26-782bcba4e79e\"}],\n",
       "            {\"title\": \"1406 coding transcripts in novel genes\", \"xaxis\": {\"dtick\": 5, \"tick0\": 0, \"title\": \"Min. % exon coverage by repeats\"}, \"yaxis\": {\"title\": \"transcripts\"}},\n",
       "            {\"showLink\": true, \"linkText\": \"Export to plot.ly\"}\n",
       "        ).then(function () {return Plotly.addFrames('4cfe508e-1e0f-420f-85ee-1430f57d4704',{});}).then(function(){Plotly.animate('4cfe508e-1e0f-420f-85ee-1430f57d4704');})\n",
       "        });</script>"
      ]
     },
     "metadata": {},
     "output_type": "display_data"
    },
    {
     "data": {
      "application/vnd.plotly.v1+json": {
       "data": [
        {
         "text": [
          "1058",
          "1019",
          "929",
          "812",
          "694",
          "590",
          "488",
          "395",
          "334",
          "265",
          "205",
          "149",
          "111",
          "89",
          "62",
          "44",
          "35",
          "23",
          "13",
          "8"
         ],
         "textposition": "outside",
         "type": "bar",
         "uid": "a2b88404-a4bf-11e8-9d26-782bcba4e79e",
         "x": [
          0.1,
          5,
          10,
          15,
          20,
          25,
          30,
          35,
          40,
          45,
          50,
          55,
          60,
          65,
          70,
          75,
          80,
          85,
          90,
          95,
          100.1
         ],
         "y": [
          1058,
          1019,
          929,
          812,
          694,
          590,
          488,
          395,
          334,
          265,
          205,
          149,
          111,
          89,
          62,
          44,
          35,
          23,
          13,
          8
         ]
        }
       ],
       "layout": {
        "title": "1406 coding transcripts in novel genes - Alu content",
        "xaxis": {
         "dtick": 5,
         "tick0": 0,
         "title": "Min. % exon coverage by Alu repeats"
        },
        "yaxis": {
         "title": "transcripts"
        }
       }
      },
      "text/html": [
       "<div id=\"6a7c3563-f89d-47d5-bae1-53187442766e\" style=\"height: 525px; width: 100%;\" class=\"plotly-graph-div\"></div><script type=\"text/javascript\">require([\"plotly\"], function(Plotly) { window.PLOTLYENV=window.PLOTLYENV || {};window.PLOTLYENV.BASE_URL=\"https://plot.ly\";\n",
       "        Plotly.plot(\n",
       "            '6a7c3563-f89d-47d5-bae1-53187442766e',\n",
       "            [{\"text\": [\"1058\", \"1019\", \"929\", \"812\", \"694\", \"590\", \"488\", \"395\", \"334\", \"265\", \"205\", \"149\", \"111\", \"89\", \"62\", \"44\", \"35\", \"23\", \"13\", \"8\"], \"textposition\": \"outside\", \"x\": [0.1, 5.0, 10.0, 15.0, 20.0, 25.0, 30.0, 35.0, 40.0, 45.0, 50.0, 55.0, 60.0, 65.0, 70.0, 75.0, 80.0, 85.0, 90.0, 95.0, 100.1], \"y\": [1058.0, 1019.0, 929.0, 812.0, 694.0, 590.0, 488.0, 395.0, 334.0, 265.0, 205.0, 149.0, 111.0, 89.0, 62.0, 44.0, 35.0, 23.0, 13.0, 8.0], \"type\": \"bar\", \"uid\": \"a2b88404-a4bf-11e8-9d26-782bcba4e79e\"}],\n",
       "            {\"title\": \"1406 coding transcripts in novel genes - Alu content\", \"xaxis\": {\"dtick\": 5, \"tick0\": 0, \"title\": \"Min. % exon coverage by Alu repeats\"}, \"yaxis\": {\"title\": \"transcripts\"}},\n",
       "            {\"showLink\": true, \"linkText\": \"Export to plot.ly\"}\n",
       "        ).then(function () {return Plotly.addFrames('6a7c3563-f89d-47d5-bae1-53187442766e',{});}).then(function(){Plotly.animate('6a7c3563-f89d-47d5-bae1-53187442766e');})\n",
       "        });</script>"
      ],
      "text/vnd.plotly.v1+html": [
       "<div id=\"6a7c3563-f89d-47d5-bae1-53187442766e\" style=\"height: 525px; width: 100%;\" class=\"plotly-graph-div\"></div><script type=\"text/javascript\">require([\"plotly\"], function(Plotly) { window.PLOTLYENV=window.PLOTLYENV || {};window.PLOTLYENV.BASE_URL=\"https://plot.ly\";\n",
       "        Plotly.plot(\n",
       "            '6a7c3563-f89d-47d5-bae1-53187442766e',\n",
       "            [{\"text\": [\"1058\", \"1019\", \"929\", \"812\", \"694\", \"590\", \"488\", \"395\", \"334\", \"265\", \"205\", \"149\", \"111\", \"89\", \"62\", \"44\", \"35\", \"23\", \"13\", \"8\"], \"textposition\": \"outside\", \"x\": [0.1, 5.0, 10.0, 15.0, 20.0, 25.0, 30.0, 35.0, 40.0, 45.0, 50.0, 55.0, 60.0, 65.0, 70.0, 75.0, 80.0, 85.0, 90.0, 95.0, 100.1], \"y\": [1058.0, 1019.0, 929.0, 812.0, 694.0, 590.0, 488.0, 395.0, 334.0, 265.0, 205.0, 149.0, 111.0, 89.0, 62.0, 44.0, 35.0, 23.0, 13.0, 8.0], \"type\": \"bar\", \"uid\": \"a2b88404-a4bf-11e8-9d26-782bcba4e79e\"}],\n",
       "            {\"title\": \"1406 coding transcripts in novel genes - Alu content\", \"xaxis\": {\"dtick\": 5, \"tick0\": 0, \"title\": \"Min. % exon coverage by Alu repeats\"}, \"yaxis\": {\"title\": \"transcripts\"}},\n",
       "            {\"showLink\": true, \"linkText\": \"Export to plot.ly\"}\n",
       "        ).then(function () {return Plotly.addFrames('6a7c3563-f89d-47d5-bae1-53187442766e',{});}).then(function(){Plotly.animate('6a7c3563-f89d-47d5-bae1-53187442766e');})\n",
       "        });</script>"
      ]
     },
     "metadata": {},
     "output_type": "display_data"
    },
    {
     "data": {
      "application/vnd.plotly.v1+json": {
       "data": [
        {
         "text": [
          "898",
          "810",
          "686",
          "556",
          "454",
          "358",
          "262",
          "202",
          "151",
          "108",
          "72",
          "47",
          "29",
          "20",
          "16",
          "10",
          "10",
          "6",
          "4",
          "2"
         ],
         "textposition": "outside",
         "type": "bar",
         "uid": "a2bed1ec-a4bf-11e8-9d26-782bcba4e79e",
         "x": [
          0.1,
          5,
          10,
          15,
          20,
          25,
          30,
          35,
          40,
          45,
          50,
          55,
          60,
          65,
          70,
          75,
          80,
          85,
          90,
          95,
          100.1
         ],
         "y": [
          898,
          810,
          686,
          556,
          454,
          358,
          262,
          202,
          151,
          108,
          72,
          47,
          29,
          20,
          16,
          10,
          10,
          6,
          4,
          2
         ]
        }
       ],
       "layout": {
        "title": "1406 coding transcripts in novel genes - LINE/LTR",
        "xaxis": {
         "dtick": 5,
         "tick0": 0,
         "title": "Min. % exon coverage by LINE/LTR"
        },
        "yaxis": {
         "title": "transcripts"
        }
       }
      },
      "text/html": [
       "<div id=\"68c25d76-4307-4c8e-a580-51e788492ac2\" style=\"height: 525px; width: 100%;\" class=\"plotly-graph-div\"></div><script type=\"text/javascript\">require([\"plotly\"], function(Plotly) { window.PLOTLYENV=window.PLOTLYENV || {};window.PLOTLYENV.BASE_URL=\"https://plot.ly\";\n",
       "        Plotly.plot(\n",
       "            '68c25d76-4307-4c8e-a580-51e788492ac2',\n",
       "            [{\"text\": [\"898\", \"810\", \"686\", \"556\", \"454\", \"358\", \"262\", \"202\", \"151\", \"108\", \"72\", \"47\", \"29\", \"20\", \"16\", \"10\", \"10\", \"6\", \"4\", \"2\"], \"textposition\": \"outside\", \"x\": [0.1, 5.0, 10.0, 15.0, 20.0, 25.0, 30.0, 35.0, 40.0, 45.0, 50.0, 55.0, 60.0, 65.0, 70.0, 75.0, 80.0, 85.0, 90.0, 95.0, 100.1], \"y\": [898.0, 810.0, 686.0, 556.0, 454.0, 358.0, 262.0, 202.0, 151.0, 108.0, 72.0, 47.0, 29.0, 20.0, 16.0, 10.0, 10.0, 6.0, 4.0, 2.0], \"type\": \"bar\", \"uid\": \"a2bed1ec-a4bf-11e8-9d26-782bcba4e79e\"}],\n",
       "            {\"title\": \"1406 coding transcripts in novel genes - LINE/LTR\", \"xaxis\": {\"dtick\": 5, \"tick0\": 0, \"title\": \"Min. % exon coverage by LINE/LTR\"}, \"yaxis\": {\"title\": \"transcripts\"}},\n",
       "            {\"showLink\": true, \"linkText\": \"Export to plot.ly\"}\n",
       "        ).then(function () {return Plotly.addFrames('68c25d76-4307-4c8e-a580-51e788492ac2',{});}).then(function(){Plotly.animate('68c25d76-4307-4c8e-a580-51e788492ac2');})\n",
       "        });</script>"
      ],
      "text/vnd.plotly.v1+html": [
       "<div id=\"68c25d76-4307-4c8e-a580-51e788492ac2\" style=\"height: 525px; width: 100%;\" class=\"plotly-graph-div\"></div><script type=\"text/javascript\">require([\"plotly\"], function(Plotly) { window.PLOTLYENV=window.PLOTLYENV || {};window.PLOTLYENV.BASE_URL=\"https://plot.ly\";\n",
       "        Plotly.plot(\n",
       "            '68c25d76-4307-4c8e-a580-51e788492ac2',\n",
       "            [{\"text\": [\"898\", \"810\", \"686\", \"556\", \"454\", \"358\", \"262\", \"202\", \"151\", \"108\", \"72\", \"47\", \"29\", \"20\", \"16\", \"10\", \"10\", \"6\", \"4\", \"2\"], \"textposition\": \"outside\", \"x\": [0.1, 5.0, 10.0, 15.0, 20.0, 25.0, 30.0, 35.0, 40.0, 45.0, 50.0, 55.0, 60.0, 65.0, 70.0, 75.0, 80.0, 85.0, 90.0, 95.0, 100.1], \"y\": [898.0, 810.0, 686.0, 556.0, 454.0, 358.0, 262.0, 202.0, 151.0, 108.0, 72.0, 47.0, 29.0, 20.0, 16.0, 10.0, 10.0, 6.0, 4.0, 2.0], \"type\": \"bar\", \"uid\": \"a2bed1ec-a4bf-11e8-9d26-782bcba4e79e\"}],\n",
       "            {\"title\": \"1406 coding transcripts in novel genes - LINE/LTR\", \"xaxis\": {\"dtick\": 5, \"tick0\": 0, \"title\": \"Min. % exon coverage by LINE/LTR\"}, \"yaxis\": {\"title\": \"transcripts\"}},\n",
       "            {\"showLink\": true, \"linkText\": \"Export to plot.ly\"}\n",
       "        ).then(function () {return Plotly.addFrames('68c25d76-4307-4c8e-a580-51e788492ac2',{});}).then(function(){Plotly.animate('68c25d76-4307-4c8e-a580-51e788492ac2');})\n",
       "        });</script>"
      ]
     },
     "metadata": {},
     "output_type": "display_data"
    },
    {
     "data": {
      "application/vnd.plotly.v1+json": {
       "data": [
        {
         "text": [
          "1295",
          "1288",
          "1274",
          "1261",
          "1248",
          "1239",
          "1230",
          "1224",
          "1217",
          "1200",
          "1181",
          "1157",
          "1130",
          "1089",
          "1037",
          "986",
          "910",
          "844",
          "747",
          "633"
         ],
         "textposition": "outside",
         "type": "bar",
         "uid": "a2cc59b6-a4bf-11e8-9d26-782bcba4e79e",
         "x": [
          0.1,
          5,
          10,
          15,
          20,
          25,
          30,
          35,
          40,
          45,
          50,
          55,
          60,
          65,
          70,
          75,
          80,
          85,
          90,
          95,
          100.1
         ],
         "y": [
          1295,
          1288,
          1274,
          1261,
          1248,
          1239,
          1230,
          1224,
          1217,
          1200,
          1181,
          1157,
          1130,
          1089,
          1037,
          986,
          910,
          844,
          747,
          633
         ]
        }
       ],
       "layout": {
        "title": "1406 coding transcripts in novel genes",
        "xaxis": {
         "dtick": 5,
         "tick0": 0,
         "title": "Min. % CDS coverage by repeats"
        },
        "yaxis": {
         "title": "transcripts"
        }
       }
      },
      "text/html": [
       "<div id=\"ffdb54b2-83a6-44b9-9d1c-623546fd3046\" style=\"height: 525px; width: 100%;\" class=\"plotly-graph-div\"></div><script type=\"text/javascript\">require([\"plotly\"], function(Plotly) { window.PLOTLYENV=window.PLOTLYENV || {};window.PLOTLYENV.BASE_URL=\"https://plot.ly\";\n",
       "        Plotly.plot(\n",
       "            'ffdb54b2-83a6-44b9-9d1c-623546fd3046',\n",
       "            [{\"text\": [\"1295\", \"1288\", \"1274\", \"1261\", \"1248\", \"1239\", \"1230\", \"1224\", \"1217\", \"1200\", \"1181\", \"1157\", \"1130\", \"1089\", \"1037\", \"986\", \"910\", \"844\", \"747\", \"633\"], \"textposition\": \"outside\", \"x\": [0.1, 5.0, 10.0, 15.0, 20.0, 25.0, 30.0, 35.0, 40.0, 45.0, 50.0, 55.0, 60.0, 65.0, 70.0, 75.0, 80.0, 85.0, 90.0, 95.0, 100.1], \"y\": [1295.0, 1288.0, 1274.0, 1261.0, 1248.0, 1239.0, 1230.0, 1224.0, 1217.0, 1200.0, 1181.0, 1157.0, 1130.0, 1089.0, 1037.0, 986.0, 910.0, 844.0, 747.0, 633.0], \"type\": \"bar\", \"uid\": \"a2cc59b6-a4bf-11e8-9d26-782bcba4e79e\"}],\n",
       "            {\"title\": \"1406 coding transcripts in novel genes\", \"xaxis\": {\"dtick\": 5, \"tick0\": 0, \"title\": \"Min. % CDS coverage by repeats\"}, \"yaxis\": {\"title\": \"transcripts\"}},\n",
       "            {\"showLink\": true, \"linkText\": \"Export to plot.ly\"}\n",
       "        ).then(function () {return Plotly.addFrames('ffdb54b2-83a6-44b9-9d1c-623546fd3046',{});}).then(function(){Plotly.animate('ffdb54b2-83a6-44b9-9d1c-623546fd3046');})\n",
       "        });</script>"
      ],
      "text/vnd.plotly.v1+html": [
       "<div id=\"ffdb54b2-83a6-44b9-9d1c-623546fd3046\" style=\"height: 525px; width: 100%;\" class=\"plotly-graph-div\"></div><script type=\"text/javascript\">require([\"plotly\"], function(Plotly) { window.PLOTLYENV=window.PLOTLYENV || {};window.PLOTLYENV.BASE_URL=\"https://plot.ly\";\n",
       "        Plotly.plot(\n",
       "            'ffdb54b2-83a6-44b9-9d1c-623546fd3046',\n",
       "            [{\"text\": [\"1295\", \"1288\", \"1274\", \"1261\", \"1248\", \"1239\", \"1230\", \"1224\", \"1217\", \"1200\", \"1181\", \"1157\", \"1130\", \"1089\", \"1037\", \"986\", \"910\", \"844\", \"747\", \"633\"], \"textposition\": \"outside\", \"x\": [0.1, 5.0, 10.0, 15.0, 20.0, 25.0, 30.0, 35.0, 40.0, 45.0, 50.0, 55.0, 60.0, 65.0, 70.0, 75.0, 80.0, 85.0, 90.0, 95.0, 100.1], \"y\": [1295.0, 1288.0, 1274.0, 1261.0, 1248.0, 1239.0, 1230.0, 1224.0, 1217.0, 1200.0, 1181.0, 1157.0, 1130.0, 1089.0, 1037.0, 986.0, 910.0, 844.0, 747.0, 633.0], \"type\": \"bar\", \"uid\": \"a2cc59b6-a4bf-11e8-9d26-782bcba4e79e\"}],\n",
       "            {\"title\": \"1406 coding transcripts in novel genes\", \"xaxis\": {\"dtick\": 5, \"tick0\": 0, \"title\": \"Min. % CDS coverage by repeats\"}, \"yaxis\": {\"title\": \"transcripts\"}},\n",
       "            {\"showLink\": true, \"linkText\": \"Export to plot.ly\"}\n",
       "        ).then(function () {return Plotly.addFrames('ffdb54b2-83a6-44b9-9d1c-623546fd3046',{});}).then(function(){Plotly.animate('ffdb54b2-83a6-44b9-9d1c-623546fd3046');})\n",
       "        });</script>"
      ]
     },
     "metadata": {},
     "output_type": "display_data"
    },
    {
     "data": {
      "application/vnd.plotly.v1+json": {
       "data": [
        {
         "text": [
          "874",
          "871",
          "863",
          "863",
          "862",
          "860",
          "854",
          "850",
          "842",
          "821",
          "801",
          "770",
          "730",
          "685",
          "621",
          "564",
          "475",
          "399",
          "314",
          "213"
         ],
         "textposition": "outside",
         "type": "bar",
         "uid": "a2d30a7c-a4bf-11e8-9d26-782bcba4e79e",
         "x": [
          0.1,
          5,
          10,
          15,
          20,
          25,
          30,
          35,
          40,
          45,
          50,
          55,
          60,
          65,
          70,
          75,
          80,
          85,
          90,
          95,
          100.1
         ],
         "y": [
          874,
          871,
          863,
          863,
          862,
          860,
          854,
          850,
          842,
          821,
          801,
          770,
          730,
          685,
          621,
          564,
          475,
          399,
          314,
          213
         ]
        }
       ],
       "layout": {
        "title": "1406 coding transcripts in novel genes - Alu content",
        "xaxis": {
         "dtick": 5,
         "tick0": 0,
         "title": "Min. % CDS coverage by Alu repeats"
        },
        "yaxis": {
         "title": "transcripts"
        }
       }
      },
      "text/html": [
       "<div id=\"2d204173-897a-4846-924a-b2b29f104818\" style=\"height: 525px; width: 100%;\" class=\"plotly-graph-div\"></div><script type=\"text/javascript\">require([\"plotly\"], function(Plotly) { window.PLOTLYENV=window.PLOTLYENV || {};window.PLOTLYENV.BASE_URL=\"https://plot.ly\";\n",
       "        Plotly.plot(\n",
       "            '2d204173-897a-4846-924a-b2b29f104818',\n",
       "            [{\"text\": [\"874\", \"871\", \"863\", \"863\", \"862\", \"860\", \"854\", \"850\", \"842\", \"821\", \"801\", \"770\", \"730\", \"685\", \"621\", \"564\", \"475\", \"399\", \"314\", \"213\"], \"textposition\": \"outside\", \"x\": [0.1, 5.0, 10.0, 15.0, 20.0, 25.0, 30.0, 35.0, 40.0, 45.0, 50.0, 55.0, 60.0, 65.0, 70.0, 75.0, 80.0, 85.0, 90.0, 95.0, 100.1], \"y\": [874.0, 871.0, 863.0, 863.0, 862.0, 860.0, 854.0, 850.0, 842.0, 821.0, 801.0, 770.0, 730.0, 685.0, 621.0, 564.0, 475.0, 399.0, 314.0, 213.0], \"type\": \"bar\", \"uid\": \"a2d30a7c-a4bf-11e8-9d26-782bcba4e79e\"}],\n",
       "            {\"title\": \"1406 coding transcripts in novel genes - Alu content\", \"xaxis\": {\"dtick\": 5, \"tick0\": 0, \"title\": \"Min. % CDS coverage by Alu repeats\"}, \"yaxis\": {\"title\": \"transcripts\"}},\n",
       "            {\"showLink\": true, \"linkText\": \"Export to plot.ly\"}\n",
       "        ).then(function () {return Plotly.addFrames('2d204173-897a-4846-924a-b2b29f104818',{});}).then(function(){Plotly.animate('2d204173-897a-4846-924a-b2b29f104818');})\n",
       "        });</script>"
      ],
      "text/vnd.plotly.v1+html": [
       "<div id=\"2d204173-897a-4846-924a-b2b29f104818\" style=\"height: 525px; width: 100%;\" class=\"plotly-graph-div\"></div><script type=\"text/javascript\">require([\"plotly\"], function(Plotly) { window.PLOTLYENV=window.PLOTLYENV || {};window.PLOTLYENV.BASE_URL=\"https://plot.ly\";\n",
       "        Plotly.plot(\n",
       "            '2d204173-897a-4846-924a-b2b29f104818',\n",
       "            [{\"text\": [\"874\", \"871\", \"863\", \"863\", \"862\", \"860\", \"854\", \"850\", \"842\", \"821\", \"801\", \"770\", \"730\", \"685\", \"621\", \"564\", \"475\", \"399\", \"314\", \"213\"], \"textposition\": \"outside\", \"x\": [0.1, 5.0, 10.0, 15.0, 20.0, 25.0, 30.0, 35.0, 40.0, 45.0, 50.0, 55.0, 60.0, 65.0, 70.0, 75.0, 80.0, 85.0, 90.0, 95.0, 100.1], \"y\": [874.0, 871.0, 863.0, 863.0, 862.0, 860.0, 854.0, 850.0, 842.0, 821.0, 801.0, 770.0, 730.0, 685.0, 621.0, 564.0, 475.0, 399.0, 314.0, 213.0], \"type\": \"bar\", \"uid\": \"a2d30a7c-a4bf-11e8-9d26-782bcba4e79e\"}],\n",
       "            {\"title\": \"1406 coding transcripts in novel genes - Alu content\", \"xaxis\": {\"dtick\": 5, \"tick0\": 0, \"title\": \"Min. % CDS coverage by Alu repeats\"}, \"yaxis\": {\"title\": \"transcripts\"}},\n",
       "            {\"showLink\": true, \"linkText\": \"Export to plot.ly\"}\n",
       "        ).then(function () {return Plotly.addFrames('2d204173-897a-4846-924a-b2b29f104818',{});}).then(function(){Plotly.animate('2d204173-897a-4846-924a-b2b29f104818');})\n",
       "        });</script>"
      ]
     },
     "metadata": {},
     "output_type": "display_data"
    },
    {
     "data": {
      "application/vnd.plotly.v1+json": {
       "data": [
        {
         "text": [
          "20",
          "20",
          "18",
          "16",
          "16",
          "15",
          "15",
          "15",
          "14",
          "12",
          "12",
          "12",
          "12",
          "10",
          "10",
          "10",
          "10",
          "10",
          "10",
          "10"
         ],
         "textposition": "outside",
         "type": "bar",
         "uid": "a2d93d02-a4bf-11e8-9d26-782bcba4e79e",
         "x": [
          0.1,
          5,
          10,
          15,
          20,
          25,
          30,
          35,
          40,
          45,
          50,
          55,
          60,
          65,
          70,
          75,
          80,
          85,
          90,
          95,
          100.1
         ],
         "y": [
          20,
          20,
          18,
          16,
          16,
          15,
          15,
          15,
          14,
          12,
          12,
          12,
          12,
          10,
          10,
          10,
          10,
          10,
          10,
          10
         ]
        }
       ],
       "layout": {
        "title": "1406 coding transcripts in novel genes - LINE/LTR",
        "xaxis": {
         "dtick": 5,
         "tick0": 0,
         "title": "Min. % CDS coverage by LINE/LTR"
        },
        "yaxis": {
         "title": "transcripts"
        }
       }
      },
      "text/html": [
       "<div id=\"3877b9ea-3263-43f7-af63-4f47834e0275\" style=\"height: 525px; width: 100%;\" class=\"plotly-graph-div\"></div><script type=\"text/javascript\">require([\"plotly\"], function(Plotly) { window.PLOTLYENV=window.PLOTLYENV || {};window.PLOTLYENV.BASE_URL=\"https://plot.ly\";\n",
       "        Plotly.plot(\n",
       "            '3877b9ea-3263-43f7-af63-4f47834e0275',\n",
       "            [{\"text\": [\"20\", \"20\", \"18\", \"16\", \"16\", \"15\", \"15\", \"15\", \"14\", \"12\", \"12\", \"12\", \"12\", \"10\", \"10\", \"10\", \"10\", \"10\", \"10\", \"10\"], \"textposition\": \"outside\", \"x\": [0.1, 5.0, 10.0, 15.0, 20.0, 25.0, 30.0, 35.0, 40.0, 45.0, 50.0, 55.0, 60.0, 65.0, 70.0, 75.0, 80.0, 85.0, 90.0, 95.0, 100.1], \"y\": [20.0, 20.0, 18.0, 16.0, 16.0, 15.0, 15.0, 15.0, 14.0, 12.0, 12.0, 12.0, 12.0, 10.0, 10.0, 10.0, 10.0, 10.0, 10.0, 10.0], \"type\": \"bar\", \"uid\": \"a2d93d02-a4bf-11e8-9d26-782bcba4e79e\"}],\n",
       "            {\"title\": \"1406 coding transcripts in novel genes - LINE/LTR\", \"xaxis\": {\"dtick\": 5, \"tick0\": 0, \"title\": \"Min. % CDS coverage by LINE/LTR\"}, \"yaxis\": {\"title\": \"transcripts\"}},\n",
       "            {\"showLink\": true, \"linkText\": \"Export to plot.ly\"}\n",
       "        ).then(function () {return Plotly.addFrames('3877b9ea-3263-43f7-af63-4f47834e0275',{});}).then(function(){Plotly.animate('3877b9ea-3263-43f7-af63-4f47834e0275');})\n",
       "        });</script>"
      ],
      "text/vnd.plotly.v1+html": [
       "<div id=\"3877b9ea-3263-43f7-af63-4f47834e0275\" style=\"height: 525px; width: 100%;\" class=\"plotly-graph-div\"></div><script type=\"text/javascript\">require([\"plotly\"], function(Plotly) { window.PLOTLYENV=window.PLOTLYENV || {};window.PLOTLYENV.BASE_URL=\"https://plot.ly\";\n",
       "        Plotly.plot(\n",
       "            '3877b9ea-3263-43f7-af63-4f47834e0275',\n",
       "            [{\"text\": [\"20\", \"20\", \"18\", \"16\", \"16\", \"15\", \"15\", \"15\", \"14\", \"12\", \"12\", \"12\", \"12\", \"10\", \"10\", \"10\", \"10\", \"10\", \"10\", \"10\"], \"textposition\": \"outside\", \"x\": [0.1, 5.0, 10.0, 15.0, 20.0, 25.0, 30.0, 35.0, 40.0, 45.0, 50.0, 55.0, 60.0, 65.0, 70.0, 75.0, 80.0, 85.0, 90.0, 95.0, 100.1], \"y\": [20.0, 20.0, 18.0, 16.0, 16.0, 15.0, 15.0, 15.0, 14.0, 12.0, 12.0, 12.0, 12.0, 10.0, 10.0, 10.0, 10.0, 10.0, 10.0, 10.0], \"type\": \"bar\", \"uid\": \"a2d93d02-a4bf-11e8-9d26-782bcba4e79e\"}],\n",
       "            {\"title\": \"1406 coding transcripts in novel genes - LINE/LTR\", \"xaxis\": {\"dtick\": 5, \"tick0\": 0, \"title\": \"Min. % CDS coverage by LINE/LTR\"}, \"yaxis\": {\"title\": \"transcripts\"}},\n",
       "            {\"showLink\": true, \"linkText\": \"Export to plot.ly\"}\n",
       "        ).then(function () {return Plotly.addFrames('3877b9ea-3263-43f7-af63-4f47834e0275',{});}).then(function(){Plotly.animate('3877b9ea-3263-43f7-af63-4f47834e0275');})\n",
       "        });</script>"
      ]
     },
     "metadata": {},
     "output_type": "display_data"
    }
   ],
   "source": [
    "pdf=ndf[(ndf['tcoding'].eq(True))]\n",
    "pdf=pdf[(pdf['gnovel'].eq(True))]\n",
    "plotCH(pdf, 'excov', ' coding transcripts in novel genes', 'Min. % exon coverage by repeats')\n",
    "plotCH(pdf, 'alu_excov', ' coding transcripts in novel genes - Alu content', 'Min. % exon coverage by Alu repeats')\n",
    "plotCH(pdf, 'line_excov', ' coding transcripts in novel genes - LINE/LTR', 'Min. % exon coverage by LINE/LTR')\n",
    "plotCH(pdf, 'cdcov', ' coding transcripts in novel genes', 'Min. % CDS coverage by repeats')\n",
    "plotCH(pdf, 'alu_cdcov', ' coding transcripts in novel genes - Alu content', 'Min. % CDS coverage by Alu repeats')\n",
    "plotCH(pdf, 'line_cdcov', ' coding transcripts in novel genes - LINE/LTR', 'Min. % CDS coverage by LINE/LTR')"
   ]
  },
  {
   "cell_type": "code",
   "execution_count": 100,
   "metadata": {
    "scrolled": false
   },
   "outputs": [
    {
     "data": {
      "application/vnd.plotly.v1+json": {
       "data": [
        {
         "text": [
          "1113",
          "1108",
          "1096",
          "1076",
          "1060",
          "1029",
          "993",
          "936",
          "888",
          "843",
          "795",
          "729",
          "663",
          "576",
          "493",
          "424",
          "369",
          "299",
          "250",
          "196"
         ],
         "textposition": "outside",
         "type": "bar",
         "uid": "bb3968c2-a4bf-11e8-9d26-782bcba4e79e",
         "x": [
          0.1,
          5,
          10,
          15,
          20,
          25,
          30,
          35,
          40,
          45,
          50,
          55,
          60,
          65,
          70,
          75,
          80,
          85,
          90,
          95,
          100.1
         ],
         "y": [
          1113,
          1108,
          1096,
          1076,
          1060,
          1029,
          993,
          936,
          888,
          843,
          795,
          729,
          663,
          576,
          493,
          424,
          369,
          299,
          250,
          196
         ]
        }
       ],
       "layout": {
        "title": "1134 multi-exon coding transcripts in novel genes",
        "xaxis": {
         "dtick": 5,
         "tick0": 0,
         "title": "Min. % exon coverage by repeats"
        },
        "yaxis": {
         "title": "transcripts"
        }
       }
      },
      "text/html": [
       "<div id=\"a0bf62db-73e5-44bc-ab6e-46765768e687\" style=\"height: 525px; width: 100%;\" class=\"plotly-graph-div\"></div><script type=\"text/javascript\">require([\"plotly\"], function(Plotly) { window.PLOTLYENV=window.PLOTLYENV || {};window.PLOTLYENV.BASE_URL=\"https://plot.ly\";\n",
       "        Plotly.plot(\n",
       "            'a0bf62db-73e5-44bc-ab6e-46765768e687',\n",
       "            [{\"text\": [\"1113\", \"1108\", \"1096\", \"1076\", \"1060\", \"1029\", \"993\", \"936\", \"888\", \"843\", \"795\", \"729\", \"663\", \"576\", \"493\", \"424\", \"369\", \"299\", \"250\", \"196\"], \"textposition\": \"outside\", \"x\": [0.1, 5.0, 10.0, 15.0, 20.0, 25.0, 30.0, 35.0, 40.0, 45.0, 50.0, 55.0, 60.0, 65.0, 70.0, 75.0, 80.0, 85.0, 90.0, 95.0, 100.1], \"y\": [1113.0, 1108.0, 1096.0, 1076.0, 1060.0, 1029.0, 993.0, 936.0, 888.0, 843.0, 795.0, 729.0, 663.0, 576.0, 493.0, 424.0, 369.0, 299.0, 250.0, 196.0], \"type\": \"bar\", \"uid\": \"bb3968c2-a4bf-11e8-9d26-782bcba4e79e\"}],\n",
       "            {\"title\": \"1134 multi-exon coding transcripts in novel genes\", \"xaxis\": {\"dtick\": 5, \"tick0\": 0, \"title\": \"Min. % exon coverage by repeats\"}, \"yaxis\": {\"title\": \"transcripts\"}},\n",
       "            {\"showLink\": true, \"linkText\": \"Export to plot.ly\"}\n",
       "        ).then(function () {return Plotly.addFrames('a0bf62db-73e5-44bc-ab6e-46765768e687',{});}).then(function(){Plotly.animate('a0bf62db-73e5-44bc-ab6e-46765768e687');})\n",
       "        });</script>"
      ],
      "text/vnd.plotly.v1+html": [
       "<div id=\"a0bf62db-73e5-44bc-ab6e-46765768e687\" style=\"height: 525px; width: 100%;\" class=\"plotly-graph-div\"></div><script type=\"text/javascript\">require([\"plotly\"], function(Plotly) { window.PLOTLYENV=window.PLOTLYENV || {};window.PLOTLYENV.BASE_URL=\"https://plot.ly\";\n",
       "        Plotly.plot(\n",
       "            'a0bf62db-73e5-44bc-ab6e-46765768e687',\n",
       "            [{\"text\": [\"1113\", \"1108\", \"1096\", \"1076\", \"1060\", \"1029\", \"993\", \"936\", \"888\", \"843\", \"795\", \"729\", \"663\", \"576\", \"493\", \"424\", \"369\", \"299\", \"250\", \"196\"], \"textposition\": \"outside\", \"x\": [0.1, 5.0, 10.0, 15.0, 20.0, 25.0, 30.0, 35.0, 40.0, 45.0, 50.0, 55.0, 60.0, 65.0, 70.0, 75.0, 80.0, 85.0, 90.0, 95.0, 100.1], \"y\": [1113.0, 1108.0, 1096.0, 1076.0, 1060.0, 1029.0, 993.0, 936.0, 888.0, 843.0, 795.0, 729.0, 663.0, 576.0, 493.0, 424.0, 369.0, 299.0, 250.0, 196.0], \"type\": \"bar\", \"uid\": \"bb3968c2-a4bf-11e8-9d26-782bcba4e79e\"}],\n",
       "            {\"title\": \"1134 multi-exon coding transcripts in novel genes\", \"xaxis\": {\"dtick\": 5, \"tick0\": 0, \"title\": \"Min. % exon coverage by repeats\"}, \"yaxis\": {\"title\": \"transcripts\"}},\n",
       "            {\"showLink\": true, \"linkText\": \"Export to plot.ly\"}\n",
       "        ).then(function () {return Plotly.addFrames('a0bf62db-73e5-44bc-ab6e-46765768e687',{});}).then(function(){Plotly.animate('a0bf62db-73e5-44bc-ab6e-46765768e687');})\n",
       "        });</script>"
      ]
     },
     "metadata": {},
     "output_type": "display_data"
    },
    {
     "data": {
      "application/vnd.plotly.v1+json": {
       "data": [
        {
         "text": [
          "1030",
          "1023",
          "1010",
          "1002",
          "991",
          "985",
          "978",
          "974",
          "968",
          "953",
          "937",
          "917",
          "893",
          "860",
          "819",
          "778",
          "722",
          "664",
          "594",
          "511"
         ],
         "textposition": "outside",
         "type": "bar",
         "uid": "bb3fe918-a4bf-11e8-9d26-782bcba4e79e",
         "x": [
          0.1,
          5,
          10,
          15,
          20,
          25,
          30,
          35,
          40,
          45,
          50,
          55,
          60,
          65,
          70,
          75,
          80,
          85,
          90,
          95,
          100.1
         ],
         "y": [
          1030,
          1023,
          1010,
          1002,
          991,
          985,
          978,
          974,
          968,
          953,
          937,
          917,
          893,
          860,
          819,
          778,
          722,
          664,
          594,
          511
         ]
        }
       ],
       "layout": {
        "title": "1134 multi-exon coding transcripts in novel genes",
        "xaxis": {
         "dtick": 5,
         "tick0": 0,
         "title": "Min. % CDS coverage by repeats"
        },
        "yaxis": {
         "title": "transcripts"
        }
       }
      },
      "text/html": [
       "<div id=\"8a5e0fc3-f8bf-41e0-9ec0-c06a4a46e786\" style=\"height: 525px; width: 100%;\" class=\"plotly-graph-div\"></div><script type=\"text/javascript\">require([\"plotly\"], function(Plotly) { window.PLOTLYENV=window.PLOTLYENV || {};window.PLOTLYENV.BASE_URL=\"https://plot.ly\";\n",
       "        Plotly.plot(\n",
       "            '8a5e0fc3-f8bf-41e0-9ec0-c06a4a46e786',\n",
       "            [{\"text\": [\"1030\", \"1023\", \"1010\", \"1002\", \"991\", \"985\", \"978\", \"974\", \"968\", \"953\", \"937\", \"917\", \"893\", \"860\", \"819\", \"778\", \"722\", \"664\", \"594\", \"511\"], \"textposition\": \"outside\", \"x\": [0.1, 5.0, 10.0, 15.0, 20.0, 25.0, 30.0, 35.0, 40.0, 45.0, 50.0, 55.0, 60.0, 65.0, 70.0, 75.0, 80.0, 85.0, 90.0, 95.0, 100.1], \"y\": [1030.0, 1023.0, 1010.0, 1002.0, 991.0, 985.0, 978.0, 974.0, 968.0, 953.0, 937.0, 917.0, 893.0, 860.0, 819.0, 778.0, 722.0, 664.0, 594.0, 511.0], \"type\": \"bar\", \"uid\": \"bb3fe918-a4bf-11e8-9d26-782bcba4e79e\"}],\n",
       "            {\"title\": \"1134 multi-exon coding transcripts in novel genes\", \"xaxis\": {\"dtick\": 5, \"tick0\": 0, \"title\": \"Min. % CDS coverage by repeats\"}, \"yaxis\": {\"title\": \"transcripts\"}},\n",
       "            {\"showLink\": true, \"linkText\": \"Export to plot.ly\"}\n",
       "        ).then(function () {return Plotly.addFrames('8a5e0fc3-f8bf-41e0-9ec0-c06a4a46e786',{});}).then(function(){Plotly.animate('8a5e0fc3-f8bf-41e0-9ec0-c06a4a46e786');})\n",
       "        });</script>"
      ],
      "text/vnd.plotly.v1+html": [
       "<div id=\"8a5e0fc3-f8bf-41e0-9ec0-c06a4a46e786\" style=\"height: 525px; width: 100%;\" class=\"plotly-graph-div\"></div><script type=\"text/javascript\">require([\"plotly\"], function(Plotly) { window.PLOTLYENV=window.PLOTLYENV || {};window.PLOTLYENV.BASE_URL=\"https://plot.ly\";\n",
       "        Plotly.plot(\n",
       "            '8a5e0fc3-f8bf-41e0-9ec0-c06a4a46e786',\n",
       "            [{\"text\": [\"1030\", \"1023\", \"1010\", \"1002\", \"991\", \"985\", \"978\", \"974\", \"968\", \"953\", \"937\", \"917\", \"893\", \"860\", \"819\", \"778\", \"722\", \"664\", \"594\", \"511\"], \"textposition\": \"outside\", \"x\": [0.1, 5.0, 10.0, 15.0, 20.0, 25.0, 30.0, 35.0, 40.0, 45.0, 50.0, 55.0, 60.0, 65.0, 70.0, 75.0, 80.0, 85.0, 90.0, 95.0, 100.1], \"y\": [1030.0, 1023.0, 1010.0, 1002.0, 991.0, 985.0, 978.0, 974.0, 968.0, 953.0, 937.0, 917.0, 893.0, 860.0, 819.0, 778.0, 722.0, 664.0, 594.0, 511.0], \"type\": \"bar\", \"uid\": \"bb3fe918-a4bf-11e8-9d26-782bcba4e79e\"}],\n",
       "            {\"title\": \"1134 multi-exon coding transcripts in novel genes\", \"xaxis\": {\"dtick\": 5, \"tick0\": 0, \"title\": \"Min. % CDS coverage by repeats\"}, \"yaxis\": {\"title\": \"transcripts\"}},\n",
       "            {\"showLink\": true, \"linkText\": \"Export to plot.ly\"}\n",
       "        ).then(function () {return Plotly.addFrames('8a5e0fc3-f8bf-41e0-9ec0-c06a4a46e786',{});}).then(function(){Plotly.animate('8a5e0fc3-f8bf-41e0-9ec0-c06a4a46e786');})\n",
       "        });</script>"
      ]
     },
     "metadata": {},
     "output_type": "display_data"
    },
    {
     "data": {
      "application/vnd.plotly.v1+json": {
       "data": [
        {
         "text": [
          "687",
          "684",
          "677",
          "677",
          "676",
          "674",
          "668",
          "665",
          "659",
          "640",
          "624",
          "602",
          "564",
          "525",
          "474",
          "431",
          "361",
          "296",
          "234",
          "162"
         ],
         "textposition": "outside",
         "type": "bar",
         "uid": "bb46a80c-a4bf-11e8-9d26-782bcba4e79e",
         "x": [
          0.1,
          5,
          10,
          15,
          20,
          25,
          30,
          35,
          40,
          45,
          50,
          55,
          60,
          65,
          70,
          75,
          80,
          85,
          90,
          95,
          100.1
         ],
         "y": [
          687,
          684,
          677,
          677,
          676,
          674,
          668,
          665,
          659,
          640,
          624,
          602,
          564,
          525,
          474,
          431,
          361,
          296,
          234,
          162
         ]
        }
       ],
       "layout": {
        "title": "1134 multi-exon coding transcripts in novel genes - Alu",
        "xaxis": {
         "dtick": 5,
         "tick0": 0,
         "title": "Min. % CDS coverage by Alu"
        },
        "yaxis": {
         "title": "transcripts"
        }
       }
      },
      "text/html": [
       "<div id=\"1ce57943-1924-4da5-bee7-8b34f4fd0783\" style=\"height: 525px; width: 100%;\" class=\"plotly-graph-div\"></div><script type=\"text/javascript\">require([\"plotly\"], function(Plotly) { window.PLOTLYENV=window.PLOTLYENV || {};window.PLOTLYENV.BASE_URL=\"https://plot.ly\";\n",
       "        Plotly.plot(\n",
       "            '1ce57943-1924-4da5-bee7-8b34f4fd0783',\n",
       "            [{\"text\": [\"687\", \"684\", \"677\", \"677\", \"676\", \"674\", \"668\", \"665\", \"659\", \"640\", \"624\", \"602\", \"564\", \"525\", \"474\", \"431\", \"361\", \"296\", \"234\", \"162\"], \"textposition\": \"outside\", \"x\": [0.1, 5.0, 10.0, 15.0, 20.0, 25.0, 30.0, 35.0, 40.0, 45.0, 50.0, 55.0, 60.0, 65.0, 70.0, 75.0, 80.0, 85.0, 90.0, 95.0, 100.1], \"y\": [687.0, 684.0, 677.0, 677.0, 676.0, 674.0, 668.0, 665.0, 659.0, 640.0, 624.0, 602.0, 564.0, 525.0, 474.0, 431.0, 361.0, 296.0, 234.0, 162.0], \"type\": \"bar\", \"uid\": \"bb46a80c-a4bf-11e8-9d26-782bcba4e79e\"}],\n",
       "            {\"title\": \"1134 multi-exon coding transcripts in novel genes - Alu\", \"xaxis\": {\"dtick\": 5, \"tick0\": 0, \"title\": \"Min. % CDS coverage by Alu\"}, \"yaxis\": {\"title\": \"transcripts\"}},\n",
       "            {\"showLink\": true, \"linkText\": \"Export to plot.ly\"}\n",
       "        ).then(function () {return Plotly.addFrames('1ce57943-1924-4da5-bee7-8b34f4fd0783',{});}).then(function(){Plotly.animate('1ce57943-1924-4da5-bee7-8b34f4fd0783');})\n",
       "        });</script>"
      ],
      "text/vnd.plotly.v1+html": [
       "<div id=\"1ce57943-1924-4da5-bee7-8b34f4fd0783\" style=\"height: 525px; width: 100%;\" class=\"plotly-graph-div\"></div><script type=\"text/javascript\">require([\"plotly\"], function(Plotly) { window.PLOTLYENV=window.PLOTLYENV || {};window.PLOTLYENV.BASE_URL=\"https://plot.ly\";\n",
       "        Plotly.plot(\n",
       "            '1ce57943-1924-4da5-bee7-8b34f4fd0783',\n",
       "            [{\"text\": [\"687\", \"684\", \"677\", \"677\", \"676\", \"674\", \"668\", \"665\", \"659\", \"640\", \"624\", \"602\", \"564\", \"525\", \"474\", \"431\", \"361\", \"296\", \"234\", \"162\"], \"textposition\": \"outside\", \"x\": [0.1, 5.0, 10.0, 15.0, 20.0, 25.0, 30.0, 35.0, 40.0, 45.0, 50.0, 55.0, 60.0, 65.0, 70.0, 75.0, 80.0, 85.0, 90.0, 95.0, 100.1], \"y\": [687.0, 684.0, 677.0, 677.0, 676.0, 674.0, 668.0, 665.0, 659.0, 640.0, 624.0, 602.0, 564.0, 525.0, 474.0, 431.0, 361.0, 296.0, 234.0, 162.0], \"type\": \"bar\", \"uid\": \"bb46a80c-a4bf-11e8-9d26-782bcba4e79e\"}],\n",
       "            {\"title\": \"1134 multi-exon coding transcripts in novel genes - Alu\", \"xaxis\": {\"dtick\": 5, \"tick0\": 0, \"title\": \"Min. % CDS coverage by Alu\"}, \"yaxis\": {\"title\": \"transcripts\"}},\n",
       "            {\"showLink\": true, \"linkText\": \"Export to plot.ly\"}\n",
       "        ).then(function () {return Plotly.addFrames('1ce57943-1924-4da5-bee7-8b34f4fd0783',{});}).then(function(){Plotly.animate('1ce57943-1924-4da5-bee7-8b34f4fd0783');})\n",
       "        });</script>"
      ]
     },
     "metadata": {},
     "output_type": "display_data"
    },
    {
     "data": {
      "application/vnd.plotly.v1+json": {
       "data": [
        {
         "text": [
          "17",
          "17",
          "15",
          "14",
          "14",
          "13",
          "13",
          "13",
          "12",
          "11",
          "11",
          "11",
          "11",
          "9",
          "9",
          "9",
          "9",
          "9",
          "9",
          "9"
         ],
         "textposition": "outside",
         "type": "bar",
         "uid": "bb4d2132-a4bf-11e8-9d26-782bcba4e79e",
         "x": [
          0.1,
          5,
          10,
          15,
          20,
          25,
          30,
          35,
          40,
          45,
          50,
          55,
          60,
          65,
          70,
          75,
          80,
          85,
          90,
          95,
          100.1
         ],
         "y": [
          17,
          17,
          15,
          14,
          14,
          13,
          13,
          13,
          12,
          11,
          11,
          11,
          11,
          9,
          9,
          9,
          9,
          9,
          9,
          9
         ]
        }
       ],
       "layout": {
        "title": "1134 multi-exon coding transcripts in novel genes - LINE/LTR",
        "xaxis": {
         "dtick": 5,
         "tick0": 0,
         "title": "Min. % CDS coverage by LINE/LTR"
        },
        "yaxis": {
         "title": "transcripts"
        }
       }
      },
      "text/html": [
       "<div id=\"f09981fb-99c6-402d-9f60-3469e0b96b00\" style=\"height: 525px; width: 100%;\" class=\"plotly-graph-div\"></div><script type=\"text/javascript\">require([\"plotly\"], function(Plotly) { window.PLOTLYENV=window.PLOTLYENV || {};window.PLOTLYENV.BASE_URL=\"https://plot.ly\";\n",
       "        Plotly.plot(\n",
       "            'f09981fb-99c6-402d-9f60-3469e0b96b00',\n",
       "            [{\"text\": [\"17\", \"17\", \"15\", \"14\", \"14\", \"13\", \"13\", \"13\", \"12\", \"11\", \"11\", \"11\", \"11\", \"9\", \"9\", \"9\", \"9\", \"9\", \"9\", \"9\"], \"textposition\": \"outside\", \"x\": [0.1, 5.0, 10.0, 15.0, 20.0, 25.0, 30.0, 35.0, 40.0, 45.0, 50.0, 55.0, 60.0, 65.0, 70.0, 75.0, 80.0, 85.0, 90.0, 95.0, 100.1], \"y\": [17.0, 17.0, 15.0, 14.0, 14.0, 13.0, 13.0, 13.0, 12.0, 11.0, 11.0, 11.0, 11.0, 9.0, 9.0, 9.0, 9.0, 9.0, 9.0, 9.0], \"type\": \"bar\", \"uid\": \"bb4d2132-a4bf-11e8-9d26-782bcba4e79e\"}],\n",
       "            {\"title\": \"1134 multi-exon coding transcripts in novel genes - LINE/LTR\", \"xaxis\": {\"dtick\": 5, \"tick0\": 0, \"title\": \"Min. % CDS coverage by LINE/LTR\"}, \"yaxis\": {\"title\": \"transcripts\"}},\n",
       "            {\"showLink\": true, \"linkText\": \"Export to plot.ly\"}\n",
       "        ).then(function () {return Plotly.addFrames('f09981fb-99c6-402d-9f60-3469e0b96b00',{});}).then(function(){Plotly.animate('f09981fb-99c6-402d-9f60-3469e0b96b00');})\n",
       "        });</script>"
      ],
      "text/vnd.plotly.v1+html": [
       "<div id=\"f09981fb-99c6-402d-9f60-3469e0b96b00\" style=\"height: 525px; width: 100%;\" class=\"plotly-graph-div\"></div><script type=\"text/javascript\">require([\"plotly\"], function(Plotly) { window.PLOTLYENV=window.PLOTLYENV || {};window.PLOTLYENV.BASE_URL=\"https://plot.ly\";\n",
       "        Plotly.plot(\n",
       "            'f09981fb-99c6-402d-9f60-3469e0b96b00',\n",
       "            [{\"text\": [\"17\", \"17\", \"15\", \"14\", \"14\", \"13\", \"13\", \"13\", \"12\", \"11\", \"11\", \"11\", \"11\", \"9\", \"9\", \"9\", \"9\", \"9\", \"9\", \"9\"], \"textposition\": \"outside\", \"x\": [0.1, 5.0, 10.0, 15.0, 20.0, 25.0, 30.0, 35.0, 40.0, 45.0, 50.0, 55.0, 60.0, 65.0, 70.0, 75.0, 80.0, 85.0, 90.0, 95.0, 100.1], \"y\": [17.0, 17.0, 15.0, 14.0, 14.0, 13.0, 13.0, 13.0, 12.0, 11.0, 11.0, 11.0, 11.0, 9.0, 9.0, 9.0, 9.0, 9.0, 9.0, 9.0], \"type\": \"bar\", \"uid\": \"bb4d2132-a4bf-11e8-9d26-782bcba4e79e\"}],\n",
       "            {\"title\": \"1134 multi-exon coding transcripts in novel genes - LINE/LTR\", \"xaxis\": {\"dtick\": 5, \"tick0\": 0, \"title\": \"Min. % CDS coverage by LINE/LTR\"}, \"yaxis\": {\"title\": \"transcripts\"}},\n",
       "            {\"showLink\": true, \"linkText\": \"Export to plot.ly\"}\n",
       "        ).then(function () {return Plotly.addFrames('f09981fb-99c6-402d-9f60-3469e0b96b00',{});}).then(function(){Plotly.animate('f09981fb-99c6-402d-9f60-3469e0b96b00');})\n",
       "        });</script>"
      ]
     },
     "metadata": {},
     "output_type": "display_data"
    }
   ],
   "source": [
    "mxdf=pdf[(pdf['excount']>1)]\n",
    "plotCH(mxdf, 'excov', ' multi-exon coding transcripts in novel genes', 'Min. % exon coverage by repeats')\n",
    "plotCH(mxdf, 'cdcov', ' multi-exon coding transcripts in novel genes', 'Min. % CDS coverage by repeats')\n",
    "plotCH(mxdf, 'alu_cdcov', ' multi-exon coding transcripts in novel genes - Alu', 'Min. % CDS coverage by Alu')\n",
    "plotCH(mxdf, 'line_cdcov', ' multi-exon coding transcripts in novel genes - LINE/LTR', 'Min. % CDS coverage by LINE/LTR')"
   ]
  },
  {
   "cell_type": "code",
   "execution_count": 101,
   "metadata": {},
   "outputs": [
    {
     "data": {
      "application/vnd.plotly.v1+json": {
       "data": [
        {
         "text": [
          "3435",
          "2127",
          "1307",
          "901",
          "654",
          "496",
          "387",
          "298",
          "241",
          "183",
          "139",
          "109",
          "91",
          "81",
          "71",
          "53",
          "45",
          "34",
          "28",
          "23"
         ],
         "textposition": "outside",
         "type": "bar",
         "uid": "d1351126-a4bf-11e8-9d26-782bcba4e79e",
         "x": [
          0.1,
          5,
          10,
          15,
          20,
          25,
          30,
          35,
          40,
          45,
          50,
          55,
          60,
          65,
          70,
          75,
          80,
          85,
          90,
          95,
          100.1
         ],
         "y": [
          3435,
          2127,
          1307,
          901,
          654,
          496,
          387,
          298,
          241,
          183,
          139,
          109,
          91,
          81,
          71,
          53,
          45,
          34,
          28,
          23
         ]
        }
       ],
       "layout": {
        "title": "15910 multi-exon coding transcripts in Gencode exclusive genes",
        "xaxis": {
         "dtick": 5,
         "tick0": 0,
         "title": "Min. % CDS coverage by repeats"
        },
        "yaxis": {
         "title": "transcripts"
        }
       }
      },
      "text/html": [
       "<div id=\"4cd58096-669a-47bc-bc69-b02dca867aea\" style=\"height: 525px; width: 100%;\" class=\"plotly-graph-div\"></div><script type=\"text/javascript\">require([\"plotly\"], function(Plotly) { window.PLOTLYENV=window.PLOTLYENV || {};window.PLOTLYENV.BASE_URL=\"https://plot.ly\";\n",
       "        Plotly.plot(\n",
       "            '4cd58096-669a-47bc-bc69-b02dca867aea',\n",
       "            [{\"text\": [\"3435\", \"2127\", \"1307\", \"901\", \"654\", \"496\", \"387\", \"298\", \"241\", \"183\", \"139\", \"109\", \"91\", \"81\", \"71\", \"53\", \"45\", \"34\", \"28\", \"23\"], \"textposition\": \"outside\", \"x\": [0.1, 5.0, 10.0, 15.0, 20.0, 25.0, 30.0, 35.0, 40.0, 45.0, 50.0, 55.0, 60.0, 65.0, 70.0, 75.0, 80.0, 85.0, 90.0, 95.0, 100.1], \"y\": [3435.0, 2127.0, 1307.0, 901.0, 654.0, 496.0, 387.0, 298.0, 241.0, 183.0, 139.0, 109.0, 91.0, 81.0, 71.0, 53.0, 45.0, 34.0, 28.0, 23.0], \"type\": \"bar\", \"uid\": \"d1351126-a4bf-11e8-9d26-782bcba4e79e\"}],\n",
       "            {\"title\": \"15910 multi-exon coding transcripts in Gencode exclusive genes\", \"xaxis\": {\"dtick\": 5, \"tick0\": 0, \"title\": \"Min. % CDS coverage by repeats\"}, \"yaxis\": {\"title\": \"transcripts\"}},\n",
       "            {\"showLink\": true, \"linkText\": \"Export to plot.ly\"}\n",
       "        ).then(function () {return Plotly.addFrames('4cd58096-669a-47bc-bc69-b02dca867aea',{});}).then(function(){Plotly.animate('4cd58096-669a-47bc-bc69-b02dca867aea');})\n",
       "        });</script>"
      ],
      "text/vnd.plotly.v1+html": [
       "<div id=\"4cd58096-669a-47bc-bc69-b02dca867aea\" style=\"height: 525px; width: 100%;\" class=\"plotly-graph-div\"></div><script type=\"text/javascript\">require([\"plotly\"], function(Plotly) { window.PLOTLYENV=window.PLOTLYENV || {};window.PLOTLYENV.BASE_URL=\"https://plot.ly\";\n",
       "        Plotly.plot(\n",
       "            '4cd58096-669a-47bc-bc69-b02dca867aea',\n",
       "            [{\"text\": [\"3435\", \"2127\", \"1307\", \"901\", \"654\", \"496\", \"387\", \"298\", \"241\", \"183\", \"139\", \"109\", \"91\", \"81\", \"71\", \"53\", \"45\", \"34\", \"28\", \"23\"], \"textposition\": \"outside\", \"x\": [0.1, 5.0, 10.0, 15.0, 20.0, 25.0, 30.0, 35.0, 40.0, 45.0, 50.0, 55.0, 60.0, 65.0, 70.0, 75.0, 80.0, 85.0, 90.0, 95.0, 100.1], \"y\": [3435.0, 2127.0, 1307.0, 901.0, 654.0, 496.0, 387.0, 298.0, 241.0, 183.0, 139.0, 109.0, 91.0, 81.0, 71.0, 53.0, 45.0, 34.0, 28.0, 23.0], \"type\": \"bar\", \"uid\": \"d1351126-a4bf-11e8-9d26-782bcba4e79e\"}],\n",
       "            {\"title\": \"15910 multi-exon coding transcripts in Gencode exclusive genes\", \"xaxis\": {\"dtick\": 5, \"tick0\": 0, \"title\": \"Min. % CDS coverage by repeats\"}, \"yaxis\": {\"title\": \"transcripts\"}},\n",
       "            {\"showLink\": true, \"linkText\": \"Export to plot.ly\"}\n",
       "        ).then(function () {return Plotly.addFrames('4cd58096-669a-47bc-bc69-b02dca867aea',{});}).then(function(){Plotly.animate('4cd58096-669a-47bc-bc69-b02dca867aea');})\n",
       "        });</script>"
      ]
     },
     "metadata": {},
     "output_type": "display_data"
    },
    {
     "data": {
      "application/vnd.plotly.v1+json": {
       "data": [
        {
         "text": [
          "442",
          "400",
          "339",
          "286",
          "228",
          "193",
          "153",
          "122",
          "96",
          "69",
          "49",
          "41",
          "30",
          "24",
          "20",
          "15",
          "13",
          "8",
          "4",
          "2"
         ],
         "textposition": "outside",
         "type": "bar",
         "uid": "d13bb134-a4bf-11e8-9d26-782bcba4e79e",
         "x": [
          0.1,
          5,
          10,
          15,
          20,
          25,
          30,
          35,
          40,
          45,
          50,
          55,
          60,
          65,
          70,
          75,
          80,
          85,
          90,
          95,
          100.1
         ],
         "y": [
          442,
          400,
          339,
          286,
          228,
          193,
          153,
          122,
          96,
          69,
          49,
          41,
          30,
          24,
          20,
          15,
          13,
          8,
          4,
          2
         ]
        }
       ],
       "layout": {
        "title": "15910 multi-exon coding transcripts in Gencode exclusive genes - Alu",
        "xaxis": {
         "dtick": 5,
         "tick0": 0,
         "title": "Min. % CDS coverage by Alu"
        },
        "yaxis": {
         "title": "transcripts"
        }
       }
      },
      "text/html": [
       "<div id=\"aa3ed88e-2c68-48d1-8141-de3e02bf406f\" style=\"height: 525px; width: 100%;\" class=\"plotly-graph-div\"></div><script type=\"text/javascript\">require([\"plotly\"], function(Plotly) { window.PLOTLYENV=window.PLOTLYENV || {};window.PLOTLYENV.BASE_URL=\"https://plot.ly\";\n",
       "        Plotly.plot(\n",
       "            'aa3ed88e-2c68-48d1-8141-de3e02bf406f',\n",
       "            [{\"text\": [\"442\", \"400\", \"339\", \"286\", \"228\", \"193\", \"153\", \"122\", \"96\", \"69\", \"49\", \"41\", \"30\", \"24\", \"20\", \"15\", \"13\", \"8\", \"4\", \"2\"], \"textposition\": \"outside\", \"x\": [0.1, 5.0, 10.0, 15.0, 20.0, 25.0, 30.0, 35.0, 40.0, 45.0, 50.0, 55.0, 60.0, 65.0, 70.0, 75.0, 80.0, 85.0, 90.0, 95.0, 100.1], \"y\": [442.0, 400.0, 339.0, 286.0, 228.0, 193.0, 153.0, 122.0, 96.0, 69.0, 49.0, 41.0, 30.0, 24.0, 20.0, 15.0, 13.0, 8.0, 4.0, 2.0], \"type\": \"bar\", \"uid\": \"d13bb134-a4bf-11e8-9d26-782bcba4e79e\"}],\n",
       "            {\"title\": \"15910 multi-exon coding transcripts in Gencode exclusive genes - Alu\", \"xaxis\": {\"dtick\": 5, \"tick0\": 0, \"title\": \"Min. % CDS coverage by Alu\"}, \"yaxis\": {\"title\": \"transcripts\"}},\n",
       "            {\"showLink\": true, \"linkText\": \"Export to plot.ly\"}\n",
       "        ).then(function () {return Plotly.addFrames('aa3ed88e-2c68-48d1-8141-de3e02bf406f',{});}).then(function(){Plotly.animate('aa3ed88e-2c68-48d1-8141-de3e02bf406f');})\n",
       "        });</script>"
      ],
      "text/vnd.plotly.v1+html": [
       "<div id=\"aa3ed88e-2c68-48d1-8141-de3e02bf406f\" style=\"height: 525px; width: 100%;\" class=\"plotly-graph-div\"></div><script type=\"text/javascript\">require([\"plotly\"], function(Plotly) { window.PLOTLYENV=window.PLOTLYENV || {};window.PLOTLYENV.BASE_URL=\"https://plot.ly\";\n",
       "        Plotly.plot(\n",
       "            'aa3ed88e-2c68-48d1-8141-de3e02bf406f',\n",
       "            [{\"text\": [\"442\", \"400\", \"339\", \"286\", \"228\", \"193\", \"153\", \"122\", \"96\", \"69\", \"49\", \"41\", \"30\", \"24\", \"20\", \"15\", \"13\", \"8\", \"4\", \"2\"], \"textposition\": \"outside\", \"x\": [0.1, 5.0, 10.0, 15.0, 20.0, 25.0, 30.0, 35.0, 40.0, 45.0, 50.0, 55.0, 60.0, 65.0, 70.0, 75.0, 80.0, 85.0, 90.0, 95.0, 100.1], \"y\": [442.0, 400.0, 339.0, 286.0, 228.0, 193.0, 153.0, 122.0, 96.0, 69.0, 49.0, 41.0, 30.0, 24.0, 20.0, 15.0, 13.0, 8.0, 4.0, 2.0], \"type\": \"bar\", \"uid\": \"d13bb134-a4bf-11e8-9d26-782bcba4e79e\"}],\n",
       "            {\"title\": \"15910 multi-exon coding transcripts in Gencode exclusive genes - Alu\", \"xaxis\": {\"dtick\": 5, \"tick0\": 0, \"title\": \"Min. % CDS coverage by Alu\"}, \"yaxis\": {\"title\": \"transcripts\"}},\n",
       "            {\"showLink\": true, \"linkText\": \"Export to plot.ly\"}\n",
       "        ).then(function () {return Plotly.addFrames('aa3ed88e-2c68-48d1-8141-de3e02bf406f',{});}).then(function(){Plotly.animate('aa3ed88e-2c68-48d1-8141-de3e02bf406f');})\n",
       "        });</script>"
      ]
     },
     "metadata": {},
     "output_type": "display_data"
    },
    {
     "data": {
      "application/vnd.plotly.v1+json": {
       "data": [
        {
         "text": [
          "713",
          "473",
          "320",
          "238",
          "186",
          "143",
          "110",
          "88",
          "76",
          "59",
          "49",
          "38",
          "32",
          "29",
          "27",
          "19",
          "14",
          "9",
          "9",
          "8"
         ],
         "textposition": "outside",
         "type": "bar",
         "uid": "d142769a-a4bf-11e8-9d26-782bcba4e79e",
         "x": [
          0.1,
          5,
          10,
          15,
          20,
          25,
          30,
          35,
          40,
          45,
          50,
          55,
          60,
          65,
          70,
          75,
          80,
          85,
          90,
          95,
          100.1
         ],
         "y": [
          713,
          473,
          320,
          238,
          186,
          143,
          110,
          88,
          76,
          59,
          49,
          38,
          32,
          29,
          27,
          19,
          14,
          9,
          9,
          8
         ]
        }
       ],
       "layout": {
        "title": "15910 multi-exon coding transcripts in Gencode exclusive genes - LINE/LTR",
        "xaxis": {
         "dtick": 5,
         "tick0": 0,
         "title": "Min. % CDS coverage by LINE/LTR"
        },
        "yaxis": {
         "title": "transcripts"
        }
       }
      },
      "text/html": [
       "<div id=\"477a0428-98b4-40a2-bf07-ef8e09df9d9c\" style=\"height: 525px; width: 100%;\" class=\"plotly-graph-div\"></div><script type=\"text/javascript\">require([\"plotly\"], function(Plotly) { window.PLOTLYENV=window.PLOTLYENV || {};window.PLOTLYENV.BASE_URL=\"https://plot.ly\";\n",
       "        Plotly.plot(\n",
       "            '477a0428-98b4-40a2-bf07-ef8e09df9d9c',\n",
       "            [{\"text\": [\"713\", \"473\", \"320\", \"238\", \"186\", \"143\", \"110\", \"88\", \"76\", \"59\", \"49\", \"38\", \"32\", \"29\", \"27\", \"19\", \"14\", \"9\", \"9\", \"8\"], \"textposition\": \"outside\", \"x\": [0.1, 5.0, 10.0, 15.0, 20.0, 25.0, 30.0, 35.0, 40.0, 45.0, 50.0, 55.0, 60.0, 65.0, 70.0, 75.0, 80.0, 85.0, 90.0, 95.0, 100.1], \"y\": [713.0, 473.0, 320.0, 238.0, 186.0, 143.0, 110.0, 88.0, 76.0, 59.0, 49.0, 38.0, 32.0, 29.0, 27.0, 19.0, 14.0, 9.0, 9.0, 8.0], \"type\": \"bar\", \"uid\": \"d142769a-a4bf-11e8-9d26-782bcba4e79e\"}],\n",
       "            {\"title\": \"15910 multi-exon coding transcripts in Gencode exclusive genes - LINE/LTR\", \"xaxis\": {\"dtick\": 5, \"tick0\": 0, \"title\": \"Min. % CDS coverage by LINE/LTR\"}, \"yaxis\": {\"title\": \"transcripts\"}},\n",
       "            {\"showLink\": true, \"linkText\": \"Export to plot.ly\"}\n",
       "        ).then(function () {return Plotly.addFrames('477a0428-98b4-40a2-bf07-ef8e09df9d9c',{});}).then(function(){Plotly.animate('477a0428-98b4-40a2-bf07-ef8e09df9d9c');})\n",
       "        });</script>"
      ],
      "text/vnd.plotly.v1+html": [
       "<div id=\"477a0428-98b4-40a2-bf07-ef8e09df9d9c\" style=\"height: 525px; width: 100%;\" class=\"plotly-graph-div\"></div><script type=\"text/javascript\">require([\"plotly\"], function(Plotly) { window.PLOTLYENV=window.PLOTLYENV || {};window.PLOTLYENV.BASE_URL=\"https://plot.ly\";\n",
       "        Plotly.plot(\n",
       "            '477a0428-98b4-40a2-bf07-ef8e09df9d9c',\n",
       "            [{\"text\": [\"713\", \"473\", \"320\", \"238\", \"186\", \"143\", \"110\", \"88\", \"76\", \"59\", \"49\", \"38\", \"32\", \"29\", \"27\", \"19\", \"14\", \"9\", \"9\", \"8\"], \"textposition\": \"outside\", \"x\": [0.1, 5.0, 10.0, 15.0, 20.0, 25.0, 30.0, 35.0, 40.0, 45.0, 50.0, 55.0, 60.0, 65.0, 70.0, 75.0, 80.0, 85.0, 90.0, 95.0, 100.1], \"y\": [713.0, 473.0, 320.0, 238.0, 186.0, 143.0, 110.0, 88.0, 76.0, 59.0, 49.0, 38.0, 32.0, 29.0, 27.0, 19.0, 14.0, 9.0, 9.0, 8.0], \"type\": \"bar\", \"uid\": \"d142769a-a4bf-11e8-9d26-782bcba4e79e\"}],\n",
       "            {\"title\": \"15910 multi-exon coding transcripts in Gencode exclusive genes - LINE/LTR\", \"xaxis\": {\"dtick\": 5, \"tick0\": 0, \"title\": \"Min. % CDS coverage by LINE/LTR\"}, \"yaxis\": {\"title\": \"transcripts\"}},\n",
       "            {\"showLink\": true, \"linkText\": \"Export to plot.ly\"}\n",
       "        ).then(function () {return Plotly.addFrames('477a0428-98b4-40a2-bf07-ef8e09df9d9c',{});}).then(function(){Plotly.animate('477a0428-98b4-40a2-bf07-ef8e09df9d9c');})\n",
       "        });</script>"
      ]
     },
     "metadata": {},
     "output_type": "display_data"
    }
   ],
   "source": [
    "kdf=tdf[(tdf['tcoding'].eq(True))]\n",
    "rdf=kdf[(kdf['status'].eq('known_gencode'))]\n",
    "rdf=rdf[(rdf['excount']>1)]\n",
    "plotCH(rdf, 'cdcov', ' multi-exon coding transcripts in Gencode exclusive genes', 'Min. % CDS coverage by repeats')\n",
    "plotCH(rdf, 'alu_cdcov', ' multi-exon coding transcripts in Gencode exclusive genes - Alu', 'Min. % CDS coverage by Alu')\n",
    "plotCH(rdf, 'line_cdcov', ' multi-exon coding transcripts in Gencode exclusive genes - LINE/LTR', 'Min. % CDS coverage by LINE/LTR')\n"
   ]
  },
  {
   "cell_type": "code",
   "execution_count": null,
   "metadata": {},
   "outputs": [],
   "source": []
  }
 ],
 "metadata": {
  "kernelspec": {
   "display_name": "Python 3",
   "language": "python",
   "name": "python3"
  },
  "language_info": {
   "codemirror_mode": {
    "name": "ipython",
    "version": 3
   },
   "file_extension": ".py",
   "mimetype": "text/x-python",
   "name": "python",
   "nbconvert_exporter": "python",
   "pygments_lexer": "ipython3",
   "version": "3.7.0"
  }
 },
 "nbformat": 4,
 "nbformat_minor": 2
}
