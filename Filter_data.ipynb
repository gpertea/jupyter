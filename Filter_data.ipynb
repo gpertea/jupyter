{
 "cells": [
  {
   "cell_type": "code",
   "execution_count": 1,
   "metadata": {
    "scrolled": true
   },
   "outputs": [
    {
     "data": {
      "text/html": [
       "<script>requirejs.config({paths: { 'plotly': ['https://cdn.plot.ly/plotly-latest.min']},});if(!window.Plotly) {{require(['plotly'],function(plotly) {window.Plotly=plotly;});}}</script>"
      ],
      "text/vnd.plotly.v1+html": [
       "<script>requirejs.config({paths: { 'plotly': ['https://cdn.plot.ly/plotly-latest.min']},});if(!window.Plotly) {{require(['plotly'],function(plotly) {window.Plotly=plotly;});}}</script>"
      ]
     },
     "metadata": {},
     "output_type": "display_data"
    },
    {
     "data": {
      "text/html": [
       "<div>\n",
       "<style scoped>\n",
       "    .dataframe tbody tr th:only-of-type {\n",
       "        vertical-align: middle;\n",
       "    }\n",
       "\n",
       "    .dataframe tbody tr th {\n",
       "        vertical-align: top;\n",
       "    }\n",
       "\n",
       "    .dataframe thead th {\n",
       "        text-align: right;\n",
       "    }\n",
       "</style>\n",
       "<table border=\"1\" class=\"dataframe\">\n",
       "  <thead>\n",
       "    <tr style=\"text-align: right;\">\n",
       "      <th></th>\n",
       "      <th>gstatus</th>\n",
       "      <th>gtype</th>\n",
       "      <th>status</th>\n",
       "      <th>type</th>\n",
       "      <th>asm</th>\n",
       "      <th>chr</th>\n",
       "      <th>strand</th>\n",
       "      <th>excount</th>\n",
       "      <th>exlen</th>\n",
       "      <th>cdlen</th>\n",
       "      <th>...</th>\n",
       "      <th>excov</th>\n",
       "      <th>cdcov</th>\n",
       "      <th>alu_excov</th>\n",
       "      <th>alu_cdcov</th>\n",
       "      <th>line_excov</th>\n",
       "      <th>line_cdcov</th>\n",
       "      <th>tcoding</th>\n",
       "      <th>tnovel</th>\n",
       "      <th>gcoding</th>\n",
       "      <th>gnovel</th>\n",
       "    </tr>\n",
       "    <tr>\n",
       "      <th>id</th>\n",
       "      <th></th>\n",
       "      <th></th>\n",
       "      <th></th>\n",
       "      <th></th>\n",
       "      <th></th>\n",
       "      <th></th>\n",
       "      <th></th>\n",
       "      <th></th>\n",
       "      <th></th>\n",
       "      <th></th>\n",
       "      <th></th>\n",
       "      <th></th>\n",
       "      <th></th>\n",
       "      <th></th>\n",
       "      <th></th>\n",
       "      <th></th>\n",
       "      <th></th>\n",
       "      <th></th>\n",
       "      <th></th>\n",
       "      <th></th>\n",
       "      <th></th>\n",
       "    </tr>\n",
       "  </thead>\n",
       "  <tbody>\n",
       "    <tr>\n",
       "      <th>CHS.6.1</th>\n",
       "      <td>known_refseq</td>\n",
       "      <td>protein_coding</td>\n",
       "      <td>known_refseq</td>\n",
       "      <td>coding</td>\n",
       "      <td>yes</td>\n",
       "      <td>chr1</td>\n",
       "      <td>+</td>\n",
       "      <td>1</td>\n",
       "      <td>918</td>\n",
       "      <td>918</td>\n",
       "      <td>...</td>\n",
       "      <td>0.0</td>\n",
       "      <td>0.0</td>\n",
       "      <td>0.0</td>\n",
       "      <td>0.0</td>\n",
       "      <td>0.0</td>\n",
       "      <td>0.0</td>\n",
       "      <td>True</td>\n",
       "      <td>False</td>\n",
       "      <td>True</td>\n",
       "      <td>False</td>\n",
       "    </tr>\n",
       "    <tr>\n",
       "      <th>CHS.9.1</th>\n",
       "      <td>known_refseq</td>\n",
       "      <td>protein_coding</td>\n",
       "      <td>known_refseq</td>\n",
       "      <td>coding</td>\n",
       "      <td>yes</td>\n",
       "      <td>chr1</td>\n",
       "      <td>+</td>\n",
       "      <td>4</td>\n",
       "      <td>744</td>\n",
       "      <td>402</td>\n",
       "      <td>...</td>\n",
       "      <td>8.3</td>\n",
       "      <td>0.0</td>\n",
       "      <td>0.0</td>\n",
       "      <td>0.0</td>\n",
       "      <td>0.0</td>\n",
       "      <td>0.0</td>\n",
       "      <td>True</td>\n",
       "      <td>False</td>\n",
       "      <td>True</td>\n",
       "      <td>False</td>\n",
       "    </tr>\n",
       "    <tr>\n",
       "      <th>CHS.9.2</th>\n",
       "      <td>known_refseq</td>\n",
       "      <td>protein_coding</td>\n",
       "      <td>known_refseq</td>\n",
       "      <td>coding</td>\n",
       "      <td>yes</td>\n",
       "      <td>chr1</td>\n",
       "      <td>+</td>\n",
       "      <td>4</td>\n",
       "      <td>762</td>\n",
       "      <td>402</td>\n",
       "      <td>...</td>\n",
       "      <td>10.5</td>\n",
       "      <td>0.0</td>\n",
       "      <td>0.0</td>\n",
       "      <td>0.0</td>\n",
       "      <td>0.0</td>\n",
       "      <td>0.0</td>\n",
       "      <td>True</td>\n",
       "      <td>False</td>\n",
       "      <td>True</td>\n",
       "      <td>False</td>\n",
       "    </tr>\n",
       "    <tr>\n",
       "      <th>CHS.9.3</th>\n",
       "      <td>known_refseq</td>\n",
       "      <td>protein_coding</td>\n",
       "      <td>known_refseq</td>\n",
       "      <td>coding</td>\n",
       "      <td>no</td>\n",
       "      <td>chr1</td>\n",
       "      <td>+</td>\n",
       "      <td>4</td>\n",
       "      <td>1014</td>\n",
       "      <td>402</td>\n",
       "      <td>...</td>\n",
       "      <td>26.2</td>\n",
       "      <td>0.0</td>\n",
       "      <td>0.0</td>\n",
       "      <td>0.0</td>\n",
       "      <td>16.1</td>\n",
       "      <td>0.0</td>\n",
       "      <td>True</td>\n",
       "      <td>False</td>\n",
       "      <td>True</td>\n",
       "      <td>False</td>\n",
       "    </tr>\n",
       "    <tr>\n",
       "      <th>CHS.9.4</th>\n",
       "      <td>known_refseq</td>\n",
       "      <td>protein_coding</td>\n",
       "      <td>known_refseq</td>\n",
       "      <td>coding</td>\n",
       "      <td>yes</td>\n",
       "      <td>chr1</td>\n",
       "      <td>+</td>\n",
       "      <td>4</td>\n",
       "      <td>841</td>\n",
       "      <td>402</td>\n",
       "      <td>...</td>\n",
       "      <td>18.9</td>\n",
       "      <td>0.0</td>\n",
       "      <td>0.0</td>\n",
       "      <td>0.0</td>\n",
       "      <td>18.9</td>\n",
       "      <td>0.0</td>\n",
       "      <td>True</td>\n",
       "      <td>False</td>\n",
       "      <td>True</td>\n",
       "      <td>False</td>\n",
       "    </tr>\n",
       "  </tbody>\n",
       "</table>\n",
       "<p>5 rows × 22 columns</p>\n",
       "</div>"
      ],
      "text/plain": [
       "              gstatus           gtype        status    type  asm   chr strand  \\\n",
       "id                                                                              \n",
       "CHS.6.1  known_refseq  protein_coding  known_refseq  coding  yes  chr1      +   \n",
       "CHS.9.1  known_refseq  protein_coding  known_refseq  coding  yes  chr1      +   \n",
       "CHS.9.2  known_refseq  protein_coding  known_refseq  coding  yes  chr1      +   \n",
       "CHS.9.3  known_refseq  protein_coding  known_refseq  coding   no  chr1      +   \n",
       "CHS.9.4  known_refseq  protein_coding  known_refseq  coding  yes  chr1      +   \n",
       "\n",
       "         excount  exlen  cdlen   ...   excov cdcov  alu_excov  alu_cdcov  \\\n",
       "id                               ...                                       \n",
       "CHS.6.1        1    918    918   ...     0.0   0.0        0.0        0.0   \n",
       "CHS.9.1        4    744    402   ...     8.3   0.0        0.0        0.0   \n",
       "CHS.9.2        4    762    402   ...    10.5   0.0        0.0        0.0   \n",
       "CHS.9.3        4   1014    402   ...    26.2   0.0        0.0        0.0   \n",
       "CHS.9.4        4    841    402   ...    18.9   0.0        0.0        0.0   \n",
       "\n",
       "         line_excov  line_cdcov  tcoding  tnovel  gcoding  gnovel  \n",
       "id                                                                 \n",
       "CHS.6.1         0.0         0.0     True   False     True   False  \n",
       "CHS.9.1         0.0         0.0     True   False     True   False  \n",
       "CHS.9.2         0.0         0.0     True   False     True   False  \n",
       "CHS.9.3        16.1         0.0     True   False     True   False  \n",
       "CHS.9.4        18.9         0.0     True   False     True   False  \n",
       "\n",
       "[5 rows x 22 columns]"
      ]
     },
     "execution_count": 1,
     "metadata": {},
     "output_type": "execute_result"
    }
   ],
   "source": [
    "import ipywidgets as wgt\n",
    "import numpy as np\n",
    "import pandas as pd\n",
    "from plotly import __version__\n",
    "from plotly.offline import download_plotlyjs, init_notebook_mode\n",
    "init_notebook_mode(connected=True)\n",
    "import plotly.offline as py\n",
    "#import plotly.figure_factory as ff\n",
    "import plotly.graph_objs as go\n",
    "tdf=pd.read_csv('chess2_rep_data.tab', sep='\\t', index_col=0)\n",
    "#tdf['excov']=pd.to_numeric(tdf['excov'], errors='coerce').fillna(0)\n",
    "#tdf['cdcov']=pd.to_numeric(tdf['cdcov'], errors='coerce').fillna(0)\n",
    "tdf['tcoding']=np.where(tdf['cdlen'].ne(0), True, False)\n",
    "tdf['tnovel']=np.where(tdf['status'].isin(['novel', 'known_fantom']), True, False)\n",
    "tdf['gcoding']=np.where(tdf['gtype'].eq('protein_coding'), True, False)\n",
    "tdf['gnovel']=np.where(tdf['gstatus'].isin(['novel', 'known_fantom']), True, False)\n",
    "tdf[(tdf['tcoding'].eq(True))].head()"
   ]
  },
  {
   "cell_type": "code",
   "execution_count": 2,
   "metadata": {
    "scrolled": true
   },
   "outputs": [
    {
     "data": {
      "application/vnd.jupyter.widget-view+json": {
       "model_id": "f4e66e01f13445a295110151ec76d2ab",
       "version_major": 2,
       "version_minor": 0
      },
      "text/plain": [
       "HBox(children=(SelectMultiple(description='STATUS', index=(3,), options=('known_fantom', 'known_gencode', 'kno…"
      ]
     },
     "metadata": {},
     "output_type": "display_data"
    },
    {
     "data": {
      "application/vnd.jupyter.widget-view+json": {
       "model_id": "a0f06303372c4adfa6b017216bbd3753",
       "version_major": 2,
       "version_minor": 0
      },
      "text/plain": [
       "HBox(children=(VBox(children=(Label(value='Min. exon cov%:'), IntSlider(value=0, layout=Layout(width='16em'), …"
      ]
     },
     "metadata": {},
     "output_type": "display_data"
    },
    {
     "data": {
      "application/vnd.jupyter.widget-view+json": {
       "model_id": "05e4496b83c04f99a14b5b3fc985e1ec",
       "version_major": 2,
       "version_minor": 0
      },
      "text/plain": [
       "HBox(children=(Button(description='Query', style=ButtonStyle(), tooltip='Query'), Label(value='---', layout=La…"
      ]
     },
     "metadata": {},
     "output_type": "display_data"
    }
   ],
   "source": [
    "seltype=wgt.SelectMultiple(\n",
    "    options=sorted(tdf.type.unique()),\n",
    "    value=[],\n",
    "    rows=4,\n",
    "    description='TYPE',\n",
    ")\n",
    "selstatus=wgt.SelectMultiple(\n",
    "    options=sorted(tdf.status.unique()),\n",
    "    value=['novel'],\n",
    "    rows=4,\n",
    "    description='STATUS',\n",
    ")\n",
    "hbox2=wgt.HBox([selstatus, seltype])\n",
    "display(hbox2)\n",
    "layw=wgt.Layout(width='16em')\n",
    "excov=wgt.IntSlider(value=0, min=0, max=100, step=5, layout=layw)\n",
    "cdcov=wgt.IntSlider(value=0, min=0, max=100, step=5, layout=layw)\n",
    "excount=wgt.BoundedIntText(value=1, min=1, max=10, description='At least',\n",
    "                          layout=wgt.Layout(width='11em'))\n",
    "hbox=wgt.HBox([wgt.VBox([wgt.Label(value=\"Min. exon cov%:\"), excov]),\n",
    "                  wgt.VBox([wgt.Label(value=\"Min. CDS cov%:\"), cdcov]),\n",
    "              excount, wgt.Label(value=\"exons\")])\n",
    "display(hbox)\n",
    "\n",
    "runbtn=wgt.Button(\n",
    "    description='Query',\n",
    "    #disabled=False,\n",
    "    #button_style='', # 'success', 'info', 'warning', 'danger' or ''\n",
    "    tooltip='Query',\n",
    "    #icon='check'\n",
    ")\n",
    "rlabel=wgt.Label(value=\"---\", layout=wgt.Layout(border='2px solid red', padding='0 12px'))\n",
    "rlabelres=wgt.Label(value=\"---\", layout=wgt.Layout(border='2px solid red', padding='0 12px'))\n",
    "def btnRunClick(b):\n",
    "    rlabel.value=''\n",
    "    rdf=tdf\n",
    "    if len(selstatus.value)==4 or len(selstatus.value)==0:\n",
    "        rlabel.value='any status'\n",
    "    else: \n",
    "        rlabel.value=' | '.join(selstatus.value)\n",
    "        rdf=tdf[(tdf['status'].isin(selstatus.value))]\n",
    "        if len(selstatus.value)==3 and not 'novel' in selstatus.value:\n",
    "            rlabel.value='known'\n",
    "        else:\n",
    "            if len(selstatus.value)>1: rlabel.value='('+rlabel.value+')'\n",
    "    stype=''\n",
    "    \n",
    "    if not(len(seltype.value)==4 or len(seltype.value)==0):\n",
    "        stype=' | '.join(seltype.value)\n",
    "        rdf=rdf[(rdf['type'].isin(seltype.value))]\n",
    "        \n",
    "    if rlabel.value and stype: \n",
    "        rlabel.value+=' &  '\n",
    "        if len(seltype.value)>1: stype='('+stype+')'\n",
    "    rlabel.value+=stype\n",
    "    if excount.value>1:\n",
    "        rdf=rdf[(rdf['excount']>=excount.value)]\n",
    "    if excov.value>0:\n",
    "       rdf=rdf[(rdf['excov']>=excov.value)]    \n",
    "    if cdcov.value>0:\n",
    "       rdf=rdf[(rdf['cdcov']>=cdcov.value)]\n",
    "\n",
    "    rlabelres.value=str(len(rdf))\n",
    "\n",
    "runbtn.on_click(btnRunClick)\n",
    "\n",
    "hbx=wgt.HBox(children=[runbtn, rlabel, rlabelres], layout=wgt.Layout(justify_content='center'))\n",
    "display(hbx)\n",
    "btnRunClick(True)"
   ]
  },
  {
   "cell_type": "code",
   "execution_count": 3,
   "metadata": {},
   "outputs": [
    {
     "name": "stdout",
     "output_type": "stream",
     "text": [
      "Transcripts by their status and type\n"
     ]
    },
    {
     "data": {
      "text/html": [
       "<div>\n",
       "<style scoped>\n",
       "    .dataframe tbody tr th:only-of-type {\n",
       "        vertical-align: middle;\n",
       "    }\n",
       "\n",
       "    .dataframe tbody tr th {\n",
       "        vertical-align: top;\n",
       "    }\n",
       "\n",
       "    .dataframe thead th {\n",
       "        text-align: right;\n",
       "    }\n",
       "</style>\n",
       "<table border=\"1\" class=\"dataframe\">\n",
       "  <thead>\n",
       "    <tr style=\"text-align: right;\">\n",
       "      <th></th>\n",
       "      <th>coding</th>\n",
       "      <th>coding_maybe</th>\n",
       "      <th>noncoding</th>\n",
       "      <th>undetermined</th>\n",
       "      <th>All</th>\n",
       "    </tr>\n",
       "  </thead>\n",
       "  <tbody>\n",
       "    <tr>\n",
       "      <th>known_fantom</th>\n",
       "      <td>0</td>\n",
       "      <td>19250</td>\n",
       "      <td>0</td>\n",
       "      <td>10791</td>\n",
       "      <td>30041</td>\n",
       "    </tr>\n",
       "    <tr>\n",
       "      <th>known_gencode</th>\n",
       "      <td>13272</td>\n",
       "      <td>0</td>\n",
       "      <td>36095</td>\n",
       "      <td>0</td>\n",
       "      <td>49367</td>\n",
       "    </tr>\n",
       "    <tr>\n",
       "      <th>known_refseq</th>\n",
       "      <td>126579</td>\n",
       "      <td>85</td>\n",
       "      <td>29727</td>\n",
       "      <td>1352</td>\n",
       "      <td>157743</td>\n",
       "    </tr>\n",
       "    <tr>\n",
       "      <th>novel</th>\n",
       "      <td>0</td>\n",
       "      <td>1807</td>\n",
       "      <td>0</td>\n",
       "      <td>84869</td>\n",
       "      <td>86676</td>\n",
       "    </tr>\n",
       "    <tr>\n",
       "      <th>All</th>\n",
       "      <td>139851</td>\n",
       "      <td>21142</td>\n",
       "      <td>65822</td>\n",
       "      <td>97012</td>\n",
       "      <td>323827</td>\n",
       "    </tr>\n",
       "  </tbody>\n",
       "</table>\n",
       "</div>"
      ],
      "text/plain": [
       "               coding  coding_maybe  noncoding  undetermined     All\n",
       "known_fantom        0         19250          0         10791   30041\n",
       "known_gencode   13272             0      36095             0   49367\n",
       "known_refseq   126579            85      29727          1352  157743\n",
       "novel               0          1807          0         84869   86676\n",
       "All            139851         21142      65822         97012  323827"
      ]
     },
     "execution_count": 3,
     "metadata": {},
     "output_type": "execute_result"
    }
   ],
   "source": [
    "cdf=pd.crosstab(tdf['status'],tdf['type'], margins=True)\n",
    "del cdf.index.name\n",
    "del cdf.columns.name\n",
    "print(\"Transcripts by their status and type\")\n",
    "cdf"
   ]
  },
  {
   "cell_type": "code",
   "execution_count": 4,
   "metadata": {},
   "outputs": [
    {
     "name": "stdout",
     "output_type": "stream",
     "text": [
      "Transcripts by gene status and gene type\n"
     ]
    },
    {
     "data": {
      "text/html": [
       "<div>\n",
       "<style scoped>\n",
       "    .dataframe tbody tr th:only-of-type {\n",
       "        vertical-align: middle;\n",
       "    }\n",
       "\n",
       "    .dataframe tbody tr th {\n",
       "        vertical-align: top;\n",
       "    }\n",
       "\n",
       "    .dataframe thead th {\n",
       "        text-align: right;\n",
       "    }\n",
       "</style>\n",
       "<table border=\"1\" class=\"dataframe\">\n",
       "  <thead>\n",
       "    <tr style=\"text-align: right;\">\n",
       "      <th></th>\n",
       "      <th>antisense_RNA</th>\n",
       "      <th>lncRNA</th>\n",
       "      <th>misc_RNA</th>\n",
       "      <th>protein_coding</th>\n",
       "      <th>All</th>\n",
       "    </tr>\n",
       "  </thead>\n",
       "  <tbody>\n",
       "    <tr>\n",
       "      <th>known_fantom</th>\n",
       "      <td>662</td>\n",
       "      <td>1623</td>\n",
       "      <td>1</td>\n",
       "      <td>185</td>\n",
       "      <td>2471</td>\n",
       "    </tr>\n",
       "    <tr>\n",
       "      <th>known_gencode</th>\n",
       "      <td>724</td>\n",
       "      <td>2030</td>\n",
       "      <td>37</td>\n",
       "      <td>118</td>\n",
       "      <td>2909</td>\n",
       "    </tr>\n",
       "    <tr>\n",
       "      <th>known_refseq</th>\n",
       "      <td>59</td>\n",
       "      <td>44518</td>\n",
       "      <td>4310</td>\n",
       "      <td>265919</td>\n",
       "      <td>314806</td>\n",
       "    </tr>\n",
       "    <tr>\n",
       "      <th>novel</th>\n",
       "      <td>1249</td>\n",
       "      <td>1131</td>\n",
       "      <td>0</td>\n",
       "      <td>1261</td>\n",
       "      <td>3641</td>\n",
       "    </tr>\n",
       "    <tr>\n",
       "      <th>All</th>\n",
       "      <td>2694</td>\n",
       "      <td>49302</td>\n",
       "      <td>4348</td>\n",
       "      <td>267483</td>\n",
       "      <td>323827</td>\n",
       "    </tr>\n",
       "  </tbody>\n",
       "</table>\n",
       "</div>"
      ],
      "text/plain": [
       "               antisense_RNA  lncRNA  misc_RNA  protein_coding     All\n",
       "known_fantom             662    1623         1             185    2471\n",
       "known_gencode            724    2030        37             118    2909\n",
       "known_refseq              59   44518      4310          265919  314806\n",
       "novel                   1249    1131         0            1261    3641\n",
       "All                     2694   49302      4348          267483  323827"
      ]
     },
     "execution_count": 4,
     "metadata": {},
     "output_type": "execute_result"
    }
   ],
   "source": [
    "gdf=pd.crosstab(tdf['gstatus'],tdf['gtype'], margins=True)\n",
    "del gdf.index.name\n",
    "del gdf.columns.name\n",
    "print('Transcripts by gene status and gene type')\n",
    "gdf"
   ]
  },
  {
   "cell_type": "code",
   "execution_count": 5,
   "metadata": {},
   "outputs": [
    {
     "name": "stdout",
     "output_type": "stream",
     "text": [
      "Transcripts by gene status and transcript type\n"
     ]
    },
    {
     "data": {
      "text/html": [
       "<div>\n",
       "<style scoped>\n",
       "    .dataframe tbody tr th:only-of-type {\n",
       "        vertical-align: middle;\n",
       "    }\n",
       "\n",
       "    .dataframe tbody tr th {\n",
       "        vertical-align: top;\n",
       "    }\n",
       "\n",
       "    .dataframe thead th {\n",
       "        text-align: right;\n",
       "    }\n",
       "</style>\n",
       "<table border=\"1\" class=\"dataframe\">\n",
       "  <thead>\n",
       "    <tr style=\"text-align: right;\">\n",
       "      <th></th>\n",
       "      <th>coding</th>\n",
       "      <th>coding_maybe</th>\n",
       "      <th>noncoding</th>\n",
       "      <th>undetermined</th>\n",
       "      <th>All</th>\n",
       "    </tr>\n",
       "  </thead>\n",
       "  <tbody>\n",
       "    <tr>\n",
       "      <th>known_fantom</th>\n",
       "      <td>0</td>\n",
       "      <td>326</td>\n",
       "      <td>0</td>\n",
       "      <td>2145</td>\n",
       "      <td>2471</td>\n",
       "    </tr>\n",
       "    <tr>\n",
       "      <th>known_gencode</th>\n",
       "      <td>34</td>\n",
       "      <td>32</td>\n",
       "      <td>2279</td>\n",
       "      <td>564</td>\n",
       "      <td>2909</td>\n",
       "    </tr>\n",
       "    <tr>\n",
       "      <th>known_refseq</th>\n",
       "      <td>139817</td>\n",
       "      <td>19551</td>\n",
       "      <td>63543</td>\n",
       "      <td>91895</td>\n",
       "      <td>314806</td>\n",
       "    </tr>\n",
       "    <tr>\n",
       "      <th>novel</th>\n",
       "      <td>0</td>\n",
       "      <td>1233</td>\n",
       "      <td>0</td>\n",
       "      <td>2408</td>\n",
       "      <td>3641</td>\n",
       "    </tr>\n",
       "    <tr>\n",
       "      <th>All</th>\n",
       "      <td>139851</td>\n",
       "      <td>21142</td>\n",
       "      <td>65822</td>\n",
       "      <td>97012</td>\n",
       "      <td>323827</td>\n",
       "    </tr>\n",
       "  </tbody>\n",
       "</table>\n",
       "</div>"
      ],
      "text/plain": [
       "               coding  coding_maybe  noncoding  undetermined     All\n",
       "known_fantom        0           326          0          2145    2471\n",
       "known_gencode      34            32       2279           564    2909\n",
       "known_refseq   139817         19551      63543         91895  314806\n",
       "novel               0          1233          0          2408    3641\n",
       "All            139851         21142      65822         97012  323827"
      ]
     },
     "execution_count": 5,
     "metadata": {},
     "output_type": "execute_result"
    }
   ],
   "source": [
    "gtdf=pd.crosstab(tdf['gstatus'],tdf['type'], margins=True)\n",
    "del gtdf.index.name\n",
    "del gtdf.columns.name\n",
    "print('Transcripts by gene status and transcript type')\n",
    "gtdf"
   ]
  },
  {
   "cell_type": "code",
   "execution_count": 6,
   "metadata": {},
   "outputs": [
    {
     "name": "stdout",
     "output_type": "stream",
     "text": [
      "Transcripts and CDS presence (includes novel isoforms)\n"
     ]
    },
    {
     "data": {
      "text/html": [
       "<div>\n",
       "<style scoped>\n",
       "    .dataframe tbody tr th:only-of-type {\n",
       "        vertical-align: middle;\n",
       "    }\n",
       "\n",
       "    .dataframe tbody tr th {\n",
       "        vertical-align: top;\n",
       "    }\n",
       "\n",
       "    .dataframe thead th {\n",
       "        text-align: right;\n",
       "    }\n",
       "</style>\n",
       "<table border=\"1\" class=\"dataframe\">\n",
       "  <thead>\n",
       "    <tr style=\"text-align: right;\">\n",
       "      <th></th>\n",
       "      <th>No CDS</th>\n",
       "      <th>With CDS</th>\n",
       "      <th>All</th>\n",
       "    </tr>\n",
       "  </thead>\n",
       "  <tbody>\n",
       "    <tr>\n",
       "      <th>Known</th>\n",
       "      <td>77053</td>\n",
       "      <td>130057</td>\n",
       "      <td>207110</td>\n",
       "    </tr>\n",
       "    <tr>\n",
       "      <th>Novel</th>\n",
       "      <td>115311</td>\n",
       "      <td>1406</td>\n",
       "      <td>116717</td>\n",
       "    </tr>\n",
       "    <tr>\n",
       "      <th>All</th>\n",
       "      <td>192364</td>\n",
       "      <td>131463</td>\n",
       "      <td>323827</td>\n",
       "    </tr>\n",
       "  </tbody>\n",
       "</table>\n",
       "</div>"
      ],
      "text/plain": [
       "       No CDS  With CDS     All\n",
       "Known   77053    130057  207110\n",
       "Novel  115311      1406  116717\n",
       "All    192364    131463  323827"
      ]
     },
     "execution_count": 6,
     "metadata": {},
     "output_type": "execute_result"
    }
   ],
   "source": [
    "cdk=pd.crosstab(tdf['tnovel'],tdf['tcoding'], margins=True)\n",
    "#del cdk.index.name\n",
    "#del cdk.columns.name\n",
    "cdk.index = ['Known','Novel', 'All']\n",
    "cdk.columns=['No CDS', 'With CDS', 'All']\n",
    "print(\"Transcripts and CDS presence (includes novel isoforms)\")\n",
    "cdk"
   ]
  },
  {
   "cell_type": "code",
   "execution_count": 7,
   "metadata": {
    "scrolled": true
   },
   "outputs": [
    {
     "name": "stdout",
     "output_type": "stream",
     "text": [
      "Transcripts in novel vs known genes\n"
     ]
    },
    {
     "data": {
      "text/html": [
       "<div>\n",
       "<style scoped>\n",
       "    .dataframe tbody tr th:only-of-type {\n",
       "        vertical-align: middle;\n",
       "    }\n",
       "\n",
       "    .dataframe tbody tr th {\n",
       "        vertical-align: top;\n",
       "    }\n",
       "\n",
       "    .dataframe thead th {\n",
       "        text-align: right;\n",
       "    }\n",
       "</style>\n",
       "<table border=\"1\" class=\"dataframe\">\n",
       "  <thead>\n",
       "    <tr style=\"text-align: right;\">\n",
       "      <th></th>\n",
       "      <th>No CDS</th>\n",
       "      <th>With CDS</th>\n",
       "      <th>All</th>\n",
       "    </tr>\n",
       "  </thead>\n",
       "  <tbody>\n",
       "    <tr>\n",
       "      <th>In known genes</th>\n",
       "      <td>187658</td>\n",
       "      <td>130057</td>\n",
       "      <td>317715</td>\n",
       "    </tr>\n",
       "    <tr>\n",
       "      <th>In novel genes</th>\n",
       "      <td>4706</td>\n",
       "      <td>1406</td>\n",
       "      <td>6112</td>\n",
       "    </tr>\n",
       "    <tr>\n",
       "      <th>All</th>\n",
       "      <td>192364</td>\n",
       "      <td>131463</td>\n",
       "      <td>323827</td>\n",
       "    </tr>\n",
       "  </tbody>\n",
       "</table>\n",
       "</div>"
      ],
      "text/plain": [
       "                No CDS  With CDS     All\n",
       "In known genes  187658    130057  317715\n",
       "In novel genes    4706      1406    6112\n",
       "All             192364    131463  323827"
      ]
     },
     "execution_count": 7,
     "metadata": {},
     "output_type": "execute_result"
    }
   ],
   "source": [
    "cdg=pd.crosstab(tdf['gnovel'],tdf['tcoding'], margins=True)\n",
    "cdg.index = ['In known genes','In novel genes', 'All']\n",
    "cdg.columns=['No CDS', 'With CDS', 'All']\n",
    "print(\"Transcripts in novel vs known genes\")\n",
    "cdg"
   ]
  },
  {
   "cell_type": "code",
   "execution_count": 8,
   "metadata": {},
   "outputs": [],
   "source": [
    "def plotCH(df, column, gtitle, xlabel, ylabel='transcripts'):\n",
    "    #hist_freqs, bins = np.histogram(a=df[column], bins=20)\n",
    "    #hist_freqs=np.bincount(np.digitize(df[column], bins, True))\n",
    "    #hist_freqs=np.flip(hist_freqs)\n",
    "    #hist_cfreqs=np.cumsum(hist_freqs)\n",
    "    #hist_cfreqs=np.flip(hist_cfreqs)\n",
    "    arr=df[(df[column]>0)][column]\n",
    "    bins=[p/1.0 for p in range(0,105,5)]\n",
    "    bins[0]=0.1\n",
    "    bins[-1]=100.1\n",
    "    freqs=np.bincount(np.digitize(arr, bins, False)-1)\n",
    "    freqs=np.flip(freqs)\n",
    "    cfreqs=np.cumsum(freqs)\n",
    "    cfreqs=np.flip(cfreqs)\n",
    "    data=[ go.Bar(x=bins, y=cfreqs, text=cfreqs, textposition='outside') ]\n",
    "    layout=go.Layout(title=str(df.shape[0])+gtitle, \n",
    "                 xaxis=dict(tick0=0, dtick=5, title=xlabel), yaxis=dict(title=ylabel))\n",
    "    fig=go.Figure(data=data, layout=layout)\n",
    "    py.iplot(fig, filename='bar chart')"
   ]
  },
  {
   "cell_type": "code",
   "execution_count": 9,
   "metadata": {},
   "outputs": [
    {
     "name": "stdout",
     "output_type": "stream",
     "text": [
      "[  7  14  13  13   9   9   6   7  17  19  24  27  41  52  51  76  66  97\n",
      " 114 633]\n",
      "[1295 1288 1274 1261 1248 1239 1230 1224 1217 1200 1181 1157 1130 1089\n",
      " 1037  986  910  844  747  633]\n",
      "[0.1, 5.0, 10.0, 15.0, 20.0, 25.0, 30.0, 35.0, 40.0, 45.0, 50.0, 55.0, 60.0, 65.0, 70.0, 75.0, 80.0, 85.0, 90.0, 95.0, 100.1]\n",
      "[  7  14  13  13   9   9   6   7  17  19  24  27  41  52  51  76  66  97\n",
      " 114 633]\n",
      "[1295 1288 1274 1261 1248 1239 1230 1224 1217 1200 1181 1157 1130 1089\n",
      " 1037  986  910  844  747  633]\n"
     ]
    }
   ],
   "source": [
    "df=tdf[(tdf['tnovel'].eq(True))]\n",
    "df=df[df['tcoding'].eq(True)]\n",
    "arr=df[(df['cdcov']>0)]['cdcov']\n",
    "hist_freqs, hbins = np.histogram(arr, bins=20, range=(0,100))\n",
    "print(hist_freqs)\n",
    "hist_freqs=np.flip(hist_freqs)\n",
    "hist_cfreqs=np.cumsum(hist_freqs)\n",
    "hist_cfreqs=np.flip(hist_cfreqs)\n",
    "print(hist_cfreqs)\n",
    "bins=[p/1.0 for p in range(0,105,5)]\n",
    "bins[0]=0.1\n",
    "bins[-1]=100.1\n",
    "print(bins)\n",
    "freqs=np.bincount(np.digitize(arr, bins, False)-1)\n",
    "print(freqs)\n",
    "freqs=np.flip(freqs)\n",
    "cfreqs=np.cumsum(freqs)\n",
    "cfreqs=np.flip(cfreqs)\n",
    "print(cfreqs)"
   ]
  },
  {
   "cell_type": "code",
   "execution_count": 10,
   "metadata": {},
   "outputs": [
    {
     "data": {
      "application/vnd.plotly.v1+json": {
       "data": [
        {
         "text": [
          "95079",
          "67108",
          "50128",
          "39546",
          "32078",
          "26476",
          "21929",
          "18286",
          "15179",
          "12634",
          "10401",
          "8558",
          "6958",
          "5609",
          "4495",
          "3498",
          "2752",
          "2030",
          "1521",
          "1055"
         ],
         "textposition": "outside",
         "type": "bar",
         "uid": "21a491c2-a56a-11e8-8822-782bcba4e79e",
         "x": [
          0.1,
          5,
          10,
          15,
          20,
          25,
          30,
          35,
          40,
          45,
          50,
          55,
          60,
          65,
          70,
          75,
          80,
          85,
          90,
          95,
          100.1
         ],
         "y": [
          95079,
          67108,
          50128,
          39546,
          32078,
          26476,
          21929,
          18286,
          15179,
          12634,
          10401,
          8558,
          6958,
          5609,
          4495,
          3498,
          2752,
          2030,
          1521,
          1055
         ]
        }
       ],
       "layout": {
        "title": "116717 novel transcripts - repeat content",
        "xaxis": {
         "dtick": 5,
         "tick0": 0,
         "title": "Min. % exon coverage by repeats"
        },
        "yaxis": {
         "title": "transcripts"
        }
       }
      },
      "text/html": [
       "<div id=\"9ba0965e-03c9-4945-9da5-3884079c1ab9\" style=\"height: 525px; width: 100%;\" class=\"plotly-graph-div\"></div><script type=\"text/javascript\">require([\"plotly\"], function(Plotly) { window.PLOTLYENV=window.PLOTLYENV || {};window.PLOTLYENV.BASE_URL=\"https://plot.ly\";\n",
       "        Plotly.plot(\n",
       "            '9ba0965e-03c9-4945-9da5-3884079c1ab9',\n",
       "            [{\"text\": [\"95079\", \"67108\", \"50128\", \"39546\", \"32078\", \"26476\", \"21929\", \"18286\", \"15179\", \"12634\", \"10401\", \"8558\", \"6958\", \"5609\", \"4495\", \"3498\", \"2752\", \"2030\", \"1521\", \"1055\"], \"textposition\": \"outside\", \"x\": [0.1, 5.0, 10.0, 15.0, 20.0, 25.0, 30.0, 35.0, 40.0, 45.0, 50.0, 55.0, 60.0, 65.0, 70.0, 75.0, 80.0, 85.0, 90.0, 95.0, 100.1], \"y\": [95079.0, 67108.0, 50128.0, 39546.0, 32078.0, 26476.0, 21929.0, 18286.0, 15179.0, 12634.0, 10401.0, 8558.0, 6958.0, 5609.0, 4495.0, 3498.0, 2752.0, 2030.0, 1521.0, 1055.0], \"type\": \"bar\", \"uid\": \"21a491c2-a56a-11e8-8822-782bcba4e79e\"}],\n",
       "            {\"title\": \"116717 novel transcripts - repeat content\", \"xaxis\": {\"dtick\": 5, \"tick0\": 0, \"title\": \"Min. % exon coverage by repeats\"}, \"yaxis\": {\"title\": \"transcripts\"}},\n",
       "            {\"showLink\": true, \"linkText\": \"Export to plot.ly\"}\n",
       "        ).then(function () {return Plotly.addFrames('9ba0965e-03c9-4945-9da5-3884079c1ab9',{});}).then(function(){Plotly.animate('9ba0965e-03c9-4945-9da5-3884079c1ab9');})\n",
       "        });</script>"
      ],
      "text/vnd.plotly.v1+html": [
       "<div id=\"9ba0965e-03c9-4945-9da5-3884079c1ab9\" style=\"height: 525px; width: 100%;\" class=\"plotly-graph-div\"></div><script type=\"text/javascript\">require([\"plotly\"], function(Plotly) { window.PLOTLYENV=window.PLOTLYENV || {};window.PLOTLYENV.BASE_URL=\"https://plot.ly\";\n",
       "        Plotly.plot(\n",
       "            '9ba0965e-03c9-4945-9da5-3884079c1ab9',\n",
       "            [{\"text\": [\"95079\", \"67108\", \"50128\", \"39546\", \"32078\", \"26476\", \"21929\", \"18286\", \"15179\", \"12634\", \"10401\", \"8558\", \"6958\", \"5609\", \"4495\", \"3498\", \"2752\", \"2030\", \"1521\", \"1055\"], \"textposition\": \"outside\", \"x\": [0.1, 5.0, 10.0, 15.0, 20.0, 25.0, 30.0, 35.0, 40.0, 45.0, 50.0, 55.0, 60.0, 65.0, 70.0, 75.0, 80.0, 85.0, 90.0, 95.0, 100.1], \"y\": [95079.0, 67108.0, 50128.0, 39546.0, 32078.0, 26476.0, 21929.0, 18286.0, 15179.0, 12634.0, 10401.0, 8558.0, 6958.0, 5609.0, 4495.0, 3498.0, 2752.0, 2030.0, 1521.0, 1055.0], \"type\": \"bar\", \"uid\": \"21a491c2-a56a-11e8-8822-782bcba4e79e\"}],\n",
       "            {\"title\": \"116717 novel transcripts - repeat content\", \"xaxis\": {\"dtick\": 5, \"tick0\": 0, \"title\": \"Min. % exon coverage by repeats\"}, \"yaxis\": {\"title\": \"transcripts\"}},\n",
       "            {\"showLink\": true, \"linkText\": \"Export to plot.ly\"}\n",
       "        ).then(function () {return Plotly.addFrames('9ba0965e-03c9-4945-9da5-3884079c1ab9',{});}).then(function(){Plotly.animate('9ba0965e-03c9-4945-9da5-3884079c1ab9');})\n",
       "        });</script>"
      ]
     },
     "metadata": {},
     "output_type": "display_data"
    },
    {
     "data": {
      "application/vnd.plotly.v1+json": {
       "data": [
        {
         "text": [
          "39205",
          "29976",
          "19080",
          "12069",
          "7753",
          "5108",
          "3345",
          "2232",
          "1487",
          "997",
          "637",
          "423",
          "309",
          "227",
          "157",
          "114",
          "97",
          "74",
          "59",
          "46"
         ],
         "textposition": "outside",
         "type": "bar",
         "uid": "21ac68ca-a56a-11e8-8822-782bcba4e79e",
         "x": [
          0.1,
          5,
          10,
          15,
          20,
          25,
          30,
          35,
          40,
          45,
          50,
          55,
          60,
          65,
          70,
          75,
          80,
          85,
          90,
          95,
          100.1
         ],
         "y": [
          39205,
          29976,
          19080,
          12069,
          7753,
          5108,
          3345,
          2232,
          1487,
          997,
          637,
          423,
          309,
          227,
          157,
          114,
          97,
          74,
          59,
          46
         ]
        }
       ],
       "layout": {
        "title": "116717 novel transcripts - Alu",
        "xaxis": {
         "dtick": 5,
         "tick0": 0,
         "title": "Min. % exon coverage by Alu"
        },
        "yaxis": {
         "title": "transcripts"
        }
       }
      },
      "text/html": [
       "<div id=\"af32fc41-3dfb-4539-bd5b-c456adb8d7a2\" style=\"height: 525px; width: 100%;\" class=\"plotly-graph-div\"></div><script type=\"text/javascript\">require([\"plotly\"], function(Plotly) { window.PLOTLYENV=window.PLOTLYENV || {};window.PLOTLYENV.BASE_URL=\"https://plot.ly\";\n",
       "        Plotly.plot(\n",
       "            'af32fc41-3dfb-4539-bd5b-c456adb8d7a2',\n",
       "            [{\"text\": [\"39205\", \"29976\", \"19080\", \"12069\", \"7753\", \"5108\", \"3345\", \"2232\", \"1487\", \"997\", \"637\", \"423\", \"309\", \"227\", \"157\", \"114\", \"97\", \"74\", \"59\", \"46\"], \"textposition\": \"outside\", \"x\": [0.1, 5.0, 10.0, 15.0, 20.0, 25.0, 30.0, 35.0, 40.0, 45.0, 50.0, 55.0, 60.0, 65.0, 70.0, 75.0, 80.0, 85.0, 90.0, 95.0, 100.1], \"y\": [39205.0, 29976.0, 19080.0, 12069.0, 7753.0, 5108.0, 3345.0, 2232.0, 1487.0, 997.0, 637.0, 423.0, 309.0, 227.0, 157.0, 114.0, 97.0, 74.0, 59.0, 46.0], \"type\": \"bar\", \"uid\": \"21ac68ca-a56a-11e8-8822-782bcba4e79e\"}],\n",
       "            {\"title\": \"116717 novel transcripts - Alu\", \"xaxis\": {\"dtick\": 5, \"tick0\": 0, \"title\": \"Min. % exon coverage by Alu\"}, \"yaxis\": {\"title\": \"transcripts\"}},\n",
       "            {\"showLink\": true, \"linkText\": \"Export to plot.ly\"}\n",
       "        ).then(function () {return Plotly.addFrames('af32fc41-3dfb-4539-bd5b-c456adb8d7a2',{});}).then(function(){Plotly.animate('af32fc41-3dfb-4539-bd5b-c456adb8d7a2');})\n",
       "        });</script>"
      ],
      "text/vnd.plotly.v1+html": [
       "<div id=\"af32fc41-3dfb-4539-bd5b-c456adb8d7a2\" style=\"height: 525px; width: 100%;\" class=\"plotly-graph-div\"></div><script type=\"text/javascript\">require([\"plotly\"], function(Plotly) { window.PLOTLYENV=window.PLOTLYENV || {};window.PLOTLYENV.BASE_URL=\"https://plot.ly\";\n",
       "        Plotly.plot(\n",
       "            'af32fc41-3dfb-4539-bd5b-c456adb8d7a2',\n",
       "            [{\"text\": [\"39205\", \"29976\", \"19080\", \"12069\", \"7753\", \"5108\", \"3345\", \"2232\", \"1487\", \"997\", \"637\", \"423\", \"309\", \"227\", \"157\", \"114\", \"97\", \"74\", \"59\", \"46\"], \"textposition\": \"outside\", \"x\": [0.1, 5.0, 10.0, 15.0, 20.0, 25.0, 30.0, 35.0, 40.0, 45.0, 50.0, 55.0, 60.0, 65.0, 70.0, 75.0, 80.0, 85.0, 90.0, 95.0, 100.1], \"y\": [39205.0, 29976.0, 19080.0, 12069.0, 7753.0, 5108.0, 3345.0, 2232.0, 1487.0, 997.0, 637.0, 423.0, 309.0, 227.0, 157.0, 114.0, 97.0, 74.0, 59.0, 46.0], \"type\": \"bar\", \"uid\": \"21ac68ca-a56a-11e8-8822-782bcba4e79e\"}],\n",
       "            {\"title\": \"116717 novel transcripts - Alu\", \"xaxis\": {\"dtick\": 5, \"tick0\": 0, \"title\": \"Min. % exon coverage by Alu\"}, \"yaxis\": {\"title\": \"transcripts\"}},\n",
       "            {\"showLink\": true, \"linkText\": \"Export to plot.ly\"}\n",
       "        ).then(function () {return Plotly.addFrames('af32fc41-3dfb-4539-bd5b-c456adb8d7a2',{});}).then(function(){Plotly.animate('af32fc41-3dfb-4539-bd5b-c456adb8d7a2');})\n",
       "        });</script>"
      ]
     },
     "metadata": {},
     "output_type": "display_data"
    },
    {
     "data": {
      "application/vnd.plotly.v1+json": {
       "data": [
        {
         "text": [
          "46215",
          "32296",
          "23938",
          "18281",
          "14403",
          "11432",
          "9052",
          "7288",
          "5855",
          "4736",
          "3803",
          "3057",
          "2459",
          "1948",
          "1537",
          "1185",
          "929",
          "680",
          "489",
          "325"
         ],
         "textposition": "outside",
         "type": "bar",
         "uid": "21b4583c-a56a-11e8-8822-782bcba4e79e",
         "x": [
          0.1,
          5,
          10,
          15,
          20,
          25,
          30,
          35,
          40,
          45,
          50,
          55,
          60,
          65,
          70,
          75,
          80,
          85,
          90,
          95,
          100.1
         ],
         "y": [
          46215,
          32296,
          23938,
          18281,
          14403,
          11432,
          9052,
          7288,
          5855,
          4736,
          3803,
          3057,
          2459,
          1948,
          1537,
          1185,
          929,
          680,
          489,
          325
         ]
        }
       ],
       "layout": {
        "title": "116717 novel transcripts - LINE/LTR",
        "xaxis": {
         "dtick": 5,
         "tick0": 0,
         "title": "Min. % exon coverage by LINE/LTR"
        },
        "yaxis": {
         "title": "transcripts"
        }
       }
      },
      "text/html": [
       "<div id=\"f6345985-57dc-4bd5-8b8d-da41463a28b4\" style=\"height: 525px; width: 100%;\" class=\"plotly-graph-div\"></div><script type=\"text/javascript\">require([\"plotly\"], function(Plotly) { window.PLOTLYENV=window.PLOTLYENV || {};window.PLOTLYENV.BASE_URL=\"https://plot.ly\";\n",
       "        Plotly.plot(\n",
       "            'f6345985-57dc-4bd5-8b8d-da41463a28b4',\n",
       "            [{\"text\": [\"46215\", \"32296\", \"23938\", \"18281\", \"14403\", \"11432\", \"9052\", \"7288\", \"5855\", \"4736\", \"3803\", \"3057\", \"2459\", \"1948\", \"1537\", \"1185\", \"929\", \"680\", \"489\", \"325\"], \"textposition\": \"outside\", \"x\": [0.1, 5.0, 10.0, 15.0, 20.0, 25.0, 30.0, 35.0, 40.0, 45.0, 50.0, 55.0, 60.0, 65.0, 70.0, 75.0, 80.0, 85.0, 90.0, 95.0, 100.1], \"y\": [46215.0, 32296.0, 23938.0, 18281.0, 14403.0, 11432.0, 9052.0, 7288.0, 5855.0, 4736.0, 3803.0, 3057.0, 2459.0, 1948.0, 1537.0, 1185.0, 929.0, 680.0, 489.0, 325.0], \"type\": \"bar\", \"uid\": \"21b4583c-a56a-11e8-8822-782bcba4e79e\"}],\n",
       "            {\"title\": \"116717 novel transcripts - LINE/LTR\", \"xaxis\": {\"dtick\": 5, \"tick0\": 0, \"title\": \"Min. % exon coverage by LINE/LTR\"}, \"yaxis\": {\"title\": \"transcripts\"}},\n",
       "            {\"showLink\": true, \"linkText\": \"Export to plot.ly\"}\n",
       "        ).then(function () {return Plotly.addFrames('f6345985-57dc-4bd5-8b8d-da41463a28b4',{});}).then(function(){Plotly.animate('f6345985-57dc-4bd5-8b8d-da41463a28b4');})\n",
       "        });</script>"
      ],
      "text/vnd.plotly.v1+html": [
       "<div id=\"f6345985-57dc-4bd5-8b8d-da41463a28b4\" style=\"height: 525px; width: 100%;\" class=\"plotly-graph-div\"></div><script type=\"text/javascript\">require([\"plotly\"], function(Plotly) { window.PLOTLYENV=window.PLOTLYENV || {};window.PLOTLYENV.BASE_URL=\"https://plot.ly\";\n",
       "        Plotly.plot(\n",
       "            'f6345985-57dc-4bd5-8b8d-da41463a28b4',\n",
       "            [{\"text\": [\"46215\", \"32296\", \"23938\", \"18281\", \"14403\", \"11432\", \"9052\", \"7288\", \"5855\", \"4736\", \"3803\", \"3057\", \"2459\", \"1948\", \"1537\", \"1185\", \"929\", \"680\", \"489\", \"325\"], \"textposition\": \"outside\", \"x\": [0.1, 5.0, 10.0, 15.0, 20.0, 25.0, 30.0, 35.0, 40.0, 45.0, 50.0, 55.0, 60.0, 65.0, 70.0, 75.0, 80.0, 85.0, 90.0, 95.0, 100.1], \"y\": [46215.0, 32296.0, 23938.0, 18281.0, 14403.0, 11432.0, 9052.0, 7288.0, 5855.0, 4736.0, 3803.0, 3057.0, 2459.0, 1948.0, 1537.0, 1185.0, 929.0, 680.0, 489.0, 325.0], \"type\": \"bar\", \"uid\": \"21b4583c-a56a-11e8-8822-782bcba4e79e\"}],\n",
       "            {\"title\": \"116717 novel transcripts - LINE/LTR\", \"xaxis\": {\"dtick\": 5, \"tick0\": 0, \"title\": \"Min. % exon coverage by LINE/LTR\"}, \"yaxis\": {\"title\": \"transcripts\"}},\n",
       "            {\"showLink\": true, \"linkText\": \"Export to plot.ly\"}\n",
       "        ).then(function () {return Plotly.addFrames('f6345985-57dc-4bd5-8b8d-da41463a28b4',{});}).then(function(){Plotly.animate('f6345985-57dc-4bd5-8b8d-da41463a28b4');})\n",
       "        });</script>"
      ]
     },
     "metadata": {},
     "output_type": "display_data"
    }
   ],
   "source": [
    "ndf=tdf[(tdf['tnovel'].eq(True))]\n",
    "plotCH(ndf, 'excov', ' novel transcripts - repeat content', \n",
    "                 'Min. % exon coverage by repeats')\n",
    "plotCH(ndf, 'alu_excov', ' novel transcripts - Alu', \n",
    "                 'Min. % exon coverage by Alu')\n",
    "plotCH(ndf, 'line_excov', ' novel transcripts - LINE/LTR', \n",
    "                 'Min. % exon coverage by LINE/LTR')\n"
   ]
  },
  {
   "cell_type": "code",
   "execution_count": 15,
   "metadata": {
    "scrolled": false
   },
   "outputs": [
    {
     "data": {
      "application/vnd.plotly.v1+json": {
       "data": [
        {
         "text": [
          "1258",
          "1251",
          "1237",
          "1225",
          "1213",
          "1205",
          "1198",
          "1192",
          "1185",
          "1169",
          "1151",
          "1127",
          "1100",
          "1063",
          "1011",
          "962",
          "887",
          "822",
          "726",
          "616"
         ],
         "textposition": "outside",
         "type": "bar",
         "uid": "2eb367ca-a56b-11e8-8822-782bcba4e79e",
         "x": [
          0.1,
          5,
          10,
          15,
          20,
          25,
          30,
          35,
          40,
          45,
          50,
          55,
          60,
          65,
          70,
          75,
          80,
          85,
          90,
          95,
          100.1
         ],
         "y": [
          1258,
          1251,
          1237,
          1225,
          1213,
          1205,
          1198,
          1192,
          1185,
          1169,
          1151,
          1127,
          1100,
          1063,
          1011,
          962,
          887,
          822,
          726,
          616
         ]
        }
       ],
       "layout": {
        "title": "1364 coding transcripts in novel genes",
        "xaxis": {
         "dtick": 5,
         "tick0": 0,
         "title": "Min. % CDS coverage by repeats"
        },
        "yaxis": {
         "title": "transcripts"
        }
       }
      },
      "text/html": [
       "<div id=\"ef32ee85-f92a-4ad4-bb96-7da9f155c92b\" style=\"height: 525px; width: 100%;\" class=\"plotly-graph-div\"></div><script type=\"text/javascript\">require([\"plotly\"], function(Plotly) { window.PLOTLYENV=window.PLOTLYENV || {};window.PLOTLYENV.BASE_URL=\"https://plot.ly\";\n",
       "        Plotly.plot(\n",
       "            'ef32ee85-f92a-4ad4-bb96-7da9f155c92b',\n",
       "            [{\"text\": [\"1258\", \"1251\", \"1237\", \"1225\", \"1213\", \"1205\", \"1198\", \"1192\", \"1185\", \"1169\", \"1151\", \"1127\", \"1100\", \"1063\", \"1011\", \"962\", \"887\", \"822\", \"726\", \"616\"], \"textposition\": \"outside\", \"x\": [0.1, 5.0, 10.0, 15.0, 20.0, 25.0, 30.0, 35.0, 40.0, 45.0, 50.0, 55.0, 60.0, 65.0, 70.0, 75.0, 80.0, 85.0, 90.0, 95.0, 100.1], \"y\": [1258.0, 1251.0, 1237.0, 1225.0, 1213.0, 1205.0, 1198.0, 1192.0, 1185.0, 1169.0, 1151.0, 1127.0, 1100.0, 1063.0, 1011.0, 962.0, 887.0, 822.0, 726.0, 616.0], \"type\": \"bar\", \"uid\": \"2eb367ca-a56b-11e8-8822-782bcba4e79e\"}],\n",
       "            {\"title\": \"1364 coding transcripts in novel genes\", \"xaxis\": {\"dtick\": 5, \"tick0\": 0, \"title\": \"Min. % CDS coverage by repeats\"}, \"yaxis\": {\"title\": \"transcripts\"}},\n",
       "            {\"showLink\": true, \"linkText\": \"Export to plot.ly\"}\n",
       "        ).then(function () {return Plotly.addFrames('ef32ee85-f92a-4ad4-bb96-7da9f155c92b',{});}).then(function(){Plotly.animate('ef32ee85-f92a-4ad4-bb96-7da9f155c92b');})\n",
       "        });</script>"
      ],
      "text/vnd.plotly.v1+html": [
       "<div id=\"ef32ee85-f92a-4ad4-bb96-7da9f155c92b\" style=\"height: 525px; width: 100%;\" class=\"plotly-graph-div\"></div><script type=\"text/javascript\">require([\"plotly\"], function(Plotly) { window.PLOTLYENV=window.PLOTLYENV || {};window.PLOTLYENV.BASE_URL=\"https://plot.ly\";\n",
       "        Plotly.plot(\n",
       "            'ef32ee85-f92a-4ad4-bb96-7da9f155c92b',\n",
       "            [{\"text\": [\"1258\", \"1251\", \"1237\", \"1225\", \"1213\", \"1205\", \"1198\", \"1192\", \"1185\", \"1169\", \"1151\", \"1127\", \"1100\", \"1063\", \"1011\", \"962\", \"887\", \"822\", \"726\", \"616\"], \"textposition\": \"outside\", \"x\": [0.1, 5.0, 10.0, 15.0, 20.0, 25.0, 30.0, 35.0, 40.0, 45.0, 50.0, 55.0, 60.0, 65.0, 70.0, 75.0, 80.0, 85.0, 90.0, 95.0, 100.1], \"y\": [1258.0, 1251.0, 1237.0, 1225.0, 1213.0, 1205.0, 1198.0, 1192.0, 1185.0, 1169.0, 1151.0, 1127.0, 1100.0, 1063.0, 1011.0, 962.0, 887.0, 822.0, 726.0, 616.0], \"type\": \"bar\", \"uid\": \"2eb367ca-a56b-11e8-8822-782bcba4e79e\"}],\n",
       "            {\"title\": \"1364 coding transcripts in novel genes\", \"xaxis\": {\"dtick\": 5, \"tick0\": 0, \"title\": \"Min. % CDS coverage by repeats\"}, \"yaxis\": {\"title\": \"transcripts\"}},\n",
       "            {\"showLink\": true, \"linkText\": \"Export to plot.ly\"}\n",
       "        ).then(function () {return Plotly.addFrames('ef32ee85-f92a-4ad4-bb96-7da9f155c92b',{});}).then(function(){Plotly.animate('ef32ee85-f92a-4ad4-bb96-7da9f155c92b');})\n",
       "        });</script>"
      ]
     },
     "metadata": {},
     "output_type": "display_data"
    },
    {
     "data": {
      "application/vnd.plotly.v1+json": {
       "data": [
        {
         "text": [
          "856",
          "854",
          "847",
          "847",
          "846",
          "845",
          "840",
          "836",
          "829",
          "808",
          "789",
          "758",
          "720",
          "676",
          "613",
          "557",
          "468",
          "394",
          "311",
          "212"
         ],
         "textposition": "outside",
         "type": "bar",
         "uid": "2ebc4c1e-a56b-11e8-8822-782bcba4e79e",
         "x": [
          0.1,
          5,
          10,
          15,
          20,
          25,
          30,
          35,
          40,
          45,
          50,
          55,
          60,
          65,
          70,
          75,
          80,
          85,
          90,
          95,
          100.1
         ],
         "y": [
          856,
          854,
          847,
          847,
          846,
          845,
          840,
          836,
          829,
          808,
          789,
          758,
          720,
          676,
          613,
          557,
          468,
          394,
          311,
          212
         ]
        }
       ],
       "layout": {
        "title": "1364 coding transcripts in novel genes - Alu content",
        "xaxis": {
         "dtick": 5,
         "tick0": 0,
         "title": "Min. % CDS coverage by Alu repeats"
        },
        "yaxis": {
         "title": "transcripts"
        }
       }
      },
      "text/html": [
       "<div id=\"41d41e03-f35d-4d15-81c2-4862fb85bc65\" style=\"height: 525px; width: 100%;\" class=\"plotly-graph-div\"></div><script type=\"text/javascript\">require([\"plotly\"], function(Plotly) { window.PLOTLYENV=window.PLOTLYENV || {};window.PLOTLYENV.BASE_URL=\"https://plot.ly\";\n",
       "        Plotly.plot(\n",
       "            '41d41e03-f35d-4d15-81c2-4862fb85bc65',\n",
       "            [{\"text\": [\"856\", \"854\", \"847\", \"847\", \"846\", \"845\", \"840\", \"836\", \"829\", \"808\", \"789\", \"758\", \"720\", \"676\", \"613\", \"557\", \"468\", \"394\", \"311\", \"212\"], \"textposition\": \"outside\", \"x\": [0.1, 5.0, 10.0, 15.0, 20.0, 25.0, 30.0, 35.0, 40.0, 45.0, 50.0, 55.0, 60.0, 65.0, 70.0, 75.0, 80.0, 85.0, 90.0, 95.0, 100.1], \"y\": [856.0, 854.0, 847.0, 847.0, 846.0, 845.0, 840.0, 836.0, 829.0, 808.0, 789.0, 758.0, 720.0, 676.0, 613.0, 557.0, 468.0, 394.0, 311.0, 212.0], \"type\": \"bar\", \"uid\": \"2ebc4c1e-a56b-11e8-8822-782bcba4e79e\"}],\n",
       "            {\"title\": \"1364 coding transcripts in novel genes - Alu content\", \"xaxis\": {\"dtick\": 5, \"tick0\": 0, \"title\": \"Min. % CDS coverage by Alu repeats\"}, \"yaxis\": {\"title\": \"transcripts\"}},\n",
       "            {\"showLink\": true, \"linkText\": \"Export to plot.ly\"}\n",
       "        ).then(function () {return Plotly.addFrames('41d41e03-f35d-4d15-81c2-4862fb85bc65',{});}).then(function(){Plotly.animate('41d41e03-f35d-4d15-81c2-4862fb85bc65');})\n",
       "        });</script>"
      ],
      "text/vnd.plotly.v1+html": [
       "<div id=\"41d41e03-f35d-4d15-81c2-4862fb85bc65\" style=\"height: 525px; width: 100%;\" class=\"plotly-graph-div\"></div><script type=\"text/javascript\">require([\"plotly\"], function(Plotly) { window.PLOTLYENV=window.PLOTLYENV || {};window.PLOTLYENV.BASE_URL=\"https://plot.ly\";\n",
       "        Plotly.plot(\n",
       "            '41d41e03-f35d-4d15-81c2-4862fb85bc65',\n",
       "            [{\"text\": [\"856\", \"854\", \"847\", \"847\", \"846\", \"845\", \"840\", \"836\", \"829\", \"808\", \"789\", \"758\", \"720\", \"676\", \"613\", \"557\", \"468\", \"394\", \"311\", \"212\"], \"textposition\": \"outside\", \"x\": [0.1, 5.0, 10.0, 15.0, 20.0, 25.0, 30.0, 35.0, 40.0, 45.0, 50.0, 55.0, 60.0, 65.0, 70.0, 75.0, 80.0, 85.0, 90.0, 95.0, 100.1], \"y\": [856.0, 854.0, 847.0, 847.0, 846.0, 845.0, 840.0, 836.0, 829.0, 808.0, 789.0, 758.0, 720.0, 676.0, 613.0, 557.0, 468.0, 394.0, 311.0, 212.0], \"type\": \"bar\", \"uid\": \"2ebc4c1e-a56b-11e8-8822-782bcba4e79e\"}],\n",
       "            {\"title\": \"1364 coding transcripts in novel genes - Alu content\", \"xaxis\": {\"dtick\": 5, \"tick0\": 0, \"title\": \"Min. % CDS coverage by Alu repeats\"}, \"yaxis\": {\"title\": \"transcripts\"}},\n",
       "            {\"showLink\": true, \"linkText\": \"Export to plot.ly\"}\n",
       "        ).then(function () {return Plotly.addFrames('41d41e03-f35d-4d15-81c2-4862fb85bc65',{});}).then(function(){Plotly.animate('41d41e03-f35d-4d15-81c2-4862fb85bc65');})\n",
       "        });</script>"
      ]
     },
     "metadata": {},
     "output_type": "display_data"
    },
    {
     "data": {
      "application/vnd.plotly.v1+json": {
       "data": [
        {
         "text": [
          "3",
          "3",
          "2",
          "1",
          "1",
          "1",
          "1",
          "1",
          "1"
         ],
         "textposition": "outside",
         "type": "bar",
         "uid": "2ec3aeaa-a56b-11e8-8822-782bcba4e79e",
         "x": [
          0.1,
          5,
          10,
          15,
          20,
          25,
          30,
          35,
          40,
          45,
          50,
          55,
          60,
          65,
          70,
          75,
          80,
          85,
          90,
          95,
          100.1
         ],
         "y": [
          3,
          3,
          2,
          1,
          1,
          1,
          1,
          1,
          1
         ]
        }
       ],
       "layout": {
        "title": "1364 coding transcripts in novel genes - LINE/LTR",
        "xaxis": {
         "dtick": 5,
         "tick0": 0,
         "title": "Min. % CDS coverage by LINE/LTR"
        },
        "yaxis": {
         "title": "transcripts"
        }
       }
      },
      "text/html": [
       "<div id=\"14fb39f9-51f1-4def-b6ca-3e3f2c936245\" style=\"height: 525px; width: 100%;\" class=\"plotly-graph-div\"></div><script type=\"text/javascript\">require([\"plotly\"], function(Plotly) { window.PLOTLYENV=window.PLOTLYENV || {};window.PLOTLYENV.BASE_URL=\"https://plot.ly\";\n",
       "        Plotly.plot(\n",
       "            '14fb39f9-51f1-4def-b6ca-3e3f2c936245',\n",
       "            [{\"text\": [\"3\", \"3\", \"2\", \"1\", \"1\", \"1\", \"1\", \"1\", \"1\"], \"textposition\": \"outside\", \"x\": [0.1, 5.0, 10.0, 15.0, 20.0, 25.0, 30.0, 35.0, 40.0, 45.0, 50.0, 55.0, 60.0, 65.0, 70.0, 75.0, 80.0, 85.0, 90.0, 95.0, 100.1], \"y\": [3.0, 3.0, 2.0, 1.0, 1.0, 1.0, 1.0, 1.0, 1.0], \"type\": \"bar\", \"uid\": \"2ec3aeaa-a56b-11e8-8822-782bcba4e79e\"}],\n",
       "            {\"title\": \"1364 coding transcripts in novel genes - LINE/LTR\", \"xaxis\": {\"dtick\": 5, \"tick0\": 0, \"title\": \"Min. % CDS coverage by LINE/LTR\"}, \"yaxis\": {\"title\": \"transcripts\"}},\n",
       "            {\"showLink\": true, \"linkText\": \"Export to plot.ly\"}\n",
       "        ).then(function () {return Plotly.addFrames('14fb39f9-51f1-4def-b6ca-3e3f2c936245',{});}).then(function(){Plotly.animate('14fb39f9-51f1-4def-b6ca-3e3f2c936245');})\n",
       "        });</script>"
      ],
      "text/vnd.plotly.v1+html": [
       "<div id=\"14fb39f9-51f1-4def-b6ca-3e3f2c936245\" style=\"height: 525px; width: 100%;\" class=\"plotly-graph-div\"></div><script type=\"text/javascript\">require([\"plotly\"], function(Plotly) { window.PLOTLYENV=window.PLOTLYENV || {};window.PLOTLYENV.BASE_URL=\"https://plot.ly\";\n",
       "        Plotly.plot(\n",
       "            '14fb39f9-51f1-4def-b6ca-3e3f2c936245',\n",
       "            [{\"text\": [\"3\", \"3\", \"2\", \"1\", \"1\", \"1\", \"1\", \"1\", \"1\"], \"textposition\": \"outside\", \"x\": [0.1, 5.0, 10.0, 15.0, 20.0, 25.0, 30.0, 35.0, 40.0, 45.0, 50.0, 55.0, 60.0, 65.0, 70.0, 75.0, 80.0, 85.0, 90.0, 95.0, 100.1], \"y\": [3.0, 3.0, 2.0, 1.0, 1.0, 1.0, 1.0, 1.0, 1.0], \"type\": \"bar\", \"uid\": \"2ec3aeaa-a56b-11e8-8822-782bcba4e79e\"}],\n",
       "            {\"title\": \"1364 coding transcripts in novel genes - LINE/LTR\", \"xaxis\": {\"dtick\": 5, \"tick0\": 0, \"title\": \"Min. % CDS coverage by LINE/LTR\"}, \"yaxis\": {\"title\": \"transcripts\"}},\n",
       "            {\"showLink\": true, \"linkText\": \"Export to plot.ly\"}\n",
       "        ).then(function () {return Plotly.addFrames('14fb39f9-51f1-4def-b6ca-3e3f2c936245',{});}).then(function(){Plotly.animate('14fb39f9-51f1-4def-b6ca-3e3f2c936245');})\n",
       "        });</script>"
      ]
     },
     "metadata": {},
     "output_type": "display_data"
    }
   ],
   "source": [
    "npdf=tdf[(tdf['tcoding'].eq(True)) & (tdf['gnovel'].eq(True)) & (tdf['gtype'].eq('protein_coding'))]\n",
    "plotCH(npdf, 'cdcov', ' coding transcripts in novel genes', 'Min. % CDS coverage by repeats')\n",
    "plotCH(npdf, 'alu_cdcov', ' coding transcripts in novel genes - Alu content', 'Min. % CDS coverage by Alu repeats')\n",
    "plotCH(npdf, 'line_cdcov', ' coding transcripts in novel genes - LINE/LTR', 'Min. % CDS coverage by LINE/LTR')"
   ]
  },
  {
   "cell_type": "code",
   "execution_count": 16,
   "metadata": {
    "scrolled": false
   },
   "outputs": [
    {
     "data": {
      "application/vnd.plotly.v1+json": {
       "data": [
        {
         "text": [
          "4182",
          "4047",
          "3798",
          "3587",
          "3332",
          "3095",
          "2869",
          "2642",
          "2409",
          "2152",
          "1881",
          "1653",
          "1437",
          "1248",
          "1097",
          "925",
          "782",
          "635",
          "543",
          "422"
         ],
         "textposition": "outside",
         "type": "bar",
         "uid": "ee5531d0-a56b-11e8-8822-782bcba4e79e",
         "x": [
          0.1,
          5,
          10,
          15,
          20,
          25,
          30,
          35,
          40,
          45,
          50,
          55,
          60,
          65,
          70,
          75,
          80,
          85,
          90,
          95,
          100.1
         ],
         "y": [
          4182,
          4047,
          3798,
          3587,
          3332,
          3095,
          2869,
          2642,
          2409,
          2152,
          1881,
          1653,
          1437,
          1248,
          1097,
          925,
          782,
          635,
          543,
          422
         ]
        }
       ],
       "layout": {
        "title": "4666 novel non-coding transcripts",
        "xaxis": {
         "dtick": 5,
         "tick0": 0,
         "title": "Min. % coverage by repeats"
        },
        "yaxis": {
         "title": "transcripts"
        }
       }
      },
      "text/html": [
       "<div id=\"4edf7aee-dff4-4494-b2e5-cea263a1ab03\" style=\"height: 525px; width: 100%;\" class=\"plotly-graph-div\"></div><script type=\"text/javascript\">require([\"plotly\"], function(Plotly) { window.PLOTLYENV=window.PLOTLYENV || {};window.PLOTLYENV.BASE_URL=\"https://plot.ly\";\n",
       "        Plotly.plot(\n",
       "            '4edf7aee-dff4-4494-b2e5-cea263a1ab03',\n",
       "            [{\"text\": [\"4182\", \"4047\", \"3798\", \"3587\", \"3332\", \"3095\", \"2869\", \"2642\", \"2409\", \"2152\", \"1881\", \"1653\", \"1437\", \"1248\", \"1097\", \"925\", \"782\", \"635\", \"543\", \"422\"], \"textposition\": \"outside\", \"x\": [0.1, 5.0, 10.0, 15.0, 20.0, 25.0, 30.0, 35.0, 40.0, 45.0, 50.0, 55.0, 60.0, 65.0, 70.0, 75.0, 80.0, 85.0, 90.0, 95.0, 100.1], \"y\": [4182.0, 4047.0, 3798.0, 3587.0, 3332.0, 3095.0, 2869.0, 2642.0, 2409.0, 2152.0, 1881.0, 1653.0, 1437.0, 1248.0, 1097.0, 925.0, 782.0, 635.0, 543.0, 422.0], \"type\": \"bar\", \"uid\": \"ee5531d0-a56b-11e8-8822-782bcba4e79e\"}],\n",
       "            {\"title\": \"4666 novel non-coding transcripts\", \"xaxis\": {\"dtick\": 5, \"tick0\": 0, \"title\": \"Min. % coverage by repeats\"}, \"yaxis\": {\"title\": \"transcripts\"}},\n",
       "            {\"showLink\": true, \"linkText\": \"Export to plot.ly\"}\n",
       "        ).then(function () {return Plotly.addFrames('4edf7aee-dff4-4494-b2e5-cea263a1ab03',{});}).then(function(){Plotly.animate('4edf7aee-dff4-4494-b2e5-cea263a1ab03');})\n",
       "        });</script>"
      ],
      "text/vnd.plotly.v1+html": [
       "<div id=\"4edf7aee-dff4-4494-b2e5-cea263a1ab03\" style=\"height: 525px; width: 100%;\" class=\"plotly-graph-div\"></div><script type=\"text/javascript\">require([\"plotly\"], function(Plotly) { window.PLOTLYENV=window.PLOTLYENV || {};window.PLOTLYENV.BASE_URL=\"https://plot.ly\";\n",
       "        Plotly.plot(\n",
       "            '4edf7aee-dff4-4494-b2e5-cea263a1ab03',\n",
       "            [{\"text\": [\"4182\", \"4047\", \"3798\", \"3587\", \"3332\", \"3095\", \"2869\", \"2642\", \"2409\", \"2152\", \"1881\", \"1653\", \"1437\", \"1248\", \"1097\", \"925\", \"782\", \"635\", \"543\", \"422\"], \"textposition\": \"outside\", \"x\": [0.1, 5.0, 10.0, 15.0, 20.0, 25.0, 30.0, 35.0, 40.0, 45.0, 50.0, 55.0, 60.0, 65.0, 70.0, 75.0, 80.0, 85.0, 90.0, 95.0, 100.1], \"y\": [4182.0, 4047.0, 3798.0, 3587.0, 3332.0, 3095.0, 2869.0, 2642.0, 2409.0, 2152.0, 1881.0, 1653.0, 1437.0, 1248.0, 1097.0, 925.0, 782.0, 635.0, 543.0, 422.0], \"type\": \"bar\", \"uid\": \"ee5531d0-a56b-11e8-8822-782bcba4e79e\"}],\n",
       "            {\"title\": \"4666 novel non-coding transcripts\", \"xaxis\": {\"dtick\": 5, \"tick0\": 0, \"title\": \"Min. % coverage by repeats\"}, \"yaxis\": {\"title\": \"transcripts\"}},\n",
       "            {\"showLink\": true, \"linkText\": \"Export to plot.ly\"}\n",
       "        ).then(function () {return Plotly.addFrames('4edf7aee-dff4-4494-b2e5-cea263a1ab03',{});}).then(function(){Plotly.animate('4edf7aee-dff4-4494-b2e5-cea263a1ab03');})\n",
       "        });</script>"
      ]
     },
     "metadata": {},
     "output_type": "display_data"
    },
    {
     "data": {
      "application/vnd.plotly.v1+json": {
       "data": [
        {
         "text": [
          "2068",
          "1890",
          "1558",
          "1201",
          "901",
          "671",
          "498",
          "375",
          "293",
          "219",
          "160",
          "126",
          "106",
          "82",
          "63",
          "56",
          "51",
          "44",
          "41",
          "35"
         ],
         "textposition": "outside",
         "type": "bar",
         "uid": "ee5b7ac2-a56b-11e8-8822-782bcba4e79e",
         "x": [
          0.1,
          5,
          10,
          15,
          20,
          25,
          30,
          35,
          40,
          45,
          50,
          55,
          60,
          65,
          70,
          75,
          80,
          85,
          90,
          95,
          100.1
         ],
         "y": [
          2068,
          1890,
          1558,
          1201,
          901,
          671,
          498,
          375,
          293,
          219,
          160,
          126,
          106,
          82,
          63,
          56,
          51,
          44,
          41,
          35
         ]
        }
       ],
       "layout": {
        "title": "4666 novel non-coding transcripts - Alu content",
        "xaxis": {
         "dtick": 5,
         "tick0": 0,
         "title": "Min. % coverage by Alu repeats"
        },
        "yaxis": {
         "title": "transcripts"
        }
       }
      },
      "text/html": [
       "<div id=\"7b2d9a3b-f225-429b-bd1e-855c4cf2336b\" style=\"height: 525px; width: 100%;\" class=\"plotly-graph-div\"></div><script type=\"text/javascript\">require([\"plotly\"], function(Plotly) { window.PLOTLYENV=window.PLOTLYENV || {};window.PLOTLYENV.BASE_URL=\"https://plot.ly\";\n",
       "        Plotly.plot(\n",
       "            '7b2d9a3b-f225-429b-bd1e-855c4cf2336b',\n",
       "            [{\"text\": [\"2068\", \"1890\", \"1558\", \"1201\", \"901\", \"671\", \"498\", \"375\", \"293\", \"219\", \"160\", \"126\", \"106\", \"82\", \"63\", \"56\", \"51\", \"44\", \"41\", \"35\"], \"textposition\": \"outside\", \"x\": [0.1, 5.0, 10.0, 15.0, 20.0, 25.0, 30.0, 35.0, 40.0, 45.0, 50.0, 55.0, 60.0, 65.0, 70.0, 75.0, 80.0, 85.0, 90.0, 95.0, 100.1], \"y\": [2068.0, 1890.0, 1558.0, 1201.0, 901.0, 671.0, 498.0, 375.0, 293.0, 219.0, 160.0, 126.0, 106.0, 82.0, 63.0, 56.0, 51.0, 44.0, 41.0, 35.0], \"type\": \"bar\", \"uid\": \"ee5b7ac2-a56b-11e8-8822-782bcba4e79e\"}],\n",
       "            {\"title\": \"4666 novel non-coding transcripts - Alu content\", \"xaxis\": {\"dtick\": 5, \"tick0\": 0, \"title\": \"Min. % coverage by Alu repeats\"}, \"yaxis\": {\"title\": \"transcripts\"}},\n",
       "            {\"showLink\": true, \"linkText\": \"Export to plot.ly\"}\n",
       "        ).then(function () {return Plotly.addFrames('7b2d9a3b-f225-429b-bd1e-855c4cf2336b',{});}).then(function(){Plotly.animate('7b2d9a3b-f225-429b-bd1e-855c4cf2336b');})\n",
       "        });</script>"
      ],
      "text/vnd.plotly.v1+html": [
       "<div id=\"7b2d9a3b-f225-429b-bd1e-855c4cf2336b\" style=\"height: 525px; width: 100%;\" class=\"plotly-graph-div\"></div><script type=\"text/javascript\">require([\"plotly\"], function(Plotly) { window.PLOTLYENV=window.PLOTLYENV || {};window.PLOTLYENV.BASE_URL=\"https://plot.ly\";\n",
       "        Plotly.plot(\n",
       "            '7b2d9a3b-f225-429b-bd1e-855c4cf2336b',\n",
       "            [{\"text\": [\"2068\", \"1890\", \"1558\", \"1201\", \"901\", \"671\", \"498\", \"375\", \"293\", \"219\", \"160\", \"126\", \"106\", \"82\", \"63\", \"56\", \"51\", \"44\", \"41\", \"35\"], \"textposition\": \"outside\", \"x\": [0.1, 5.0, 10.0, 15.0, 20.0, 25.0, 30.0, 35.0, 40.0, 45.0, 50.0, 55.0, 60.0, 65.0, 70.0, 75.0, 80.0, 85.0, 90.0, 95.0, 100.1], \"y\": [2068.0, 1890.0, 1558.0, 1201.0, 901.0, 671.0, 498.0, 375.0, 293.0, 219.0, 160.0, 126.0, 106.0, 82.0, 63.0, 56.0, 51.0, 44.0, 41.0, 35.0], \"type\": \"bar\", \"uid\": \"ee5b7ac2-a56b-11e8-8822-782bcba4e79e\"}],\n",
       "            {\"title\": \"4666 novel non-coding transcripts - Alu content\", \"xaxis\": {\"dtick\": 5, \"tick0\": 0, \"title\": \"Min. % coverage by Alu repeats\"}, \"yaxis\": {\"title\": \"transcripts\"}},\n",
       "            {\"showLink\": true, \"linkText\": \"Export to plot.ly\"}\n",
       "        ).then(function () {return Plotly.addFrames('7b2d9a3b-f225-429b-bd1e-855c4cf2336b',{});}).then(function(){Plotly.animate('7b2d9a3b-f225-429b-bd1e-855c4cf2336b');})\n",
       "        });</script>"
      ]
     },
     "metadata": {},
     "output_type": "display_data"
    },
    {
     "data": {
      "application/vnd.plotly.v1+json": {
       "data": [
        {
         "text": [
          "2873",
          "2675",
          "2353",
          "2083",
          "1836",
          "1607",
          "1400",
          "1231",
          "1073",
          "927",
          "799",
          "671",
          "567",
          "473",
          "393",
          "327",
          "277",
          "221",
          "180",
          "129"
         ],
         "textposition": "outside",
         "type": "bar",
         "uid": "ee61af00-a56b-11e8-8822-782bcba4e79e",
         "x": [
          0.1,
          5,
          10,
          15,
          20,
          25,
          30,
          35,
          40,
          45,
          50,
          55,
          60,
          65,
          70,
          75,
          80,
          85,
          90,
          95,
          100.1
         ],
         "y": [
          2873,
          2675,
          2353,
          2083,
          1836,
          1607,
          1400,
          1231,
          1073,
          927,
          799,
          671,
          567,
          473,
          393,
          327,
          277,
          221,
          180,
          129
         ]
        }
       ],
       "layout": {
        "title": "4666 novel non-coding transcripts - LINE/LTR",
        "xaxis": {
         "dtick": 5,
         "tick0": 0,
         "title": "Min. % coverage by LINE/LTR"
        },
        "yaxis": {
         "title": "transcripts"
        }
       }
      },
      "text/html": [
       "<div id=\"ca29a67f-0e00-480a-94d0-0fdee8ab4117\" style=\"height: 525px; width: 100%;\" class=\"plotly-graph-div\"></div><script type=\"text/javascript\">require([\"plotly\"], function(Plotly) { window.PLOTLYENV=window.PLOTLYENV || {};window.PLOTLYENV.BASE_URL=\"https://plot.ly\";\n",
       "        Plotly.plot(\n",
       "            'ca29a67f-0e00-480a-94d0-0fdee8ab4117',\n",
       "            [{\"text\": [\"2873\", \"2675\", \"2353\", \"2083\", \"1836\", \"1607\", \"1400\", \"1231\", \"1073\", \"927\", \"799\", \"671\", \"567\", \"473\", \"393\", \"327\", \"277\", \"221\", \"180\", \"129\"], \"textposition\": \"outside\", \"x\": [0.1, 5.0, 10.0, 15.0, 20.0, 25.0, 30.0, 35.0, 40.0, 45.0, 50.0, 55.0, 60.0, 65.0, 70.0, 75.0, 80.0, 85.0, 90.0, 95.0, 100.1], \"y\": [2873.0, 2675.0, 2353.0, 2083.0, 1836.0, 1607.0, 1400.0, 1231.0, 1073.0, 927.0, 799.0, 671.0, 567.0, 473.0, 393.0, 327.0, 277.0, 221.0, 180.0, 129.0], \"type\": \"bar\", \"uid\": \"ee61af00-a56b-11e8-8822-782bcba4e79e\"}],\n",
       "            {\"title\": \"4666 novel non-coding transcripts - LINE/LTR\", \"xaxis\": {\"dtick\": 5, \"tick0\": 0, \"title\": \"Min. % coverage by LINE/LTR\"}, \"yaxis\": {\"title\": \"transcripts\"}},\n",
       "            {\"showLink\": true, \"linkText\": \"Export to plot.ly\"}\n",
       "        ).then(function () {return Plotly.addFrames('ca29a67f-0e00-480a-94d0-0fdee8ab4117',{});}).then(function(){Plotly.animate('ca29a67f-0e00-480a-94d0-0fdee8ab4117');})\n",
       "        });</script>"
      ],
      "text/vnd.plotly.v1+html": [
       "<div id=\"ca29a67f-0e00-480a-94d0-0fdee8ab4117\" style=\"height: 525px; width: 100%;\" class=\"plotly-graph-div\"></div><script type=\"text/javascript\">require([\"plotly\"], function(Plotly) { window.PLOTLYENV=window.PLOTLYENV || {};window.PLOTLYENV.BASE_URL=\"https://plot.ly\";\n",
       "        Plotly.plot(\n",
       "            'ca29a67f-0e00-480a-94d0-0fdee8ab4117',\n",
       "            [{\"text\": [\"2873\", \"2675\", \"2353\", \"2083\", \"1836\", \"1607\", \"1400\", \"1231\", \"1073\", \"927\", \"799\", \"671\", \"567\", \"473\", \"393\", \"327\", \"277\", \"221\", \"180\", \"129\"], \"textposition\": \"outside\", \"x\": [0.1, 5.0, 10.0, 15.0, 20.0, 25.0, 30.0, 35.0, 40.0, 45.0, 50.0, 55.0, 60.0, 65.0, 70.0, 75.0, 80.0, 85.0, 90.0, 95.0, 100.1], \"y\": [2873.0, 2675.0, 2353.0, 2083.0, 1836.0, 1607.0, 1400.0, 1231.0, 1073.0, 927.0, 799.0, 671.0, 567.0, 473.0, 393.0, 327.0, 277.0, 221.0, 180.0, 129.0], \"type\": \"bar\", \"uid\": \"ee61af00-a56b-11e8-8822-782bcba4e79e\"}],\n",
       "            {\"title\": \"4666 novel non-coding transcripts - LINE/LTR\", \"xaxis\": {\"dtick\": 5, \"tick0\": 0, \"title\": \"Min. % coverage by LINE/LTR\"}, \"yaxis\": {\"title\": \"transcripts\"}},\n",
       "            {\"showLink\": true, \"linkText\": \"Export to plot.ly\"}\n",
       "        ).then(function () {return Plotly.addFrames('ca29a67f-0e00-480a-94d0-0fdee8ab4117',{});}).then(function(){Plotly.animate('ca29a67f-0e00-480a-94d0-0fdee8ab4117');})\n",
       "        });</script>"
      ]
     },
     "metadata": {},
     "output_type": "display_data"
    }
   ],
   "source": [
    "ndf=tdf[(tdf['gnovel'].eq(True)) & (tdf['gtype'].ne('protein_coding'))]\n",
    "plotCH(ndf, 'excov', ' novel non-coding transcripts', 'Min. % coverage by repeats')\n",
    "plotCH(ndf, 'alu_excov', ' novel non-coding transcripts - Alu content', 'Min. % coverage by Alu repeats')\n",
    "plotCH(ndf, 'line_excov', ' novel non-coding transcripts - LINE/LTR', 'Min. % coverage by LINE/LTR')\n"
   ]
  },
  {
   "cell_type": "code",
   "execution_count": 13,
   "metadata": {},
   "outputs": [
    {
     "data": {
      "application/vnd.plotly.v1+json": {
       "data": [
        {
         "text": [
          "3435",
          "2127",
          "1307",
          "901",
          "654",
          "496",
          "387",
          "298",
          "241",
          "183",
          "139",
          "109",
          "91",
          "81",
          "71",
          "53",
          "45",
          "34",
          "28",
          "23"
         ],
         "textposition": "outside",
         "type": "bar",
         "uid": "24b55252-a56a-11e8-8822-782bcba4e79e",
         "x": [
          0.1,
          5,
          10,
          15,
          20,
          25,
          30,
          35,
          40,
          45,
          50,
          55,
          60,
          65,
          70,
          75,
          80,
          85,
          90,
          95,
          100.1
         ],
         "y": [
          3435,
          2127,
          1307,
          901,
          654,
          496,
          387,
          298,
          241,
          183,
          139,
          109,
          91,
          81,
          71,
          53,
          45,
          34,
          28,
          23
         ]
        }
       ],
       "layout": {
        "title": "15910 multi-exon coding transcripts in Gencode exclusive genes",
        "xaxis": {
         "dtick": 5,
         "tick0": 0,
         "title": "Min. % CDS coverage by repeats"
        },
        "yaxis": {
         "title": "transcripts"
        }
       }
      },
      "text/html": [
       "<div id=\"ba51a6df-7bb8-4976-974f-e19c62fd0f69\" style=\"height: 525px; width: 100%;\" class=\"plotly-graph-div\"></div><script type=\"text/javascript\">require([\"plotly\"], function(Plotly) { window.PLOTLYENV=window.PLOTLYENV || {};window.PLOTLYENV.BASE_URL=\"https://plot.ly\";\n",
       "        Plotly.plot(\n",
       "            'ba51a6df-7bb8-4976-974f-e19c62fd0f69',\n",
       "            [{\"text\": [\"3435\", \"2127\", \"1307\", \"901\", \"654\", \"496\", \"387\", \"298\", \"241\", \"183\", \"139\", \"109\", \"91\", \"81\", \"71\", \"53\", \"45\", \"34\", \"28\", \"23\"], \"textposition\": \"outside\", \"x\": [0.1, 5.0, 10.0, 15.0, 20.0, 25.0, 30.0, 35.0, 40.0, 45.0, 50.0, 55.0, 60.0, 65.0, 70.0, 75.0, 80.0, 85.0, 90.0, 95.0, 100.1], \"y\": [3435.0, 2127.0, 1307.0, 901.0, 654.0, 496.0, 387.0, 298.0, 241.0, 183.0, 139.0, 109.0, 91.0, 81.0, 71.0, 53.0, 45.0, 34.0, 28.0, 23.0], \"type\": \"bar\", \"uid\": \"24b55252-a56a-11e8-8822-782bcba4e79e\"}],\n",
       "            {\"title\": \"15910 multi-exon coding transcripts in Gencode exclusive genes\", \"xaxis\": {\"dtick\": 5, \"tick0\": 0, \"title\": \"Min. % CDS coverage by repeats\"}, \"yaxis\": {\"title\": \"transcripts\"}},\n",
       "            {\"showLink\": true, \"linkText\": \"Export to plot.ly\"}\n",
       "        ).then(function () {return Plotly.addFrames('ba51a6df-7bb8-4976-974f-e19c62fd0f69',{});}).then(function(){Plotly.animate('ba51a6df-7bb8-4976-974f-e19c62fd0f69');})\n",
       "        });</script>"
      ],
      "text/vnd.plotly.v1+html": [
       "<div id=\"ba51a6df-7bb8-4976-974f-e19c62fd0f69\" style=\"height: 525px; width: 100%;\" class=\"plotly-graph-div\"></div><script type=\"text/javascript\">require([\"plotly\"], function(Plotly) { window.PLOTLYENV=window.PLOTLYENV || {};window.PLOTLYENV.BASE_URL=\"https://plot.ly\";\n",
       "        Plotly.plot(\n",
       "            'ba51a6df-7bb8-4976-974f-e19c62fd0f69',\n",
       "            [{\"text\": [\"3435\", \"2127\", \"1307\", \"901\", \"654\", \"496\", \"387\", \"298\", \"241\", \"183\", \"139\", \"109\", \"91\", \"81\", \"71\", \"53\", \"45\", \"34\", \"28\", \"23\"], \"textposition\": \"outside\", \"x\": [0.1, 5.0, 10.0, 15.0, 20.0, 25.0, 30.0, 35.0, 40.0, 45.0, 50.0, 55.0, 60.0, 65.0, 70.0, 75.0, 80.0, 85.0, 90.0, 95.0, 100.1], \"y\": [3435.0, 2127.0, 1307.0, 901.0, 654.0, 496.0, 387.0, 298.0, 241.0, 183.0, 139.0, 109.0, 91.0, 81.0, 71.0, 53.0, 45.0, 34.0, 28.0, 23.0], \"type\": \"bar\", \"uid\": \"24b55252-a56a-11e8-8822-782bcba4e79e\"}],\n",
       "            {\"title\": \"15910 multi-exon coding transcripts in Gencode exclusive genes\", \"xaxis\": {\"dtick\": 5, \"tick0\": 0, \"title\": \"Min. % CDS coverage by repeats\"}, \"yaxis\": {\"title\": \"transcripts\"}},\n",
       "            {\"showLink\": true, \"linkText\": \"Export to plot.ly\"}\n",
       "        ).then(function () {return Plotly.addFrames('ba51a6df-7bb8-4976-974f-e19c62fd0f69',{});}).then(function(){Plotly.animate('ba51a6df-7bb8-4976-974f-e19c62fd0f69');})\n",
       "        });</script>"
      ]
     },
     "metadata": {},
     "output_type": "display_data"
    },
    {
     "data": {
      "application/vnd.plotly.v1+json": {
       "data": [
        {
         "text": [
          "442",
          "400",
          "339",
          "286",
          "228",
          "193",
          "153",
          "122",
          "96",
          "69",
          "49",
          "41",
          "30",
          "24",
          "20",
          "15",
          "13",
          "8",
          "4",
          "2"
         ],
         "textposition": "outside",
         "type": "bar",
         "uid": "24bbdc58-a56a-11e8-8822-782bcba4e79e",
         "x": [
          0.1,
          5,
          10,
          15,
          20,
          25,
          30,
          35,
          40,
          45,
          50,
          55,
          60,
          65,
          70,
          75,
          80,
          85,
          90,
          95,
          100.1
         ],
         "y": [
          442,
          400,
          339,
          286,
          228,
          193,
          153,
          122,
          96,
          69,
          49,
          41,
          30,
          24,
          20,
          15,
          13,
          8,
          4,
          2
         ]
        }
       ],
       "layout": {
        "title": "15910 multi-exon coding transcripts in Gencode exclusive genes - Alu",
        "xaxis": {
         "dtick": 5,
         "tick0": 0,
         "title": "Min. % CDS coverage by Alu"
        },
        "yaxis": {
         "title": "transcripts"
        }
       }
      },
      "text/html": [
       "<div id=\"a83e1ef0-aefe-42dd-8fc1-43b88d53d1a0\" style=\"height: 525px; width: 100%;\" class=\"plotly-graph-div\"></div><script type=\"text/javascript\">require([\"plotly\"], function(Plotly) { window.PLOTLYENV=window.PLOTLYENV || {};window.PLOTLYENV.BASE_URL=\"https://plot.ly\";\n",
       "        Plotly.plot(\n",
       "            'a83e1ef0-aefe-42dd-8fc1-43b88d53d1a0',\n",
       "            [{\"text\": [\"442\", \"400\", \"339\", \"286\", \"228\", \"193\", \"153\", \"122\", \"96\", \"69\", \"49\", \"41\", \"30\", \"24\", \"20\", \"15\", \"13\", \"8\", \"4\", \"2\"], \"textposition\": \"outside\", \"x\": [0.1, 5.0, 10.0, 15.0, 20.0, 25.0, 30.0, 35.0, 40.0, 45.0, 50.0, 55.0, 60.0, 65.0, 70.0, 75.0, 80.0, 85.0, 90.0, 95.0, 100.1], \"y\": [442.0, 400.0, 339.0, 286.0, 228.0, 193.0, 153.0, 122.0, 96.0, 69.0, 49.0, 41.0, 30.0, 24.0, 20.0, 15.0, 13.0, 8.0, 4.0, 2.0], \"type\": \"bar\", \"uid\": \"24bbdc58-a56a-11e8-8822-782bcba4e79e\"}],\n",
       "            {\"title\": \"15910 multi-exon coding transcripts in Gencode exclusive genes - Alu\", \"xaxis\": {\"dtick\": 5, \"tick0\": 0, \"title\": \"Min. % CDS coverage by Alu\"}, \"yaxis\": {\"title\": \"transcripts\"}},\n",
       "            {\"showLink\": true, \"linkText\": \"Export to plot.ly\"}\n",
       "        ).then(function () {return Plotly.addFrames('a83e1ef0-aefe-42dd-8fc1-43b88d53d1a0',{});}).then(function(){Plotly.animate('a83e1ef0-aefe-42dd-8fc1-43b88d53d1a0');})\n",
       "        });</script>"
      ],
      "text/vnd.plotly.v1+html": [
       "<div id=\"a83e1ef0-aefe-42dd-8fc1-43b88d53d1a0\" style=\"height: 525px; width: 100%;\" class=\"plotly-graph-div\"></div><script type=\"text/javascript\">require([\"plotly\"], function(Plotly) { window.PLOTLYENV=window.PLOTLYENV || {};window.PLOTLYENV.BASE_URL=\"https://plot.ly\";\n",
       "        Plotly.plot(\n",
       "            'a83e1ef0-aefe-42dd-8fc1-43b88d53d1a0',\n",
       "            [{\"text\": [\"442\", \"400\", \"339\", \"286\", \"228\", \"193\", \"153\", \"122\", \"96\", \"69\", \"49\", \"41\", \"30\", \"24\", \"20\", \"15\", \"13\", \"8\", \"4\", \"2\"], \"textposition\": \"outside\", \"x\": [0.1, 5.0, 10.0, 15.0, 20.0, 25.0, 30.0, 35.0, 40.0, 45.0, 50.0, 55.0, 60.0, 65.0, 70.0, 75.0, 80.0, 85.0, 90.0, 95.0, 100.1], \"y\": [442.0, 400.0, 339.0, 286.0, 228.0, 193.0, 153.0, 122.0, 96.0, 69.0, 49.0, 41.0, 30.0, 24.0, 20.0, 15.0, 13.0, 8.0, 4.0, 2.0], \"type\": \"bar\", \"uid\": \"24bbdc58-a56a-11e8-8822-782bcba4e79e\"}],\n",
       "            {\"title\": \"15910 multi-exon coding transcripts in Gencode exclusive genes - Alu\", \"xaxis\": {\"dtick\": 5, \"tick0\": 0, \"title\": \"Min. % CDS coverage by Alu\"}, \"yaxis\": {\"title\": \"transcripts\"}},\n",
       "            {\"showLink\": true, \"linkText\": \"Export to plot.ly\"}\n",
       "        ).then(function () {return Plotly.addFrames('a83e1ef0-aefe-42dd-8fc1-43b88d53d1a0',{});}).then(function(){Plotly.animate('a83e1ef0-aefe-42dd-8fc1-43b88d53d1a0');})\n",
       "        });</script>"
      ]
     },
     "metadata": {},
     "output_type": "display_data"
    },
    {
     "data": {
      "application/vnd.plotly.v1+json": {
       "data": [
        {
         "text": [
          "713",
          "473",
          "320",
          "238",
          "186",
          "143",
          "110",
          "88",
          "76",
          "59",
          "49",
          "38",
          "32",
          "29",
          "27",
          "19",
          "14",
          "9",
          "9",
          "8"
         ],
         "textposition": "outside",
         "type": "bar",
         "uid": "24c24b4c-a56a-11e8-8822-782bcba4e79e",
         "x": [
          0.1,
          5,
          10,
          15,
          20,
          25,
          30,
          35,
          40,
          45,
          50,
          55,
          60,
          65,
          70,
          75,
          80,
          85,
          90,
          95,
          100.1
         ],
         "y": [
          713,
          473,
          320,
          238,
          186,
          143,
          110,
          88,
          76,
          59,
          49,
          38,
          32,
          29,
          27,
          19,
          14,
          9,
          9,
          8
         ]
        }
       ],
       "layout": {
        "title": "15910 multi-exon coding transcripts in Gencode exclusive genes - LINE/LTR",
        "xaxis": {
         "dtick": 5,
         "tick0": 0,
         "title": "Min. % CDS coverage by LINE/LTR"
        },
        "yaxis": {
         "title": "transcripts"
        }
       }
      },
      "text/html": [
       "<div id=\"17c66064-3e68-45f4-a2fa-80f4108c01a0\" style=\"height: 525px; width: 100%;\" class=\"plotly-graph-div\"></div><script type=\"text/javascript\">require([\"plotly\"], function(Plotly) { window.PLOTLYENV=window.PLOTLYENV || {};window.PLOTLYENV.BASE_URL=\"https://plot.ly\";\n",
       "        Plotly.plot(\n",
       "            '17c66064-3e68-45f4-a2fa-80f4108c01a0',\n",
       "            [{\"text\": [\"713\", \"473\", \"320\", \"238\", \"186\", \"143\", \"110\", \"88\", \"76\", \"59\", \"49\", \"38\", \"32\", \"29\", \"27\", \"19\", \"14\", \"9\", \"9\", \"8\"], \"textposition\": \"outside\", \"x\": [0.1, 5.0, 10.0, 15.0, 20.0, 25.0, 30.0, 35.0, 40.0, 45.0, 50.0, 55.0, 60.0, 65.0, 70.0, 75.0, 80.0, 85.0, 90.0, 95.0, 100.1], \"y\": [713.0, 473.0, 320.0, 238.0, 186.0, 143.0, 110.0, 88.0, 76.0, 59.0, 49.0, 38.0, 32.0, 29.0, 27.0, 19.0, 14.0, 9.0, 9.0, 8.0], \"type\": \"bar\", \"uid\": \"24c24b4c-a56a-11e8-8822-782bcba4e79e\"}],\n",
       "            {\"title\": \"15910 multi-exon coding transcripts in Gencode exclusive genes - LINE/LTR\", \"xaxis\": {\"dtick\": 5, \"tick0\": 0, \"title\": \"Min. % CDS coverage by LINE/LTR\"}, \"yaxis\": {\"title\": \"transcripts\"}},\n",
       "            {\"showLink\": true, \"linkText\": \"Export to plot.ly\"}\n",
       "        ).then(function () {return Plotly.addFrames('17c66064-3e68-45f4-a2fa-80f4108c01a0',{});}).then(function(){Plotly.animate('17c66064-3e68-45f4-a2fa-80f4108c01a0');})\n",
       "        });</script>"
      ],
      "text/vnd.plotly.v1+html": [
       "<div id=\"17c66064-3e68-45f4-a2fa-80f4108c01a0\" style=\"height: 525px; width: 100%;\" class=\"plotly-graph-div\"></div><script type=\"text/javascript\">require([\"plotly\"], function(Plotly) { window.PLOTLYENV=window.PLOTLYENV || {};window.PLOTLYENV.BASE_URL=\"https://plot.ly\";\n",
       "        Plotly.plot(\n",
       "            '17c66064-3e68-45f4-a2fa-80f4108c01a0',\n",
       "            [{\"text\": [\"713\", \"473\", \"320\", \"238\", \"186\", \"143\", \"110\", \"88\", \"76\", \"59\", \"49\", \"38\", \"32\", \"29\", \"27\", \"19\", \"14\", \"9\", \"9\", \"8\"], \"textposition\": \"outside\", \"x\": [0.1, 5.0, 10.0, 15.0, 20.0, 25.0, 30.0, 35.0, 40.0, 45.0, 50.0, 55.0, 60.0, 65.0, 70.0, 75.0, 80.0, 85.0, 90.0, 95.0, 100.1], \"y\": [713.0, 473.0, 320.0, 238.0, 186.0, 143.0, 110.0, 88.0, 76.0, 59.0, 49.0, 38.0, 32.0, 29.0, 27.0, 19.0, 14.0, 9.0, 9.0, 8.0], \"type\": \"bar\", \"uid\": \"24c24b4c-a56a-11e8-8822-782bcba4e79e\"}],\n",
       "            {\"title\": \"15910 multi-exon coding transcripts in Gencode exclusive genes - LINE/LTR\", \"xaxis\": {\"dtick\": 5, \"tick0\": 0, \"title\": \"Min. % CDS coverage by LINE/LTR\"}, \"yaxis\": {\"title\": \"transcripts\"}},\n",
       "            {\"showLink\": true, \"linkText\": \"Export to plot.ly\"}\n",
       "        ).then(function () {return Plotly.addFrames('17c66064-3e68-45f4-a2fa-80f4108c01a0',{});}).then(function(){Plotly.animate('17c66064-3e68-45f4-a2fa-80f4108c01a0');})\n",
       "        });</script>"
      ]
     },
     "metadata": {},
     "output_type": "display_data"
    }
   ],
   "source": [
    "kdf=tdf[(tdf['tcoding'].eq(True))]\n",
    "rdf=kdf[(kdf['status'].eq('known_gencode'))]\n",
    "rdf=rdf[(rdf['excount']>1)]\n",
    "plotCH(rdf, 'cdcov', ' multi-exon coding transcripts in Gencode exclusive genes', 'Min. % CDS coverage by repeats')\n",
    "plotCH(rdf, 'alu_cdcov', ' multi-exon coding transcripts in Gencode exclusive genes - Alu', 'Min. % CDS coverage by Alu')\n",
    "plotCH(rdf, 'line_cdcov', ' multi-exon coding transcripts in Gencode exclusive genes - LINE/LTR', 'Min. % CDS coverage by LINE/LTR')\n"
   ]
  },
  {
   "cell_type": "code",
   "execution_count": null,
   "metadata": {},
   "outputs": [],
   "source": []
  },
  {
   "cell_type": "code",
   "execution_count": null,
   "metadata": {},
   "outputs": [],
   "source": []
  }
 ],
 "metadata": {
  "kernelspec": {
   "display_name": "Python 3",
   "language": "python",
   "name": "python3"
  },
  "language_info": {
   "codemirror_mode": {
    "name": "ipython",
    "version": 3
   },
   "file_extension": ".py",
   "mimetype": "text/x-python",
   "name": "python",
   "nbconvert_exporter": "python",
   "pygments_lexer": "ipython3",
   "version": "3.7.0"
  }
 },
 "nbformat": 4,
 "nbformat_minor": 2
}
