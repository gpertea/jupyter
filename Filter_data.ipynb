{
 "cells": [
  {
   "cell_type": "code",
   "execution_count": 29,
   "metadata": {},
   "outputs": [],
   "source": [
    "import ipywidgets as wgt\n",
    "import pandas as pd\n",
    "\n",
    "tdf=pd.read_csv('chess2_rep_moreinfo.tab', sep='\\t')"
   ]
  },
  {
   "cell_type": "code",
   "execution_count": 31,
   "metadata": {},
   "outputs": [
    {
     "data": {
      "text/plain": [
       "323827"
      ]
     },
     "execution_count": 31,
     "metadata": {},
     "output_type": "execute_result"
    }
   ],
   "source": [
    "tdf['excov']=pd.to_numeric(tdf['excov'], errors='coerce').fillna(0)\n",
    "tdf['cdcov']=pd.to_numeric(tdf['cdcov'], errors='coerce').fillna(0)\n",
    "tdf.shape[0] #number of rows"
   ]
  },
  {
   "cell_type": "code",
   "execution_count": 32,
   "metadata": {},
   "outputs": [
    {
     "data": {
      "application/vnd.jupyter.widget-view+json": {
       "model_id": "86572fa16a864ed986b159b033377bd7",
       "version_major": 2,
       "version_minor": 0
      },
      "text/plain": [
       "HBox(children=(SelectMultiple(description='STATUS', index=(3,), options=('known_fantom', 'known_gencode', 'kno…"
      ]
     },
     "metadata": {},
     "output_type": "display_data"
    },
    {
     "data": {
      "application/vnd.jupyter.widget-view+json": {
       "model_id": "6b50858e89564067b86b258d6331c8bc",
       "version_major": 2,
       "version_minor": 0
      },
      "text/plain": [
       "HBox(children=(VBox(children=(Label(value='Min. exon cov%:'), IntSlider(value=0))), VBox(children=(Label(value…"
      ]
     },
     "metadata": {},
     "output_type": "display_data"
    },
    {
     "data": {
      "application/vnd.jupyter.widget-view+json": {
       "model_id": "3977cdf9cbe14b1197bd6f52a1855f62",
       "version_major": 2,
       "version_minor": 0
      },
      "text/plain": [
       "HBox(children=(Button(description='Query', style=ButtonStyle(), tooltip='Query'), Label(value='---', layout=La…"
      ]
     },
     "metadata": {},
     "output_type": "display_data"
    }
   ],
   "source": [
    "seltype=wgt.SelectMultiple(\n",
    "    options=sorted(tdf.type.unique()),\n",
    "    value=[],\n",
    "    rows=4,\n",
    "    description='TYPE',\n",
    ")\n",
    "selstatus=wgt.SelectMultiple(\n",
    "    options=sorted(tdf.status.unique()),\n",
    "    value=['novel'],\n",
    "    rows=4,\n",
    "    description='STATUS',\n",
    ")\n",
    "hbox2=wgt.HBox([selstatus, seltype])\n",
    "display(hbox2)\n",
    "excov=wgt.IntSlider(value=0, min=0, max=100, description='')\n",
    "cdcov=wgt.IntSlider(value=0, min=0, max=100, description='')\n",
    "hbox=wgt.HBox([wgt.VBox([wgt.Label(value=\"Min. exon cov%:\"), excov]),\n",
    "                  wgt.VBox([wgt.Label(value=\"Min. CDS cov%:\"), cdcov])])\n",
    "display(hbox)\n",
    "\n",
    "runbtn=wgt.Button(\n",
    "    description='Query',\n",
    "    #disabled=False,\n",
    "    #button_style='', # 'success', 'info', 'warning', 'danger' or ''\n",
    "    tooltip='Query',\n",
    "    #icon='check'\n",
    ")\n",
    "rlabel=wgt.Label(value=\"---\", layout=wgt.Layout(border='2px solid red', padding='0 12px'))\n",
    "rlabelres=wgt.Label(value=\"---\", layout=wgt.Layout(border='2px solid red', padding='0 12px'))\n",
    "def btnRunClick(b):\n",
    "    rlabel.value=''\n",
    "    rdf=tdf\n",
    "    if len(selstatus.value)==4 or len(selstatus.value)==0:\n",
    "        rlabel.value='any status'\n",
    "    else: \n",
    "        rlabel.value=' | '.join(selstatus.value)\n",
    "        rdf=tdf[(tdf['status'].isin(selstatus.value))]\n",
    "        if len(selstatus.value)==3 and not 'novel' in selstatus.value:\n",
    "            rlabel.value='known'\n",
    "        else:\n",
    "            if len(selstatus.value)>1: rlabel.value='('+rlabel.value+')'\n",
    "    stype=''\n",
    "    \n",
    "    if not(len(seltype.value)==4 or len(seltype.value)==0):\n",
    "        stype=' | '.join(seltype.value)\n",
    "        rdf=rdf[(rdf['type'].isin(seltype.value))]\n",
    "        \n",
    "    if rlabel.value and stype: \n",
    "        rlabel.value+=' &  '\n",
    "        if len(seltype.value)>1: stype='('+stype+')'\n",
    "    rlabel.value+=stype\n",
    "    if excov.value>0:\n",
    "       rdf=rdf[(rdf['excov']>=excov.value)]    \n",
    "    if cdcov.value>0:\n",
    "       rdf=rdf[(rdf['cdcov']>=cdcov.value)]\n",
    "\n",
    "    rlabelres.value=str(len(rdf))\n",
    "\n",
    "runbtn.on_click(btnRunClick)\n",
    "\n",
    "hbx=wgt.HBox([runbtn, rlabel, rlabelres])\n",
    "display(hbx)\n",
    "btnRunClick(True)"
   ]
  },
  {
   "cell_type": "code",
   "execution_count": null,
   "metadata": {},
   "outputs": [],
   "source": []
  }
 ],
 "metadata": {
  "kernelspec": {
   "display_name": "Python 3",
   "language": "python",
   "name": "python3"
  },
  "language_info": {
   "codemirror_mode": {
    "name": "ipython",
    "version": 3
   },
   "file_extension": ".py",
   "mimetype": "text/x-python",
   "name": "python",
   "nbconvert_exporter": "python",
   "pygments_lexer": "ipython3",
   "version": "3.6.6"
  }
 },
 "nbformat": 4,
 "nbformat_minor": 2
}
