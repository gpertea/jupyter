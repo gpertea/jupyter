{
 "cells": [
  {
   "cell_type": "code",
   "execution_count": 1,
   "metadata": {
    "scrolled": true
   },
   "outputs": [
    {
     "data": {
      "text/html": [
       "<script>requirejs.config({paths: { 'plotly': ['https://cdn.plot.ly/plotly-latest.min']},});if(!window.Plotly) {{require(['plotly'],function(plotly) {window.Plotly=plotly;});}}</script>"
      ],
      "text/vnd.plotly.v1+html": [
       "<script>requirejs.config({paths: { 'plotly': ['https://cdn.plot.ly/plotly-latest.min']},});if(!window.Plotly) {{require(['plotly'],function(plotly) {window.Plotly=plotly;});}}</script>"
      ]
     },
     "metadata": {},
     "output_type": "display_data"
    },
    {
     "data": {
      "text/html": [
       "<div>\n",
       "<style scoped>\n",
       "    .dataframe tbody tr th:only-of-type {\n",
       "        vertical-align: middle;\n",
       "    }\n",
       "\n",
       "    .dataframe tbody tr th {\n",
       "        vertical-align: top;\n",
       "    }\n",
       "\n",
       "    .dataframe thead th {\n",
       "        text-align: right;\n",
       "    }\n",
       "</style>\n",
       "<table border=\"1\" class=\"dataframe\">\n",
       "  <thead>\n",
       "    <tr style=\"text-align: right;\">\n",
       "      <th></th>\n",
       "      <th>gstatus</th>\n",
       "      <th>gtype</th>\n",
       "      <th>status</th>\n",
       "      <th>type</th>\n",
       "      <th>asm</th>\n",
       "      <th>chr</th>\n",
       "      <th>strand</th>\n",
       "      <th>excount</th>\n",
       "      <th>exlen</th>\n",
       "      <th>cdlen</th>\n",
       "      <th>...</th>\n",
       "      <th>excov</th>\n",
       "      <th>cdcov</th>\n",
       "      <th>alu_excov</th>\n",
       "      <th>alu_cdcov</th>\n",
       "      <th>line_excov</th>\n",
       "      <th>line_cdcov</th>\n",
       "      <th>tcoding</th>\n",
       "      <th>tnovel</th>\n",
       "      <th>gcoding</th>\n",
       "      <th>gnovel</th>\n",
       "    </tr>\n",
       "    <tr>\n",
       "      <th>id</th>\n",
       "      <th></th>\n",
       "      <th></th>\n",
       "      <th></th>\n",
       "      <th></th>\n",
       "      <th></th>\n",
       "      <th></th>\n",
       "      <th></th>\n",
       "      <th></th>\n",
       "      <th></th>\n",
       "      <th></th>\n",
       "      <th></th>\n",
       "      <th></th>\n",
       "      <th></th>\n",
       "      <th></th>\n",
       "      <th></th>\n",
       "      <th></th>\n",
       "      <th></th>\n",
       "      <th></th>\n",
       "      <th></th>\n",
       "      <th></th>\n",
       "      <th></th>\n",
       "    </tr>\n",
       "  </thead>\n",
       "  <tbody>\n",
       "    <tr>\n",
       "      <th>CHS.6.1</th>\n",
       "      <td>known_refseq</td>\n",
       "      <td>protein_coding</td>\n",
       "      <td>known_refseq</td>\n",
       "      <td>coding</td>\n",
       "      <td>yes</td>\n",
       "      <td>chr1</td>\n",
       "      <td>+</td>\n",
       "      <td>1</td>\n",
       "      <td>918</td>\n",
       "      <td>918</td>\n",
       "      <td>...</td>\n",
       "      <td>0.0</td>\n",
       "      <td>0.0</td>\n",
       "      <td>0.0</td>\n",
       "      <td>0.0</td>\n",
       "      <td>0.0</td>\n",
       "      <td>0.0</td>\n",
       "      <td>True</td>\n",
       "      <td>False</td>\n",
       "      <td>True</td>\n",
       "      <td>False</td>\n",
       "    </tr>\n",
       "    <tr>\n",
       "      <th>CHS.9.1</th>\n",
       "      <td>known_refseq</td>\n",
       "      <td>protein_coding</td>\n",
       "      <td>known_refseq</td>\n",
       "      <td>coding</td>\n",
       "      <td>yes</td>\n",
       "      <td>chr1</td>\n",
       "      <td>+</td>\n",
       "      <td>4</td>\n",
       "      <td>744</td>\n",
       "      <td>402</td>\n",
       "      <td>...</td>\n",
       "      <td>8.3</td>\n",
       "      <td>0.0</td>\n",
       "      <td>0.0</td>\n",
       "      <td>0.0</td>\n",
       "      <td>0.0</td>\n",
       "      <td>0.0</td>\n",
       "      <td>True</td>\n",
       "      <td>False</td>\n",
       "      <td>True</td>\n",
       "      <td>False</td>\n",
       "    </tr>\n",
       "    <tr>\n",
       "      <th>CHS.9.2</th>\n",
       "      <td>known_refseq</td>\n",
       "      <td>protein_coding</td>\n",
       "      <td>known_refseq</td>\n",
       "      <td>coding</td>\n",
       "      <td>yes</td>\n",
       "      <td>chr1</td>\n",
       "      <td>+</td>\n",
       "      <td>4</td>\n",
       "      <td>762</td>\n",
       "      <td>402</td>\n",
       "      <td>...</td>\n",
       "      <td>10.5</td>\n",
       "      <td>0.0</td>\n",
       "      <td>0.0</td>\n",
       "      <td>0.0</td>\n",
       "      <td>0.0</td>\n",
       "      <td>0.0</td>\n",
       "      <td>True</td>\n",
       "      <td>False</td>\n",
       "      <td>True</td>\n",
       "      <td>False</td>\n",
       "    </tr>\n",
       "    <tr>\n",
       "      <th>CHS.9.3</th>\n",
       "      <td>known_refseq</td>\n",
       "      <td>protein_coding</td>\n",
       "      <td>known_refseq</td>\n",
       "      <td>coding</td>\n",
       "      <td>no</td>\n",
       "      <td>chr1</td>\n",
       "      <td>+</td>\n",
       "      <td>4</td>\n",
       "      <td>1014</td>\n",
       "      <td>402</td>\n",
       "      <td>...</td>\n",
       "      <td>26.2</td>\n",
       "      <td>0.0</td>\n",
       "      <td>0.0</td>\n",
       "      <td>0.0</td>\n",
       "      <td>16.1</td>\n",
       "      <td>0.0</td>\n",
       "      <td>True</td>\n",
       "      <td>False</td>\n",
       "      <td>True</td>\n",
       "      <td>False</td>\n",
       "    </tr>\n",
       "    <tr>\n",
       "      <th>CHS.9.4</th>\n",
       "      <td>known_refseq</td>\n",
       "      <td>protein_coding</td>\n",
       "      <td>known_refseq</td>\n",
       "      <td>coding</td>\n",
       "      <td>yes</td>\n",
       "      <td>chr1</td>\n",
       "      <td>+</td>\n",
       "      <td>4</td>\n",
       "      <td>841</td>\n",
       "      <td>402</td>\n",
       "      <td>...</td>\n",
       "      <td>18.9</td>\n",
       "      <td>0.0</td>\n",
       "      <td>0.0</td>\n",
       "      <td>0.0</td>\n",
       "      <td>18.9</td>\n",
       "      <td>0.0</td>\n",
       "      <td>True</td>\n",
       "      <td>False</td>\n",
       "      <td>True</td>\n",
       "      <td>False</td>\n",
       "    </tr>\n",
       "  </tbody>\n",
       "</table>\n",
       "<p>5 rows × 22 columns</p>\n",
       "</div>"
      ],
      "text/plain": [
       "              gstatus           gtype        status    type  asm   chr strand  \\\n",
       "id                                                                              \n",
       "CHS.6.1  known_refseq  protein_coding  known_refseq  coding  yes  chr1      +   \n",
       "CHS.9.1  known_refseq  protein_coding  known_refseq  coding  yes  chr1      +   \n",
       "CHS.9.2  known_refseq  protein_coding  known_refseq  coding  yes  chr1      +   \n",
       "CHS.9.3  known_refseq  protein_coding  known_refseq  coding   no  chr1      +   \n",
       "CHS.9.4  known_refseq  protein_coding  known_refseq  coding  yes  chr1      +   \n",
       "\n",
       "         excount  exlen  cdlen   ...   excov cdcov  alu_excov  alu_cdcov  \\\n",
       "id                               ...                                       \n",
       "CHS.6.1        1    918    918   ...     0.0   0.0        0.0        0.0   \n",
       "CHS.9.1        4    744    402   ...     8.3   0.0        0.0        0.0   \n",
       "CHS.9.2        4    762    402   ...    10.5   0.0        0.0        0.0   \n",
       "CHS.9.3        4   1014    402   ...    26.2   0.0        0.0        0.0   \n",
       "CHS.9.4        4    841    402   ...    18.9   0.0        0.0        0.0   \n",
       "\n",
       "         line_excov  line_cdcov  tcoding  tnovel  gcoding  gnovel  \n",
       "id                                                                 \n",
       "CHS.6.1         0.0         0.0     True   False     True   False  \n",
       "CHS.9.1         0.0         0.0     True   False     True   False  \n",
       "CHS.9.2         0.0         0.0     True   False     True   False  \n",
       "CHS.9.3        16.1         0.0     True   False     True   False  \n",
       "CHS.9.4        18.9         0.0     True   False     True   False  \n",
       "\n",
       "[5 rows x 22 columns]"
      ]
     },
     "execution_count": 1,
     "metadata": {},
     "output_type": "execute_result"
    }
   ],
   "source": [
    "import ipywidgets as wgt\n",
    "import numpy as np\n",
    "import pandas as pd\n",
    "from plotly import __version__\n",
    "from plotly.offline import download_plotlyjs, init_notebook_mode\n",
    "init_notebook_mode(connected=True)\n",
    "import plotly.offline as py\n",
    "#import plotly.figure_factory as ff\n",
    "import plotly.graph_objs as go\n",
    "tdf=pd.read_csv('chess2_rep_data.tab', sep='\\t', index_col=0)\n",
    "#tdf['excov']=pd.to_numeric(tdf['excov'], errors='coerce').fillna(0)\n",
    "#tdf['cdcov']=pd.to_numeric(tdf['cdcov'], errors='coerce').fillna(0)\n",
    "tdf['tcoding']=np.where(tdf['cdlen'].ne(0), True, False)\n",
    "tdf['tnovel']=np.where(tdf['status'].isin(['novel', 'known_fantom']), True, False)\n",
    "tdf['gcoding']=np.where(tdf['gtype'].eq('protein_coding'), True, False)\n",
    "tdf['gnovel']=np.where(tdf['gstatus'].isin(['novel', 'known_fantom']), True, False)\n",
    "tdf[(tdf['tcoding'].eq(True))].head()"
   ]
  },
  {
   "cell_type": "code",
   "execution_count": 2,
   "metadata": {
    "scrolled": true
   },
   "outputs": [
    {
     "data": {
      "application/vnd.jupyter.widget-view+json": {
       "model_id": "42dc2f76fd4c495d86abf08bb3f86acd",
       "version_major": 2,
       "version_minor": 0
      },
      "text/plain": [
       "HBox(children=(SelectMultiple(description='STATUS', index=(3,), options=('known_fantom', 'known_gencode', 'kno…"
      ]
     },
     "metadata": {},
     "output_type": "display_data"
    },
    {
     "data": {
      "application/vnd.jupyter.widget-view+json": {
       "model_id": "dd88a5e1f59e49378952e080a9ecbd97",
       "version_major": 2,
       "version_minor": 0
      },
      "text/plain": [
       "HBox(children=(VBox(children=(Label(value='Min. exon cov%:'), IntSlider(value=0, layout=Layout(width='16em'), …"
      ]
     },
     "metadata": {},
     "output_type": "display_data"
    },
    {
     "data": {
      "application/vnd.jupyter.widget-view+json": {
       "model_id": "0df666a3d01244929535a92c8154834f",
       "version_major": 2,
       "version_minor": 0
      },
      "text/plain": [
       "HBox(children=(Button(description='Query', style=ButtonStyle(), tooltip='Query'), Label(value='---', layout=La…"
      ]
     },
     "metadata": {},
     "output_type": "display_data"
    }
   ],
   "source": [
    "seltype=wgt.SelectMultiple(\n",
    "    options=sorted(tdf.type.unique()),\n",
    "    value=[],\n",
    "    rows=4,\n",
    "    description='TYPE',\n",
    ")\n",
    "selstatus=wgt.SelectMultiple(\n",
    "    options=sorted(tdf.status.unique()),\n",
    "    value=['novel'],\n",
    "    rows=4,\n",
    "    description='STATUS',\n",
    ")\n",
    "hbox2=wgt.HBox([selstatus, seltype])\n",
    "display(hbox2)\n",
    "layw=wgt.Layout(width='16em')\n",
    "excov=wgt.IntSlider(value=0, min=0, max=100, step=5, layout=layw)\n",
    "cdcov=wgt.IntSlider(value=0, min=0, max=100, step=5, layout=layw)\n",
    "excount=wgt.BoundedIntText(value=1, min=1, max=10, description='At least',\n",
    "                          layout=wgt.Layout(width='11em'))\n",
    "hbox=wgt.HBox([wgt.VBox([wgt.Label(value=\"Min. exon cov%:\"), excov]),\n",
    "                  wgt.VBox([wgt.Label(value=\"Min. CDS cov%:\"), cdcov]),\n",
    "              excount, wgt.Label(value=\"exons\")])\n",
    "display(hbox)\n",
    "\n",
    "runbtn=wgt.Button(\n",
    "    description='Query',\n",
    "    #disabled=False,\n",
    "    #button_style='', # 'success', 'info', 'warning', 'danger' or ''\n",
    "    tooltip='Query',\n",
    "    #icon='check'\n",
    ")\n",
    "rlabel=wgt.Label(value=\"---\", layout=wgt.Layout(border='2px solid red', padding='0 12px'))\n",
    "rlabelres=wgt.Label(value=\"---\", layout=wgt.Layout(border='2px solid red', padding='0 12px'))\n",
    "def btnRunClick(b):\n",
    "    rlabel.value=''\n",
    "    rdf=tdf\n",
    "    if len(selstatus.value)==4 or len(selstatus.value)==0:\n",
    "        rlabel.value='any status'\n",
    "    else: \n",
    "        rlabel.value=' | '.join(selstatus.value)\n",
    "        rdf=tdf[(tdf['status'].isin(selstatus.value))]\n",
    "        if len(selstatus.value)==3 and not 'novel' in selstatus.value:\n",
    "            rlabel.value='known'\n",
    "        else:\n",
    "            if len(selstatus.value)>1: rlabel.value='('+rlabel.value+')'\n",
    "    stype=''\n",
    "    \n",
    "    if not(len(seltype.value)==4 or len(seltype.value)==0):\n",
    "        stype=' | '.join(seltype.value)\n",
    "        rdf=rdf[(rdf['type'].isin(seltype.value))]\n",
    "        \n",
    "    if rlabel.value and stype: \n",
    "        rlabel.value+=' &  '\n",
    "        if len(seltype.value)>1: stype='('+stype+')'\n",
    "    rlabel.value+=stype\n",
    "    if excount.value>1:\n",
    "        rdf=rdf[(rdf['excount']>=excount.value)]\n",
    "    if excov.value>0:\n",
    "       rdf=rdf[(rdf['excov']>=excov.value)]    \n",
    "    if cdcov.value>0:\n",
    "       rdf=rdf[(rdf['cdcov']>=cdcov.value)]\n",
    "\n",
    "    rlabelres.value=str(len(rdf))\n",
    "\n",
    "runbtn.on_click(btnRunClick)\n",
    "\n",
    "hbx=wgt.HBox(children=[runbtn, rlabel, rlabelres], layout=wgt.Layout(justify_content='center'))\n",
    "display(hbx)\n",
    "btnRunClick(True)"
   ]
  },
  {
   "cell_type": "code",
   "execution_count": 3,
   "metadata": {},
   "outputs": [
    {
     "name": "stdout",
     "output_type": "stream",
     "text": [
      "Transcripts by their status and type\n"
     ]
    },
    {
     "data": {
      "text/html": [
       "<div>\n",
       "<style scoped>\n",
       "    .dataframe tbody tr th:only-of-type {\n",
       "        vertical-align: middle;\n",
       "    }\n",
       "\n",
       "    .dataframe tbody tr th {\n",
       "        vertical-align: top;\n",
       "    }\n",
       "\n",
       "    .dataframe thead th {\n",
       "        text-align: right;\n",
       "    }\n",
       "</style>\n",
       "<table border=\"1\" class=\"dataframe\">\n",
       "  <thead>\n",
       "    <tr style=\"text-align: right;\">\n",
       "      <th></th>\n",
       "      <th>coding</th>\n",
       "      <th>coding_maybe</th>\n",
       "      <th>noncoding</th>\n",
       "      <th>undetermined</th>\n",
       "      <th>All</th>\n",
       "    </tr>\n",
       "  </thead>\n",
       "  <tbody>\n",
       "    <tr>\n",
       "      <th>known_fantom</th>\n",
       "      <td>0</td>\n",
       "      <td>19250</td>\n",
       "      <td>0</td>\n",
       "      <td>10791</td>\n",
       "      <td>30041</td>\n",
       "    </tr>\n",
       "    <tr>\n",
       "      <th>known_gencode</th>\n",
       "      <td>13272</td>\n",
       "      <td>0</td>\n",
       "      <td>36095</td>\n",
       "      <td>0</td>\n",
       "      <td>49367</td>\n",
       "    </tr>\n",
       "    <tr>\n",
       "      <th>known_refseq</th>\n",
       "      <td>126579</td>\n",
       "      <td>85</td>\n",
       "      <td>29727</td>\n",
       "      <td>1352</td>\n",
       "      <td>157743</td>\n",
       "    </tr>\n",
       "    <tr>\n",
       "      <th>novel</th>\n",
       "      <td>0</td>\n",
       "      <td>1807</td>\n",
       "      <td>0</td>\n",
       "      <td>84869</td>\n",
       "      <td>86676</td>\n",
       "    </tr>\n",
       "    <tr>\n",
       "      <th>All</th>\n",
       "      <td>139851</td>\n",
       "      <td>21142</td>\n",
       "      <td>65822</td>\n",
       "      <td>97012</td>\n",
       "      <td>323827</td>\n",
       "    </tr>\n",
       "  </tbody>\n",
       "</table>\n",
       "</div>"
      ],
      "text/plain": [
       "               coding  coding_maybe  noncoding  undetermined     All\n",
       "known_fantom        0         19250          0         10791   30041\n",
       "known_gencode   13272             0      36095             0   49367\n",
       "known_refseq   126579            85      29727          1352  157743\n",
       "novel               0          1807          0         84869   86676\n",
       "All            139851         21142      65822         97012  323827"
      ]
     },
     "execution_count": 3,
     "metadata": {},
     "output_type": "execute_result"
    }
   ],
   "source": [
    "cdf=pd.crosstab(tdf['status'],tdf['type'], margins=True)\n",
    "del cdf.index.name\n",
    "del cdf.columns.name\n",
    "print(\"Transcripts by their status and type\")\n",
    "cdf"
   ]
  },
  {
   "cell_type": "code",
   "execution_count": 4,
   "metadata": {},
   "outputs": [
    {
     "name": "stdout",
     "output_type": "stream",
     "text": [
      "Transcripts by gene status and gene type\n"
     ]
    },
    {
     "data": {
      "text/html": [
       "<div>\n",
       "<style scoped>\n",
       "    .dataframe tbody tr th:only-of-type {\n",
       "        vertical-align: middle;\n",
       "    }\n",
       "\n",
       "    .dataframe tbody tr th {\n",
       "        vertical-align: top;\n",
       "    }\n",
       "\n",
       "    .dataframe thead th {\n",
       "        text-align: right;\n",
       "    }\n",
       "</style>\n",
       "<table border=\"1\" class=\"dataframe\">\n",
       "  <thead>\n",
       "    <tr style=\"text-align: right;\">\n",
       "      <th></th>\n",
       "      <th>antisense_RNA</th>\n",
       "      <th>lncRNA</th>\n",
       "      <th>misc_RNA</th>\n",
       "      <th>protein_coding</th>\n",
       "      <th>All</th>\n",
       "    </tr>\n",
       "  </thead>\n",
       "  <tbody>\n",
       "    <tr>\n",
       "      <th>known_fantom</th>\n",
       "      <td>662</td>\n",
       "      <td>1623</td>\n",
       "      <td>1</td>\n",
       "      <td>185</td>\n",
       "      <td>2471</td>\n",
       "    </tr>\n",
       "    <tr>\n",
       "      <th>known_gencode</th>\n",
       "      <td>724</td>\n",
       "      <td>2030</td>\n",
       "      <td>37</td>\n",
       "      <td>118</td>\n",
       "      <td>2909</td>\n",
       "    </tr>\n",
       "    <tr>\n",
       "      <th>known_refseq</th>\n",
       "      <td>59</td>\n",
       "      <td>44518</td>\n",
       "      <td>4310</td>\n",
       "      <td>265919</td>\n",
       "      <td>314806</td>\n",
       "    </tr>\n",
       "    <tr>\n",
       "      <th>novel</th>\n",
       "      <td>1249</td>\n",
       "      <td>1131</td>\n",
       "      <td>0</td>\n",
       "      <td>1261</td>\n",
       "      <td>3641</td>\n",
       "    </tr>\n",
       "    <tr>\n",
       "      <th>All</th>\n",
       "      <td>2694</td>\n",
       "      <td>49302</td>\n",
       "      <td>4348</td>\n",
       "      <td>267483</td>\n",
       "      <td>323827</td>\n",
       "    </tr>\n",
       "  </tbody>\n",
       "</table>\n",
       "</div>"
      ],
      "text/plain": [
       "               antisense_RNA  lncRNA  misc_RNA  protein_coding     All\n",
       "known_fantom             662    1623         1             185    2471\n",
       "known_gencode            724    2030        37             118    2909\n",
       "known_refseq              59   44518      4310          265919  314806\n",
       "novel                   1249    1131         0            1261    3641\n",
       "All                     2694   49302      4348          267483  323827"
      ]
     },
     "execution_count": 4,
     "metadata": {},
     "output_type": "execute_result"
    }
   ],
   "source": [
    "gdf=pd.crosstab(tdf['gstatus'],tdf['gtype'], margins=True)\n",
    "del gdf.index.name\n",
    "del gdf.columns.name\n",
    "print('Transcripts by gene status and gene type')\n",
    "gdf"
   ]
  },
  {
   "cell_type": "code",
   "execution_count": 18,
   "metadata": {},
   "outputs": [
    {
     "name": "stdout",
     "output_type": "stream",
     "text": [
      "Transcripts by gene status and transcript type\n"
     ]
    },
    {
     "data": {
      "text/html": [
       "<div>\n",
       "<style scoped>\n",
       "    .dataframe tbody tr th:only-of-type {\n",
       "        vertical-align: middle;\n",
       "    }\n",
       "\n",
       "    .dataframe tbody tr th {\n",
       "        vertical-align: top;\n",
       "    }\n",
       "\n",
       "    .dataframe thead th {\n",
       "        text-align: right;\n",
       "    }\n",
       "</style>\n",
       "<table border=\"1\" class=\"dataframe\">\n",
       "  <thead>\n",
       "    <tr style=\"text-align: right;\">\n",
       "      <th></th>\n",
       "      <th>coding</th>\n",
       "      <th>coding_maybe</th>\n",
       "      <th>noncoding</th>\n",
       "      <th>undetermined</th>\n",
       "      <th>All</th>\n",
       "    </tr>\n",
       "  </thead>\n",
       "  <tbody>\n",
       "    <tr>\n",
       "      <th>known_fantom</th>\n",
       "      <td>0</td>\n",
       "      <td>326</td>\n",
       "      <td>0</td>\n",
       "      <td>2145</td>\n",
       "      <td>2471</td>\n",
       "    </tr>\n",
       "    <tr>\n",
       "      <th>known_gencode</th>\n",
       "      <td>34</td>\n",
       "      <td>32</td>\n",
       "      <td>2279</td>\n",
       "      <td>564</td>\n",
       "      <td>2909</td>\n",
       "    </tr>\n",
       "    <tr>\n",
       "      <th>known_refseq</th>\n",
       "      <td>139817</td>\n",
       "      <td>19551</td>\n",
       "      <td>63543</td>\n",
       "      <td>91895</td>\n",
       "      <td>314806</td>\n",
       "    </tr>\n",
       "    <tr>\n",
       "      <th>novel</th>\n",
       "      <td>0</td>\n",
       "      <td>1233</td>\n",
       "      <td>0</td>\n",
       "      <td>2408</td>\n",
       "      <td>3641</td>\n",
       "    </tr>\n",
       "    <tr>\n",
       "      <th>All</th>\n",
       "      <td>139851</td>\n",
       "      <td>21142</td>\n",
       "      <td>65822</td>\n",
       "      <td>97012</td>\n",
       "      <td>323827</td>\n",
       "    </tr>\n",
       "  </tbody>\n",
       "</table>\n",
       "</div>"
      ],
      "text/plain": [
       "               coding  coding_maybe  noncoding  undetermined     All\n",
       "known_fantom        0           326          0          2145    2471\n",
       "known_gencode      34            32       2279           564    2909\n",
       "known_refseq   139817         19551      63543         91895  314806\n",
       "novel               0          1233          0          2408    3641\n",
       "All            139851         21142      65822         97012  323827"
      ]
     },
     "execution_count": 18,
     "metadata": {},
     "output_type": "execute_result"
    }
   ],
   "source": [
    "gtdf=pd.crosstab(tdf['gstatus'],tdf['type'], margins=True)\n",
    "del gtdf.index.name\n",
    "del gtdf.columns.name\n",
    "print('Transcripts by gene status and transcript type')\n",
    "gtdf"
   ]
  },
  {
   "cell_type": "code",
   "execution_count": 6,
   "metadata": {},
   "outputs": [
    {
     "name": "stdout",
     "output_type": "stream",
     "text": [
      "Transcripts and CDS presence (includes novel isoforms)\n"
     ]
    },
    {
     "data": {
      "text/html": [
       "<div>\n",
       "<style scoped>\n",
       "    .dataframe tbody tr th:only-of-type {\n",
       "        vertical-align: middle;\n",
       "    }\n",
       "\n",
       "    .dataframe tbody tr th {\n",
       "        vertical-align: top;\n",
       "    }\n",
       "\n",
       "    .dataframe thead th {\n",
       "        text-align: right;\n",
       "    }\n",
       "</style>\n",
       "<table border=\"1\" class=\"dataframe\">\n",
       "  <thead>\n",
       "    <tr style=\"text-align: right;\">\n",
       "      <th></th>\n",
       "      <th>No CDS</th>\n",
       "      <th>With CDS</th>\n",
       "      <th>All</th>\n",
       "    </tr>\n",
       "  </thead>\n",
       "  <tbody>\n",
       "    <tr>\n",
       "      <th>Known</th>\n",
       "      <td>77053</td>\n",
       "      <td>130057</td>\n",
       "      <td>207110</td>\n",
       "    </tr>\n",
       "    <tr>\n",
       "      <th>Novel</th>\n",
       "      <td>115311</td>\n",
       "      <td>1406</td>\n",
       "      <td>116717</td>\n",
       "    </tr>\n",
       "    <tr>\n",
       "      <th>All</th>\n",
       "      <td>192364</td>\n",
       "      <td>131463</td>\n",
       "      <td>323827</td>\n",
       "    </tr>\n",
       "  </tbody>\n",
       "</table>\n",
       "</div>"
      ],
      "text/plain": [
       "       No CDS  With CDS     All\n",
       "Known   77053    130057  207110\n",
       "Novel  115311      1406  116717\n",
       "All    192364    131463  323827"
      ]
     },
     "execution_count": 6,
     "metadata": {},
     "output_type": "execute_result"
    }
   ],
   "source": [
    "cdk=pd.crosstab(tdf['tnovel'],tdf['tcoding'], margins=True)\n",
    "#del cdk.index.name\n",
    "#del cdk.columns.name\n",
    "cdk.index = ['Known','Novel', 'All']\n",
    "cdk.columns=['No CDS', 'With CDS', 'All']\n",
    "print(\"Transcripts and CDS presence (includes novel isoforms)\")\n",
    "cdk"
   ]
  },
  {
   "cell_type": "code",
   "execution_count": 17,
   "metadata": {
    "scrolled": true
   },
   "outputs": [
    {
     "name": "stdout",
     "output_type": "stream",
     "text": [
      "Transcripts in novel vs known genes\n"
     ]
    },
    {
     "data": {
      "text/html": [
       "<div>\n",
       "<style scoped>\n",
       "    .dataframe tbody tr th:only-of-type {\n",
       "        vertical-align: middle;\n",
       "    }\n",
       "\n",
       "    .dataframe tbody tr th {\n",
       "        vertical-align: top;\n",
       "    }\n",
       "\n",
       "    .dataframe thead th {\n",
       "        text-align: right;\n",
       "    }\n",
       "</style>\n",
       "<table border=\"1\" class=\"dataframe\">\n",
       "  <thead>\n",
       "    <tr style=\"text-align: right;\">\n",
       "      <th></th>\n",
       "      <th>No CDS</th>\n",
       "      <th>With CDS</th>\n",
       "      <th>All</th>\n",
       "    </tr>\n",
       "  </thead>\n",
       "  <tbody>\n",
       "    <tr>\n",
       "      <th>In known genes</th>\n",
       "      <td>187658</td>\n",
       "      <td>130057</td>\n",
       "      <td>317715</td>\n",
       "    </tr>\n",
       "    <tr>\n",
       "      <th>In novel genes</th>\n",
       "      <td>4706</td>\n",
       "      <td>1406</td>\n",
       "      <td>6112</td>\n",
       "    </tr>\n",
       "    <tr>\n",
       "      <th>All</th>\n",
       "      <td>192364</td>\n",
       "      <td>131463</td>\n",
       "      <td>323827</td>\n",
       "    </tr>\n",
       "  </tbody>\n",
       "</table>\n",
       "</div>"
      ],
      "text/plain": [
       "                No CDS  With CDS     All\n",
       "In known genes  187658    130057  317715\n",
       "In novel genes    4706      1406    6112\n",
       "All             192364    131463  323827"
      ]
     },
     "execution_count": 17,
     "metadata": {},
     "output_type": "execute_result"
    }
   ],
   "source": [
    "cdg=pd.crosstab(tdf['gnovel'],tdf['tcoding'], margins=True)\n",
    "cdg.index = ['In known genes','In novel genes', 'All']\n",
    "cdg.columns=['No CDS', 'With CDS', 'All']\n",
    "print(\"Transcripts in novel vs known genes\")\n",
    "cdg"
   ]
  },
  {
   "cell_type": "code",
   "execution_count": 80,
   "metadata": {},
   "outputs": [],
   "source": [
    "def plotCH(df, column, gtitle, xlabel, ylabel='transcripts'):\n",
    "    #hist_freqs, bins = np.histogram(a=df[column], bins=20)\n",
    "    #hist_freqs=np.bincount(np.digitize(df[column], bins, True))\n",
    "    #hist_freqs=np.flip(hist_freqs)\n",
    "    #hist_cfreqs=np.cumsum(hist_freqs)\n",
    "    #hist_cfreqs=np.flip(hist_cfreqs)\n",
    "    arr=df[(df[column]>0)][column]\n",
    "    bins=[p/1.0 for p in range(0,105,5)]\n",
    "    bins[0]=0.1\n",
    "    bins[-1]=100.1\n",
    "    freqs=np.bincount(np.digitize(arr, bins, False)-1)\n",
    "    cfreqs=np.cumsum(freqs)\n",
    "    cfreqs=np.flip(cfreqs)\n",
    "    data=[ go.Bar(x=bins, y=cfreqs, text=cfreqs, textposition='outside') ]\n",
    "    layout=go.Layout(title=str(df.shape[0])+gtitle, \n",
    "                 xaxis=dict(tick0=0, dtick=5, title=xlabel), yaxis=dict(title=ylabel))\n",
    "    fig=go.Figure(data=data, layout=layout)\n",
    "    py.iplot(fig, filename='bar chart')"
   ]
  },
  {
   "cell_type": "code",
   "execution_count": 77,
   "metadata": {},
   "outputs": [
    {
     "name": "stdout",
     "output_type": "stream",
     "text": [
      "[  7  14  13  13   9   9   6   7  17  19  24  27  41  52  51  76  66  97\n",
      " 114 633]\n",
      "[   7   21   34   47   56   65   71   78   95  114  138  165  206  258\n",
      "  309  385  451  548  662 1295]\n",
      "[0.1, 5.0, 10.0, 15.0, 20.0, 25.0, 30.0, 35.0, 40.0, 45.0, 50.0, 55.0, 60.0, 65.0, 70.0, 75.0, 80.0, 85.0, 90.0, 95.0, 100.1]\n",
      "[  7  14  13  13   9   9   6   7  17  19  24  27  41  52  51  76  66  97\n",
      " 114 633]\n",
      "[   7   21   34   47   56   65   71   78   95  114  138  165  206  258\n",
      "  309  385  451  548  662 1295]\n"
     ]
    }
   ],
   "source": [
    "df=tdf[(tdf['gnovel'].eq(True))]\n",
    "df=df[df['tcoding'].eq(True)]\n",
    "arr=df[(df['cdcov']>0)]['cdcov']\n",
    "hist_freqs, hbins = np.histogram(arr, bins=20, range=(0,100))\n",
    "print(hist_freqs)\n",
    "hist_cfreqs=np.cumsum(hist_freqs)\n",
    "print(hist_cfreqs)\n",
    "bins=[p/1.0 for p in range(0,105,5)]\n",
    "bins[0]=0.1\n",
    "bins[-1]=100.1\n",
    "print(bins)\n",
    "freqs=np.bincount(np.digitize(arr, bins, False)-1)\n",
    "print(freqs)\n",
    "cfreqs=np.cumsum(freqs)\n",
    "print(cfreqs)"
   ]
  },
  {
   "cell_type": "code",
   "execution_count": 82,
   "metadata": {},
   "outputs": [
    {
     "data": {
      "application/vnd.plotly.v1+json": {
       "data": [
        {
         "text": [
          "95079",
          "94024",
          "93558",
          "93049",
          "92327",
          "91581",
          "90584",
          "89470",
          "88121",
          "86521",
          "84678",
          "82445",
          "79900",
          "76793",
          "73150",
          "68603",
          "63001",
          "55533",
          "44951",
          "27971"
         ],
         "textposition": "outside",
         "type": "bar",
         "uid": "ae923bc6-a4b5-11e8-9d26-782bcba4e79e",
         "x": [
          0.1,
          5,
          10,
          15,
          20,
          25,
          30,
          35,
          40,
          45,
          50,
          55,
          60,
          65,
          70,
          75,
          80,
          85,
          90,
          95,
          100.1
         ],
         "y": [
          95079,
          94024,
          93558,
          93049,
          92327,
          91581,
          90584,
          89470,
          88121,
          86521,
          84678,
          82445,
          79900,
          76793,
          73150,
          68603,
          63001,
          55533,
          44951,
          27971
         ]
        }
       ],
       "layout": {
        "title": "116717 novel transcripts - repeat content",
        "xaxis": {
         "dtick": 5,
         "tick0": 0,
         "title": "Min. % exon coverage by repeats"
        },
        "yaxis": {
         "title": "transcripts"
        }
       }
      },
      "text/html": [
       "<div id=\"f6c3375c-c718-49b5-aaf8-8be792977e34\" style=\"height: 525px; width: 100%;\" class=\"plotly-graph-div\"></div><script type=\"text/javascript\">require([\"plotly\"], function(Plotly) { window.PLOTLYENV=window.PLOTLYENV || {};window.PLOTLYENV.BASE_URL=\"https://plot.ly\";\n",
       "        Plotly.plot(\n",
       "            'f6c3375c-c718-49b5-aaf8-8be792977e34',\n",
       "            [{\"text\": [\"95079\", \"94024\", \"93558\", \"93049\", \"92327\", \"91581\", \"90584\", \"89470\", \"88121\", \"86521\", \"84678\", \"82445\", \"79900\", \"76793\", \"73150\", \"68603\", \"63001\", \"55533\", \"44951\", \"27971\"], \"textposition\": \"outside\", \"x\": [0.1, 5.0, 10.0, 15.0, 20.0, 25.0, 30.0, 35.0, 40.0, 45.0, 50.0, 55.0, 60.0, 65.0, 70.0, 75.0, 80.0, 85.0, 90.0, 95.0, 100.1], \"y\": [95079.0, 94024.0, 93558.0, 93049.0, 92327.0, 91581.0, 90584.0, 89470.0, 88121.0, 86521.0, 84678.0, 82445.0, 79900.0, 76793.0, 73150.0, 68603.0, 63001.0, 55533.0, 44951.0, 27971.0], \"type\": \"bar\", \"uid\": \"ae923bc6-a4b5-11e8-9d26-782bcba4e79e\"}],\n",
       "            {\"title\": \"116717 novel transcripts - repeat content\", \"xaxis\": {\"dtick\": 5, \"tick0\": 0, \"title\": \"Min. % exon coverage by repeats\"}, \"yaxis\": {\"title\": \"transcripts\"}},\n",
       "            {\"showLink\": true, \"linkText\": \"Export to plot.ly\"}\n",
       "        ).then(function () {return Plotly.addFrames('f6c3375c-c718-49b5-aaf8-8be792977e34',{});}).then(function(){Plotly.animate('f6c3375c-c718-49b5-aaf8-8be792977e34');})\n",
       "        });</script>"
      ],
      "text/vnd.plotly.v1+html": [
       "<div id=\"f6c3375c-c718-49b5-aaf8-8be792977e34\" style=\"height: 525px; width: 100%;\" class=\"plotly-graph-div\"></div><script type=\"text/javascript\">require([\"plotly\"], function(Plotly) { window.PLOTLYENV=window.PLOTLYENV || {};window.PLOTLYENV.BASE_URL=\"https://plot.ly\";\n",
       "        Plotly.plot(\n",
       "            'f6c3375c-c718-49b5-aaf8-8be792977e34',\n",
       "            [{\"text\": [\"95079\", \"94024\", \"93558\", \"93049\", \"92327\", \"91581\", \"90584\", \"89470\", \"88121\", \"86521\", \"84678\", \"82445\", \"79900\", \"76793\", \"73150\", \"68603\", \"63001\", \"55533\", \"44951\", \"27971\"], \"textposition\": \"outside\", \"x\": [0.1, 5.0, 10.0, 15.0, 20.0, 25.0, 30.0, 35.0, 40.0, 45.0, 50.0, 55.0, 60.0, 65.0, 70.0, 75.0, 80.0, 85.0, 90.0, 95.0, 100.1], \"y\": [95079.0, 94024.0, 93558.0, 93049.0, 92327.0, 91581.0, 90584.0, 89470.0, 88121.0, 86521.0, 84678.0, 82445.0, 79900.0, 76793.0, 73150.0, 68603.0, 63001.0, 55533.0, 44951.0, 27971.0], \"type\": \"bar\", \"uid\": \"ae923bc6-a4b5-11e8-9d26-782bcba4e79e\"}],\n",
       "            {\"title\": \"116717 novel transcripts - repeat content\", \"xaxis\": {\"dtick\": 5, \"tick0\": 0, \"title\": \"Min. % exon coverage by repeats\"}, \"yaxis\": {\"title\": \"transcripts\"}},\n",
       "            {\"showLink\": true, \"linkText\": \"Export to plot.ly\"}\n",
       "        ).then(function () {return Plotly.addFrames('f6c3375c-c718-49b5-aaf8-8be792977e34',{});}).then(function(){Plotly.animate('f6c3375c-c718-49b5-aaf8-8be792977e34');})\n",
       "        });</script>"
      ]
     },
     "metadata": {},
     "output_type": "display_data"
    },
    {
     "data": {
      "application/vnd.plotly.v1+json": {
       "data": [
        {
         "text": [
          "39205",
          "39159",
          "39146",
          "39131",
          "39108",
          "39091",
          "39048",
          "38978",
          "38896",
          "38782",
          "38568",
          "38208",
          "37718",
          "36973",
          "35860",
          "34097",
          "31452",
          "27136",
          "20125",
          "9229"
         ],
         "textposition": "outside",
         "type": "bar",
         "uid": "ae99f582-a4b5-11e8-9d26-782bcba4e79e",
         "x": [
          0.1,
          5,
          10,
          15,
          20,
          25,
          30,
          35,
          40,
          45,
          50,
          55,
          60,
          65,
          70,
          75,
          80,
          85,
          90,
          95,
          100.1
         ],
         "y": [
          39205,
          39159,
          39146,
          39131,
          39108,
          39091,
          39048,
          38978,
          38896,
          38782,
          38568,
          38208,
          37718,
          36973,
          35860,
          34097,
          31452,
          27136,
          20125,
          9229
         ]
        }
       ],
       "layout": {
        "title": "116717 novel transcripts - Alu",
        "xaxis": {
         "dtick": 5,
         "tick0": 0,
         "title": "Min. % exon coverage by Alu"
        },
        "yaxis": {
         "title": "transcripts"
        }
       }
      },
      "text/html": [
       "<div id=\"c845d0ee-0678-4937-a214-1130ceb9dcc3\" style=\"height: 525px; width: 100%;\" class=\"plotly-graph-div\"></div><script type=\"text/javascript\">require([\"plotly\"], function(Plotly) { window.PLOTLYENV=window.PLOTLYENV || {};window.PLOTLYENV.BASE_URL=\"https://plot.ly\";\n",
       "        Plotly.plot(\n",
       "            'c845d0ee-0678-4937-a214-1130ceb9dcc3',\n",
       "            [{\"text\": [\"39205\", \"39159\", \"39146\", \"39131\", \"39108\", \"39091\", \"39048\", \"38978\", \"38896\", \"38782\", \"38568\", \"38208\", \"37718\", \"36973\", \"35860\", \"34097\", \"31452\", \"27136\", \"20125\", \"9229\"], \"textposition\": \"outside\", \"x\": [0.1, 5.0, 10.0, 15.0, 20.0, 25.0, 30.0, 35.0, 40.0, 45.0, 50.0, 55.0, 60.0, 65.0, 70.0, 75.0, 80.0, 85.0, 90.0, 95.0, 100.1], \"y\": [39205.0, 39159.0, 39146.0, 39131.0, 39108.0, 39091.0, 39048.0, 38978.0, 38896.0, 38782.0, 38568.0, 38208.0, 37718.0, 36973.0, 35860.0, 34097.0, 31452.0, 27136.0, 20125.0, 9229.0], \"type\": \"bar\", \"uid\": \"ae99f582-a4b5-11e8-9d26-782bcba4e79e\"}],\n",
       "            {\"title\": \"116717 novel transcripts - Alu\", \"xaxis\": {\"dtick\": 5, \"tick0\": 0, \"title\": \"Min. % exon coverage by Alu\"}, \"yaxis\": {\"title\": \"transcripts\"}},\n",
       "            {\"showLink\": true, \"linkText\": \"Export to plot.ly\"}\n",
       "        ).then(function () {return Plotly.addFrames('c845d0ee-0678-4937-a214-1130ceb9dcc3',{});}).then(function(){Plotly.animate('c845d0ee-0678-4937-a214-1130ceb9dcc3');})\n",
       "        });</script>"
      ],
      "text/vnd.plotly.v1+html": [
       "<div id=\"c845d0ee-0678-4937-a214-1130ceb9dcc3\" style=\"height: 525px; width: 100%;\" class=\"plotly-graph-div\"></div><script type=\"text/javascript\">require([\"plotly\"], function(Plotly) { window.PLOTLYENV=window.PLOTLYENV || {};window.PLOTLYENV.BASE_URL=\"https://plot.ly\";\n",
       "        Plotly.plot(\n",
       "            'c845d0ee-0678-4937-a214-1130ceb9dcc3',\n",
       "            [{\"text\": [\"39205\", \"39159\", \"39146\", \"39131\", \"39108\", \"39091\", \"39048\", \"38978\", \"38896\", \"38782\", \"38568\", \"38208\", \"37718\", \"36973\", \"35860\", \"34097\", \"31452\", \"27136\", \"20125\", \"9229\"], \"textposition\": \"outside\", \"x\": [0.1, 5.0, 10.0, 15.0, 20.0, 25.0, 30.0, 35.0, 40.0, 45.0, 50.0, 55.0, 60.0, 65.0, 70.0, 75.0, 80.0, 85.0, 90.0, 95.0, 100.1], \"y\": [39205.0, 39159.0, 39146.0, 39131.0, 39108.0, 39091.0, 39048.0, 38978.0, 38896.0, 38782.0, 38568.0, 38208.0, 37718.0, 36973.0, 35860.0, 34097.0, 31452.0, 27136.0, 20125.0, 9229.0], \"type\": \"bar\", \"uid\": \"ae99f582-a4b5-11e8-9d26-782bcba4e79e\"}],\n",
       "            {\"title\": \"116717 novel transcripts - Alu\", \"xaxis\": {\"dtick\": 5, \"tick0\": 0, \"title\": \"Min. % exon coverage by Alu\"}, \"yaxis\": {\"title\": \"transcripts\"}},\n",
       "            {\"showLink\": true, \"linkText\": \"Export to plot.ly\"}\n",
       "        ).then(function () {return Plotly.addFrames('c845d0ee-0678-4937-a214-1130ceb9dcc3',{});}).then(function(){Plotly.animate('c845d0ee-0678-4937-a214-1130ceb9dcc3');})\n",
       "        });</script>"
      ]
     },
     "metadata": {},
     "output_type": "display_data"
    },
    {
     "data": {
      "application/vnd.plotly.v1+json": {
       "data": [
        {
         "text": [
          "46215",
          "45890",
          "45726",
          "45535",
          "45286",
          "45030",
          "44678",
          "44267",
          "43756",
          "43158",
          "42412",
          "41479",
          "40360",
          "38927",
          "37163",
          "34783",
          "31812",
          "27934",
          "22277",
          "13919"
         ],
         "textposition": "outside",
         "type": "bar",
         "uid": "aea1f2c8-a4b5-11e8-9d26-782bcba4e79e",
         "x": [
          0.1,
          5,
          10,
          15,
          20,
          25,
          30,
          35,
          40,
          45,
          50,
          55,
          60,
          65,
          70,
          75,
          80,
          85,
          90,
          95,
          100.1
         ],
         "y": [
          46215,
          45890,
          45726,
          45535,
          45286,
          45030,
          44678,
          44267,
          43756,
          43158,
          42412,
          41479,
          40360,
          38927,
          37163,
          34783,
          31812,
          27934,
          22277,
          13919
         ]
        }
       ],
       "layout": {
        "title": "116717 novel transcripts - LINE/LTR",
        "xaxis": {
         "dtick": 5,
         "tick0": 0,
         "title": "Min. % exon coverage by LINE/LTR"
        },
        "yaxis": {
         "title": "transcripts"
        }
       }
      },
      "text/html": [
       "<div id=\"d86fc6b8-33e2-44f4-986e-f5a3a55785fa\" style=\"height: 525px; width: 100%;\" class=\"plotly-graph-div\"></div><script type=\"text/javascript\">require([\"plotly\"], function(Plotly) { window.PLOTLYENV=window.PLOTLYENV || {};window.PLOTLYENV.BASE_URL=\"https://plot.ly\";\n",
       "        Plotly.plot(\n",
       "            'd86fc6b8-33e2-44f4-986e-f5a3a55785fa',\n",
       "            [{\"text\": [\"46215\", \"45890\", \"45726\", \"45535\", \"45286\", \"45030\", \"44678\", \"44267\", \"43756\", \"43158\", \"42412\", \"41479\", \"40360\", \"38927\", \"37163\", \"34783\", \"31812\", \"27934\", \"22277\", \"13919\"], \"textposition\": \"outside\", \"x\": [0.1, 5.0, 10.0, 15.0, 20.0, 25.0, 30.0, 35.0, 40.0, 45.0, 50.0, 55.0, 60.0, 65.0, 70.0, 75.0, 80.0, 85.0, 90.0, 95.0, 100.1], \"y\": [46215.0, 45890.0, 45726.0, 45535.0, 45286.0, 45030.0, 44678.0, 44267.0, 43756.0, 43158.0, 42412.0, 41479.0, 40360.0, 38927.0, 37163.0, 34783.0, 31812.0, 27934.0, 22277.0, 13919.0], \"type\": \"bar\", \"uid\": \"aea1f2c8-a4b5-11e8-9d26-782bcba4e79e\"}],\n",
       "            {\"title\": \"116717 novel transcripts - LINE/LTR\", \"xaxis\": {\"dtick\": 5, \"tick0\": 0, \"title\": \"Min. % exon coverage by LINE/LTR\"}, \"yaxis\": {\"title\": \"transcripts\"}},\n",
       "            {\"showLink\": true, \"linkText\": \"Export to plot.ly\"}\n",
       "        ).then(function () {return Plotly.addFrames('d86fc6b8-33e2-44f4-986e-f5a3a55785fa',{});}).then(function(){Plotly.animate('d86fc6b8-33e2-44f4-986e-f5a3a55785fa');})\n",
       "        });</script>"
      ],
      "text/vnd.plotly.v1+html": [
       "<div id=\"d86fc6b8-33e2-44f4-986e-f5a3a55785fa\" style=\"height: 525px; width: 100%;\" class=\"plotly-graph-div\"></div><script type=\"text/javascript\">require([\"plotly\"], function(Plotly) { window.PLOTLYENV=window.PLOTLYENV || {};window.PLOTLYENV.BASE_URL=\"https://plot.ly\";\n",
       "        Plotly.plot(\n",
       "            'd86fc6b8-33e2-44f4-986e-f5a3a55785fa',\n",
       "            [{\"text\": [\"46215\", \"45890\", \"45726\", \"45535\", \"45286\", \"45030\", \"44678\", \"44267\", \"43756\", \"43158\", \"42412\", \"41479\", \"40360\", \"38927\", \"37163\", \"34783\", \"31812\", \"27934\", \"22277\", \"13919\"], \"textposition\": \"outside\", \"x\": [0.1, 5.0, 10.0, 15.0, 20.0, 25.0, 30.0, 35.0, 40.0, 45.0, 50.0, 55.0, 60.0, 65.0, 70.0, 75.0, 80.0, 85.0, 90.0, 95.0, 100.1], \"y\": [46215.0, 45890.0, 45726.0, 45535.0, 45286.0, 45030.0, 44678.0, 44267.0, 43756.0, 43158.0, 42412.0, 41479.0, 40360.0, 38927.0, 37163.0, 34783.0, 31812.0, 27934.0, 22277.0, 13919.0], \"type\": \"bar\", \"uid\": \"aea1f2c8-a4b5-11e8-9d26-782bcba4e79e\"}],\n",
       "            {\"title\": \"116717 novel transcripts - LINE/LTR\", \"xaxis\": {\"dtick\": 5, \"tick0\": 0, \"title\": \"Min. % exon coverage by LINE/LTR\"}, \"yaxis\": {\"title\": \"transcripts\"}},\n",
       "            {\"showLink\": true, \"linkText\": \"Export to plot.ly\"}\n",
       "        ).then(function () {return Plotly.addFrames('d86fc6b8-33e2-44f4-986e-f5a3a55785fa',{});}).then(function(){Plotly.animate('d86fc6b8-33e2-44f4-986e-f5a3a55785fa');})\n",
       "        });</script>"
      ]
     },
     "metadata": {},
     "output_type": "display_data"
    }
   ],
   "source": [
    "ndf=tdf[(tdf['tnovel'].eq(True))]\n",
    "plotCH(ndf, 'excov', ' novel transcripts - repeat content', \n",
    "                 'Min. % exon coverage by repeats')\n",
    "plotCH(ndf, 'alu_excov', ' novel transcripts - Alu', \n",
    "                 'Min. % exon coverage by Alu')\n",
    "plotCH(ndf, 'line_excov', ' novel transcripts - LINE/LTR', \n",
    "                 'Min. % exon coverage by LINE/LTR')\n"
   ]
  },
  {
   "cell_type": "code",
   "execution_count": 84,
   "metadata": {
    "scrolled": false
   },
   "outputs": [
    {
     "data": {
      "application/vnd.plotly.v1+json": {
       "data": [
        {
         "text": [
          "1384",
          "1146",
          "1075",
          "1000",
          "909",
          "834",
          "748",
          "651",
          "549",
          "465",
          "387",
          "324",
          "263",
          "209",
          "140",
          "98",
          "63",
          "42",
          "21",
          "6"
         ],
         "textposition": "outside",
         "type": "bar",
         "uid": "cf2a2e3e-a4b5-11e8-9d26-782bcba4e79e",
         "x": [
          0.1,
          5,
          10,
          15,
          20,
          25,
          30,
          35,
          40,
          45,
          50,
          55,
          60,
          65,
          70,
          75,
          80,
          85,
          90,
          95,
          100.1
         ],
         "y": [
          1384,
          1146,
          1075,
          1000,
          909,
          834,
          748,
          651,
          549,
          465,
          387,
          324,
          263,
          209,
          140,
          98,
          63,
          42,
          21,
          6
         ]
        }
       ],
       "layout": {
        "title": "1406 coding transcripts in novel genes",
        "xaxis": {
         "dtick": 5,
         "tick0": 0,
         "title": "Min. % exon coverage by repeats"
        },
        "yaxis": {
         "title": "transcripts"
        }
       }
      },
      "text/html": [
       "<div id=\"dc6bde5c-0639-4f82-b3dc-fbfff06cc35e\" style=\"height: 525px; width: 100%;\" class=\"plotly-graph-div\"></div><script type=\"text/javascript\">require([\"plotly\"], function(Plotly) { window.PLOTLYENV=window.PLOTLYENV || {};window.PLOTLYENV.BASE_URL=\"https://plot.ly\";\n",
       "        Plotly.plot(\n",
       "            'dc6bde5c-0639-4f82-b3dc-fbfff06cc35e',\n",
       "            [{\"text\": [\"1384\", \"1146\", \"1075\", \"1000\", \"909\", \"834\", \"748\", \"651\", \"549\", \"465\", \"387\", \"324\", \"263\", \"209\", \"140\", \"98\", \"63\", \"42\", \"21\", \"6\"], \"textposition\": \"outside\", \"x\": [0.1, 5.0, 10.0, 15.0, 20.0, 25.0, 30.0, 35.0, 40.0, 45.0, 50.0, 55.0, 60.0, 65.0, 70.0, 75.0, 80.0, 85.0, 90.0, 95.0, 100.1], \"y\": [1384.0, 1146.0, 1075.0, 1000.0, 909.0, 834.0, 748.0, 651.0, 549.0, 465.0, 387.0, 324.0, 263.0, 209.0, 140.0, 98.0, 63.0, 42.0, 21.0, 6.0], \"type\": \"bar\", \"uid\": \"cf2a2e3e-a4b5-11e8-9d26-782bcba4e79e\"}],\n",
       "            {\"title\": \"1406 coding transcripts in novel genes\", \"xaxis\": {\"dtick\": 5, \"tick0\": 0, \"title\": \"Min. % exon coverage by repeats\"}, \"yaxis\": {\"title\": \"transcripts\"}},\n",
       "            {\"showLink\": true, \"linkText\": \"Export to plot.ly\"}\n",
       "        ).then(function () {return Plotly.addFrames('dc6bde5c-0639-4f82-b3dc-fbfff06cc35e',{});}).then(function(){Plotly.animate('dc6bde5c-0639-4f82-b3dc-fbfff06cc35e');})\n",
       "        });</script>"
      ],
      "text/vnd.plotly.v1+html": [
       "<div id=\"dc6bde5c-0639-4f82-b3dc-fbfff06cc35e\" style=\"height: 525px; width: 100%;\" class=\"plotly-graph-div\"></div><script type=\"text/javascript\">require([\"plotly\"], function(Plotly) { window.PLOTLYENV=window.PLOTLYENV || {};window.PLOTLYENV.BASE_URL=\"https://plot.ly\";\n",
       "        Plotly.plot(\n",
       "            'dc6bde5c-0639-4f82-b3dc-fbfff06cc35e',\n",
       "            [{\"text\": [\"1384\", \"1146\", \"1075\", \"1000\", \"909\", \"834\", \"748\", \"651\", \"549\", \"465\", \"387\", \"324\", \"263\", \"209\", \"140\", \"98\", \"63\", \"42\", \"21\", \"6\"], \"textposition\": \"outside\", \"x\": [0.1, 5.0, 10.0, 15.0, 20.0, 25.0, 30.0, 35.0, 40.0, 45.0, 50.0, 55.0, 60.0, 65.0, 70.0, 75.0, 80.0, 85.0, 90.0, 95.0, 100.1], \"y\": [1384.0, 1146.0, 1075.0, 1000.0, 909.0, 834.0, 748.0, 651.0, 549.0, 465.0, 387.0, 324.0, 263.0, 209.0, 140.0, 98.0, 63.0, 42.0, 21.0, 6.0], \"type\": \"bar\", \"uid\": \"cf2a2e3e-a4b5-11e8-9d26-782bcba4e79e\"}],\n",
       "            {\"title\": \"1406 coding transcripts in novel genes\", \"xaxis\": {\"dtick\": 5, \"tick0\": 0, \"title\": \"Min. % exon coverage by repeats\"}, \"yaxis\": {\"title\": \"transcripts\"}},\n",
       "            {\"showLink\": true, \"linkText\": \"Export to plot.ly\"}\n",
       "        ).then(function () {return Plotly.addFrames('dc6bde5c-0639-4f82-b3dc-fbfff06cc35e',{});}).then(function(){Plotly.animate('dc6bde5c-0639-4f82-b3dc-fbfff06cc35e');})\n",
       "        });</script>"
      ]
     },
     "metadata": {},
     "output_type": "display_data"
    },
    {
     "data": {
      "application/vnd.plotly.v1+json": {
       "data": [
        {
         "text": [
          "1058",
          "1050",
          "1045",
          "1035",
          "1023",
          "1014",
          "996",
          "969",
          "947",
          "909",
          "853",
          "793",
          "724",
          "663",
          "570",
          "468",
          "364",
          "246",
          "129",
          "39"
         ],
         "textposition": "outside",
         "type": "bar",
         "uid": "cf310b3c-a4b5-11e8-9d26-782bcba4e79e",
         "x": [
          0.1,
          5,
          10,
          15,
          20,
          25,
          30,
          35,
          40,
          45,
          50,
          55,
          60,
          65,
          70,
          75,
          80,
          85,
          90,
          95,
          100.1
         ],
         "y": [
          1058,
          1050,
          1045,
          1035,
          1023,
          1014,
          996,
          969,
          947,
          909,
          853,
          793,
          724,
          663,
          570,
          468,
          364,
          246,
          129,
          39
         ]
        }
       ],
       "layout": {
        "title": "1406 coding transcripts in novel genes - Alu content",
        "xaxis": {
         "dtick": 5,
         "tick0": 0,
         "title": "Min. % exon coverage by Alu repeats"
        },
        "yaxis": {
         "title": "transcripts"
        }
       }
      },
      "text/html": [
       "<div id=\"4a8d916b-c663-4af6-922b-2ab118372c62\" style=\"height: 525px; width: 100%;\" class=\"plotly-graph-div\"></div><script type=\"text/javascript\">require([\"plotly\"], function(Plotly) { window.PLOTLYENV=window.PLOTLYENV || {};window.PLOTLYENV.BASE_URL=\"https://plot.ly\";\n",
       "        Plotly.plot(\n",
       "            '4a8d916b-c663-4af6-922b-2ab118372c62',\n",
       "            [{\"text\": [\"1058\", \"1050\", \"1045\", \"1035\", \"1023\", \"1014\", \"996\", \"969\", \"947\", \"909\", \"853\", \"793\", \"724\", \"663\", \"570\", \"468\", \"364\", \"246\", \"129\", \"39\"], \"textposition\": \"outside\", \"x\": [0.1, 5.0, 10.0, 15.0, 20.0, 25.0, 30.0, 35.0, 40.0, 45.0, 50.0, 55.0, 60.0, 65.0, 70.0, 75.0, 80.0, 85.0, 90.0, 95.0, 100.1], \"y\": [1058.0, 1050.0, 1045.0, 1035.0, 1023.0, 1014.0, 996.0, 969.0, 947.0, 909.0, 853.0, 793.0, 724.0, 663.0, 570.0, 468.0, 364.0, 246.0, 129.0, 39.0], \"type\": \"bar\", \"uid\": \"cf310b3c-a4b5-11e8-9d26-782bcba4e79e\"}],\n",
       "            {\"title\": \"1406 coding transcripts in novel genes - Alu content\", \"xaxis\": {\"dtick\": 5, \"tick0\": 0, \"title\": \"Min. % exon coverage by Alu repeats\"}, \"yaxis\": {\"title\": \"transcripts\"}},\n",
       "            {\"showLink\": true, \"linkText\": \"Export to plot.ly\"}\n",
       "        ).then(function () {return Plotly.addFrames('4a8d916b-c663-4af6-922b-2ab118372c62',{});}).then(function(){Plotly.animate('4a8d916b-c663-4af6-922b-2ab118372c62');})\n",
       "        });</script>"
      ],
      "text/vnd.plotly.v1+html": [
       "<div id=\"4a8d916b-c663-4af6-922b-2ab118372c62\" style=\"height: 525px; width: 100%;\" class=\"plotly-graph-div\"></div><script type=\"text/javascript\">require([\"plotly\"], function(Plotly) { window.PLOTLYENV=window.PLOTLYENV || {};window.PLOTLYENV.BASE_URL=\"https://plot.ly\";\n",
       "        Plotly.plot(\n",
       "            '4a8d916b-c663-4af6-922b-2ab118372c62',\n",
       "            [{\"text\": [\"1058\", \"1050\", \"1045\", \"1035\", \"1023\", \"1014\", \"996\", \"969\", \"947\", \"909\", \"853\", \"793\", \"724\", \"663\", \"570\", \"468\", \"364\", \"246\", \"129\", \"39\"], \"textposition\": \"outside\", \"x\": [0.1, 5.0, 10.0, 15.0, 20.0, 25.0, 30.0, 35.0, 40.0, 45.0, 50.0, 55.0, 60.0, 65.0, 70.0, 75.0, 80.0, 85.0, 90.0, 95.0, 100.1], \"y\": [1058.0, 1050.0, 1045.0, 1035.0, 1023.0, 1014.0, 996.0, 969.0, 947.0, 909.0, 853.0, 793.0, 724.0, 663.0, 570.0, 468.0, 364.0, 246.0, 129.0, 39.0], \"type\": \"bar\", \"uid\": \"cf310b3c-a4b5-11e8-9d26-782bcba4e79e\"}],\n",
       "            {\"title\": \"1406 coding transcripts in novel genes - Alu content\", \"xaxis\": {\"dtick\": 5, \"tick0\": 0, \"title\": \"Min. % exon coverage by Alu repeats\"}, \"yaxis\": {\"title\": \"transcripts\"}},\n",
       "            {\"showLink\": true, \"linkText\": \"Export to plot.ly\"}\n",
       "        ).then(function () {return Plotly.addFrames('4a8d916b-c663-4af6-922b-2ab118372c62',{});}).then(function(){Plotly.animate('4a8d916b-c663-4af6-922b-2ab118372c62');})\n",
       "        });</script>"
      ]
     },
     "metadata": {},
     "output_type": "display_data"
    },
    {
     "data": {
      "application/vnd.plotly.v1+json": {
       "data": [
        {
         "text": [
          "898",
          "896",
          "894",
          "892",
          "888",
          "888",
          "882",
          "878",
          "869",
          "851",
          "826",
          "790",
          "747",
          "696",
          "636",
          "540",
          "444",
          "342",
          "212",
          "88"
         ],
         "textposition": "outside",
         "type": "bar",
         "uid": "cf39a09e-a4b5-11e8-9d26-782bcba4e79e",
         "x": [
          0.1,
          5,
          10,
          15,
          20,
          25,
          30,
          35,
          40,
          45,
          50,
          55,
          60,
          65,
          70,
          75,
          80,
          85,
          90,
          95,
          100.1
         ],
         "y": [
          898,
          896,
          894,
          892,
          888,
          888,
          882,
          878,
          869,
          851,
          826,
          790,
          747,
          696,
          636,
          540,
          444,
          342,
          212,
          88
         ]
        }
       ],
       "layout": {
        "title": "1406 coding transcripts in novel genes - LINE/LTR",
        "xaxis": {
         "dtick": 5,
         "tick0": 0,
         "title": "Min. % exon coverage by LINE/LTR"
        },
        "yaxis": {
         "title": "transcripts"
        }
       }
      },
      "text/html": [
       "<div id=\"8d7db9e2-c2c0-4000-80d2-66b8ceb03d24\" style=\"height: 525px; width: 100%;\" class=\"plotly-graph-div\"></div><script type=\"text/javascript\">require([\"plotly\"], function(Plotly) { window.PLOTLYENV=window.PLOTLYENV || {};window.PLOTLYENV.BASE_URL=\"https://plot.ly\";\n",
       "        Plotly.plot(\n",
       "            '8d7db9e2-c2c0-4000-80d2-66b8ceb03d24',\n",
       "            [{\"text\": [\"898\", \"896\", \"894\", \"892\", \"888\", \"888\", \"882\", \"878\", \"869\", \"851\", \"826\", \"790\", \"747\", \"696\", \"636\", \"540\", \"444\", \"342\", \"212\", \"88\"], \"textposition\": \"outside\", \"x\": [0.1, 5.0, 10.0, 15.0, 20.0, 25.0, 30.0, 35.0, 40.0, 45.0, 50.0, 55.0, 60.0, 65.0, 70.0, 75.0, 80.0, 85.0, 90.0, 95.0, 100.1], \"y\": [898.0, 896.0, 894.0, 892.0, 888.0, 888.0, 882.0, 878.0, 869.0, 851.0, 826.0, 790.0, 747.0, 696.0, 636.0, 540.0, 444.0, 342.0, 212.0, 88.0], \"type\": \"bar\", \"uid\": \"cf39a09e-a4b5-11e8-9d26-782bcba4e79e\"}],\n",
       "            {\"title\": \"1406 coding transcripts in novel genes - LINE/LTR\", \"xaxis\": {\"dtick\": 5, \"tick0\": 0, \"title\": \"Min. % exon coverage by LINE/LTR\"}, \"yaxis\": {\"title\": \"transcripts\"}},\n",
       "            {\"showLink\": true, \"linkText\": \"Export to plot.ly\"}\n",
       "        ).then(function () {return Plotly.addFrames('8d7db9e2-c2c0-4000-80d2-66b8ceb03d24',{});}).then(function(){Plotly.animate('8d7db9e2-c2c0-4000-80d2-66b8ceb03d24');})\n",
       "        });</script>"
      ],
      "text/vnd.plotly.v1+html": [
       "<div id=\"8d7db9e2-c2c0-4000-80d2-66b8ceb03d24\" style=\"height: 525px; width: 100%;\" class=\"plotly-graph-div\"></div><script type=\"text/javascript\">require([\"plotly\"], function(Plotly) { window.PLOTLYENV=window.PLOTLYENV || {};window.PLOTLYENV.BASE_URL=\"https://plot.ly\";\n",
       "        Plotly.plot(\n",
       "            '8d7db9e2-c2c0-4000-80d2-66b8ceb03d24',\n",
       "            [{\"text\": [\"898\", \"896\", \"894\", \"892\", \"888\", \"888\", \"882\", \"878\", \"869\", \"851\", \"826\", \"790\", \"747\", \"696\", \"636\", \"540\", \"444\", \"342\", \"212\", \"88\"], \"textposition\": \"outside\", \"x\": [0.1, 5.0, 10.0, 15.0, 20.0, 25.0, 30.0, 35.0, 40.0, 45.0, 50.0, 55.0, 60.0, 65.0, 70.0, 75.0, 80.0, 85.0, 90.0, 95.0, 100.1], \"y\": [898.0, 896.0, 894.0, 892.0, 888.0, 888.0, 882.0, 878.0, 869.0, 851.0, 826.0, 790.0, 747.0, 696.0, 636.0, 540.0, 444.0, 342.0, 212.0, 88.0], \"type\": \"bar\", \"uid\": \"cf39a09e-a4b5-11e8-9d26-782bcba4e79e\"}],\n",
       "            {\"title\": \"1406 coding transcripts in novel genes - LINE/LTR\", \"xaxis\": {\"dtick\": 5, \"tick0\": 0, \"title\": \"Min. % exon coverage by LINE/LTR\"}, \"yaxis\": {\"title\": \"transcripts\"}},\n",
       "            {\"showLink\": true, \"linkText\": \"Export to plot.ly\"}\n",
       "        ).then(function () {return Plotly.addFrames('8d7db9e2-c2c0-4000-80d2-66b8ceb03d24',{});}).then(function(){Plotly.animate('8d7db9e2-c2c0-4000-80d2-66b8ceb03d24');})\n",
       "        });</script>"
      ]
     },
     "metadata": {},
     "output_type": "display_data"
    },
    {
     "data": {
      "application/vnd.plotly.v1+json": {
       "data": [
        {
         "text": [
          "1295",
          "662",
          "548",
          "451",
          "385",
          "309",
          "258",
          "206",
          "165",
          "138",
          "114",
          "95",
          "78",
          "71",
          "65",
          "56",
          "47",
          "34",
          "21",
          "7"
         ],
         "textposition": "outside",
         "type": "bar",
         "uid": "cf4093ea-a4b5-11e8-9d26-782bcba4e79e",
         "x": [
          0.1,
          5,
          10,
          15,
          20,
          25,
          30,
          35,
          40,
          45,
          50,
          55,
          60,
          65,
          70,
          75,
          80,
          85,
          90,
          95,
          100.1
         ],
         "y": [
          1295,
          662,
          548,
          451,
          385,
          309,
          258,
          206,
          165,
          138,
          114,
          95,
          78,
          71,
          65,
          56,
          47,
          34,
          21,
          7
         ]
        }
       ],
       "layout": {
        "title": "1406 coding transcripts in novel genes",
        "xaxis": {
         "dtick": 5,
         "tick0": 0,
         "title": "Min. % CDS coverage by repeats"
        },
        "yaxis": {
         "title": "transcripts"
        }
       }
      },
      "text/html": [
       "<div id=\"f5e44195-b236-4979-8b75-2e0781056df8\" style=\"height: 525px; width: 100%;\" class=\"plotly-graph-div\"></div><script type=\"text/javascript\">require([\"plotly\"], function(Plotly) { window.PLOTLYENV=window.PLOTLYENV || {};window.PLOTLYENV.BASE_URL=\"https://plot.ly\";\n",
       "        Plotly.plot(\n",
       "            'f5e44195-b236-4979-8b75-2e0781056df8',\n",
       "            [{\"text\": [\"1295\", \"662\", \"548\", \"451\", \"385\", \"309\", \"258\", \"206\", \"165\", \"138\", \"114\", \"95\", \"78\", \"71\", \"65\", \"56\", \"47\", \"34\", \"21\", \"7\"], \"textposition\": \"outside\", \"x\": [0.1, 5.0, 10.0, 15.0, 20.0, 25.0, 30.0, 35.0, 40.0, 45.0, 50.0, 55.0, 60.0, 65.0, 70.0, 75.0, 80.0, 85.0, 90.0, 95.0, 100.1], \"y\": [1295.0, 662.0, 548.0, 451.0, 385.0, 309.0, 258.0, 206.0, 165.0, 138.0, 114.0, 95.0, 78.0, 71.0, 65.0, 56.0, 47.0, 34.0, 21.0, 7.0], \"type\": \"bar\", \"uid\": \"cf4093ea-a4b5-11e8-9d26-782bcba4e79e\"}],\n",
       "            {\"title\": \"1406 coding transcripts in novel genes\", \"xaxis\": {\"dtick\": 5, \"tick0\": 0, \"title\": \"Min. % CDS coverage by repeats\"}, \"yaxis\": {\"title\": \"transcripts\"}},\n",
       "            {\"showLink\": true, \"linkText\": \"Export to plot.ly\"}\n",
       "        ).then(function () {return Plotly.addFrames('f5e44195-b236-4979-8b75-2e0781056df8',{});}).then(function(){Plotly.animate('f5e44195-b236-4979-8b75-2e0781056df8');})\n",
       "        });</script>"
      ],
      "text/vnd.plotly.v1+html": [
       "<div id=\"f5e44195-b236-4979-8b75-2e0781056df8\" style=\"height: 525px; width: 100%;\" class=\"plotly-graph-div\"></div><script type=\"text/javascript\">require([\"plotly\"], function(Plotly) { window.PLOTLYENV=window.PLOTLYENV || {};window.PLOTLYENV.BASE_URL=\"https://plot.ly\";\n",
       "        Plotly.plot(\n",
       "            'f5e44195-b236-4979-8b75-2e0781056df8',\n",
       "            [{\"text\": [\"1295\", \"662\", \"548\", \"451\", \"385\", \"309\", \"258\", \"206\", \"165\", \"138\", \"114\", \"95\", \"78\", \"71\", \"65\", \"56\", \"47\", \"34\", \"21\", \"7\"], \"textposition\": \"outside\", \"x\": [0.1, 5.0, 10.0, 15.0, 20.0, 25.0, 30.0, 35.0, 40.0, 45.0, 50.0, 55.0, 60.0, 65.0, 70.0, 75.0, 80.0, 85.0, 90.0, 95.0, 100.1], \"y\": [1295.0, 662.0, 548.0, 451.0, 385.0, 309.0, 258.0, 206.0, 165.0, 138.0, 114.0, 95.0, 78.0, 71.0, 65.0, 56.0, 47.0, 34.0, 21.0, 7.0], \"type\": \"bar\", \"uid\": \"cf4093ea-a4b5-11e8-9d26-782bcba4e79e\"}],\n",
       "            {\"title\": \"1406 coding transcripts in novel genes\", \"xaxis\": {\"dtick\": 5, \"tick0\": 0, \"title\": \"Min. % CDS coverage by repeats\"}, \"yaxis\": {\"title\": \"transcripts\"}},\n",
       "            {\"showLink\": true, \"linkText\": \"Export to plot.ly\"}\n",
       "        ).then(function () {return Plotly.addFrames('f5e44195-b236-4979-8b75-2e0781056df8',{});}).then(function(){Plotly.animate('f5e44195-b236-4979-8b75-2e0781056df8');})\n",
       "        });</script>"
      ]
     },
     "metadata": {},
     "output_type": "display_data"
    },
    {
     "data": {
      "application/vnd.plotly.v1+json": {
       "data": [
        {
         "text": [
          "874",
          "661",
          "560",
          "475",
          "399",
          "310",
          "253",
          "189",
          "144",
          "104",
          "73",
          "53",
          "32",
          "24",
          "20",
          "14",
          "12",
          "11",
          "11",
          "3"
         ],
         "textposition": "outside",
         "type": "bar",
         "uid": "cf482cea-a4b5-11e8-9d26-782bcba4e79e",
         "x": [
          0.1,
          5,
          10,
          15,
          20,
          25,
          30,
          35,
          40,
          45,
          50,
          55,
          60,
          65,
          70,
          75,
          80,
          85,
          90,
          95,
          100.1
         ],
         "y": [
          874,
          661,
          560,
          475,
          399,
          310,
          253,
          189,
          144,
          104,
          73,
          53,
          32,
          24,
          20,
          14,
          12,
          11,
          11,
          3
         ]
        }
       ],
       "layout": {
        "title": "1406 coding transcripts in novel genes - Alu content",
        "xaxis": {
         "dtick": 5,
         "tick0": 0,
         "title": "Min. % CDS coverage by Alu repeats"
        },
        "yaxis": {
         "title": "transcripts"
        }
       }
      },
      "text/html": [
       "<div id=\"eab4b7bc-d2ad-4fd9-88fb-3912b356da34\" style=\"height: 525px; width: 100%;\" class=\"plotly-graph-div\"></div><script type=\"text/javascript\">require([\"plotly\"], function(Plotly) { window.PLOTLYENV=window.PLOTLYENV || {};window.PLOTLYENV.BASE_URL=\"https://plot.ly\";\n",
       "        Plotly.plot(\n",
       "            'eab4b7bc-d2ad-4fd9-88fb-3912b356da34',\n",
       "            [{\"text\": [\"874\", \"661\", \"560\", \"475\", \"399\", \"310\", \"253\", \"189\", \"144\", \"104\", \"73\", \"53\", \"32\", \"24\", \"20\", \"14\", \"12\", \"11\", \"11\", \"3\"], \"textposition\": \"outside\", \"x\": [0.1, 5.0, 10.0, 15.0, 20.0, 25.0, 30.0, 35.0, 40.0, 45.0, 50.0, 55.0, 60.0, 65.0, 70.0, 75.0, 80.0, 85.0, 90.0, 95.0, 100.1], \"y\": [874.0, 661.0, 560.0, 475.0, 399.0, 310.0, 253.0, 189.0, 144.0, 104.0, 73.0, 53.0, 32.0, 24.0, 20.0, 14.0, 12.0, 11.0, 11.0, 3.0], \"type\": \"bar\", \"uid\": \"cf482cea-a4b5-11e8-9d26-782bcba4e79e\"}],\n",
       "            {\"title\": \"1406 coding transcripts in novel genes - Alu content\", \"xaxis\": {\"dtick\": 5, \"tick0\": 0, \"title\": \"Min. % CDS coverage by Alu repeats\"}, \"yaxis\": {\"title\": \"transcripts\"}},\n",
       "            {\"showLink\": true, \"linkText\": \"Export to plot.ly\"}\n",
       "        ).then(function () {return Plotly.addFrames('eab4b7bc-d2ad-4fd9-88fb-3912b356da34',{});}).then(function(){Plotly.animate('eab4b7bc-d2ad-4fd9-88fb-3912b356da34');})\n",
       "        });</script>"
      ],
      "text/vnd.plotly.v1+html": [
       "<div id=\"eab4b7bc-d2ad-4fd9-88fb-3912b356da34\" style=\"height: 525px; width: 100%;\" class=\"plotly-graph-div\"></div><script type=\"text/javascript\">require([\"plotly\"], function(Plotly) { window.PLOTLYENV=window.PLOTLYENV || {};window.PLOTLYENV.BASE_URL=\"https://plot.ly\";\n",
       "        Plotly.plot(\n",
       "            'eab4b7bc-d2ad-4fd9-88fb-3912b356da34',\n",
       "            [{\"text\": [\"874\", \"661\", \"560\", \"475\", \"399\", \"310\", \"253\", \"189\", \"144\", \"104\", \"73\", \"53\", \"32\", \"24\", \"20\", \"14\", \"12\", \"11\", \"11\", \"3\"], \"textposition\": \"outside\", \"x\": [0.1, 5.0, 10.0, 15.0, 20.0, 25.0, 30.0, 35.0, 40.0, 45.0, 50.0, 55.0, 60.0, 65.0, 70.0, 75.0, 80.0, 85.0, 90.0, 95.0, 100.1], \"y\": [874.0, 661.0, 560.0, 475.0, 399.0, 310.0, 253.0, 189.0, 144.0, 104.0, 73.0, 53.0, 32.0, 24.0, 20.0, 14.0, 12.0, 11.0, 11.0, 3.0], \"type\": \"bar\", \"uid\": \"cf482cea-a4b5-11e8-9d26-782bcba4e79e\"}],\n",
       "            {\"title\": \"1406 coding transcripts in novel genes - Alu content\", \"xaxis\": {\"dtick\": 5, \"tick0\": 0, \"title\": \"Min. % CDS coverage by Alu repeats\"}, \"yaxis\": {\"title\": \"transcripts\"}},\n",
       "            {\"showLink\": true, \"linkText\": \"Export to plot.ly\"}\n",
       "        ).then(function () {return Plotly.addFrames('eab4b7bc-d2ad-4fd9-88fb-3912b356da34',{});}).then(function(){Plotly.animate('eab4b7bc-d2ad-4fd9-88fb-3912b356da34');})\n",
       "        });</script>"
      ]
     },
     "metadata": {},
     "output_type": "display_data"
    },
    {
     "data": {
      "application/vnd.plotly.v1+json": {
       "data": [
        {
         "text": [
          "20",
          "10",
          "10",
          "10",
          "10",
          "10",
          "10",
          "10",
          "8",
          "8",
          "8",
          "8",
          "6",
          "5",
          "5",
          "5",
          "4",
          "4",
          "2",
          "0"
         ],
         "textposition": "outside",
         "type": "bar",
         "uid": "cf5003a2-a4b5-11e8-9d26-782bcba4e79e",
         "x": [
          0.1,
          5,
          10,
          15,
          20,
          25,
          30,
          35,
          40,
          45,
          50,
          55,
          60,
          65,
          70,
          75,
          80,
          85,
          90,
          95,
          100.1
         ],
         "y": [
          20,
          10,
          10,
          10,
          10,
          10,
          10,
          10,
          8,
          8,
          8,
          8,
          6,
          5,
          5,
          5,
          4,
          4,
          2,
          0
         ]
        }
       ],
       "layout": {
        "title": "1406 coding transcripts in novel genes - LINE/LTR",
        "xaxis": {
         "dtick": 5,
         "tick0": 0,
         "title": "Min. % CDS coverage by LINE/LTR"
        },
        "yaxis": {
         "title": "transcripts"
        }
       }
      },
      "text/html": [
       "<div id=\"4d4f5d7f-f61a-4b1d-a448-f52ff86e3b9c\" style=\"height: 525px; width: 100%;\" class=\"plotly-graph-div\"></div><script type=\"text/javascript\">require([\"plotly\"], function(Plotly) { window.PLOTLYENV=window.PLOTLYENV || {};window.PLOTLYENV.BASE_URL=\"https://plot.ly\";\n",
       "        Plotly.plot(\n",
       "            '4d4f5d7f-f61a-4b1d-a448-f52ff86e3b9c',\n",
       "            [{\"text\": [\"20\", \"10\", \"10\", \"10\", \"10\", \"10\", \"10\", \"10\", \"8\", \"8\", \"8\", \"8\", \"6\", \"5\", \"5\", \"5\", \"4\", \"4\", \"2\", \"0\"], \"textposition\": \"outside\", \"x\": [0.1, 5.0, 10.0, 15.0, 20.0, 25.0, 30.0, 35.0, 40.0, 45.0, 50.0, 55.0, 60.0, 65.0, 70.0, 75.0, 80.0, 85.0, 90.0, 95.0, 100.1], \"y\": [20.0, 10.0, 10.0, 10.0, 10.0, 10.0, 10.0, 10.0, 8.0, 8.0, 8.0, 8.0, 6.0, 5.0, 5.0, 5.0, 4.0, 4.0, 2.0, 0.0], \"type\": \"bar\", \"uid\": \"cf5003a2-a4b5-11e8-9d26-782bcba4e79e\"}],\n",
       "            {\"title\": \"1406 coding transcripts in novel genes - LINE/LTR\", \"xaxis\": {\"dtick\": 5, \"tick0\": 0, \"title\": \"Min. % CDS coverage by LINE/LTR\"}, \"yaxis\": {\"title\": \"transcripts\"}},\n",
       "            {\"showLink\": true, \"linkText\": \"Export to plot.ly\"}\n",
       "        ).then(function () {return Plotly.addFrames('4d4f5d7f-f61a-4b1d-a448-f52ff86e3b9c',{});}).then(function(){Plotly.animate('4d4f5d7f-f61a-4b1d-a448-f52ff86e3b9c');})\n",
       "        });</script>"
      ],
      "text/vnd.plotly.v1+html": [
       "<div id=\"4d4f5d7f-f61a-4b1d-a448-f52ff86e3b9c\" style=\"height: 525px; width: 100%;\" class=\"plotly-graph-div\"></div><script type=\"text/javascript\">require([\"plotly\"], function(Plotly) { window.PLOTLYENV=window.PLOTLYENV || {};window.PLOTLYENV.BASE_URL=\"https://plot.ly\";\n",
       "        Plotly.plot(\n",
       "            '4d4f5d7f-f61a-4b1d-a448-f52ff86e3b9c',\n",
       "            [{\"text\": [\"20\", \"10\", \"10\", \"10\", \"10\", \"10\", \"10\", \"10\", \"8\", \"8\", \"8\", \"8\", \"6\", \"5\", \"5\", \"5\", \"4\", \"4\", \"2\", \"0\"], \"textposition\": \"outside\", \"x\": [0.1, 5.0, 10.0, 15.0, 20.0, 25.0, 30.0, 35.0, 40.0, 45.0, 50.0, 55.0, 60.0, 65.0, 70.0, 75.0, 80.0, 85.0, 90.0, 95.0, 100.1], \"y\": [20.0, 10.0, 10.0, 10.0, 10.0, 10.0, 10.0, 10.0, 8.0, 8.0, 8.0, 8.0, 6.0, 5.0, 5.0, 5.0, 4.0, 4.0, 2.0, 0.0], \"type\": \"bar\", \"uid\": \"cf5003a2-a4b5-11e8-9d26-782bcba4e79e\"}],\n",
       "            {\"title\": \"1406 coding transcripts in novel genes - LINE/LTR\", \"xaxis\": {\"dtick\": 5, \"tick0\": 0, \"title\": \"Min. % CDS coverage by LINE/LTR\"}, \"yaxis\": {\"title\": \"transcripts\"}},\n",
       "            {\"showLink\": true, \"linkText\": \"Export to plot.ly\"}\n",
       "        ).then(function () {return Plotly.addFrames('4d4f5d7f-f61a-4b1d-a448-f52ff86e3b9c',{});}).then(function(){Plotly.animate('4d4f5d7f-f61a-4b1d-a448-f52ff86e3b9c');})\n",
       "        });</script>"
      ]
     },
     "metadata": {},
     "output_type": "display_data"
    }
   ],
   "source": [
    "pdf=ndf[(ndf['tcoding'].eq(True))]\n",
    "pdf=pdf[(pdf['gnovel'].eq(True))]\n",
    "plotCH(pdf, 'excov', ' coding transcripts in novel genes', 'Min. % exon coverage by repeats')\n",
    "plotCH(pdf, 'alu_excov', ' coding transcripts in novel genes - Alu content', 'Min. % exon coverage by Alu repeats')\n",
    "plotCH(pdf, 'line_excov', ' coding transcripts in novel genes - LINE/LTR', 'Min. % exon coverage by LINE/LTR')\n",
    "plotCH(pdf, 'cdcov', ' coding transcripts in novel genes', 'Min. % CDS coverage by repeats')\n",
    "plotCH(pdf, 'alu_cdcov', ' coding transcripts in novel genes - Alu content', 'Min. % CDS coverage by Alu repeats')\n",
    "plotCH(pdf, 'line_cdcov', ' coding transcripts in novel genes - LINE/LTR', 'Min. % CDS coverage by LINE/LTR')"
   ]
  },
  {
   "cell_type": "code",
   "execution_count": 14,
   "metadata": {
    "scrolled": false
   },
   "outputs": [
    {
     "data": {
      "application/vnd.plotly.v1+json": {
       "data": [
        {
         "text": [
          "1108",
          "1096",
          "1076",
          "1060",
          "1029",
          "993",
          "936",
          "888",
          "843",
          "795",
          "729",
          "663",
          "576",
          "493",
          "424",
          "369",
          "299",
          "250",
          "196"
         ],
         "textposition": "outside",
         "type": "bar",
         "uid": "6750d9f8-a4a5-11e8-9d26-782bcba4e79e",
         "x": [
          5,
          10,
          15,
          20,
          25,
          30,
          35,
          40,
          45,
          50,
          55,
          60,
          65,
          70,
          75,
          80,
          85,
          90,
          95,
          100
         ],
         "y": [
          1108,
          1096,
          1076,
          1060,
          1029,
          993,
          936,
          888,
          843,
          795,
          729,
          663,
          576,
          493,
          424,
          369,
          299,
          250,
          196
         ]
        }
       ],
       "layout": {
        "title": "1134 multi-exon coding transcripts in novel genes",
        "xaxis": {
         "dtick": 5,
         "tick0": 0,
         "tickangle": -45,
         "title": "Min. % exon coverage by repeats"
        },
        "yaxis": {
         "title": "transcripts"
        }
       }
      },
      "text/html": [
       "<div id=\"22ada271-6a75-4df8-adb6-779cb256191e\" style=\"height: 525px; width: 100%;\" class=\"plotly-graph-div\"></div><script type=\"text/javascript\">require([\"plotly\"], function(Plotly) { window.PLOTLYENV=window.PLOTLYENV || {};window.PLOTLYENV.BASE_URL=\"https://plot.ly\";\n",
       "        Plotly.plot(\n",
       "            '22ada271-6a75-4df8-adb6-779cb256191e',\n",
       "            [{\"text\": [\"1108\", \"1096\", \"1076\", \"1060\", \"1029\", \"993\", \"936\", \"888\", \"843\", \"795\", \"729\", \"663\", \"576\", \"493\", \"424\", \"369\", \"299\", \"250\", \"196\"], \"textposition\": \"outside\", \"x\": [5.0, 10.0, 15.0, 20.0, 25.0, 30.0, 35.0, 40.0, 45.0, 50.0, 55.0, 60.0, 65.0, 70.0, 75.0, 80.0, 85.0, 90.0, 95.0, 100.0], \"y\": [1108.0, 1096.0, 1076.0, 1060.0, 1029.0, 993.0, 936.0, 888.0, 843.0, 795.0, 729.0, 663.0, 576.0, 493.0, 424.0, 369.0, 299.0, 250.0, 196.0], \"type\": \"bar\", \"uid\": \"6750d9f8-a4a5-11e8-9d26-782bcba4e79e\"}],\n",
       "            {\"title\": \"1134 multi-exon coding transcripts in novel genes\", \"xaxis\": {\"dtick\": 5, \"tick0\": 0, \"tickangle\": -45, \"title\": \"Min. % exon coverage by repeats\"}, \"yaxis\": {\"title\": \"transcripts\"}},\n",
       "            {\"showLink\": true, \"linkText\": \"Export to plot.ly\"}\n",
       "        ).then(function () {return Plotly.addFrames('22ada271-6a75-4df8-adb6-779cb256191e',{});}).then(function(){Plotly.animate('22ada271-6a75-4df8-adb6-779cb256191e');})\n",
       "        });</script>"
      ],
      "text/vnd.plotly.v1+html": [
       "<div id=\"22ada271-6a75-4df8-adb6-779cb256191e\" style=\"height: 525px; width: 100%;\" class=\"plotly-graph-div\"></div><script type=\"text/javascript\">require([\"plotly\"], function(Plotly) { window.PLOTLYENV=window.PLOTLYENV || {};window.PLOTLYENV.BASE_URL=\"https://plot.ly\";\n",
       "        Plotly.plot(\n",
       "            '22ada271-6a75-4df8-adb6-779cb256191e',\n",
       "            [{\"text\": [\"1108\", \"1096\", \"1076\", \"1060\", \"1029\", \"993\", \"936\", \"888\", \"843\", \"795\", \"729\", \"663\", \"576\", \"493\", \"424\", \"369\", \"299\", \"250\", \"196\"], \"textposition\": \"outside\", \"x\": [5.0, 10.0, 15.0, 20.0, 25.0, 30.0, 35.0, 40.0, 45.0, 50.0, 55.0, 60.0, 65.0, 70.0, 75.0, 80.0, 85.0, 90.0, 95.0, 100.0], \"y\": [1108.0, 1096.0, 1076.0, 1060.0, 1029.0, 993.0, 936.0, 888.0, 843.0, 795.0, 729.0, 663.0, 576.0, 493.0, 424.0, 369.0, 299.0, 250.0, 196.0], \"type\": \"bar\", \"uid\": \"6750d9f8-a4a5-11e8-9d26-782bcba4e79e\"}],\n",
       "            {\"title\": \"1134 multi-exon coding transcripts in novel genes\", \"xaxis\": {\"dtick\": 5, \"tick0\": 0, \"tickangle\": -45, \"title\": \"Min. % exon coverage by repeats\"}, \"yaxis\": {\"title\": \"transcripts\"}},\n",
       "            {\"showLink\": true, \"linkText\": \"Export to plot.ly\"}\n",
       "        ).then(function () {return Plotly.addFrames('22ada271-6a75-4df8-adb6-779cb256191e',{});}).then(function(){Plotly.animate('22ada271-6a75-4df8-adb6-779cb256191e');})\n",
       "        });</script>"
      ]
     },
     "metadata": {},
     "output_type": "display_data"
    },
    {
     "data": {
      "application/vnd.plotly.v1+json": {
       "data": [
        {
         "text": [
          "1023",
          "1010",
          "1002",
          "991",
          "985",
          "978",
          "974",
          "968",
          "953",
          "937",
          "917",
          "893",
          "860",
          "819",
          "778",
          "722",
          "664",
          "594",
          "511"
         ],
         "textposition": "outside",
         "type": "bar",
         "uid": "675ab496-a4a5-11e8-9d26-782bcba4e79e",
         "x": [
          5,
          10,
          15,
          20,
          25,
          30,
          35,
          40,
          45,
          50,
          55,
          60,
          65,
          70,
          75,
          80,
          85,
          90,
          95,
          100
         ],
         "y": [
          1023,
          1010,
          1002,
          991,
          985,
          978,
          974,
          968,
          953,
          937,
          917,
          893,
          860,
          819,
          778,
          722,
          664,
          594,
          511
         ]
        }
       ],
       "layout": {
        "title": "1134 multi-exon coding transcripts in novel genes",
        "xaxis": {
         "dtick": 5,
         "tick0": 0,
         "tickangle": -45,
         "title": "Min. % CDS coverage by repeats"
        },
        "yaxis": {
         "title": "transcripts"
        }
       }
      },
      "text/html": [
       "<div id=\"feab9d19-37f6-4e70-be77-8f10d8800954\" style=\"height: 525px; width: 100%;\" class=\"plotly-graph-div\"></div><script type=\"text/javascript\">require([\"plotly\"], function(Plotly) { window.PLOTLYENV=window.PLOTLYENV || {};window.PLOTLYENV.BASE_URL=\"https://plot.ly\";\n",
       "        Plotly.plot(\n",
       "            'feab9d19-37f6-4e70-be77-8f10d8800954',\n",
       "            [{\"text\": [\"1023\", \"1010\", \"1002\", \"991\", \"985\", \"978\", \"974\", \"968\", \"953\", \"937\", \"917\", \"893\", \"860\", \"819\", \"778\", \"722\", \"664\", \"594\", \"511\"], \"textposition\": \"outside\", \"x\": [5.0, 10.0, 15.0, 20.0, 25.0, 30.0, 35.0, 40.0, 45.0, 50.0, 55.0, 60.0, 65.0, 70.0, 75.0, 80.0, 85.0, 90.0, 95.0, 100.0], \"y\": [1023.0, 1010.0, 1002.0, 991.0, 985.0, 978.0, 974.0, 968.0, 953.0, 937.0, 917.0, 893.0, 860.0, 819.0, 778.0, 722.0, 664.0, 594.0, 511.0], \"type\": \"bar\", \"uid\": \"675ab496-a4a5-11e8-9d26-782bcba4e79e\"}],\n",
       "            {\"title\": \"1134 multi-exon coding transcripts in novel genes\", \"xaxis\": {\"dtick\": 5, \"tick0\": 0, \"tickangle\": -45, \"title\": \"Min. % CDS coverage by repeats\"}, \"yaxis\": {\"title\": \"transcripts\"}},\n",
       "            {\"showLink\": true, \"linkText\": \"Export to plot.ly\"}\n",
       "        ).then(function () {return Plotly.addFrames('feab9d19-37f6-4e70-be77-8f10d8800954',{});}).then(function(){Plotly.animate('feab9d19-37f6-4e70-be77-8f10d8800954');})\n",
       "        });</script>"
      ],
      "text/vnd.plotly.v1+html": [
       "<div id=\"feab9d19-37f6-4e70-be77-8f10d8800954\" style=\"height: 525px; width: 100%;\" class=\"plotly-graph-div\"></div><script type=\"text/javascript\">require([\"plotly\"], function(Plotly) { window.PLOTLYENV=window.PLOTLYENV || {};window.PLOTLYENV.BASE_URL=\"https://plot.ly\";\n",
       "        Plotly.plot(\n",
       "            'feab9d19-37f6-4e70-be77-8f10d8800954',\n",
       "            [{\"text\": [\"1023\", \"1010\", \"1002\", \"991\", \"985\", \"978\", \"974\", \"968\", \"953\", \"937\", \"917\", \"893\", \"860\", \"819\", \"778\", \"722\", \"664\", \"594\", \"511\"], \"textposition\": \"outside\", \"x\": [5.0, 10.0, 15.0, 20.0, 25.0, 30.0, 35.0, 40.0, 45.0, 50.0, 55.0, 60.0, 65.0, 70.0, 75.0, 80.0, 85.0, 90.0, 95.0, 100.0], \"y\": [1023.0, 1010.0, 1002.0, 991.0, 985.0, 978.0, 974.0, 968.0, 953.0, 937.0, 917.0, 893.0, 860.0, 819.0, 778.0, 722.0, 664.0, 594.0, 511.0], \"type\": \"bar\", \"uid\": \"675ab496-a4a5-11e8-9d26-782bcba4e79e\"}],\n",
       "            {\"title\": \"1134 multi-exon coding transcripts in novel genes\", \"xaxis\": {\"dtick\": 5, \"tick0\": 0, \"tickangle\": -45, \"title\": \"Min. % CDS coverage by repeats\"}, \"yaxis\": {\"title\": \"transcripts\"}},\n",
       "            {\"showLink\": true, \"linkText\": \"Export to plot.ly\"}\n",
       "        ).then(function () {return Plotly.addFrames('feab9d19-37f6-4e70-be77-8f10d8800954',{});}).then(function(){Plotly.animate('feab9d19-37f6-4e70-be77-8f10d8800954');})\n",
       "        });</script>"
      ]
     },
     "metadata": {},
     "output_type": "display_data"
    },
    {
     "data": {
      "application/vnd.plotly.v1+json": {
       "data": [
        {
         "text": [
          "684",
          "677",
          "677",
          "676",
          "674",
          "668",
          "665",
          "659",
          "640",
          "624",
          "602",
          "564",
          "525",
          "474",
          "431",
          "361",
          "296",
          "234",
          "162"
         ],
         "textposition": "outside",
         "type": "bar",
         "uid": "6761d640-a4a5-11e8-9d26-782bcba4e79e",
         "x": [
          5,
          10,
          15,
          20,
          25,
          30,
          35,
          40,
          45,
          50,
          55,
          60,
          65,
          70,
          75,
          80,
          85,
          90,
          95,
          100
         ],
         "y": [
          684,
          677,
          677,
          676,
          674,
          668,
          665,
          659,
          640,
          624,
          602,
          564,
          525,
          474,
          431,
          361,
          296,
          234,
          162
         ]
        }
       ],
       "layout": {
        "title": "1134 multi-exon coding transcripts in novel genes - Alu",
        "xaxis": {
         "dtick": 5,
         "tick0": 0,
         "tickangle": -45,
         "title": "Min. % CDS coverage by Alu"
        },
        "yaxis": {
         "title": "transcripts"
        }
       }
      },
      "text/html": [
       "<div id=\"85f263b0-689c-4ab8-b559-809ac34a927e\" style=\"height: 525px; width: 100%;\" class=\"plotly-graph-div\"></div><script type=\"text/javascript\">require([\"plotly\"], function(Plotly) { window.PLOTLYENV=window.PLOTLYENV || {};window.PLOTLYENV.BASE_URL=\"https://plot.ly\";\n",
       "        Plotly.plot(\n",
       "            '85f263b0-689c-4ab8-b559-809ac34a927e',\n",
       "            [{\"text\": [\"684\", \"677\", \"677\", \"676\", \"674\", \"668\", \"665\", \"659\", \"640\", \"624\", \"602\", \"564\", \"525\", \"474\", \"431\", \"361\", \"296\", \"234\", \"162\"], \"textposition\": \"outside\", \"x\": [5.0, 10.0, 15.0, 20.0, 25.0, 30.0, 35.0, 40.0, 45.0, 50.0, 55.0, 60.0, 65.0, 70.0, 75.0, 80.0, 85.0, 90.0, 95.0, 100.0], \"y\": [684.0, 677.0, 677.0, 676.0, 674.0, 668.0, 665.0, 659.0, 640.0, 624.0, 602.0, 564.0, 525.0, 474.0, 431.0, 361.0, 296.0, 234.0, 162.0], \"type\": \"bar\", \"uid\": \"6761d640-a4a5-11e8-9d26-782bcba4e79e\"}],\n",
       "            {\"title\": \"1134 multi-exon coding transcripts in novel genes - Alu\", \"xaxis\": {\"dtick\": 5, \"tick0\": 0, \"tickangle\": -45, \"title\": \"Min. % CDS coverage by Alu\"}, \"yaxis\": {\"title\": \"transcripts\"}},\n",
       "            {\"showLink\": true, \"linkText\": \"Export to plot.ly\"}\n",
       "        ).then(function () {return Plotly.addFrames('85f263b0-689c-4ab8-b559-809ac34a927e',{});}).then(function(){Plotly.animate('85f263b0-689c-4ab8-b559-809ac34a927e');})\n",
       "        });</script>"
      ],
      "text/vnd.plotly.v1+html": [
       "<div id=\"85f263b0-689c-4ab8-b559-809ac34a927e\" style=\"height: 525px; width: 100%;\" class=\"plotly-graph-div\"></div><script type=\"text/javascript\">require([\"plotly\"], function(Plotly) { window.PLOTLYENV=window.PLOTLYENV || {};window.PLOTLYENV.BASE_URL=\"https://plot.ly\";\n",
       "        Plotly.plot(\n",
       "            '85f263b0-689c-4ab8-b559-809ac34a927e',\n",
       "            [{\"text\": [\"684\", \"677\", \"677\", \"676\", \"674\", \"668\", \"665\", \"659\", \"640\", \"624\", \"602\", \"564\", \"525\", \"474\", \"431\", \"361\", \"296\", \"234\", \"162\"], \"textposition\": \"outside\", \"x\": [5.0, 10.0, 15.0, 20.0, 25.0, 30.0, 35.0, 40.0, 45.0, 50.0, 55.0, 60.0, 65.0, 70.0, 75.0, 80.0, 85.0, 90.0, 95.0, 100.0], \"y\": [684.0, 677.0, 677.0, 676.0, 674.0, 668.0, 665.0, 659.0, 640.0, 624.0, 602.0, 564.0, 525.0, 474.0, 431.0, 361.0, 296.0, 234.0, 162.0], \"type\": \"bar\", \"uid\": \"6761d640-a4a5-11e8-9d26-782bcba4e79e\"}],\n",
       "            {\"title\": \"1134 multi-exon coding transcripts in novel genes - Alu\", \"xaxis\": {\"dtick\": 5, \"tick0\": 0, \"tickangle\": -45, \"title\": \"Min. % CDS coverage by Alu\"}, \"yaxis\": {\"title\": \"transcripts\"}},\n",
       "            {\"showLink\": true, \"linkText\": \"Export to plot.ly\"}\n",
       "        ).then(function () {return Plotly.addFrames('85f263b0-689c-4ab8-b559-809ac34a927e',{});}).then(function(){Plotly.animate('85f263b0-689c-4ab8-b559-809ac34a927e');})\n",
       "        });</script>"
      ]
     },
     "metadata": {},
     "output_type": "display_data"
    },
    {
     "data": {
      "application/vnd.plotly.v1+json": {
       "data": [
        {
         "text": [
          "17",
          "15",
          "14",
          "14",
          "13",
          "13",
          "13",
          "12",
          "11",
          "11",
          "11",
          "11",
          "9",
          "9",
          "9",
          "9",
          "9",
          "9",
          "9"
         ],
         "textposition": "outside",
         "type": "bar",
         "uid": "67688dc8-a4a5-11e8-9d26-782bcba4e79e",
         "x": [
          5,
          10,
          15,
          20,
          25,
          30,
          35,
          40,
          45,
          50,
          55,
          60,
          65,
          70,
          75,
          80,
          85,
          90,
          95,
          100
         ],
         "y": [
          17,
          15,
          14,
          14,
          13,
          13,
          13,
          12,
          11,
          11,
          11,
          11,
          9,
          9,
          9,
          9,
          9,
          9,
          9
         ]
        }
       ],
       "layout": {
        "title": "1134 multi-exon coding transcripts in novel genes - LINE/LTR",
        "xaxis": {
         "dtick": 5,
         "tick0": 0,
         "tickangle": -45,
         "title": "Min. % CDS coverage by LINE/LTR"
        },
        "yaxis": {
         "title": "transcripts"
        }
       }
      },
      "text/html": [
       "<div id=\"07b12369-45cf-4651-8b53-8b5b6ddcbc22\" style=\"height: 525px; width: 100%;\" class=\"plotly-graph-div\"></div><script type=\"text/javascript\">require([\"plotly\"], function(Plotly) { window.PLOTLYENV=window.PLOTLYENV || {};window.PLOTLYENV.BASE_URL=\"https://plot.ly\";\n",
       "        Plotly.plot(\n",
       "            '07b12369-45cf-4651-8b53-8b5b6ddcbc22',\n",
       "            [{\"text\": [\"17\", \"15\", \"14\", \"14\", \"13\", \"13\", \"13\", \"12\", \"11\", \"11\", \"11\", \"11\", \"9\", \"9\", \"9\", \"9\", \"9\", \"9\", \"9\"], \"textposition\": \"outside\", \"x\": [5.0, 10.0, 15.0, 20.0, 25.0, 30.0, 35.0, 40.0, 45.0, 50.0, 55.0, 60.0, 65.0, 70.0, 75.0, 80.0, 85.0, 90.0, 95.0, 100.0], \"y\": [17.0, 15.0, 14.0, 14.0, 13.0, 13.0, 13.0, 12.0, 11.0, 11.0, 11.0, 11.0, 9.0, 9.0, 9.0, 9.0, 9.0, 9.0, 9.0], \"type\": \"bar\", \"uid\": \"67688dc8-a4a5-11e8-9d26-782bcba4e79e\"}],\n",
       "            {\"title\": \"1134 multi-exon coding transcripts in novel genes - LINE/LTR\", \"xaxis\": {\"dtick\": 5, \"tick0\": 0, \"tickangle\": -45, \"title\": \"Min. % CDS coverage by LINE/LTR\"}, \"yaxis\": {\"title\": \"transcripts\"}},\n",
       "            {\"showLink\": true, \"linkText\": \"Export to plot.ly\"}\n",
       "        ).then(function () {return Plotly.addFrames('07b12369-45cf-4651-8b53-8b5b6ddcbc22',{});}).then(function(){Plotly.animate('07b12369-45cf-4651-8b53-8b5b6ddcbc22');})\n",
       "        });</script>"
      ],
      "text/vnd.plotly.v1+html": [
       "<div id=\"07b12369-45cf-4651-8b53-8b5b6ddcbc22\" style=\"height: 525px; width: 100%;\" class=\"plotly-graph-div\"></div><script type=\"text/javascript\">require([\"plotly\"], function(Plotly) { window.PLOTLYENV=window.PLOTLYENV || {};window.PLOTLYENV.BASE_URL=\"https://plot.ly\";\n",
       "        Plotly.plot(\n",
       "            '07b12369-45cf-4651-8b53-8b5b6ddcbc22',\n",
       "            [{\"text\": [\"17\", \"15\", \"14\", \"14\", \"13\", \"13\", \"13\", \"12\", \"11\", \"11\", \"11\", \"11\", \"9\", \"9\", \"9\", \"9\", \"9\", \"9\", \"9\"], \"textposition\": \"outside\", \"x\": [5.0, 10.0, 15.0, 20.0, 25.0, 30.0, 35.0, 40.0, 45.0, 50.0, 55.0, 60.0, 65.0, 70.0, 75.0, 80.0, 85.0, 90.0, 95.0, 100.0], \"y\": [17.0, 15.0, 14.0, 14.0, 13.0, 13.0, 13.0, 12.0, 11.0, 11.0, 11.0, 11.0, 9.0, 9.0, 9.0, 9.0, 9.0, 9.0, 9.0], \"type\": \"bar\", \"uid\": \"67688dc8-a4a5-11e8-9d26-782bcba4e79e\"}],\n",
       "            {\"title\": \"1134 multi-exon coding transcripts in novel genes - LINE/LTR\", \"xaxis\": {\"dtick\": 5, \"tick0\": 0, \"tickangle\": -45, \"title\": \"Min. % CDS coverage by LINE/LTR\"}, \"yaxis\": {\"title\": \"transcripts\"}},\n",
       "            {\"showLink\": true, \"linkText\": \"Export to plot.ly\"}\n",
       "        ).then(function () {return Plotly.addFrames('07b12369-45cf-4651-8b53-8b5b6ddcbc22',{});}).then(function(){Plotly.animate('07b12369-45cf-4651-8b53-8b5b6ddcbc22');})\n",
       "        });</script>"
      ]
     },
     "metadata": {},
     "output_type": "display_data"
    }
   ],
   "source": [
    "mxdf=pdf[(pdf['excount']>1)]\n",
    "plotCH(mxdf, 'excov', ' multi-exon coding transcripts in novel genes', 'Min. % exon coverage by repeats')\n",
    "plotCH(mxdf, 'cdcov', ' multi-exon coding transcripts in novel genes', 'Min. % CDS coverage by repeats')\n",
    "plotCH(mxdf, 'alu_cdcov', ' multi-exon coding transcripts in novel genes - Alu', 'Min. % CDS coverage by Alu')\n",
    "plotCH(mxdf, 'line_cdcov', ' multi-exon coding transcripts in novel genes - LINE/LTR', 'Min. % CDS coverage by LINE/LTR')"
   ]
  },
  {
   "cell_type": "code",
   "execution_count": 13,
   "metadata": {},
   "outputs": [
    {
     "data": {
      "application/vnd.plotly.v1+json": {
       "data": [
        {
         "text": [
          "2127",
          "1307",
          "901",
          "654",
          "496",
          "387",
          "298",
          "241",
          "183",
          "139",
          "109",
          "91",
          "81",
          "71",
          "53",
          "45",
          "34",
          "28",
          "23"
         ],
         "textposition": "outside",
         "type": "bar",
         "uid": "0eca7640-a4a5-11e8-9d26-782bcba4e79e",
         "x": [
          5,
          10,
          15,
          20,
          25,
          30,
          35,
          40,
          45,
          50,
          55,
          60,
          65,
          70,
          75,
          80,
          85,
          90,
          95,
          100
         ],
         "y": [
          2127,
          1307,
          901,
          654,
          496,
          387,
          298,
          241,
          183,
          139,
          109,
          91,
          81,
          71,
          53,
          45,
          34,
          28,
          23
         ]
        }
       ],
       "layout": {
        "title": "15910 multi-exon coding transcripts in Gencode exclusive genes",
        "xaxis": {
         "dtick": 5,
         "tick0": 0,
         "tickangle": -45,
         "title": "Min. % CDS coverage by repeats"
        },
        "yaxis": {
         "title": "transcripts"
        }
       }
      },
      "text/html": [
       "<div id=\"d15098e4-a9e5-4a34-b9f6-fa7b7e151786\" style=\"height: 525px; width: 100%;\" class=\"plotly-graph-div\"></div><script type=\"text/javascript\">require([\"plotly\"], function(Plotly) { window.PLOTLYENV=window.PLOTLYENV || {};window.PLOTLYENV.BASE_URL=\"https://plot.ly\";\n",
       "        Plotly.plot(\n",
       "            'd15098e4-a9e5-4a34-b9f6-fa7b7e151786',\n",
       "            [{\"text\": [\"2127\", \"1307\", \"901\", \"654\", \"496\", \"387\", \"298\", \"241\", \"183\", \"139\", \"109\", \"91\", \"81\", \"71\", \"53\", \"45\", \"34\", \"28\", \"23\"], \"textposition\": \"outside\", \"x\": [5.0, 10.0, 15.0, 20.0, 25.0, 30.0, 35.0, 40.0, 45.0, 50.0, 55.0, 60.0, 65.0, 70.0, 75.0, 80.0, 85.0, 90.0, 95.0, 100.0], \"y\": [2127.0, 1307.0, 901.0, 654.0, 496.0, 387.0, 298.0, 241.0, 183.0, 139.0, 109.0, 91.0, 81.0, 71.0, 53.0, 45.0, 34.0, 28.0, 23.0], \"type\": \"bar\", \"uid\": \"0eca7640-a4a5-11e8-9d26-782bcba4e79e\"}],\n",
       "            {\"title\": \"15910 multi-exon coding transcripts in Gencode exclusive genes\", \"xaxis\": {\"dtick\": 5, \"tick0\": 0, \"tickangle\": -45, \"title\": \"Min. % CDS coverage by repeats\"}, \"yaxis\": {\"title\": \"transcripts\"}},\n",
       "            {\"showLink\": true, \"linkText\": \"Export to plot.ly\"}\n",
       "        ).then(function () {return Plotly.addFrames('d15098e4-a9e5-4a34-b9f6-fa7b7e151786',{});}).then(function(){Plotly.animate('d15098e4-a9e5-4a34-b9f6-fa7b7e151786');})\n",
       "        });</script>"
      ],
      "text/vnd.plotly.v1+html": [
       "<div id=\"d15098e4-a9e5-4a34-b9f6-fa7b7e151786\" style=\"height: 525px; width: 100%;\" class=\"plotly-graph-div\"></div><script type=\"text/javascript\">require([\"plotly\"], function(Plotly) { window.PLOTLYENV=window.PLOTLYENV || {};window.PLOTLYENV.BASE_URL=\"https://plot.ly\";\n",
       "        Plotly.plot(\n",
       "            'd15098e4-a9e5-4a34-b9f6-fa7b7e151786',\n",
       "            [{\"text\": [\"2127\", \"1307\", \"901\", \"654\", \"496\", \"387\", \"298\", \"241\", \"183\", \"139\", \"109\", \"91\", \"81\", \"71\", \"53\", \"45\", \"34\", \"28\", \"23\"], \"textposition\": \"outside\", \"x\": [5.0, 10.0, 15.0, 20.0, 25.0, 30.0, 35.0, 40.0, 45.0, 50.0, 55.0, 60.0, 65.0, 70.0, 75.0, 80.0, 85.0, 90.0, 95.0, 100.0], \"y\": [2127.0, 1307.0, 901.0, 654.0, 496.0, 387.0, 298.0, 241.0, 183.0, 139.0, 109.0, 91.0, 81.0, 71.0, 53.0, 45.0, 34.0, 28.0, 23.0], \"type\": \"bar\", \"uid\": \"0eca7640-a4a5-11e8-9d26-782bcba4e79e\"}],\n",
       "            {\"title\": \"15910 multi-exon coding transcripts in Gencode exclusive genes\", \"xaxis\": {\"dtick\": 5, \"tick0\": 0, \"tickangle\": -45, \"title\": \"Min. % CDS coverage by repeats\"}, \"yaxis\": {\"title\": \"transcripts\"}},\n",
       "            {\"showLink\": true, \"linkText\": \"Export to plot.ly\"}\n",
       "        ).then(function () {return Plotly.addFrames('d15098e4-a9e5-4a34-b9f6-fa7b7e151786',{});}).then(function(){Plotly.animate('d15098e4-a9e5-4a34-b9f6-fa7b7e151786');})\n",
       "        });</script>"
      ]
     },
     "metadata": {},
     "output_type": "display_data"
    },
    {
     "data": {
      "application/vnd.plotly.v1+json": {
       "data": [
        {
         "text": [
          "400",
          "339",
          "286",
          "228",
          "193",
          "153",
          "122",
          "96",
          "69",
          "49",
          "41",
          "30",
          "24",
          "20",
          "15",
          "13",
          "8",
          "4",
          "2"
         ],
         "textposition": "outside",
         "type": "bar",
         "uid": "0ed268c8-a4a5-11e8-9d26-782bcba4e79e",
         "x": [
          5,
          10,
          15,
          20,
          25,
          30,
          35,
          40,
          45,
          50,
          55,
          60,
          65,
          70,
          75,
          80,
          85,
          90,
          95,
          100
         ],
         "y": [
          400,
          339,
          286,
          228,
          193,
          153,
          122,
          96,
          69,
          49,
          41,
          30,
          24,
          20,
          15,
          13,
          8,
          4,
          2
         ]
        }
       ],
       "layout": {
        "title": "15910 multi-exon coding transcripts in Gencode exclusive genes - Alu",
        "xaxis": {
         "dtick": 5,
         "tick0": 0,
         "tickangle": -45,
         "title": "Min. % CDS coverage by Alu"
        },
        "yaxis": {
         "title": "transcripts"
        }
       }
      },
      "text/html": [
       "<div id=\"a0125a31-5e38-4b82-83d9-ec4a0c90c1c5\" style=\"height: 525px; width: 100%;\" class=\"plotly-graph-div\"></div><script type=\"text/javascript\">require([\"plotly\"], function(Plotly) { window.PLOTLYENV=window.PLOTLYENV || {};window.PLOTLYENV.BASE_URL=\"https://plot.ly\";\n",
       "        Plotly.plot(\n",
       "            'a0125a31-5e38-4b82-83d9-ec4a0c90c1c5',\n",
       "            [{\"text\": [\"400\", \"339\", \"286\", \"228\", \"193\", \"153\", \"122\", \"96\", \"69\", \"49\", \"41\", \"30\", \"24\", \"20\", \"15\", \"13\", \"8\", \"4\", \"2\"], \"textposition\": \"outside\", \"x\": [5.0, 10.0, 15.0, 20.0, 25.0, 30.0, 35.0, 40.0, 45.0, 50.0, 55.0, 60.0, 65.0, 70.0, 75.0, 80.0, 85.0, 90.0, 95.0, 100.0], \"y\": [400.0, 339.0, 286.0, 228.0, 193.0, 153.0, 122.0, 96.0, 69.0, 49.0, 41.0, 30.0, 24.0, 20.0, 15.0, 13.0, 8.0, 4.0, 2.0], \"type\": \"bar\", \"uid\": \"0ed268c8-a4a5-11e8-9d26-782bcba4e79e\"}],\n",
       "            {\"title\": \"15910 multi-exon coding transcripts in Gencode exclusive genes - Alu\", \"xaxis\": {\"dtick\": 5, \"tick0\": 0, \"tickangle\": -45, \"title\": \"Min. % CDS coverage by Alu\"}, \"yaxis\": {\"title\": \"transcripts\"}},\n",
       "            {\"showLink\": true, \"linkText\": \"Export to plot.ly\"}\n",
       "        ).then(function () {return Plotly.addFrames('a0125a31-5e38-4b82-83d9-ec4a0c90c1c5',{});}).then(function(){Plotly.animate('a0125a31-5e38-4b82-83d9-ec4a0c90c1c5');})\n",
       "        });</script>"
      ],
      "text/vnd.plotly.v1+html": [
       "<div id=\"a0125a31-5e38-4b82-83d9-ec4a0c90c1c5\" style=\"height: 525px; width: 100%;\" class=\"plotly-graph-div\"></div><script type=\"text/javascript\">require([\"plotly\"], function(Plotly) { window.PLOTLYENV=window.PLOTLYENV || {};window.PLOTLYENV.BASE_URL=\"https://plot.ly\";\n",
       "        Plotly.plot(\n",
       "            'a0125a31-5e38-4b82-83d9-ec4a0c90c1c5',\n",
       "            [{\"text\": [\"400\", \"339\", \"286\", \"228\", \"193\", \"153\", \"122\", \"96\", \"69\", \"49\", \"41\", \"30\", \"24\", \"20\", \"15\", \"13\", \"8\", \"4\", \"2\"], \"textposition\": \"outside\", \"x\": [5.0, 10.0, 15.0, 20.0, 25.0, 30.0, 35.0, 40.0, 45.0, 50.0, 55.0, 60.0, 65.0, 70.0, 75.0, 80.0, 85.0, 90.0, 95.0, 100.0], \"y\": [400.0, 339.0, 286.0, 228.0, 193.0, 153.0, 122.0, 96.0, 69.0, 49.0, 41.0, 30.0, 24.0, 20.0, 15.0, 13.0, 8.0, 4.0, 2.0], \"type\": \"bar\", \"uid\": \"0ed268c8-a4a5-11e8-9d26-782bcba4e79e\"}],\n",
       "            {\"title\": \"15910 multi-exon coding transcripts in Gencode exclusive genes - Alu\", \"xaxis\": {\"dtick\": 5, \"tick0\": 0, \"tickangle\": -45, \"title\": \"Min. % CDS coverage by Alu\"}, \"yaxis\": {\"title\": \"transcripts\"}},\n",
       "            {\"showLink\": true, \"linkText\": \"Export to plot.ly\"}\n",
       "        ).then(function () {return Plotly.addFrames('a0125a31-5e38-4b82-83d9-ec4a0c90c1c5',{});}).then(function(){Plotly.animate('a0125a31-5e38-4b82-83d9-ec4a0c90c1c5');})\n",
       "        });</script>"
      ]
     },
     "metadata": {},
     "output_type": "display_data"
    },
    {
     "data": {
      "application/vnd.plotly.v1+json": {
       "data": [
        {
         "text": [
          "473",
          "320",
          "238",
          "186",
          "143",
          "110",
          "88",
          "76",
          "59",
          "49",
          "38",
          "32",
          "29",
          "27",
          "19",
          "14",
          "9",
          "9",
          "8"
         ],
         "textposition": "outside",
         "type": "bar",
         "uid": "0ed9a5ca-a4a5-11e8-9d26-782bcba4e79e",
         "x": [
          5,
          10,
          15,
          20,
          25,
          30,
          35,
          40,
          45,
          50,
          55,
          60,
          65,
          70,
          75,
          80,
          85,
          90,
          95,
          100
         ],
         "y": [
          473,
          320,
          238,
          186,
          143,
          110,
          88,
          76,
          59,
          49,
          38,
          32,
          29,
          27,
          19,
          14,
          9,
          9,
          8
         ]
        }
       ],
       "layout": {
        "title": "15910 multi-exon coding transcripts in Gencode exclusive genes - LINE/LTR",
        "xaxis": {
         "dtick": 5,
         "tick0": 0,
         "tickangle": -45,
         "title": "Min. % CDS coverage by LINE/LTR"
        },
        "yaxis": {
         "title": "transcripts"
        }
       }
      },
      "text/html": [
       "<div id=\"d7dd2564-6a92-4894-8aa0-46fa422aef65\" style=\"height: 525px; width: 100%;\" class=\"plotly-graph-div\"></div><script type=\"text/javascript\">require([\"plotly\"], function(Plotly) { window.PLOTLYENV=window.PLOTLYENV || {};window.PLOTLYENV.BASE_URL=\"https://plot.ly\";\n",
       "        Plotly.plot(\n",
       "            'd7dd2564-6a92-4894-8aa0-46fa422aef65',\n",
       "            [{\"text\": [\"473\", \"320\", \"238\", \"186\", \"143\", \"110\", \"88\", \"76\", \"59\", \"49\", \"38\", \"32\", \"29\", \"27\", \"19\", \"14\", \"9\", \"9\", \"8\"], \"textposition\": \"outside\", \"x\": [5.0, 10.0, 15.0, 20.0, 25.0, 30.0, 35.0, 40.0, 45.0, 50.0, 55.0, 60.0, 65.0, 70.0, 75.0, 80.0, 85.0, 90.0, 95.0, 100.0], \"y\": [473.0, 320.0, 238.0, 186.0, 143.0, 110.0, 88.0, 76.0, 59.0, 49.0, 38.0, 32.0, 29.0, 27.0, 19.0, 14.0, 9.0, 9.0, 8.0], \"type\": \"bar\", \"uid\": \"0ed9a5ca-a4a5-11e8-9d26-782bcba4e79e\"}],\n",
       "            {\"title\": \"15910 multi-exon coding transcripts in Gencode exclusive genes - LINE/LTR\", \"xaxis\": {\"dtick\": 5, \"tick0\": 0, \"tickangle\": -45, \"title\": \"Min. % CDS coverage by LINE/LTR\"}, \"yaxis\": {\"title\": \"transcripts\"}},\n",
       "            {\"showLink\": true, \"linkText\": \"Export to plot.ly\"}\n",
       "        ).then(function () {return Plotly.addFrames('d7dd2564-6a92-4894-8aa0-46fa422aef65',{});}).then(function(){Plotly.animate('d7dd2564-6a92-4894-8aa0-46fa422aef65');})\n",
       "        });</script>"
      ],
      "text/vnd.plotly.v1+html": [
       "<div id=\"d7dd2564-6a92-4894-8aa0-46fa422aef65\" style=\"height: 525px; width: 100%;\" class=\"plotly-graph-div\"></div><script type=\"text/javascript\">require([\"plotly\"], function(Plotly) { window.PLOTLYENV=window.PLOTLYENV || {};window.PLOTLYENV.BASE_URL=\"https://plot.ly\";\n",
       "        Plotly.plot(\n",
       "            'd7dd2564-6a92-4894-8aa0-46fa422aef65',\n",
       "            [{\"text\": [\"473\", \"320\", \"238\", \"186\", \"143\", \"110\", \"88\", \"76\", \"59\", \"49\", \"38\", \"32\", \"29\", \"27\", \"19\", \"14\", \"9\", \"9\", \"8\"], \"textposition\": \"outside\", \"x\": [5.0, 10.0, 15.0, 20.0, 25.0, 30.0, 35.0, 40.0, 45.0, 50.0, 55.0, 60.0, 65.0, 70.0, 75.0, 80.0, 85.0, 90.0, 95.0, 100.0], \"y\": [473.0, 320.0, 238.0, 186.0, 143.0, 110.0, 88.0, 76.0, 59.0, 49.0, 38.0, 32.0, 29.0, 27.0, 19.0, 14.0, 9.0, 9.0, 8.0], \"type\": \"bar\", \"uid\": \"0ed9a5ca-a4a5-11e8-9d26-782bcba4e79e\"}],\n",
       "            {\"title\": \"15910 multi-exon coding transcripts in Gencode exclusive genes - LINE/LTR\", \"xaxis\": {\"dtick\": 5, \"tick0\": 0, \"tickangle\": -45, \"title\": \"Min. % CDS coverage by LINE/LTR\"}, \"yaxis\": {\"title\": \"transcripts\"}},\n",
       "            {\"showLink\": true, \"linkText\": \"Export to plot.ly\"}\n",
       "        ).then(function () {return Plotly.addFrames('d7dd2564-6a92-4894-8aa0-46fa422aef65',{});}).then(function(){Plotly.animate('d7dd2564-6a92-4894-8aa0-46fa422aef65');})\n",
       "        });</script>"
      ]
     },
     "metadata": {},
     "output_type": "display_data"
    }
   ],
   "source": [
    "kdf=tdf[(tdf['tcoding'].eq(True))]\n",
    "rdf=kdf[(kdf['status'].eq('known_gencode'))]\n",
    "rdf=rdf[(rdf['excount']>1)]\n",
    "plotCH(rdf, 'cdcov', ' multi-exon coding transcripts in Gencode exclusive genes', 'Min. % CDS coverage by repeats')\n",
    "plotCH(rdf, 'alu_cdcov', ' multi-exon coding transcripts in Gencode exclusive genes - Alu', 'Min. % CDS coverage by Alu')\n",
    "plotCH(rdf, 'line_cdcov', ' multi-exon coding transcripts in Gencode exclusive genes - LINE/LTR', 'Min. % CDS coverage by LINE/LTR')\n"
   ]
  },
  {
   "cell_type": "code",
   "execution_count": null,
   "metadata": {},
   "outputs": [],
   "source": []
  }
 ],
 "metadata": {
  "kernelspec": {
   "display_name": "Python 3",
   "language": "python",
   "name": "python3"
  },
  "language_info": {
   "codemirror_mode": {
    "name": "ipython",
    "version": 3
   },
   "file_extension": ".py",
   "mimetype": "text/x-python",
   "name": "python",
   "nbconvert_exporter": "python",
   "pygments_lexer": "ipython3",
   "version": "3.7.0"
  }
 },
 "nbformat": 4,
 "nbformat_minor": 2
}
